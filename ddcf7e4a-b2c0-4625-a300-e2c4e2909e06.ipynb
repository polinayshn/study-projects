{
 "cells": [
  {
   "cell_type": "markdown",
   "metadata": {},
   "source": [
    "<div style=\"border:solid Chocolate 2px; padding: 40px\">\n",
    "\n",
    "<b> Полина, привет!👋</b>\n",
    "\n",
    "Меня зовут Алексей Гриб, и я буду ревьюером твоего проекта. \n",
    "\n",
    "Сразу хочу предложить в дальнейшем общаться на \"ты\" - надеюсь, так будет комфортнее:) Но если это неудобно, обязательно дай знать, и мы придумаем что-нибудь ещё!\n",
    "    \n",
    "Цель ревью - не искать ошибки в твоём проекте, а помочь тебе сделать твою работу ещё лучше, устранив недочёты и приблизив её к реальным задачам специалиста по работе с данными. Поэтому не расстраивайся, если что-то не получилось с первого раза - это нормально, и это поможет тебе вырасти!\n",
    "    \n",
    "Ты можешь найти мои комментарии, обозначенные <font color='green'>зеленым</font>, <font color='gold'>желтым</font> и <font color='red'>красным</font> цветами, например:\n",
    "\n",
    "<br/>\n",
    "\n",
    "<div class=\"alert alert-success\">\n",
    "<h2> Комментарий ревьюера <a class=\"tocSkip\"> </h2>\n",
    "\n",
    "<b>Все отлично!👍:</b> похвала, рекомендации «со звёздочкой», полезные лайфхаки, которые сделают и без того красивое решение ещё более элегантным.\n",
    "</div>\n",
    "\n",
    "<br/>\n",
    "\n",
    "<div class=\"alert alert-warning\">\n",
    "    <h2> Комментарий ревьюера <a class=\"tocSkip\"> </h2>\n",
    "    \n",
    "<b>Некоторые замечания и рекомендации⚠️:</b> некритичные ошибки или развивающие рекомендации на будущее. \n",
    "</div>\n",
    "\n",
    "\n",
    "<br/>\n",
    "<div class=\"alert alert-block alert-danger\">\n",
    "<h2> Комментарий ревьюера <a class=\"tocSkip\"></h2>\n",
    "\n",
    "    \n",
    "<b>На доработку❌:</b>\n",
    "критичные ошибки, которые обязательно нужно исправить.\n",
    "</div>\n",
    "\n",
    "    \n",
    "Пожалуйста, не удаляй мои комментарии, они будут особенно полезны для нашей работы в случае повторной проверки проекта. \n",
    "    \n",
    "Ты также можешь задавать свои вопросы, реагировать на мои комментарии, делать пометки и пояснения - полная творческая свобода! Но маленькая просьба - пускай они будут отличаться от моих комментариев, это поможет избежать путаницы в нашем общении:)\n",
    "Например, вот так:\n",
    "    \n",
    "<div class=\"alert alert-info\">\n",
    "<h2> Комментарий студента <a class=\"tocSkip\"> </h2>\n",
    "\n",
    "*твой текст*\n",
    "</div>\n",
    "    \n",
    "Давай посмотрим на твой проект!"
   ]
  },
  {
   "cell_type": "markdown",
   "metadata": {},
   "source": [
    "<div class=\"alert alert-info\">\n",
    "<h2> Комментарий студента <a class=\"tocSkip\"> </h2>\n",
    "Алексей, привет! Спасибо за комментарии, постаралась доработать и оставила комменты об изменениях.\n",
    "</div>"
   ]
  },
  {
   "cell_type": "markdown",
   "metadata": {
    "toc": true
   },
   "source": [
    "<h1>Содержание<span class=\"tocSkip\"></span></h1>\n",
    "<div class=\"toc\"><ul class=\"toc-item\"><li><span><a href=\"#Подготовка\" data-toc-modified-id=\"Подготовка-1\"><span class=\"toc-item-num\">1&nbsp;&nbsp;</span>Подготовка</a></span></li><li><span><a href=\"#Анализ\" data-toc-modified-id=\"Анализ-2\"><span class=\"toc-item-num\">2&nbsp;&nbsp;</span>Анализ</a></span></li><li><span><a href=\"#Обучение-и-тестирование\" data-toc-modified-id=\"Обучение-и-тестирование-3\"><span class=\"toc-item-num\">3&nbsp;&nbsp;</span>Обучение и тестирование</a></span></li><li><span><a href=\"#Сравнение-с-константной-моделью\" data-toc-modified-id=\"Сравнение-с-константной-моделью-4\"><span class=\"toc-item-num\">4&nbsp;&nbsp;</span>Сравнение с константной моделью</a></span></li><li><span><a href=\"#Общий-вывод\" data-toc-modified-id=\"Общий-вывод-5\"><span class=\"toc-item-num\">5&nbsp;&nbsp;</span>Общий вывод</a></span><ul class=\"toc-item\"><li><span><a href=\"#Рекомендации-по-результатам\" data-toc-modified-id=\"Рекомендации-по-результатам-5.1\"><span class=\"toc-item-num\">5.1&nbsp;&nbsp;</span>Рекомендации по результатам</a></span></li></ul></li></ul></div>"
   ]
  },
  {
   "cell_type": "markdown",
   "metadata": {},
   "source": [
    "#  Прогнозирование заказов такси"
   ]
  },
  {
   "cell_type": "markdown",
   "metadata": {},
   "source": [
    "Компания «Чётенькое такси» собрала исторические данные о заказах такси в аэропортах. Чтобы привлекать больше водителей в период пиковой нагрузки, нужно спрогнозировать количество заказов такси на следующий час. Постройте модель для такого предсказания.\n",
    "\n",
    "Значение метрики *RMSE* на тестовой выборке должно быть не больше 48.\n",
    "\n",
    "Вам нужно:\n",
    "\n",
    "1. Загрузить данные и выполнить их ресемплирование по одному часу.\n",
    "2. Проанализировать данные.\n",
    "3. Обучить разные модели с различными гиперпараметрами. Сделать тестовую выборку размером 10% от исходных данных.\n",
    "4. Проверить данные на тестовой выборке и сделать выводы.\n",
    "\n",
    "\n",
    "Данные лежат в файле `taxi.csv`. Количество заказов находится в столбце `num_orders` (от англ. *number of orders*, «число заказов»)."
   ]
  },
  {
   "cell_type": "markdown",
   "metadata": {},
   "source": [
    "<div class=\"alert alert-success\">\n",
    "<h2> Комментарий ревьюера <a class=\"tocSkip\"> </h2>\n",
    "\n",
    "<b>Все отлично!👍:</b> Хорошее вступление!\n",
    "    \n",
    "В нём есть всё, что необходимо, чтобы понять суть проекта с первых строк отчёта!"
   ]
  },
  {
   "cell_type": "markdown",
   "metadata": {},
   "source": [
    "## Подготовка"
   ]
  },
  {
   "cell_type": "code",
   "execution_count": 1,
   "metadata": {},
   "outputs": [],
   "source": [
    "#!pip install --upgrade pip scikit-learn scipy xgboost -q"
   ]
  },
  {
   "cell_type": "code",
   "execution_count": 2,
   "metadata": {},
   "outputs": [],
   "source": [
    "#!pip install numpy==1.26.4 -q"
   ]
  },
  {
   "cell_type": "code",
   "execution_count": 3,
   "metadata": {},
   "outputs": [],
   "source": [
    "import os\n",
    "import re\n",
    "import time\n",
    "\n",
    "import matplotlib.pyplot as plt\n",
    "import numpy as np\n",
    "import pandas as pd\n",
    "import seaborn as sns\n",
    "import statsmodels.api as sm\n",
    "\n",
    "from sklearn.dummy import DummyRegressor\n",
    "from sklearn.linear_model import LinearRegression\n",
    "from sklearn.model_selection import train_test_split, GridSearchCV, TimeSeriesSplit\n",
    "from sklearn.metrics import mean_squared_error\n",
    "from statsmodels.tsa.seasonal import seasonal_decompose\n",
    "from statsmodels.tsa.stattools import adfuller\n",
    "from sklearn.ensemble import RandomForestRegressor\n",
    "from xgboost import XGBRegressor\n",
    "from lightgbm import LGBMRegressor\n",
    "from statsmodels.tsa.stattools import adfuller\n",
    "\n",
    "# Настройка размера графиков\n",
    "plt.rcParams[\"figure.figsize\"] = (12, 6)"
   ]
  },
  {
   "cell_type": "markdown",
   "metadata": {},
   "source": [
    "<div class=\"alert alert-success\">\n",
    "<h2> Комментарий ревьюера <a class=\"tocSkip\"> </h2>\n",
    "\n",
    "<b>Все отлично!👍:</b> Библиотеки импортировали - отлично!"
   ]
  },
  {
   "cell_type": "markdown",
   "metadata": {},
   "source": [
    "<b> Описание данных: </b> \n",
    "\n",
    "Данные лежат в файле '/datasets/taxi.csv'  \n",
    "Количество заказов находится в столбце `num_orders` (от англ. number of orders, «число заказов»). "
   ]
  },
  {
   "cell_type": "code",
   "execution_count": 4,
   "metadata": {},
   "outputs": [],
   "source": [
    "# Считаем CSV-файл с данными с помощью библиотеки pandas в датафрейм и изучим общую информацию\n",
    "\n",
    "path = '/datasets'\n",
    "\n",
    "try:\n",
    "    # Чтение датафреймов\n",
    "    taxi = pd.read_csv(os.path.join(path, 'taxi.csv'), parse_dates=[0])\n",
    "\n",
    "except FileNotFoundError:\n",
    "    print('Один или несколько файлов не найдены.')"
   ]
  },
  {
   "cell_type": "markdown",
   "metadata": {},
   "source": [
    "<div class=\"alert alert-success\">\n",
    "<h2> Комментарий ревьюера <a class=\"tocSkip\"> </h2>\n",
    "\n",
    "<b>Все отлично!👍:</b>\n",
    "    \n",
    "Данные загрузили - отлично! Круто, что сразу парсишь дату:)\n",
    "    \n",
    "Здорово, что ты используешь конструкцию ``try-except`` для путей файлов. Но еще лучше использовать библиотеку `os` - её использование позволит тебе проверять существование указанных директорий (что может быть актуально при одновременной работа на локальном и сетевом окружении) и загружать данные из существующей директории, избегая ошибок. Как пример:\n",
    " \n",
    "    import os\n",
    "\n",
    "    pth1 = '/folder_1/data.csv'\n",
    "    pth2 = '/folder_2/data.csv'\n",
    "    \n",
    "    if os.path.exists(pth1):\n",
    "        query_1 = pd.read_csv(pth1)\n",
    "    elif os.path.exists(pth2):\n",
    "        query_1 = pd.read_csv(pth2)\n",
    "    else:\n",
    "        print('Something is wrong')"
   ]
  },
  {
   "cell_type": "code",
   "execution_count": 5,
   "metadata": {
    "scrolled": true
   },
   "outputs": [
    {
     "name": "stdout",
     "output_type": "stream",
     "text": [
      "<class 'pandas.core.frame.DataFrame'>\n",
      "RangeIndex: 26496 entries, 0 to 26495\n",
      "Data columns (total 2 columns):\n",
      " #   Column      Non-Null Count  Dtype         \n",
      "---  ------      --------------  -----         \n",
      " 0   datetime    26496 non-null  datetime64[ns]\n",
      " 1   num_orders  26496 non-null  int64         \n",
      "dtypes: datetime64[ns](1), int64(1)\n",
      "memory usage: 414.1 KB\n"
     ]
    }
   ],
   "source": [
    "taxi.info()"
   ]
  },
  {
   "cell_type": "code",
   "execution_count": 6,
   "metadata": {},
   "outputs": [
    {
     "data": {
      "text/html": [
       "<div>\n",
       "<style scoped>\n",
       "    .dataframe tbody tr th:only-of-type {\n",
       "        vertical-align: middle;\n",
       "    }\n",
       "\n",
       "    .dataframe tbody tr th {\n",
       "        vertical-align: top;\n",
       "    }\n",
       "\n",
       "    .dataframe thead th {\n",
       "        text-align: right;\n",
       "    }\n",
       "</style>\n",
       "<table border=\"1\" class=\"dataframe\">\n",
       "  <thead>\n",
       "    <tr style=\"text-align: right;\">\n",
       "      <th></th>\n",
       "      <th>datetime</th>\n",
       "      <th>num_orders</th>\n",
       "    </tr>\n",
       "  </thead>\n",
       "  <tbody>\n",
       "    <tr>\n",
       "      <th>0</th>\n",
       "      <td>2018-03-01 00:00:00</td>\n",
       "      <td>9</td>\n",
       "    </tr>\n",
       "    <tr>\n",
       "      <th>1</th>\n",
       "      <td>2018-03-01 00:10:00</td>\n",
       "      <td>14</td>\n",
       "    </tr>\n",
       "    <tr>\n",
       "      <th>2</th>\n",
       "      <td>2018-03-01 00:20:00</td>\n",
       "      <td>28</td>\n",
       "    </tr>\n",
       "  </tbody>\n",
       "</table>\n",
       "</div>"
      ],
      "text/plain": [
       "             datetime  num_orders\n",
       "0 2018-03-01 00:00:00           9\n",
       "1 2018-03-01 00:10:00          14\n",
       "2 2018-03-01 00:20:00          28"
      ]
     },
     "execution_count": 6,
     "metadata": {},
     "output_type": "execute_result"
    }
   ],
   "source": [
    "taxi.head(3)"
   ]
  },
  {
   "cell_type": "markdown",
   "metadata": {},
   "source": [
    "## Анализ"
   ]
  },
  {
   "cell_type": "code",
   "execution_count": 7,
   "metadata": {},
   "outputs": [
    {
     "data": {
      "text/plain": [
       "Timestamp('2018-03-01 00:00:00')"
      ]
     },
     "execution_count": 7,
     "metadata": {},
     "output_type": "execute_result"
    }
   ],
   "source": [
    "taxi.datetime.min()"
   ]
  },
  {
   "cell_type": "code",
   "execution_count": 8,
   "metadata": {},
   "outputs": [
    {
     "data": {
      "text/plain": [
       "Timestamp('2018-08-31 23:50:00')"
      ]
     },
     "execution_count": 8,
     "metadata": {},
     "output_type": "execute_result"
    }
   ],
   "source": [
    "taxi.datetime.max()"
   ]
  },
  {
   "cell_type": "code",
   "execution_count": 9,
   "metadata": {},
   "outputs": [
    {
     "data": {
      "text/html": [
       "<div>\n",
       "<style scoped>\n",
       "    .dataframe tbody tr th:only-of-type {\n",
       "        vertical-align: middle;\n",
       "    }\n",
       "\n",
       "    .dataframe tbody tr th {\n",
       "        vertical-align: top;\n",
       "    }\n",
       "\n",
       "    .dataframe thead th {\n",
       "        text-align: right;\n",
       "    }\n",
       "</style>\n",
       "<table border=\"1\" class=\"dataframe\">\n",
       "  <thead>\n",
       "    <tr style=\"text-align: right;\">\n",
       "      <th></th>\n",
       "      <th>num_orders</th>\n",
       "    </tr>\n",
       "  </thead>\n",
       "  <tbody>\n",
       "    <tr>\n",
       "      <th>count</th>\n",
       "      <td>26496.000000</td>\n",
       "    </tr>\n",
       "    <tr>\n",
       "      <th>mean</th>\n",
       "      <td>14.070463</td>\n",
       "    </tr>\n",
       "    <tr>\n",
       "      <th>std</th>\n",
       "      <td>9.211330</td>\n",
       "    </tr>\n",
       "    <tr>\n",
       "      <th>min</th>\n",
       "      <td>0.000000</td>\n",
       "    </tr>\n",
       "    <tr>\n",
       "      <th>25%</th>\n",
       "      <td>8.000000</td>\n",
       "    </tr>\n",
       "    <tr>\n",
       "      <th>50%</th>\n",
       "      <td>13.000000</td>\n",
       "    </tr>\n",
       "    <tr>\n",
       "      <th>75%</th>\n",
       "      <td>19.000000</td>\n",
       "    </tr>\n",
       "    <tr>\n",
       "      <th>max</th>\n",
       "      <td>119.000000</td>\n",
       "    </tr>\n",
       "  </tbody>\n",
       "</table>\n",
       "</div>"
      ],
      "text/plain": [
       "         num_orders\n",
       "count  26496.000000\n",
       "mean      14.070463\n",
       "std        9.211330\n",
       "min        0.000000\n",
       "25%        8.000000\n",
       "50%       13.000000\n",
       "75%       19.000000\n",
       "max      119.000000"
      ]
     },
     "execution_count": 9,
     "metadata": {},
     "output_type": "execute_result"
    }
   ],
   "source": [
    "taxi.describe()"
   ]
  },
  {
   "cell_type": "code",
   "execution_count": 10,
   "metadata": {},
   "outputs": [
    {
     "name": "stdout",
     "output_type": "stream",
     "text": [
      "<class 'pandas.core.frame.DataFrame'>\n",
      "Int64Index: 26496 entries, 0 to 26495\n",
      "Data columns (total 2 columns):\n",
      " #   Column      Non-Null Count  Dtype         \n",
      "---  ------      --------------  -----         \n",
      " 0   datetime    26496 non-null  datetime64[ns]\n",
      " 1   num_orders  26496 non-null  int64         \n",
      "dtypes: datetime64[ns](1), int64(1)\n",
      "memory usage: 621.0 KB\n"
     ]
    }
   ],
   "source": [
    "taxi = taxi.drop_duplicates()\n",
    "taxi.info()"
   ]
  },
  {
   "cell_type": "code",
   "execution_count": 11,
   "metadata": {},
   "outputs": [],
   "source": [
    "taxi = taxi.set_index('datetime')\n",
    "taxi.sort_index(inplace=True)"
   ]
  },
  {
   "cell_type": "markdown",
   "metadata": {},
   "source": [
    "<b>По результатам анализа:</b>\n",
    "- 26 496 временных отметок с количеством заказов,\n",
    "- данные за 6 месяцев, период с 01-03-2018 по 31-08-2018,\n",
    "- среднее количество заказов - 14, максимум - 119, минимум - 0"
   ]
  },
  {
   "cell_type": "code",
   "execution_count": 12,
   "metadata": {},
   "outputs": [
    {
     "data": {
      "image/png": "[encoded data removed]",
      "text/plain": [
       "<Figure size 864x432 with 1 Axes>"
      ]
     },
     "metadata": {
      "needs_background": "light"
     },
     "output_type": "display_data"
    }
   ],
   "source": [
    "# Ресэмплируем по часам временной ряд\n",
    "taxi = taxi.resample('1H').sum()\n",
    "\n",
    "# Строим графики количества заказов за час\n",
    "taxi.plot()\n",
    "plt.xlabel('Час')\n",
    "plt.ylabel('Количество заказов')\n",
    "plt.title('Количество заказов за час')\n",
    "plt.grid()\n",
    "plt.show()"
   ]
  },
  {
   "cell_type": "code",
   "execution_count": 13,
   "metadata": {},
   "outputs": [
    {
     "name": "stdout",
     "output_type": "stream",
     "text": [
      "<class 'pandas.core.frame.DataFrame'>\n",
      "DatetimeIndex: 4416 entries, 2018-03-01 00:00:00 to 2018-08-31 23:00:00\n",
      "Freq: H\n",
      "Data columns (total 1 columns):\n",
      " #   Column      Non-Null Count  Dtype\n",
      "---  ------      --------------  -----\n",
      " 0   num_orders  4416 non-null   int64\n",
      "dtypes: int64(1)\n",
      "memory usage: 69.0 KB\n"
     ]
    }
   ],
   "source": [
    "taxi.info()"
   ]
  },
  {
   "cell_type": "code",
   "execution_count": 14,
   "metadata": {},
   "outputs": [],
   "source": [
    "# Оценка стационарности ряда с помощью сглаживания скользящим средним\n",
    "rolling_mean = taxi.rolling(window=24, closed='left').mean()  # Сглаживание по суткам (24 часа)"
   ]
  },
  {
   "cell_type": "markdown",
   "metadata": {},
   "source": [
    "<div class=\"alert alert-block alert-danger\">\n",
    "<h2> Комментарий ревьюера v.2 <a class=\"tocSkip\"></h2>\n",
    "\n",
    "    \n",
    "<b>На доработку❌:</b>\n",
    "При использовании `.rolling()` в такой постановке скользящее среднее считается с учётом текущего шага - это не совсем верно для задачи временных рядов, так как будет работать только для известных нам значений и сломается на предсказаниях.\n",
    "        \n",
    "Нужно либо использовать `.shift()` перед `.rolling()`, либо параметру `closed` при использовании `.rolling()` передать значение `left`.\n",
    "    \n",
    "Ниже - наглядная визуализация:\n",
    "    \n",
    "[![2023-07-11-15-48-51.png](https://i.postimg.cc/cH9tDwq4/2023-07-11-15-48-51.png)](https://postimg.cc/BLFvb8Qd)"
   ]
  },
  {
   "cell_type": "markdown",
   "metadata": {},
   "source": [
    "<div class=\"alert alert-info\">\n",
    "<h2> Комментарий студента <a class=\"tocSkip\"> </h2>\n",
    "Обновила скользящее среднее\n",
    "</div>"
   ]
  },
  {
   "cell_type": "markdown",
   "metadata": {},
   "source": [
    "<div class=\"alert alert-success\">\n",
    "<h2> Комментарий ревьюера v.3 <a class=\"tocSkip\"> </h2>\n",
    "\n",
    "<b>Все отлично!👍:</b> Учтено."
   ]
  },
  {
   "cell_type": "code",
   "execution_count": 15,
   "metadata": {},
   "outputs": [
    {
     "data": {
      "image/png": "[encoded data removed]",
      "text/plain": [
       "<Figure size 864x432 with 1 Axes>"
      ]
     },
     "metadata": {
      "needs_background": "light"
     },
     "output_type": "display_data"
    }
   ],
   "source": [
    "# Визуализация исходного временного ряда и сглаженного ряда\n",
    "\n",
    "plt.plot(taxi, label='Исходный ряд', color='blue', alpha=0.5)\n",
    "plt.plot(rolling_mean, label='Скользящее среднее (24 часа)', color='red', linewidth=2)\n",
    "plt.xlabel('Час')\n",
    "plt.ylabel('Количество заказов')\n",
    "plt.title('Сравнение исходного ряда и скользящего среднего')\n",
    "plt.legend()\n",
    "plt.grid()\n",
    "plt.show()"
   ]
  },
  {
   "cell_type": "code",
   "execution_count": 16,
   "metadata": {},
   "outputs": [
    {
     "name": "stdout",
     "output_type": "stream",
     "text": [
      "Гипотезы для теста Дики-Фуллера:\n",
      "Нулевая гипотеза (H0): ряд нестационарен.\n",
      "Альтернативная гипотеза (H1): ряд стационарен.\n",
      "\n",
      "Результаты теста Дики-Фуллера:\n",
      "Статистика: -3.0689242890279558\n",
      "p-value: 0.028940051402612906\n",
      "Критические значения: {'1%': -3.431842162413052, '5%': -2.8621993540813637, '10%': -2.567120978470452}\n",
      "На уровне значимости 1%: не удалось отвергнуть нулевую гипотезу — ряд нестационарен.\n",
      "На уровне значимости 5%: отвергаем нулевую гипотезу — ряд стационарен.\n"
     ]
    }
   ],
   "source": [
    "# Тест Дики-Фуллера для оценки стационарности\n",
    "result = adfuller(taxi)\n",
    "\n",
    "# Формулировка гипотез\n",
    "print(\"Гипотезы для теста Дики-Фуллера:\")\n",
    "print(\"Нулевая гипотеза (H0): ряд нестационарен.\")\n",
    "print(\"Альтернативная гипотеза (H1): ряд стационарен.\")\n",
    "\n",
    "# Уровни значимости\n",
    "alpha_1 = 0.01  # 1%\n",
    "alpha_5 = 0.05  # 5%\n",
    "\n",
    "print('\\nРезультаты теста Дики-Фуллера:')\n",
    "print(f'Статистика: {result[0]}')\n",
    "print(f'p-value: {result[1]}')\n",
    "print(f'Критические значения: {result[4]}')\n",
    "\n",
    "# Проверка гипотез на разных уровнях значимости\n",
    "if result[1] < alpha_1:\n",
    "    print(\"На уровне значимости 1%: отвергаем нулевую гипотезу — ряд стационарен.\")\n",
    "else:\n",
    "    print(\"На уровне значимости 1%: не удалось отвергнуть нулевую гипотезу — ряд нестационарен.\")\n",
    "\n",
    "if result[1] < alpha_5:\n",
    "    print(\"На уровне значимости 5%: отвергаем нулевую гипотезу — ряд стационарен.\")\n",
    "else:\n",
    "    print(\"На уровне значимости 5%: не удалось отвергнуть нулевую гипотезу — ряд нестационарен.\")"
   ]
  },
  {
   "cell_type": "markdown",
   "metadata": {},
   "source": [
    "<b> Интерпретация результатов </b>\n",
    "\n",
    "- **На уровне значимости 1%**: Критическое значение для 1% составляет -3.4318, а статистика (-3.0689) больше этого значения. Это означает, что мы **не можем отвергнуть нулевую гипотезу** на уровне значимости 1%. Следовательно, ряд считается нестационарным.\n",
    "\n",
    "- **На уровне значимости 5%**: Критическое значение для 5% составляет -2.8622, а статистика (-3.0689) меньше этого значения. Это означает, что мы **можем отвергнуть нулевую гипотезу** на уровне значимости 5%. Следовательно, ряд может быть стационарным.\n",
    "\n",
    "Однако график скользящего среднего растет со временем, это также является признаком нестационарности."
   ]
  },
  {
   "cell_type": "code",
   "execution_count": 17,
   "metadata": {},
   "outputs": [
    {
     "data": {
      "image/png": "[encoded data removed]",
      "text/plain": [
       "<Figure size 1008x720 with 4 Axes>"
      ]
     },
     "metadata": {
      "needs_background": "light"
     },
     "output_type": "display_data"
    }
   ],
   "source": [
    "# Декомпозиция временного ряда\n",
    "decomposition = sm.tsa.seasonal_decompose(taxi, model='additive')\n",
    "fig = decomposition.plot()\n",
    "fig.set_size_inches(14, 10)\n",
    "plt.show()"
   ]
  },
  {
   "cell_type": "markdown",
   "metadata": {},
   "source": [
    "**По графику видим:**\n",
    "- **График значений после августа растет**: Это может указывать на наличие долгосрочного тренда, который продолжает расти. Возможно, это связано с увеличением спроса на такси или другими внешними факторами.\n",
    "\n",
    "- **График тренда плавно растет**: Это подтверждает, что в данных есть устойчивый тренд. Он может быть линейным или нелинейным, но общий тренд указывает на рост.\n",
    "\n",
    "- **График сезонности не меняется**: Это может означать, что сезонные колебания не изменяются со временем. Например, если спрос на такси всегда выше в определенные месяцы, это будет отражено на графике сезонности.\n",
    "\n",
    "- **График остатков расширяется и показывает выбросы**: Остатки показывают значительные колебания и выбросы после августа, это может указывать на нестабильность в данных или на влияние внешних факторов. Выбросы могут свидетельствовать о необычных событиях (например, праздники, крупные мероприятия), которые значительно влияют на спрос."
   ]
  },
  {
   "cell_type": "code",
   "execution_count": 18,
   "metadata": {},
   "outputs": [],
   "source": [
    "# Построение графиков по часам, дням и неделям для выявления сезонности\n",
    "taxi['hour'] = taxi.index.hour\n",
    "taxi['day'] = taxi.index.dayofweek\n",
    "taxi['month'] = taxi.index.month"
   ]
  },
  {
   "cell_type": "code",
   "execution_count": 19,
   "metadata": {
    "scrolled": true
   },
   "outputs": [
    {
     "data": {
      "image/png": "[encoded data removed]",
      "text/plain": [
       "<Figure size 1008x504 with 1 Axes>"
      ]
     },
     "metadata": {
      "needs_background": "light"
     },
     "output_type": "display_data"
    }
   ],
   "source": [
    "# Среднее количество заказов по часам\n",
    "hourly_avg = taxi.groupby('hour').mean()\n",
    "\n",
    "plt.figure(figsize=(14, 7))\n",
    "sns.barplot(x=hourly_avg.index, y=hourly_avg['num_orders'], palette='viridis')\n",
    "plt.title('Среднее количество заказов по часам')\n",
    "plt.xlabel('Час дня')\n",
    "plt.ylabel('Среднее количество заказов')\n",
    "plt.grid()\n",
    "plt.show()"
   ]
  },
  {
   "cell_type": "code",
   "execution_count": 20,
   "metadata": {},
   "outputs": [
    {
     "data": {
      "image/png": "[encoded data removed]",
      "text/plain": [
       "<Figure size 1008x504 with 1 Axes>"
      ]
     },
     "metadata": {
      "needs_background": "light"
     },
     "output_type": "display_data"
    }
   ],
   "source": [
    "# Среднее количество заказов по дням недели\n",
    "daily_avg = taxi.groupby('day').mean()\n",
    "\n",
    "plt.figure(figsize=(14, 7))\n",
    "sns.barplot(x=daily_avg.index, y=daily_avg['num_orders'], palette='viridis')\n",
    "plt.title('Среднее количество заказов по дням недели')\n",
    "plt.xlabel('День недели (0=Пн, 6=Вс)')\n",
    "plt.ylabel('Среднее количество заказов')\n",
    "plt.grid()\n",
    "plt.show()"
   ]
  },
  {
   "cell_type": "code",
   "execution_count": 21,
   "metadata": {},
   "outputs": [
    {
     "data": {
      "image/png": "[encoded data removed]",
      "text/plain": [
       "<Figure size 1008x504 with 1 Axes>"
      ]
     },
     "metadata": {
      "needs_background": "light"
     },
     "output_type": "display_data"
    }
   ],
   "source": [
    "# Среднее количество заказов по месяцам\n",
    "monthly_avg = taxi.groupby('month').mean()\n",
    "\n",
    "plt.figure(figsize=(14, 7))\n",
    "sns.barplot(x=monthly_avg.index, y=monthly_avg['num_orders'], palette='viridis')\n",
    "plt.title('Среднее количество заказов по месяцам')\n",
    "plt.xlabel('Месяц')\n",
    "plt.ylabel('Среднее количество заказов')\n",
    "plt.grid()\n",
    "plt.show()"
   ]
  },
  {
   "cell_type": "markdown",
   "metadata": {},
   "source": [
    "**По графикам видим:**\n",
    "- количество заказов растет каждый месяц,\n",
    "- в будни заказов больше чем в выходные, больше всего заказов - пн, пт, меньше всего - вт, сб, вс\n",
    "- больше всего заказов в 0 часов, меньше всего - с 5 до 7 утра (значительные отклонения от средних значений)"
   ]
  },
  {
   "cell_type": "code",
   "execution_count": 22,
   "metadata": {},
   "outputs": [
    {
     "data": {
      "text/plain": [
       "datetime\n",
       "2018-08-01 00:00:00    182\n",
       "2018-08-01 01:00:00     98\n",
       "2018-08-01 02:00:00    133\n",
       "2018-08-01 03:00:00     95\n",
       "2018-08-01 04:00:00    122\n",
       "                      ... \n",
       "2018-08-03 19:00:00     91\n",
       "2018-08-03 20:00:00     87\n",
       "2018-08-03 21:00:00    123\n",
       "2018-08-03 22:00:00    170\n",
       "2018-08-03 23:00:00    123\n",
       "Freq: H, Name: num_orders, Length: 72, dtype: int64"
      ]
     },
     "execution_count": 22,
     "metadata": {},
     "output_type": "execute_result"
    }
   ],
   "source": [
    "# Выбираем 2-3 дня в августе для анализа\n",
    "start_date = '2018-08-01'  \n",
    "end_date = '2018-08-03'    \n",
    "taxi_slice = taxi['num_orders'].loc[start_date:end_date]\n",
    "taxi_slice"
   ]
  },
  {
   "cell_type": "code",
   "execution_count": 23,
   "metadata": {},
   "outputs": [
    {
     "data": {
      "image/png": "[encoded data removed]",
      "text/plain": [
       "<Figure size 1080x288 with 1 Axes>"
      ]
     },
     "metadata": {
      "needs_background": "light"
     },
     "output_type": "display_data"
    },
    {
     "data": {
      "image/png": "[encoded data removed]",
      "text/plain": [
       "<Figure size 1080x288 with 1 Axes>"
      ]
     },
     "metadata": {
      "needs_background": "light"
     },
     "output_type": "display_data"
    }
   ],
   "source": [
    "# Разделяем временной ряд на компоненты\n",
    "decomposed = seasonal_decompose(taxi_slice, model='additive')\n",
    "\n",
    "# Получаем сезонную компоненту\n",
    "seasonal_slice = decomposed.seasonal\n",
    "\n",
    "# Построение графика сезонной компоненты\n",
    "plt.figure(figsize=(15, 4)) \n",
    "seasonal_slice.plot()\n",
    "plt.title('Сезонная компонента (2-3 дня в августе, по часам)')\n",
    "plt.xlabel('Дата')\n",
    "plt.ylabel('Сезонная компонента')\n",
    "plt.grid()\n",
    "plt.show()\n",
    "\n",
    "# Дополнительно можно построить график исходных данных для сравнения\n",
    "plt.figure(figsize=(15, 4)) \n",
    "taxi_slice.plot()\n",
    "plt.title('Количество заказов такси (2-3 дня в августе, по часам)')\n",
    "plt.xlabel('Дата')\n",
    "plt.ylabel('Количество заказов')\n",
    "plt.grid()\n",
    "plt.show()"
   ]
  },
  {
   "cell_type": "markdown",
   "metadata": {},
   "source": [
    "На графиках за несколько дней также видим много заказов в 0 часов и провал в утренние часы."
   ]
  },
  {
   "cell_type": "markdown",
   "metadata": {},
   "source": [
    "<div class=\"alert alert-block alert-danger\">\n",
    "<h2> Комментарий ревьюера <a class=\"tocSkip\"></h2>\n",
    "\n",
    "    \n",
    "<b>На доработку❌:</b> Графики нужно сделать больше - графики дефолтного размера не очень удобны для чтения. Удобнее будет настроить параметр `plt.rcParams[\"figure.figsize\"] = (x,y)` сразу в ячейке импорта библиотек, и все графики проекта будут одного размера."
   ]
  },
  {
   "cell_type": "markdown",
   "metadata": {},
   "source": [
    "<div class=\"alert alert-info\">\n",
    "<h2> Комментарий студента <a class=\"tocSkip\"> </h2>\n",
    "Обновила импорты и сделала графики шире.\n",
    "</div>"
   ]
  },
  {
   "cell_type": "markdown",
   "metadata": {},
   "source": [
    "<div class=\"alert alert-success\">\n",
    "<h2> Комментарий ревьюера v.2 <a class=\"tocSkip\"> </h2>\n",
    "\n",
    "<b>Все отлично!👍:</b> Учтено."
   ]
  },
  {
   "cell_type": "markdown",
   "metadata": {},
   "source": [
    "<div class=\"alert alert-block alert-danger\">\n",
    "<h2> Комментарий ревьюера <a class=\"tocSkip\"></h2>\n",
    "\n",
    "    \n",
    "<b>На доработку❌:</b>\n",
    "Аналитическую часть этого раздела стоит дополнить анализом компонентов ряда и сезонности:\n",
    "    \n",
    "1. Какой вывод можем сделать по итогу анализа трендовой компннены ряда?\n",
    "2. Сезонную компоненту для лушчего понимания природы сезонности стоит дополнительно исследовать на более коротком промежутке времени - подойдёт 2-3 суток. Для выполнения этого пункта стоит найти ответы на следующие вопросы:\n",
    "   \n",
    "- какова природа сезонности (часовая, суточная, дневная, недельная, месячная)?;    \n",
    "- в какие периоды (с учётом пункта выше) наблюдаются пики заказов, а в какие - спады?;   \n",
    "- чем обсуловлена природа сезонности? (важно помнить, что у нас данные про заказы такси в аэропортах - как это соотносится с пунктом выше).\n",
    "3. Нужно оценить стационарность ряда с помощью сглаживания скользящим средним и последующей визуализацией сглаженного ряда на графике (отлично будет смотреться на графике исходного временного ряда как его дополнение) - это самый простой способ: если сглаженное среднее будет увеличиваться со временем, то ряд нестационарен.\n",
    "    \n",
    "При этом обрати внимание, что для ответа на эти вопросы нужно использовать ресэмплированный по часам ряд."
   ]
  },
  {
   "cell_type": "markdown",
   "metadata": {},
   "source": [
    "<div class=\"alert alert-warning\">\n",
    "    <h2> Комментарий ревьюера <a class=\"tocSkip\"> </h2>\n",
    "    \n",
    "<b>Некоторые замечания и рекомендации⚠️:</b> Дополнительно стационарность ряда ползено оценивать с помощью теста Дики-Фуллера: в реальных задачах с временными рядами, в особенности - с финансовыми данными или биржевыми котировками, график не всегда поможет достоверно оценить стационарность ряда, поэтому для оценки стационарности ряда лучше использовать тест Дики — Фуллера (подробнее о нём можно глянуть тут: https://www.statsmodels.org/dev/generated/statsmodels.tsa.stattools.adfuller.html, а вот тут можно глянуть пример реализации: https://www.codecamp.ru/blog/dickey-fuller-test-python/) - он даст наиболее точный результат. Результат нужно проверить на уровнях значимости 1% и 5%, чтобы быть уверенным в выводах. Не забудь при применении теста сформулировать гипотезы - нулевая формулируется как гипотеза о нестацинарности ряда, а альтернативная - как гипотеза о стационарности ряда. Также при проведении теста не забывай, что мы сравниваем `p-value` с уровнем значимости `alpha`."
   ]
  },
  {
   "cell_type": "markdown",
   "metadata": {},
   "source": [
    "<div class=\"alert alert-info\">\n",
    "<h2> Комментарий студента <a class=\"tocSkip\"> </h2>\n",
    "Обновила графики, сделала для всех resample по часам, добавила тест Дики-Фуллера и график скользящего среднего для оценки стационарности ряда.   \n",
    "</div>"
   ]
  },
  {
   "cell_type": "markdown",
   "metadata": {},
   "source": [
    "<div class=\"alert alert-success\">\n",
    "<h2> Комментарий ревьюера v.2 <a class=\"tocSkip\"> </h2>\n",
    "\n",
    "<b>Все отлично!👍:</b> Учтено."
   ]
  },
  {
   "cell_type": "markdown",
   "metadata": {},
   "source": [
    "<div class=\"alert alert-block alert-danger\">\n",
    "<h2> Комментарий ревьюера <a class=\"tocSkip\"></h2>\n",
    "\n",
    "    \n",
    "<b>На доработку❌:</b> `taxi_day` далее в проекте не используется - зачем мы его анализиуем?"
   ]
  },
  {
   "cell_type": "markdown",
   "metadata": {},
   "source": [
    "<div class=\"alert alert-info\">\n",
    "<h2> Комментарий студента <a class=\"tocSkip\"> </h2>\n",
    "Убрала анализ по дням, выше есть график скользящего среднего для resample по часам \n",
    "</div>"
   ]
  },
  {
   "cell_type": "markdown",
   "metadata": {},
   "source": [
    "<div class=\"alert alert-success\">\n",
    "<h2> Комментарий ревьюера v.2 <a class=\"tocSkip\"> </h2>\n",
    "\n",
    "<b>Все отлично!👍:</b> Учтено."
   ]
  },
  {
   "cell_type": "markdown",
   "metadata": {},
   "source": [
    "## Обучение и тестирование"
   ]
  },
  {
   "cell_type": "markdown",
   "metadata": {},
   "source": [
    "<div class=\"alert alert-success\">\n",
    "<h2> Комментарий ревьюера <a class=\"tocSkip\"> </h2>\n",
    "\n",
    "<b>Все отлично!👍</b> \n",
    "    \n",
    "Выполнили ресэмплирование данных с градацией по часу с применением функции суммирования - отличное и наиболее логичное решение для этой задачи!\n",
    "</div>"
   ]
  },
  {
   "cell_type": "markdown",
   "metadata": {},
   "source": [
    "<div class=\"alert alert-info\">\n",
    "<h2> Комментарий студента <a class=\"tocSkip\"> </h2>\n",
    "Перенесла выше в анализ данных\n",
    "</div>"
   ]
  },
  {
   "cell_type": "code",
   "execution_count": 24,
   "metadata": {},
   "outputs": [],
   "source": [
    "# Создание признаков на основе временного индекса\n",
    "def make_features(taxi, max_lag, rolling_mean_size):\n",
    "    taxi_features = taxi.copy()\n",
    "    \n",
    "    # Создание признаков на основе временного индекса\n",
    "    taxi_features['day'] = taxi_features.index.day\n",
    "    taxi_features['dayofweek'] = taxi_features.index.dayofweek\n",
    "    taxi_features['hour'] = taxi_features.index.hour\n",
    "    taxi_features['is_weekend'] = (taxi_features['dayofweek'] >= 5).astype(int)\n",
    "    \n",
    "    # Добавление отстающих значений\n",
    "    for lag in range(1, max_lag + 1):\n",
    "        taxi_features[f'lag_{lag}'] = taxi_features['num_orders'].shift(lag)\n",
    "\n",
    "    # Добавление скользящего среднего\n",
    "    taxi_features['rolling_mean'] = taxi_features['num_orders'].shift().rolling(rolling_mean_size).mean()\n",
    "\n",
    "    return taxi_features\n",
    "\n",
    "taxi_with_features = make_features(taxi, max_lag=12, rolling_mean_size=1)"
   ]
  },
  {
   "cell_type": "code",
   "execution_count": 25,
   "metadata": {},
   "outputs": [
    {
     "name": "stdout",
     "output_type": "stream",
     "text": [
      "<class 'pandas.core.frame.DataFrame'>\n",
      "DatetimeIndex: 4416 entries, 2018-03-01 00:00:00 to 2018-08-31 23:00:00\n",
      "Freq: H\n",
      "Data columns (total 19 columns):\n",
      " #   Column        Non-Null Count  Dtype  \n",
      "---  ------        --------------  -----  \n",
      " 0   num_orders    4416 non-null   int64  \n",
      " 1   hour          4416 non-null   int64  \n",
      " 2   day           4416 non-null   int64  \n",
      " 3   month         4416 non-null   int64  \n",
      " 4   dayofweek     4416 non-null   int64  \n",
      " 5   is_weekend    4416 non-null   int64  \n",
      " 6   lag_1         4415 non-null   float64\n",
      " 7   lag_2         4414 non-null   float64\n",
      " 8   lag_3         4413 non-null   float64\n",
      " 9   lag_4         4412 non-null   float64\n",
      " 10  lag_5         4411 non-null   float64\n",
      " 11  lag_6         4410 non-null   float64\n",
      " 12  lag_7         4409 non-null   float64\n",
      " 13  lag_8         4408 non-null   float64\n",
      " 14  lag_9         4407 non-null   float64\n",
      " 15  lag_10        4406 non-null   float64\n",
      " 16  lag_11        4405 non-null   float64\n",
      " 17  lag_12        4404 non-null   float64\n",
      " 18  rolling_mean  4415 non-null   float64\n",
      "dtypes: float64(13), int64(6)\n",
      "memory usage: 819.0 KB\n"
     ]
    }
   ],
   "source": [
    "taxi_with_features.info()"
   ]
  },
  {
   "cell_type": "code",
   "execution_count": 26,
   "metadata": {},
   "outputs": [],
   "source": [
    "# Замена NaN на среднее значение в столбцах с отстающими значениями и скользящим средним\n",
    "taxi_with_features.fillna(taxi_with_features.mean(), inplace=True)"
   ]
  },
  {
   "cell_type": "markdown",
   "metadata": {},
   "source": [
    "<div class=\"alert alert-success\">\n",
    "<h2> Комментарий ревьюера <a class=\"tocSkip\"> </h2>\n",
    "\n",
    "<b>Все отлично!👍</b> \n",
    "    \n",
    "Есть функция для новых признаков - отлично!"
   ]
  },
  {
   "cell_type": "markdown",
   "metadata": {},
   "source": [
    "<div class=\"alert alert-warning\">\n",
    "    <h2> Комментарий ревьюера <a class=\"tocSkip\"> </h2>\n",
    "    \n",
    "<b>Некоторые замечания и рекомендации⚠️:</b> \n",
    "Организация работы функции таким образом, чтобы она работала с глобальной переменной - не самая хорошая практика: если что-то пойдёт не так, придётся заново запускать весь процесс предобработки данных. \n",
    "        \n",
    "Лучше организовывать функцию так, чтобы она принимала на вход набор данных и возвращала результат работы, чтобы его можно было сохранить в новой переменной. Концепт:\n",
    "        \n",
    "    def foo(df):\n",
    "        df.dropna(inplace=True)\n",
    "    \n",
    "    foo(df)\n",
    "\n",
    "В этом случае изменения необратимы, так как мы модифицировали глобальную переменную `df` - эту переменную придётся загружать в память заново и заново её обрабатывать.\n",
    "        \n",
    "\n",
    "    def foo(df):\n",
    "        return df.dropna()\n",
    "    \n",
    "    foo(df)        \n",
    "Изменения будут необратимы и в таком случае, даже несмотря на на наличие `return`: несмотря на то, что работаем мы с локальной переменной, функция всё равно работает с объектом в памяти, связанным с глобальной переменной, пусть и через алиас.\n",
    "        \n",
    "    def foo(df):\n",
    "        df_foo = df.copy()\n",
    "        return df_foo.dropna()\n",
    "    \n",
    "    df_new = foo(df)\n",
    "Здесь внутри функции исходный объект копируется, и работа уже происходит с новым объектом. В этом случае результат работы функции с исходными данными мы складываем в новую переменную - таким образом исходная глобальная переменная не подвергается вмешательству и сохранятся на случай, если функция сработала неправильно.\n",
    "        \n",
    "</div>"
   ]
  },
  {
   "cell_type": "markdown",
   "metadata": {},
   "source": [
    "<div class=\"alert alert-success\">\n",
    "<h2> Комментарий ревьюера v.2 <a class=\"tocSkip\"> </h2>\n",
    "\n",
    "<b>Все отлично!👍:</b> Учтено."
   ]
  },
  {
   "cell_type": "markdown",
   "metadata": {},
   "source": [
    "<div class=\"alert alert-block alert-danger\">\n",
    "<h2> Комментарий ревьюера <a class=\"tocSkip\"></h2>\n",
    "\n",
    "    \n",
    "<b>На доработку❌:</b>\n",
    "Концептуально выделение признака `год` из даты - хорошая идея, но конкретно в нашем наборе данных у нас нет наблюдений в какой-то иной год, кроме 2018. Таким образом, мы просто создали константный признак, не приносящий ценности для модели, но расширяющий признаковое пространство. Стоит его удалить:)\n",
    "        \n",
    "То же касается признака `месяц`: так как у нас данные только за неполный год и так как данные отстортированы по возрастанию даты, модель сможет работать адекватно только с теми значениями месяца, которые были на обучающей выборке. В оперативных данных таких значений месяца не будет, и модель не сможет работать с ними корректно.\n",
    "        </div>"
   ]
  },
  {
   "cell_type": "markdown",
   "metadata": {},
   "source": [
    "<div class=\"alert alert-info\">\n",
    "<h2> Комментарий студента <a class=\"tocSkip\"> </h2>\n",
    "Обновила функцию для новых признаков и удалила лишние\n",
    "</div>"
   ]
  },
  {
   "cell_type": "markdown",
   "metadata": {},
   "source": [
    "<div class=\"alert alert-success\">\n",
    "<h2> Комментарий ревьюера v.2 <a class=\"tocSkip\"> </h2>\n",
    "\n",
    "<b>Все отлично!👍:</b> Учтено."
   ]
  },
  {
   "cell_type": "code",
   "execution_count": 27,
   "metadata": {},
   "outputs": [],
   "source": [
    "# Разделение данных на обучающую и тестовую выборки\n",
    "X = taxi_with_features.drop(columns=['num_orders'])\n",
    "y = taxi_with_features['num_orders']\n",
    "\n",
    "X_train, X_test, y_train, y_test = train_test_split(X, y, shuffle=False, test_size=0.1)"
   ]
  },
  {
   "cell_type": "markdown",
   "metadata": {},
   "source": [
    "<div class=\"alert alert-success\">\n",
    "<h2> Комментарий ревьюера <a class=\"tocSkip\"> </h2>\n",
    "\n",
    "<b>Все отлично!👍:</b>\n",
    "Сплитование выполнено корректно как с точки зрения учёта специфики временного ряда (отключено перемешивание), так и размера тестовой выборки. Также выделили признаки для обучения и целевой признак - хорошо!\n",
    "</div>"
   ]
  },
  {
   "cell_type": "code",
   "execution_count": 28,
   "metadata": {},
   "outputs": [
    {
     "name": "stdout",
     "output_type": "stream",
     "text": [
      "CPU times: user 40.7 s, sys: 65.8 ms, total: 40.7 s\n",
      "Wall time: 40.8 s\n"
     ]
    },
    {
     "data": {
      "text/plain": [
       "RandomForestRegressor(max_depth=20, min_samples_split=5, random_state=42)"
      ]
     },
     "execution_count": 28,
     "metadata": {},
     "output_type": "execute_result"
    }
   ],
   "source": [
    "%%time\n",
    "# Подбор гиперпараметров для случайного леса\n",
    "param_grid_rf = {\n",
    "    'n_estimators': [50, 100],\n",
    "    'max_depth': [None, 10, 20],\n",
    "    'min_samples_split': [2, 5]\n",
    "}\n",
    "\n",
    "# Создание экземпляра модели RandomForestRegressor\n",
    "rf_reg = RandomForestRegressor(random_state=42)\n",
    "\n",
    "# Использование TimeSeriesSplit для кросс-валидации\n",
    "tscv = TimeSeriesSplit(n_splits=3)\n",
    "\n",
    "# Настройка GridSearchCV с TimeSeriesSplit\n",
    "grid_search_rf = GridSearchCV(rf_reg, param_grid_rf, cv=tscv, scoring='neg_root_mean_squared_error')\n",
    "grid_search_rf.fit(X_train, y_train)\n",
    "\n",
    "# Получение лучшей модели\n",
    "best_rf_model = grid_search_rf.best_estimator_\n",
    "best_rf_model"
   ]
  },
  {
   "cell_type": "markdown",
   "metadata": {},
   "source": [
    "<div class=\"alert alert-block alert-danger\">\n",
    "<h2> Комментарий ревьюера <a class=\"tocSkip\"></h2>\n",
    "\n",
    "    \n",
    "<b>На доработку❌:</b>\n",
    "Использование обычной кросс-валидации при работе с временными рядами - довольно критичная ошибка: в твоём случае за это отвечает параметр `cv` со значением 3, что эквивалентно стандартной кросс-валидации `k-folds`, которая перемешивает объекты обучения при делении на фолды, в результате чего модель учится на данных из будущего. Правильным решением будет использование специального инструмента библиотеки `sklearn` для кросс-валидации временных рядов `TimeSeriesSplit` (подробнее тут: https://scikit-learn.org/stable/modules/generated/sklearn.model_selection.TimeSeriesSplit.html). Он формирует фолды так, чтобы в фолдах для обучения не было данных из фолдов для тестирования, что критически важно при работе с временными рядами. Экземпляр этого валидатора нужно будет передать в параметр `cv` при использовании `GridSearchCV`.\n",
    "    \n",
    "Также рекомендую почитать статью о сплитовании для временных рядов - даст понимание, как работает `TimeSeriesSplit`: https://medium.com/@Hong_Tang/timeseries-split-with-sklearn-tips-8162c83612b9. \n",
    "    \n",
    "\n",
    "</div>"
   ]
  },
  {
   "cell_type": "markdown",
   "metadata": {},
   "source": [
    "<div class=\"alert alert-success\">\n",
    "<h2> Комментарий ревьюера v.2 <a class=\"tocSkip\"> </h2>\n",
    "\n",
    "<b>Все отлично!👍:</b> Учтено."
   ]
  },
  {
   "cell_type": "markdown",
   "metadata": {},
   "source": [
    "<div class=\"alert alert-block alert-danger\">\n",
    "<h2> Комментарий ревьюера <a class=\"tocSkip\"></h2>\n",
    "\n",
    "    \n",
    "<b>На доработку❌:</b>\n",
    "\n",
    "1. Обучение и тестирование происходит на одном и том же наборе данных: тестирование модели на тренировочной выборке - не самое лучшее решение, так как такая проверка не оценивает прогностическую силу модели и качество предсказаний, а просто проверяет, насколько хорошо модель запомнила ответы из тренировочной выборке. Также такая проверка не учитывает эффекты недо-или переобучения, что делает эту проверку бесполезной. Куда более надёжным вариантом промежуточного тестирования является кросс-валидация - на этапе промежуточного тестирования моделей и поиска лучшего кандидата для тестирования на тестовой выборке стоит ориентироваться на метрику на кросс-валидации.\n",
    "        \n",
    "2. На `test` оцениваем только одну модель, лучшую по итогам кросс-валидации. Эта концепция находит своё отражение в условиях эксплуатации модели в реальной среде: в промышленной эксплуатации не работает несколько моделей одновременно - в промышленную эксплуатацию запускают только одну модель, которая была выбрана из нескольких в ходе промежуточной оценки. Так же и здесь - тестовая выборка имитирует поток реальных данных, и с этим потоком должна работать только одна модель."
   ]
  },
  {
   "cell_type": "markdown",
   "metadata": {},
   "source": [
    "<div class=\"alert alert-info\">\n",
    "<h2> Комментарий студента <a class=\"tocSkip\"> </h2>\n",
    "Добавила TimeSeriesSplit и сравнила модели на кросс-валидации\n",
    "</div>"
   ]
  },
  {
   "cell_type": "markdown",
   "metadata": {},
   "source": [
    "<div class=\"alert alert-success\">\n",
    "<h2> Комментарий ревьюера v.2 <a class=\"tocSkip\"> </h2>\n",
    "\n",
    "<b>Все отлично!👍:</b> Учтено."
   ]
  },
  {
   "cell_type": "code",
   "execution_count": 29,
   "metadata": {
    "scrolled": true
   },
   "outputs": [
    {
     "name": "stdout",
     "output_type": "stream",
     "text": [
      "CPU times: user 7min 39s, sys: 3.09 s, total: 7min 42s\n",
      "Wall time: 7min 46s\n"
     ]
    },
    {
     "data": {
      "text/plain": [
       "XGBRegressor(base_score=0.5, booster='gbtree', colsample_bylevel=1,\n",
       "             colsample_bynode=1, colsample_bytree=1, enable_categorical=False,\n",
       "             gamma=0, gpu_id=-1, importance_type=None,\n",
       "             interaction_constraints='', learning_rate=0.1, max_delta_step=0,\n",
       "             max_depth=5, min_child_weight=1, missing=nan,\n",
       "             monotone_constraints='()', n_estimators=100, n_jobs=8,\n",
       "             num_parallel_tree=1, predictor='auto', random_state=42,\n",
       "             reg_alpha=0, reg_lambda=1, scale_pos_weight=1, subsample=0.8,\n",
       "             tree_method='exact', validate_parameters=1, verbosity=None)"
      ]
     },
     "execution_count": 29,
     "metadata": {},
     "output_type": "execute_result"
    }
   ],
   "source": [
    "%%time\n",
    "# Подбор гиперпараметров для XGBoost\n",
    "param_grid_xgb = {\n",
    "    'n_estimators': [50, 100],\n",
    "    'max_depth': [3, 5, 7],\n",
    "    'learning_rate': [0.01, 0.1, 0.2],\n",
    "    'subsample': [0.8, 1.0]\n",
    "}\n",
    "\n",
    "xgb_reg = XGBRegressor(random_state=42)\n",
    "grid_search_xgb = GridSearchCV(xgb_reg, param_grid_xgb, cv=tscv, scoring='neg_root_mean_squared_error')\n",
    "grid_search_xgb.fit(X_train, y_train)\n",
    "\n",
    "# Получение лучшей модели\n",
    "best_xgb_model = grid_search_xgb.best_estimator_\n",
    "best_xgb_model"
   ]
  },
  {
   "cell_type": "code",
   "execution_count": 30,
   "metadata": {},
   "outputs": [
    {
     "name": "stdout",
     "output_type": "stream",
     "text": [
      "CPU times: user 6min 56s, sys: 3 s, total: 6min 59s\n",
      "Wall time: 7min 2s\n"
     ]
    },
    {
     "data": {
      "text/plain": [
       "LGBMRegressor(max_depth=10, random_state=42)"
      ]
     },
     "execution_count": 30,
     "metadata": {},
     "output_type": "execute_result"
    }
   ],
   "source": [
    "%%time\n",
    "lgbm_reg = LGBMRegressor(random_state=42)\n",
    "param_grid_lgbm = {\n",
    "    'n_estimators': [50, 100],\n",
    "    'max_depth': [None, 10, 20],\n",
    "    'learning_rate': [0.01, 0.1]\n",
    "}\n",
    "\n",
    "grid_search_lgbm = GridSearchCV(lgbm_reg, param_grid_lgbm, cv=tscv, scoring='neg_root_mean_squared_error')\n",
    "grid_search_lgbm.fit(X_train, y_train)\n",
    "\n",
    "best_lgbm_model = grid_search_lgbm.best_estimator_\n",
    "best_lgbm_model"
   ]
  },
  {
   "cell_type": "code",
   "execution_count": 31,
   "metadata": {},
   "outputs": [
    {
     "name": "stdout",
     "output_type": "stream",
     "text": [
      "CPU times: user 222 ms, sys: 207 ms, total: 429 ms\n",
      "Wall time: 409 ms\n"
     ]
    }
   ],
   "source": [
    "%%time\n",
    "# Подбор гиперпараметров для линейной регрессии\n",
    "param_grid_lr = {}  # Пустой словарь параметров\n",
    "\n",
    "# Создание экземпляра модели LinearRegression\n",
    "lr_model = LinearRegression()\n",
    "\n",
    "# Использование TimeSeriesSplit для кросс-валидации\n",
    "tscv = TimeSeriesSplit(n_splits=3)\n",
    "\n",
    "# Настройка GridSearchCV с TimeSeriesSplit\n",
    "grid_search_lr = GridSearchCV(lr_model, param_grid_lr, cv=tscv, scoring='neg_root_mean_squared_error')\n",
    "grid_search_lr.fit(X_train, y_train)\n",
    "\n",
    "# Получение лучшей модели\n",
    "best_lr_model = grid_search_lr.best_estimator_"
   ]
  },
  {
   "cell_type": "code",
   "execution_count": 32,
   "metadata": {},
   "outputs": [
    {
     "data": {
      "text/html": [
       "<div>\n",
       "<style scoped>\n",
       "    .dataframe tbody tr th:only-of-type {\n",
       "        vertical-align: middle;\n",
       "    }\n",
       "\n",
       "    .dataframe tbody tr th {\n",
       "        vertical-align: top;\n",
       "    }\n",
       "\n",
       "    .dataframe thead th {\n",
       "        text-align: right;\n",
       "    }\n",
       "</style>\n",
       "<table border=\"1\" class=\"dataframe\">\n",
       "  <thead>\n",
       "    <tr style=\"text-align: right;\">\n",
       "      <th></th>\n",
       "      <th>Model</th>\n",
       "      <th>Best Score</th>\n",
       "    </tr>\n",
       "  </thead>\n",
       "  <tbody>\n",
       "    <tr>\n",
       "      <th>2</th>\n",
       "      <td>LGBM</td>\n",
       "      <td>26.178645</td>\n",
       "    </tr>\n",
       "    <tr>\n",
       "      <th>1</th>\n",
       "      <td>XGBoost</td>\n",
       "      <td>26.481980</td>\n",
       "    </tr>\n",
       "    <tr>\n",
       "      <th>0</th>\n",
       "      <td>RandomForest</td>\n",
       "      <td>26.701736</td>\n",
       "    </tr>\n",
       "    <tr>\n",
       "      <th>3</th>\n",
       "      <td>LinearRegression</td>\n",
       "      <td>32.318021</td>\n",
       "    </tr>\n",
       "  </tbody>\n",
       "</table>\n",
       "</div>"
      ],
      "text/plain": [
       "              Model  Best Score\n",
       "2              LGBM   26.178645\n",
       "1           XGBoost   26.481980\n",
       "0      RandomForest   26.701736\n",
       "3  LinearRegression   32.318021"
      ]
     },
     "execution_count": 32,
     "metadata": {},
     "output_type": "execute_result"
    }
   ],
   "source": [
    "# Создание DataFrame с результатами\n",
    "results = pd.DataFrame([\n",
    "    {'Model': 'RandomForest', 'Best Score': -grid_search_rf.best_score_},\n",
    "    {'Model': 'XGBoost', 'Best Score': -grid_search_xgb.best_score_},\n",
    "    {'Model': 'LGBM', 'Best Score': -grid_search_lgbm.best_score_},\n",
    "    {'Model': 'LinearRegression', 'Best Score': -grid_search_lr.best_score_},\n",
    "\n",
    "])\n",
    "results.sort_values(by='Best Score')"
   ]
  },
  {
   "cell_type": "markdown",
   "metadata": {},
   "source": [
    "<b>По результатам:</b> у LGBM лучшая оценка 26.17, что означает меньшую среднеквадратичную ошибку (RMSE)."
   ]
  },
  {
   "cell_type": "markdown",
   "metadata": {},
   "source": [
    "<div class=\"alert alert-block alert-danger\">\n",
    "<h2> Комментарий ревьюера <a class=\"tocSkip\"></h2>\n",
    "\n",
    "    \n",
    "<b>На доработку❌:</b> Модельный блок нужно переделать: все модели оцениваем на кросс-валидации и только одну лучшую - на `test`."
   ]
  },
  {
   "cell_type": "markdown",
   "metadata": {},
   "source": [
    "<div class=\"alert alert-info\">\n",
    "<h2> Комментарий студента <a class=\"tocSkip\"> </h2>\n",
    "Обновила и убрала линейную регрессию, тк непонятно как ее сравнить с остальными моделями\n",
    "</div>"
   ]
  },
  {
   "cell_type": "markdown",
   "metadata": {},
   "source": [
    "<div class=\"alert alert-block alert-danger\">\n",
    "<h2> Комментарий ревьюера v.2 <a class=\"tocSkip\"></h2>\n",
    "\n",
    "    \n",
    "<b>На доработку❌:</b> \n",
    "    \n",
    "1. Выедена `MSE`, а не `RMSE`.\n",
    "    \n",
    "2. Как видишь, твоя метрика имеет отрицательное значение - это особеность работы `scoring` с метирками с приставкой `neg_` в начале: так как метрика `RMSE` применяется для задач регрессии, то она тем лучше, чем ниже - так как по умолчанию инструменты подбора гиперпараметров и поиска лучшей модели вроде `GridSearchCV` умеют только максимизировать метрику качества. Поэтому приставка `neg_` указывает пользователю, что оптимизатор настраивается так, чтобы оптимизируемая метрика минимизировалась, а не максимизировалась - таким образом задача максимизации будет решаться через задачу минимизации обратной функции. Поэтому при выводе метрики на экран её стоит сделать положительной: взять по модулю, домножить на `-1` или просто указать `-` при выводе на экран, вроде `print(-a)`.\n",
    "    \n",
    "Линейную регрессию можно оценивать аналогичным образом - с помощью `GridSearchCV`. Только словарь параметров можно оставить пустым."
   ]
  },
  {
   "cell_type": "markdown",
   "metadata": {},
   "source": [
    "<div class=\"alert alert-info\">\n",
    "<h2> Комментарий студента <a class=\"tocSkip\"> </h2>\n",
    "Обновила метрику и добавила модель линейной регрессии\n",
    "</div>"
   ]
  },
  {
   "cell_type": "markdown",
   "metadata": {},
   "source": [
    "<div class=\"alert alert-success\">\n",
    "<h2> Комментарий ревьюера v.3 <a class=\"tocSkip\"> </h2>\n",
    "\n",
    "<b>Все отлично!👍:</b> Учтено."
   ]
  },
  {
   "cell_type": "markdown",
   "metadata": {},
   "source": [
    "## Сравнение с константной моделью"
   ]
  },
  {
   "cell_type": "code",
   "execution_count": 33,
   "metadata": {},
   "outputs": [
    {
     "name": "stdout",
     "output_type": "stream",
     "text": [
      "LGBMRegressor: RMSE на обучающей выборке: 13.57, RMSE на тестовой выборке: 42.07\n",
      "Модель подходит: RMSE на тестовой выборке меньше или равно 48.\n"
     ]
    }
   ],
   "source": [
    "# Оценка модели LGBMRegressor\n",
    "y_pred_train_lgbm = best_lgbm_model.predict(X_train)\n",
    "y_pred_test_lgbm = best_lgbm_model.predict(X_test)\n",
    "\n",
    "rmse_train_lgbm = np.sqrt(mean_squared_error(y_train, y_pred_train_lgbm))\n",
    "rmse_test_lgbm = np.sqrt(mean_squared_error(y_test, y_pred_test_lgbm))\n",
    "\n",
    "print(f'LGBMRegressor: RMSE на обучающей выборке: {rmse_train_lgbm:.2f}, \\\n",
    "RMSE на тестовой выборке: {rmse_test_lgbm:.2f}')\n",
    "\n",
    "if rmse_test_lgbm <= 48:\n",
    "    print(\"Модель подходит: RMSE на тестовой выборке меньше или равно 48.\")\n",
    "else:\n",
    "    print(\"Модель не подходит: RMSE на тестовой выборке больше 48.\")"
   ]
  },
  {
   "cell_type": "code",
   "execution_count": 34,
   "metadata": {
    "scrolled": true
   },
   "outputs": [
    {
     "name": "stdout",
     "output_type": "stream",
     "text": [
      "RMSE модели LGBMRegressor на тестовой выборке: 42.07\n",
      "RMSE константной модели на тестовой выборке: 84.74\n",
      "Модель LGBMRegressor лучше, чем константная модель!\n"
     ]
    }
   ],
   "source": [
    "# Обучение константной модели\n",
    "dummy_model = DummyRegressor(strategy='mean')\n",
    "dummy_model.fit(X_train, y_train)\n",
    "\n",
    "# Предсказания константной модели\n",
    "y_pred_dummy = dummy_model.predict(X_test)\n",
    "\n",
    "rmse_dummy = np.sqrt(mean_squared_error(y_test, y_pred_dummy))\n",
    "\n",
    "# Вывод результатов\n",
    "print(f'RMSE модели LGBMRegressor на тестовой выборке: {rmse_test_lgbm:.2f}')\n",
    "print(f'RMSE константной модели на тестовой выборке: {rmse_dummy:.2f}')\n",
    "\n",
    "# Сравнение результатов\n",
    "if rmse_test_lgbm < rmse_dummy:\n",
    "    print('Модель LGBMRegressor лучше, чем константная модель!')\n",
    "else:\n",
    "    print('Модель LGBMRegressor не лучше, чем константная модель.')"
   ]
  },
  {
   "cell_type": "markdown",
   "metadata": {},
   "source": [
    "<b>По результатам:</b>\n",
    "RMSE LightGBM на тестовой выборке показывает лучший результат чем dummy модель."
   ]
  },
  {
   "cell_type": "markdown",
   "metadata": {},
   "source": [
    "<div class=\"alert alert-success\">\n",
    "    \n",
    "<h2> Комментарий ревьюера <a class=\"tocSkip\"> </h2>\n",
    "\n",
    "<b>Все отлично!👍:</b> Лучшую модель оценили на `test` - отличный результат!"
   ]
  },
  {
   "cell_type": "markdown",
   "metadata": {},
   "source": [
    "<div class=\"alert alert-warning\">\n",
    "    <h2> Комментарий ревьюера <a class=\"tocSkip\"> </h2>\n",
    "    \n",
    "<b>Некоторые замечания и рекомендации⚠️:</b> \n",
    "\n",
    "Здесь также было бы очень полезно визуализировать предсказания твоей лучшей модели и сравнить их с правильными ответами в формате линейного графика - так мы сможем более наглядно понять, в каких местах твоя модель делает хорошие предсказания, а в каких ошибается.\n",
    "        \n",
    "По графику обязательно нужно сделать вывод: стоит отметить, в каких участках ряда модель сильнее ошибается, а какие участки ряда предсказывает хорошо.\n",
    "\n",
    "</div>"
   ]
  },
  {
   "cell_type": "markdown",
   "metadata": {},
   "source": [
    "<div class=\"alert alert-info\">\n",
    "<h2> Комментарий студента <a class=\"tocSkip\"> </h2>\n",
    "Добавила, но получилось, что нужные метрики по RMSE достигнуты, а модель плохо предсказывает интересные клиенту данные - экстремальные значения в августе. Как лучше тут отрегулировать работу модели?  \n",
    "    \n",
    "Мне хочется убрать старых данных из обучающей выборки, где было мало заказов, а в интернете читаю, что нужно наоборот добавить новых данных.\n",
    "\n",
    "Или не обращать внимание на экстремальные значения августа? В среднем предсказания также растут как фактическое количество заказов.\n",
    "</div>"
   ]
  },
  {
   "cell_type": "markdown",
   "metadata": {},
   "source": [
    "<div class=\"alert alert-success\">\n",
    "    \n",
    "<h2> Комментарий ревьюера v.2 <a class=\"tocSkip\"> </h2>\n",
    "\n",
    "<b>Все отлично!👍:</b> Тут лучше всего было бы расширить датасет, чтобы модель улавливала колебания, которые есть в `test`."
   ]
  },
  {
   "cell_type": "code",
   "execution_count": 35,
   "metadata": {},
   "outputs": [
    {
     "data": {
      "image/png": "[encoded data removed]",
      "text/plain": [
       "<Figure size 864x432 with 1 Axes>"
      ]
     },
     "metadata": {
      "needs_background": "light"
     },
     "output_type": "display_data"
    }
   ],
   "source": [
    "# Визуализация предсказаний\n",
    "plt.figure(figsize=(12, 6))\n",
    "plt.plot(y_train.index, y_train, label='Actual Train')\n",
    "plt.plot(y_train.index, y_pred_train_lgbm, label='Predicted Train')\n",
    "plt.plot(y_test.index, y_test, label='Actual Test')\n",
    "plt.plot(y_test.index, y_pred_test_lgbm, label='Predicted Test')\n",
    "plt.xlabel('Дата')\n",
    "plt.ylabel('Количество заказов')\n",
    "plt.title('Предсказания модели LGBM')\n",
    "plt.legend()\n",
    "plt.show()"
   ]
  },
  {
   "cell_type": "markdown",
   "metadata": {},
   "source": [
    "На графике Predicted Train в среднем похожа на Actual Train, а Predicted Test на экстремальных значениях не доходит до Actual Test, что может говорить о переобучении модели (overfitting), модель слишком хорошо запомнила данные обучающей выборки, но плохо обобщается на новые данные (тестовую выборку).\n",
    "\n",
    "Возможные причины переобучения:\n",
    "- Слишком большая сложность модели: Модель с большим количеством параметров может слишком хорошо подогнаться под обучающую выборку.\n",
    "- Недостаточное количество данных, модель может слишком сильно сосредоточиться на особенностях обучающей выборки."
   ]
  },
  {
   "cell_type": "markdown",
   "metadata": {},
   "source": [
    "## Общий вывод\n",
    "В ходе выполнения проекта по прогнозированию количества заказов такси для компании «Чётенькое такси» были выполнены следующие шаги:\n",
    "\n",
    "1. **Загрузка и предобработка данных**:\n",
    "   - Данные о заказах такси были загружены и ресемплированы по одному часу, что позволило создать временной ряд, удобный для анализа.\n",
    "\n",
    "2. **Анализ данных**:\n",
    "   - Проведен анализ временных рядов, выявлены сезонные и трендовые компоненты.\n",
    "\n",
    "3. **Обучение моделей**:\n",
    "   - Были протестированы модели Random Forest, LGBMRegressor, XGBRegressor  с различными гиперпараметрами для достижения наилучших результатов. \n",
    "   - В качестве тестовой выборки была выделена 10% часть от исходных данных.\n",
    "\n",
    "4. **Оценка качества модели**:\n",
    "   - Модель LightGBM показала отличные результаты, достигнув RMSE на тестовой выборке 42.07\n",
    "   - Значение RMSE на тестовой выборке оказалось ниже порогового значения 48, что подтверждает адекватность модели для поставленной задачи.\n",
    "   - На графике Predicted Train в среднем похожа на Actual Train, а Predicted Test на экстремальных значениях не доходит до Actual Test, что может говорить о переобучении модели (overfitting), модель слишком хорошо запомнила данные обучающей выборки, но плохо обобщается на новые данные (тестовую выборку). Это может говорить о сложности модели или о недостаточном количестве данных, модель может слишком сильно сосредоточиться на особенностях обучающей выборки.\n",
    "\n",
    "5. **Сравнение с константной моделью**:\n",
    "   - Для сравнения была использована константная модель, которая показала RMSE 84, что значительно хуже, чем у модели LightGBM.\n",
    "\n",
    "### Рекомендации по результатам\n",
    "\n",
    "- **Использование модели LightGBM**: Рекомендуется использовать модель LightGBM для прогнозирования количества заказов такси в будущем, так как она продемонстрировала высокую точность и надежность.\n",
    "\n",
    "- **Дальнейшая оптимизация**: Хотя модель уже показала хорошие результаты, рекомендуется провести дальнейшую оптимизацию гиперпараметров и исследовать возможность использования других моделей для проверки их эффективности.\n",
    "\n",
    "- **Мониторинг и обновление модели**: Важно регулярно обновлять модель с новыми данными и проверять ее производительность, особенно в условиях изменения спроса на услуги такси.\n",
    "\n",
    "- **Дополнительные факторы**: Рассмотрите возможность включения дополнительных факторов (например, погода, события в городе), которые могут повлиять на количество заказов, чтобы улучшить точность прогнозов.\n",
    "\n",
    "Таким образом, проект успешно достиг поставленных целей, и результаты могут быть использованы для повышения эффективности работы компании «Чётенькое такси» в период пиковой нагрузки."
   ]
  },
  {
   "cell_type": "markdown",
   "metadata": {},
   "source": [
    "<div style=\"border:solid Chocolate 2px; padding: 40px\">\n",
    "\n",
    "# Комментарий ревьюера: общий вывод по проекту.\n",
    "\n",
    "Полина, проект получился на довольно хорошем уровне - отличная работа над проектом, молодец!\n",
    "\n",
    "Мне нравится твой аналитический подход к выполнению проекта, ты соблюдаешь структуру работы, выполняешь её последовательно - это очень хорошо! Шаги проекта выполнены по порядку согласно плану проекта, нет смысловых и структурных ям. Важно, что не забываешь про выводы.\n",
    "\n",
    "Работа с моделями также выполнена неплохо: исследовано несколько алгоритмов, проведён подбор гиперпараметров с помощью `GridSearchCV` - молодец!\n",
    "    \n",
    "Над проектом ещё стоит поработать - есть рекомендации по дополнению некоторых твоих шагов проекта. Такие рекомендации я отметил жёлтыми комментариями. Будет здорово, если ты учтёшь их - так проект станет структурно и содержательно более совершенным.\n",
    "    \n",
    "Также в работе есть критические замечания. К этим замечаниям я оставил пояснительные комментарии красного цвета, в которых перечислил возможные варианты дальнейших действий. Уверен, ты быстро с этим управишься:)\n",
    "    \n",
    "Если о том, что нужно сделать в рамках комментариев, будут возникать вопросы - оставь их, пожалуйста, в комментариях, и я отвечу на них во время следующего ревью.\n",
    "    \n",
    "Также буду рад ответить на любые твои вопросы по проекту или на какие-либо другие, если они у тебя имеются - оставь их в комментариях, и я постараюсь ответить:)\n",
    "    \n",
    "Жду твой проект на повторном ревью. До встречи:)"
   ]
  },
  {
   "cell_type": "markdown",
   "metadata": {},
   "source": [
    "<div style=\"border:solid Chocolate 2px; padding: 40px\">\n",
    "\n",
    "# Комментарий ревьюера: итоговый вывод по проекту.\n",
    "\n",
    "Полина, все замечания учтены - проект принят!\n",
    "    \n",
    "Спасибо за хорошую работу над проектом, желаю успехов в дальнейшем обучении:)"
   ]
  }
 ],
 "metadata": {
  "ExecuteTimeLog": [
   {
    "duration": 40805,
    "start_time": "2024-08-08T10:20:26.198Z"
   },
   {
    "duration": 22924,
    "start_time": "2024-08-08T10:21:07.006Z"
   },
   {
    "duration": 68,
    "start_time": "2024-08-08T10:22:50.054Z"
   },
   {
    "duration": 2940,
    "start_time": "2024-08-08T10:23:06.870Z"
   },
   {
    "duration": 91,
    "start_time": "2024-08-08T10:23:42.179Z"
   },
   {
    "duration": 43,
    "start_time": "2024-08-08T10:23:47.353Z"
   },
   {
    "duration": 13,
    "start_time": "2024-08-08T10:24:00.858Z"
   },
   {
    "duration": 13,
    "start_time": "2024-08-08T10:24:07.369Z"
   },
   {
    "duration": 64,
    "start_time": "2024-08-08T10:24:23.201Z"
   },
   {
    "duration": 50,
    "start_time": "2024-08-08T10:24:28.011Z"
   },
   {
    "duration": 10,
    "start_time": "2024-08-08T10:24:29.195Z"
   },
   {
    "duration": 7,
    "start_time": "2024-08-08T10:24:30.496Z"
   },
   {
    "duration": 5,
    "start_time": "2024-08-08T10:25:31.919Z"
   },
   {
    "duration": 4,
    "start_time": "2024-08-08T10:25:38.128Z"
   },
   {
    "duration": 13,
    "start_time": "2024-08-08T10:25:57.595Z"
   },
   {
    "duration": 5,
    "start_time": "2024-08-08T10:26:09.227Z"
   },
   {
    "duration": 177,
    "start_time": "2024-08-08T10:26:27.635Z"
   },
   {
    "duration": 13,
    "start_time": "2024-08-08T10:26:31.712Z"
   },
   {
    "duration": 13,
    "start_time": "2024-08-08T10:26:34.799Z"
   },
   {
    "duration": 12,
    "start_time": "2024-08-08T10:26:40.305Z"
   },
   {
    "duration": 5,
    "start_time": "2024-08-08T10:29:04.819Z"
   },
   {
    "duration": 18,
    "start_time": "2024-08-08T10:30:36.307Z"
   },
   {
    "duration": 4,
    "start_time": "2024-08-08T10:30:59.311Z"
   },
   {
    "duration": 300,
    "start_time": "2024-08-08T10:31:01.507Z"
   },
   {
    "duration": 383,
    "start_time": "2024-08-08T10:31:14.039Z"
   },
   {
    "duration": 463,
    "start_time": "2024-08-08T10:31:44.287Z"
   },
   {
    "duration": 277,
    "start_time": "2024-08-08T10:33:06.503Z"
   },
   {
    "duration": 3,
    "start_time": "2024-08-08T10:33:16.948Z"
   },
   {
    "duration": 209,
    "start_time": "2024-08-08T10:33:20.670Z"
   },
   {
    "duration": 312,
    "start_time": "2024-08-08T10:33:38.348Z"
   },
   {
    "duration": 318,
    "start_time": "2024-08-08T10:33:49.412Z"
   },
   {
    "duration": 21,
    "start_time": "2024-08-08T10:35:31.145Z"
   },
   {
    "duration": 7,
    "start_time": "2024-08-08T10:35:51.414Z"
   },
   {
    "duration": 367,
    "start_time": "2024-08-08T10:35:55.064Z"
   },
   {
    "duration": 9,
    "start_time": "2024-08-08T10:39:38.652Z"
   },
   {
    "duration": 21,
    "start_time": "2024-08-08T10:39:49.085Z"
   },
   {
    "duration": 11,
    "start_time": "2024-08-08T10:39:55.198Z"
   },
   {
    "duration": 298,
    "start_time": "2024-08-08T10:40:07.961Z"
   },
   {
    "duration": 15,
    "start_time": "2024-08-08T10:41:12.944Z"
   },
   {
    "duration": 22,
    "start_time": "2024-08-08T10:41:30.618Z"
   },
   {
    "duration": 300,
    "start_time": "2024-08-08T10:41:40.353Z"
   },
   {
    "duration": 13,
    "start_time": "2024-08-08T10:41:44.156Z"
   },
   {
    "duration": 344,
    "start_time": "2024-08-08T10:41:53.479Z"
   },
   {
    "duration": 373,
    "start_time": "2024-08-08T10:42:46.241Z"
   },
   {
    "duration": 373,
    "start_time": "2024-08-08T10:43:00.483Z"
   },
   {
    "duration": 527,
    "start_time": "2024-08-08T10:43:07.625Z"
   },
   {
    "duration": 46762,
    "start_time": "2024-08-09T08:12:53.221Z"
   },
   {
    "duration": 19595,
    "start_time": "2024-08-09T08:13:39.985Z"
   },
   {
    "duration": 5385,
    "start_time": "2024-08-09T08:13:59.583Z"
   },
   {
    "duration": 106,
    "start_time": "2024-08-09T08:14:04.969Z"
   },
   {
    "duration": 13,
    "start_time": "2024-08-09T08:14:05.077Z"
   },
   {
    "duration": 14,
    "start_time": "2024-08-09T08:14:05.091Z"
   },
   {
    "duration": 4,
    "start_time": "2024-08-09T08:14:05.107Z"
   },
   {
    "duration": 5,
    "start_time": "2024-08-09T08:14:05.112Z"
   },
   {
    "duration": 14,
    "start_time": "2024-08-09T08:14:05.119Z"
   },
   {
    "duration": 4,
    "start_time": "2024-08-09T08:14:05.154Z"
   },
   {
    "duration": 323,
    "start_time": "2024-08-09T08:14:05.160Z"
   },
   {
    "duration": 436,
    "start_time": "2024-08-09T08:14:05.485Z"
   },
   {
    "duration": 330,
    "start_time": "2024-08-09T08:14:05.923Z"
   },
   {
    "duration": 324,
    "start_time": "2024-08-09T08:14:06.256Z"
   },
   {
    "duration": 356,
    "start_time": "2024-08-09T08:14:06.581Z"
   },
   {
    "duration": 10,
    "start_time": "2024-08-09T08:21:46.974Z"
   },
   {
    "duration": 197,
    "start_time": "2024-08-09T08:28:08.143Z"
   },
   {
    "duration": 3,
    "start_time": "2024-08-09T08:28:23.438Z"
   },
   {
    "duration": 7,
    "start_time": "2024-08-09T08:28:27.400Z"
   },
   {
    "duration": 16,
    "start_time": "2024-08-09T08:30:54.142Z"
   },
   {
    "duration": 36,
    "start_time": "2024-08-09T08:31:14.163Z"
   },
   {
    "duration": 120,
    "start_time": "2024-08-09T08:31:19.547Z"
   },
   {
    "duration": 11,
    "start_time": "2024-08-09T08:31:51.497Z"
   },
   {
    "duration": 5,
    "start_time": "2024-08-09T08:32:10.399Z"
   },
   {
    "duration": 94,
    "start_time": "2024-08-09T08:32:12.219Z"
   },
   {
    "duration": 10,
    "start_time": "2024-08-09T08:34:31.831Z"
   },
   {
    "duration": 7,
    "start_time": "2024-08-09T08:34:36.699Z"
   },
   {
    "duration": 91,
    "start_time": "2024-08-09T08:34:45.208Z"
   },
   {
    "duration": 6,
    "start_time": "2024-08-09T08:36:09.435Z"
   },
   {
    "duration": 7810,
    "start_time": "2024-08-09T08:40:45.688Z"
   },
   {
    "duration": 3,
    "start_time": "2024-08-09T08:42:13.887Z"
   },
   {
    "duration": 4,
    "start_time": "2024-08-09T08:43:20.842Z"
   },
   {
    "duration": 5,
    "start_time": "2024-08-09T08:43:20.847Z"
   },
   {
    "duration": 3089,
    "start_time": "2024-08-09T08:43:20.853Z"
   },
   {
    "duration": 53,
    "start_time": "2024-08-09T08:43:23.944Z"
   },
   {
    "duration": 12,
    "start_time": "2024-08-09T08:43:23.998Z"
   },
   {
    "duration": 14,
    "start_time": "2024-08-09T08:43:24.011Z"
   },
   {
    "duration": 13,
    "start_time": "2024-08-09T08:43:24.027Z"
   },
   {
    "duration": 6,
    "start_time": "2024-08-09T08:43:24.042Z"
   },
   {
    "duration": 16,
    "start_time": "2024-08-09T08:43:24.049Z"
   },
   {
    "duration": 16,
    "start_time": "2024-08-09T08:43:24.067Z"
   },
   {
    "duration": 428,
    "start_time": "2024-08-09T08:43:24.084Z"
   },
   {
    "duration": 320,
    "start_time": "2024-08-09T08:43:24.514Z"
   },
   {
    "duration": 302,
    "start_time": "2024-08-09T08:43:24.836Z"
   },
   {
    "duration": 315,
    "start_time": "2024-08-09T08:43:25.140Z"
   },
   {
    "duration": 320,
    "start_time": "2024-08-09T08:43:25.457Z"
   },
   {
    "duration": 14,
    "start_time": "2024-08-09T08:43:25.778Z"
   },
   {
    "duration": 7815,
    "start_time": "2024-08-09T08:43:25.794Z"
   },
   {
    "duration": 16,
    "start_time": "2024-08-09T08:46:42.619Z"
   },
   {
    "duration": 7,
    "start_time": "2024-08-09T08:46:45.568Z"
   },
   {
    "duration": 42834,
    "start_time": "2024-08-09T08:46:47.555Z"
   },
   {
    "duration": 83,
    "start_time": "2024-08-09T08:52:19.630Z"
   },
   {
    "duration": 4,
    "start_time": "2024-08-09T08:52:59.924Z"
   },
   {
    "duration": 4,
    "start_time": "2024-08-09T08:58:06.112Z"
   },
   {
    "duration": 7,
    "start_time": "2024-08-09T08:58:06.117Z"
   },
   {
    "duration": 2995,
    "start_time": "2024-08-09T08:58:06.126Z"
   },
   {
    "duration": 58,
    "start_time": "2024-08-09T08:58:09.123Z"
   },
   {
    "duration": 10,
    "start_time": "2024-08-09T08:58:09.183Z"
   },
   {
    "duration": 13,
    "start_time": "2024-08-09T08:58:09.195Z"
   },
   {
    "duration": 4,
    "start_time": "2024-08-09T08:58:09.210Z"
   },
   {
    "duration": 7,
    "start_time": "2024-08-09T08:58:09.216Z"
   },
   {
    "duration": 38,
    "start_time": "2024-08-09T08:58:09.224Z"
   },
   {
    "duration": 4,
    "start_time": "2024-08-09T08:58:09.264Z"
   },
   {
    "duration": 385,
    "start_time": "2024-08-09T08:58:09.269Z"
   },
   {
    "duration": 297,
    "start_time": "2024-08-09T08:58:09.656Z"
   },
   {
    "duration": 282,
    "start_time": "2024-08-09T08:58:09.954Z"
   },
   {
    "duration": 321,
    "start_time": "2024-08-09T08:58:10.238Z"
   },
   {
    "duration": 309,
    "start_time": "2024-08-09T08:58:10.561Z"
   },
   {
    "duration": 16,
    "start_time": "2024-08-09T08:58:10.872Z"
   },
   {
    "duration": 7,
    "start_time": "2024-08-09T08:58:10.889Z"
   },
   {
    "duration": 41286,
    "start_time": "2024-08-09T08:58:10.897Z"
   },
   {
    "duration": 57,
    "start_time": "2024-08-09T08:58:52.185Z"
   },
   {
    "duration": 7,
    "start_time": "2024-08-09T08:58:52.252Z"
   },
   {
    "duration": 15,
    "start_time": "2024-08-09T09:00:55.860Z"
   },
   {
    "duration": 7,
    "start_time": "2024-08-09T09:00:57.961Z"
   },
   {
    "duration": 41508,
    "start_time": "2024-08-09T09:01:00.403Z"
   },
   {
    "duration": 60,
    "start_time": "2024-08-09T09:01:48.031Z"
   },
   {
    "duration": 21,
    "start_time": "2024-08-09T09:02:03.279Z"
   },
   {
    "duration": 16,
    "start_time": "2024-08-09T09:02:29.309Z"
   },
   {
    "duration": 7,
    "start_time": "2024-08-09T09:02:31.138Z"
   },
   {
    "duration": 50983,
    "start_time": "2024-08-09T09:02:32.306Z"
   },
   {
    "duration": 88,
    "start_time": "2024-08-09T09:03:23.290Z"
   },
   {
    "duration": 4,
    "start_time": "2024-08-09T09:04:15.888Z"
   },
   {
    "duration": 5,
    "start_time": "2024-08-09T09:04:15.895Z"
   },
   {
    "duration": 2883,
    "start_time": "2024-08-09T09:04:15.902Z"
   },
   {
    "duration": 53,
    "start_time": "2024-08-09T09:04:18.787Z"
   },
   {
    "duration": 12,
    "start_time": "2024-08-09T09:04:18.841Z"
   },
   {
    "duration": 28,
    "start_time": "2024-08-09T09:04:18.854Z"
   },
   {
    "duration": 4,
    "start_time": "2024-08-09T09:04:18.883Z"
   },
   {
    "duration": 5,
    "start_time": "2024-08-09T09:04:18.889Z"
   },
   {
    "duration": 15,
    "start_time": "2024-08-09T09:04:18.895Z"
   },
   {
    "duration": 3,
    "start_time": "2024-08-09T09:04:18.912Z"
   },
   {
    "duration": 386,
    "start_time": "2024-08-09T09:04:18.917Z"
   },
   {
    "duration": 322,
    "start_time": "2024-08-09T09:04:19.304Z"
   },
   {
    "duration": 311,
    "start_time": "2024-08-09T09:04:19.627Z"
   },
   {
    "duration": 312,
    "start_time": "2024-08-09T09:04:19.940Z"
   },
   {
    "duration": 323,
    "start_time": "2024-08-09T09:04:20.254Z"
   },
   {
    "duration": 18,
    "start_time": "2024-08-09T09:04:20.578Z"
   },
   {
    "duration": 34,
    "start_time": "2024-08-09T09:04:20.598Z"
   },
   {
    "duration": 41704,
    "start_time": "2024-08-09T09:04:20.633Z"
   },
   {
    "duration": 71,
    "start_time": "2024-08-09T09:05:02.339Z"
   },
   {
    "duration": 7,
    "start_time": "2024-08-09T09:05:02.412Z"
   },
   {
    "duration": 4047,
    "start_time": "2024-08-09T09:05:45.706Z"
   },
   {
    "duration": 4,
    "start_time": "2024-08-09T09:06:08.992Z"
   },
   {
    "duration": 20,
    "start_time": "2024-08-09T09:07:04.379Z"
   },
   {
    "duration": 59,
    "start_time": "2024-08-09T09:07:59.827Z"
   },
   {
    "duration": 41545,
    "start_time": "2024-08-09T09:08:32.322Z"
   },
   {
    "duration": 3921,
    "start_time": "2024-08-09T09:09:13.869Z"
   },
   {
    "duration": 4,
    "start_time": "2024-08-09T09:14:22.021Z"
   },
   {
    "duration": 4,
    "start_time": "2024-08-09T09:14:22.027Z"
   },
   {
    "duration": 3115,
    "start_time": "2024-08-09T09:14:22.033Z"
   },
   {
    "duration": 52,
    "start_time": "2024-08-09T09:14:25.149Z"
   },
   {
    "duration": 11,
    "start_time": "2024-08-09T09:14:25.204Z"
   },
   {
    "duration": 13,
    "start_time": "2024-08-09T09:14:25.216Z"
   },
   {
    "duration": 10,
    "start_time": "2024-08-09T09:14:25.231Z"
   },
   {
    "duration": 7,
    "start_time": "2024-08-09T09:14:25.242Z"
   },
   {
    "duration": 20,
    "start_time": "2024-08-09T09:14:25.253Z"
   },
   {
    "duration": 4,
    "start_time": "2024-08-09T09:14:25.275Z"
   },
   {
    "duration": 413,
    "start_time": "2024-08-09T09:14:25.281Z"
   },
   {
    "duration": 331,
    "start_time": "2024-08-09T09:14:25.695Z"
   },
   {
    "duration": 326,
    "start_time": "2024-08-09T09:14:26.029Z"
   },
   {
    "duration": 317,
    "start_time": "2024-08-09T09:14:26.358Z"
   },
   {
    "duration": 365,
    "start_time": "2024-08-09T09:14:26.677Z"
   },
   {
    "duration": 25,
    "start_time": "2024-08-09T09:14:27.044Z"
   },
   {
    "duration": 13,
    "start_time": "2024-08-09T09:14:27.070Z"
   },
   {
    "duration": 301253,
    "start_time": "2024-08-09T09:14:27.084Z"
   },
   {
    "duration": 78,
    "start_time": "2024-08-09T09:19:28.339Z"
   },
   {
    "duration": 17,
    "start_time": "2024-08-09T09:19:28.419Z"
   },
   {
    "duration": 3,
    "start_time": "2024-08-09T09:20:00.532Z"
   },
   {
    "duration": 52,
    "start_time": "2024-08-09T09:20:00.536Z"
   },
   {
    "duration": 56,
    "start_time": "2024-08-09T09:20:00.589Z"
   },
   {
    "duration": 177,
    "start_time": "2024-08-09T09:20:00.647Z"
   },
   {
    "duration": 13,
    "start_time": "2024-08-09T09:20:00.825Z"
   },
   {
    "duration": 59,
    "start_time": "2024-08-09T09:20:00.840Z"
   },
   {
    "duration": 36,
    "start_time": "2024-08-09T09:20:00.900Z"
   },
   {
    "duration": 61,
    "start_time": "2024-08-09T09:20:00.937Z"
   },
   {
    "duration": 108,
    "start_time": "2024-08-09T09:20:00.999Z"
   },
   {
    "duration": 149,
    "start_time": "2024-08-09T09:20:01.109Z"
   },
   {
    "duration": 251,
    "start_time": "2024-08-09T09:20:01.259Z"
   },
   {
    "duration": 329,
    "start_time": "2024-08-09T09:20:01.512Z"
   },
   {
    "duration": 319,
    "start_time": "2024-08-09T09:20:01.843Z"
   },
   {
    "duration": 315,
    "start_time": "2024-08-09T09:20:02.164Z"
   },
   {
    "duration": 485,
    "start_time": "2024-08-09T09:20:02.480Z"
   },
   {
    "duration": 16,
    "start_time": "2024-08-09T09:20:02.967Z"
   },
   {
    "duration": 13,
    "start_time": "2024-08-09T09:20:02.985Z"
   },
   {
    "duration": 122,
    "start_time": "2024-08-09T09:20:03.000Z"
   },
   {
    "duration": 0,
    "start_time": "2024-08-09T09:20:03.124Z"
   },
   {
    "duration": 0,
    "start_time": "2024-08-09T09:20:03.125Z"
   },
   {
    "duration": 0,
    "start_time": "2024-08-09T09:20:03.126Z"
   },
   {
    "duration": 297366,
    "start_time": "2024-08-09T09:20:19.606Z"
   },
   {
    "duration": 225,
    "start_time": "2024-08-09T09:25:16.974Z"
   },
   {
    "duration": 123,
    "start_time": "2024-08-09T09:26:16.214Z"
   },
   {
    "duration": 194,
    "start_time": "2024-08-09T09:27:12.161Z"
   },
   {
    "duration": 21586,
    "start_time": "2024-08-09T09:27:58.311Z"
   },
   {
    "duration": 2964,
    "start_time": "2024-08-09T09:28:46.245Z"
   },
   {
    "duration": 1002,
    "start_time": "2024-08-09T09:28:49.212Z"
   },
   {
    "duration": 0,
    "start_time": "2024-08-09T09:28:50.216Z"
   },
   {
    "duration": 0,
    "start_time": "2024-08-09T09:28:50.217Z"
   },
   {
    "duration": 0,
    "start_time": "2024-08-09T09:28:50.218Z"
   },
   {
    "duration": 0,
    "start_time": "2024-08-09T09:28:50.220Z"
   },
   {
    "duration": 0,
    "start_time": "2024-08-09T09:28:50.221Z"
   },
   {
    "duration": 0,
    "start_time": "2024-08-09T09:28:50.222Z"
   },
   {
    "duration": 0,
    "start_time": "2024-08-09T09:28:50.223Z"
   },
   {
    "duration": 0,
    "start_time": "2024-08-09T09:28:50.224Z"
   },
   {
    "duration": 0,
    "start_time": "2024-08-09T09:28:50.225Z"
   },
   {
    "duration": 0,
    "start_time": "2024-08-09T09:28:50.226Z"
   },
   {
    "duration": 0,
    "start_time": "2024-08-09T09:28:50.227Z"
   },
   {
    "duration": 0,
    "start_time": "2024-08-09T09:28:50.228Z"
   },
   {
    "duration": 0,
    "start_time": "2024-08-09T09:28:50.229Z"
   },
   {
    "duration": 0,
    "start_time": "2024-08-09T09:28:50.231Z"
   },
   {
    "duration": 0,
    "start_time": "2024-08-09T09:28:50.232Z"
   },
   {
    "duration": 0,
    "start_time": "2024-08-09T09:28:50.233Z"
   },
   {
    "duration": 0,
    "start_time": "2024-08-09T09:28:50.234Z"
   },
   {
    "duration": 0,
    "start_time": "2024-08-09T09:28:50.235Z"
   },
   {
    "duration": 5682,
    "start_time": "2024-08-09T09:29:57.119Z"
   },
   {
    "duration": 229,
    "start_time": "2024-08-09T09:30:18.055Z"
   },
   {
    "duration": 5331,
    "start_time": "2024-08-09T09:30:58.482Z"
   },
   {
    "duration": 4,
    "start_time": "2024-08-09T09:31:27.664Z"
   },
   {
    "duration": 15,
    "start_time": "2024-08-09T09:31:27.669Z"
   },
   {
    "duration": 1605,
    "start_time": "2024-08-09T09:31:27.686Z"
   },
   {
    "duration": 54,
    "start_time": "2024-08-09T09:31:29.293Z"
   },
   {
    "duration": 16,
    "start_time": "2024-08-09T09:31:29.349Z"
   },
   {
    "duration": 15,
    "start_time": "2024-08-09T09:31:29.366Z"
   },
   {
    "duration": 5,
    "start_time": "2024-08-09T09:31:29.383Z"
   },
   {
    "duration": 5,
    "start_time": "2024-08-09T09:31:29.389Z"
   },
   {
    "duration": 26,
    "start_time": "2024-08-09T09:31:29.395Z"
   },
   {
    "duration": 30,
    "start_time": "2024-08-09T09:31:29.423Z"
   },
   {
    "duration": 300,
    "start_time": "2024-08-09T09:31:29.455Z"
   },
   {
    "duration": 313,
    "start_time": "2024-08-09T09:31:29.756Z"
   },
   {
    "duration": 424,
    "start_time": "2024-08-09T09:31:30.071Z"
   },
   {
    "duration": 338,
    "start_time": "2024-08-09T09:31:30.497Z"
   },
   {
    "duration": 318,
    "start_time": "2024-08-09T09:31:30.837Z"
   },
   {
    "duration": 17,
    "start_time": "2024-08-09T09:31:31.157Z"
   },
   {
    "duration": 29,
    "start_time": "2024-08-09T09:31:31.175Z"
   },
   {
    "duration": 172,
    "start_time": "2024-08-09T09:31:31.206Z"
   },
   {
    "duration": 0,
    "start_time": "2024-08-09T09:31:31.380Z"
   },
   {
    "duration": 0,
    "start_time": "2024-08-09T09:31:31.381Z"
   },
   {
    "duration": 0,
    "start_time": "2024-08-09T09:31:31.382Z"
   },
   {
    "duration": 41222,
    "start_time": "2024-08-09T09:31:54.859Z"
   },
   {
    "duration": 13943,
    "start_time": "2024-08-09T09:32:44.856Z"
   },
   {
    "duration": 51,
    "start_time": "2024-08-09T09:33:06.004Z"
   },
   {
    "duration": 13,
    "start_time": "2024-08-09T09:33:41.313Z"
   },
   {
    "duration": 6,
    "start_time": "2024-08-09T09:33:43.394Z"
   },
   {
    "duration": 41190,
    "start_time": "2024-08-09T09:33:44.950Z"
   },
   {
    "duration": 14037,
    "start_time": "2024-08-09T09:34:40.570Z"
   },
   {
    "duration": 25,
    "start_time": "2024-08-09T09:35:06.358Z"
   },
   {
    "duration": 13,
    "start_time": "2024-08-09T09:35:36.295Z"
   },
   {
    "duration": 3,
    "start_time": "2024-08-09T09:35:46.436Z"
   },
   {
    "duration": 10,
    "start_time": "2024-08-09T09:35:46.441Z"
   },
   {
    "duration": 1638,
    "start_time": "2024-08-09T09:35:46.453Z"
   },
   {
    "duration": 59,
    "start_time": "2024-08-09T09:35:48.094Z"
   },
   {
    "duration": 13,
    "start_time": "2024-08-09T09:35:48.156Z"
   },
   {
    "duration": 13,
    "start_time": "2024-08-09T09:35:48.171Z"
   },
   {
    "duration": 11,
    "start_time": "2024-08-09T09:35:48.185Z"
   },
   {
    "duration": 4,
    "start_time": "2024-08-09T09:35:48.197Z"
   },
   {
    "duration": 16,
    "start_time": "2024-08-09T09:35:48.203Z"
   },
   {
    "duration": 3,
    "start_time": "2024-08-09T09:35:48.221Z"
   },
   {
    "duration": 309,
    "start_time": "2024-08-09T09:35:48.226Z"
   },
   {
    "duration": 298,
    "start_time": "2024-08-09T09:35:48.536Z"
   },
   {
    "duration": 394,
    "start_time": "2024-08-09T09:35:48.835Z"
   },
   {
    "duration": 332,
    "start_time": "2024-08-09T09:35:49.231Z"
   },
   {
    "duration": 322,
    "start_time": "2024-08-09T09:35:49.565Z"
   },
   {
    "duration": 15,
    "start_time": "2024-08-09T09:35:49.888Z"
   },
   {
    "duration": 14,
    "start_time": "2024-08-09T09:35:49.905Z"
   },
   {
    "duration": 39737,
    "start_time": "2024-08-09T09:35:49.920Z"
   },
   {
    "duration": 13403,
    "start_time": "2024-08-09T09:36:29.659Z"
   },
   {
    "duration": 191,
    "start_time": "2024-08-09T09:36:43.064Z"
   },
   {
    "duration": 101,
    "start_time": "2024-08-09T09:36:43.257Z"
   },
   {
    "duration": 49,
    "start_time": "2024-08-09T09:37:45.798Z"
   },
   {
    "duration": 11,
    "start_time": "2024-08-09T09:37:56.391Z"
   },
   {
    "duration": 8,
    "start_time": "2024-08-09T09:37:57.146Z"
   },
   {
    "duration": 5,
    "start_time": "2024-08-09T09:37:59.058Z"
   },
   {
    "duration": 4,
    "start_time": "2024-08-09T09:37:59.769Z"
   },
   {
    "duration": 13,
    "start_time": "2024-08-09T09:38:00.556Z"
   },
   {
    "duration": 16,
    "start_time": "2024-08-09T09:38:14.597Z"
   },
   {
    "duration": 10,
    "start_time": "2024-08-09T09:38:22.169Z"
   },
   {
    "duration": 15,
    "start_time": "2024-08-09T09:38:29.052Z"
   },
   {
    "duration": 131,
    "start_time": "2024-08-09T09:38:32.010Z"
   },
   {
    "duration": 49,
    "start_time": "2024-08-09T09:38:44.910Z"
   },
   {
    "duration": 11,
    "start_time": "2024-08-09T09:38:46.640Z"
   },
   {
    "duration": 8,
    "start_time": "2024-08-09T09:38:47.635Z"
   },
   {
    "duration": 5,
    "start_time": "2024-08-09T09:38:50.466Z"
   },
   {
    "duration": 4,
    "start_time": "2024-08-09T09:38:51.101Z"
   },
   {
    "duration": 12,
    "start_time": "2024-08-09T09:38:52.476Z"
   },
   {
    "duration": 5,
    "start_time": "2024-08-09T09:38:54.068Z"
   },
   {
    "duration": 12,
    "start_time": "2024-08-09T09:38:54.865Z"
   },
   {
    "duration": 48,
    "start_time": "2024-08-09T09:39:07.723Z"
   },
   {
    "duration": 12,
    "start_time": "2024-08-09T09:39:08.502Z"
   },
   {
    "duration": 8,
    "start_time": "2024-08-09T09:39:10.273Z"
   },
   {
    "duration": 5,
    "start_time": "2024-08-09T09:39:11.448Z"
   },
   {
    "duration": 4,
    "start_time": "2024-08-09T09:39:12.113Z"
   },
   {
    "duration": 13,
    "start_time": "2024-08-09T09:39:13.264Z"
   },
   {
    "duration": 16,
    "start_time": "2024-08-09T09:39:14.439Z"
   },
   {
    "duration": 4,
    "start_time": "2024-08-09T09:39:16.260Z"
   },
   {
    "duration": 233,
    "start_time": "2024-08-09T09:39:17.867Z"
   },
   {
    "duration": 323,
    "start_time": "2024-08-09T09:39:19.098Z"
   },
   {
    "duration": 364,
    "start_time": "2024-08-09T09:39:20.468Z"
   },
   {
    "duration": 403,
    "start_time": "2024-08-09T09:39:22.022Z"
   },
   {
    "duration": 339,
    "start_time": "2024-08-09T09:39:24.325Z"
   },
   {
    "duration": 24,
    "start_time": "2024-08-09T09:39:27.222Z"
   },
   {
    "duration": 7,
    "start_time": "2024-08-09T09:39:29.501Z"
   },
   {
    "duration": 41379,
    "start_time": "2024-08-09T09:39:30.767Z"
   },
   {
    "duration": 4,
    "start_time": "2024-08-09T09:40:44.004Z"
   },
   {
    "duration": 3,
    "start_time": "2024-08-09T09:40:44.010Z"
   },
   {
    "duration": 1680,
    "start_time": "2024-08-09T09:40:44.015Z"
   },
   {
    "duration": 54,
    "start_time": "2024-08-09T09:40:45.698Z"
   },
   {
    "duration": 14,
    "start_time": "2024-08-09T09:40:45.753Z"
   },
   {
    "duration": 15,
    "start_time": "2024-08-09T09:40:45.769Z"
   },
   {
    "duration": 8,
    "start_time": "2024-08-09T09:40:45.785Z"
   },
   {
    "duration": 8,
    "start_time": "2024-08-09T09:40:45.794Z"
   },
   {
    "duration": 15,
    "start_time": "2024-08-09T09:40:45.804Z"
   },
   {
    "duration": 42,
    "start_time": "2024-08-09T09:40:45.820Z"
   },
   {
    "duration": 4,
    "start_time": "2024-08-09T09:40:45.864Z"
   },
   {
    "duration": 323,
    "start_time": "2024-08-09T09:40:45.869Z"
   },
   {
    "duration": 332,
    "start_time": "2024-08-09T09:40:46.194Z"
   },
   {
    "duration": 405,
    "start_time": "2024-08-09T09:40:46.528Z"
   },
   {
    "duration": 345,
    "start_time": "2024-08-09T09:40:46.935Z"
   },
   {
    "duration": 371,
    "start_time": "2024-08-09T09:40:47.282Z"
   },
   {
    "duration": 17,
    "start_time": "2024-08-09T09:40:47.655Z"
   },
   {
    "duration": 17,
    "start_time": "2024-08-09T09:40:47.674Z"
   },
   {
    "duration": 41304,
    "start_time": "2024-08-09T09:40:47.693Z"
   },
   {
    "duration": 14122,
    "start_time": "2024-08-09T09:41:28.998Z"
   },
   {
    "duration": 130,
    "start_time": "2024-08-09T09:41:43.122Z"
   },
   {
    "duration": 93,
    "start_time": "2024-08-09T09:41:43.262Z"
   },
   {
    "duration": 18,
    "start_time": "2024-08-09T09:42:02.441Z"
   },
   {
    "duration": 8,
    "start_time": "2024-08-09T09:42:04.513Z"
   },
   {
    "duration": 59426,
    "start_time": "2024-08-09T09:42:05.849Z"
   },
   {
    "duration": 5,
    "start_time": "2024-08-09T09:43:11.883Z"
   },
   {
    "duration": 2,
    "start_time": "2024-08-09T09:43:11.890Z"
   },
   {
    "duration": 1582,
    "start_time": "2024-08-09T09:43:11.894Z"
   },
   {
    "duration": 53,
    "start_time": "2024-08-09T09:43:13.478Z"
   },
   {
    "duration": 14,
    "start_time": "2024-08-09T09:43:13.533Z"
   },
   {
    "duration": 14,
    "start_time": "2024-08-09T09:43:13.549Z"
   },
   {
    "duration": 10,
    "start_time": "2024-08-09T09:43:13.564Z"
   },
   {
    "duration": 7,
    "start_time": "2024-08-09T09:43:13.576Z"
   },
   {
    "duration": 20,
    "start_time": "2024-08-09T09:43:13.585Z"
   },
   {
    "duration": 15,
    "start_time": "2024-08-09T09:43:13.606Z"
   },
   {
    "duration": 4,
    "start_time": "2024-08-09T09:43:13.623Z"
   },
   {
    "duration": 311,
    "start_time": "2024-08-09T09:43:13.628Z"
   },
   {
    "duration": 317,
    "start_time": "2024-08-09T09:43:13.940Z"
   },
   {
    "duration": 387,
    "start_time": "2024-08-09T09:43:14.260Z"
   },
   {
    "duration": 310,
    "start_time": "2024-08-09T09:43:14.654Z"
   },
   {
    "duration": 331,
    "start_time": "2024-08-09T09:43:14.965Z"
   },
   {
    "duration": 19,
    "start_time": "2024-08-09T09:43:15.298Z"
   },
   {
    "duration": 147,
    "start_time": "2024-08-09T09:43:15.319Z"
   },
   {
    "duration": 70493,
    "start_time": "2024-08-09T09:43:15.468Z"
   },
   {
    "duration": 23449,
    "start_time": "2024-08-09T09:44:25.962Z"
   },
   {
    "duration": 147,
    "start_time": "2024-08-09T09:44:49.413Z"
   },
   {
    "duration": 7,
    "start_time": "2024-08-09T09:44:49.653Z"
   },
   {
    "duration": 17,
    "start_time": "2024-08-09T09:46:13.996Z"
   },
   {
    "duration": 7,
    "start_time": "2024-08-09T09:46:15.398Z"
   },
   {
    "duration": 72752,
    "start_time": "2024-08-09T09:46:16.748Z"
   },
   {
    "duration": 4,
    "start_time": "2024-08-09T09:47:56.079Z"
   },
   {
    "duration": 10,
    "start_time": "2024-08-09T09:47:56.085Z"
   },
   {
    "duration": 1841,
    "start_time": "2024-08-09T09:47:56.096Z"
   },
   {
    "duration": 52,
    "start_time": "2024-08-09T09:47:57.939Z"
   },
   {
    "duration": 13,
    "start_time": "2024-08-09T09:47:57.994Z"
   },
   {
    "duration": 14,
    "start_time": "2024-08-09T09:47:58.008Z"
   },
   {
    "duration": 7,
    "start_time": "2024-08-09T09:47:58.024Z"
   },
   {
    "duration": 9,
    "start_time": "2024-08-09T09:47:58.032Z"
   },
   {
    "duration": 19,
    "start_time": "2024-08-09T09:47:58.042Z"
   },
   {
    "duration": 13,
    "start_time": "2024-08-09T09:47:58.063Z"
   },
   {
    "duration": 3,
    "start_time": "2024-08-09T09:47:58.078Z"
   },
   {
    "duration": 341,
    "start_time": "2024-08-09T09:47:58.082Z"
   },
   {
    "duration": 302,
    "start_time": "2024-08-09T09:47:58.424Z"
   },
   {
    "duration": 398,
    "start_time": "2024-08-09T09:47:58.728Z"
   },
   {
    "duration": 311,
    "start_time": "2024-08-09T09:47:59.128Z"
   },
   {
    "duration": 312,
    "start_time": "2024-08-09T09:47:59.441Z"
   },
   {
    "duration": 21,
    "start_time": "2024-08-09T09:47:59.754Z"
   },
   {
    "duration": 7,
    "start_time": "2024-08-09T09:47:59.777Z"
   },
   {
    "duration": 72168,
    "start_time": "2024-08-09T09:47:59.786Z"
   },
   {
    "duration": 23354,
    "start_time": "2024-08-09T09:49:11.956Z"
   },
   {
    "duration": 38650,
    "start_time": "2024-08-09T09:49:35.312Z"
   },
   {
    "duration": 95,
    "start_time": "2024-08-09T09:50:13.964Z"
   },
   {
    "duration": 98,
    "start_time": "2024-08-09T09:50:14.061Z"
   },
   {
    "duration": 7,
    "start_time": "2024-08-09T09:51:42.674Z"
   },
   {
    "duration": 3,
    "start_time": "2024-08-09T09:53:47.396Z"
   },
   {
    "duration": 32,
    "start_time": "2024-08-09T09:53:47.401Z"
   },
   {
    "duration": 1820,
    "start_time": "2024-08-09T09:53:47.435Z"
   },
   {
    "duration": 53,
    "start_time": "2024-08-09T09:53:49.257Z"
   },
   {
    "duration": 13,
    "start_time": "2024-08-09T09:53:49.312Z"
   },
   {
    "duration": 13,
    "start_time": "2024-08-09T09:53:49.327Z"
   },
   {
    "duration": 5,
    "start_time": "2024-08-09T09:53:49.342Z"
   },
   {
    "duration": 4,
    "start_time": "2024-08-09T09:53:49.349Z"
   },
   {
    "duration": 14,
    "start_time": "2024-08-09T09:53:49.355Z"
   },
   {
    "duration": 25,
    "start_time": "2024-08-09T09:53:49.370Z"
   },
   {
    "duration": 4,
    "start_time": "2024-08-09T09:53:49.397Z"
   },
   {
    "duration": 330,
    "start_time": "2024-08-09T09:53:49.403Z"
   },
   {
    "duration": 307,
    "start_time": "2024-08-09T09:53:49.735Z"
   },
   {
    "duration": 394,
    "start_time": "2024-08-09T09:53:50.043Z"
   },
   {
    "duration": 305,
    "start_time": "2024-08-09T09:53:50.439Z"
   },
   {
    "duration": 325,
    "start_time": "2024-08-09T09:53:50.746Z"
   },
   {
    "duration": 24,
    "start_time": "2024-08-09T09:53:51.073Z"
   },
   {
    "duration": 8,
    "start_time": "2024-08-09T09:53:51.099Z"
   },
   {
    "duration": 72747,
    "start_time": "2024-08-09T09:53:51.109Z"
   },
   {
    "duration": 23313,
    "start_time": "2024-08-09T09:55:03.858Z"
   },
   {
    "duration": 44387,
    "start_time": "2024-08-09T09:55:27.173Z"
   },
   {
    "duration": 193,
    "start_time": "2024-08-09T09:56:11.562Z"
   },
   {
    "duration": 99,
    "start_time": "2024-08-09T09:56:11.758Z"
   },
   {
    "duration": 36941,
    "start_time": "2024-08-09T09:56:27.721Z"
   },
   {
    "duration": 1646,
    "start_time": "2024-08-10T19:05:56.347Z"
   },
   {
    "duration": 180,
    "start_time": "2024-08-10T19:06:00.352Z"
   },
   {
    "duration": 11,
    "start_time": "2024-08-10T19:06:07.382Z"
   },
   {
    "duration": 11,
    "start_time": "2024-08-10T19:06:08.217Z"
   },
   {
    "duration": 118,
    "start_time": "2024-08-10T19:07:38.915Z"
   },
   {
    "duration": 4,
    "start_time": "2024-08-10T19:08:13.443Z"
   },
   {
    "duration": 18,
    "start_time": "2024-08-10T19:08:18.183Z"
   },
   {
    "duration": 15,
    "start_time": "2024-08-10T19:08:23.372Z"
   },
   {
    "duration": 4,
    "start_time": "2024-08-10T19:08:24.278Z"
   },
   {
    "duration": 203,
    "start_time": "2024-08-10T19:08:25.525Z"
   },
   {
    "duration": 237,
    "start_time": "2024-08-10T19:08:33.679Z"
   },
   {
    "duration": 335,
    "start_time": "2024-08-10T19:08:34.960Z"
   },
   {
    "duration": 277,
    "start_time": "2024-08-10T19:08:36.507Z"
   },
   {
    "duration": 200,
    "start_time": "2024-08-10T19:13:23.366Z"
   },
   {
    "duration": 292,
    "start_time": "2024-08-10T19:13:49.227Z"
   },
   {
    "duration": 12,
    "start_time": "2024-08-10T19:14:37.836Z"
   },
   {
    "duration": 27,
    "start_time": "2024-08-10T19:15:09.296Z"
   },
   {
    "duration": 13,
    "start_time": "2024-08-10T19:15:19.537Z"
   },
   {
    "duration": 13,
    "start_time": "2024-08-10T19:17:10.083Z"
   },
   {
    "duration": 22916,
    "start_time": "2024-08-10T19:17:26.491Z"
   },
   {
    "duration": 49,
    "start_time": "2024-08-10T19:21:41.481Z"
   },
   {
    "duration": 12,
    "start_time": "2024-08-10T19:21:43.580Z"
   },
   {
    "duration": 7,
    "start_time": "2024-08-10T19:21:44.520Z"
   },
   {
    "duration": 4,
    "start_time": "2024-08-10T19:21:46.146Z"
   },
   {
    "duration": 5,
    "start_time": "2024-08-10T19:21:46.953Z"
   },
   {
    "duration": 13,
    "start_time": "2024-08-10T19:21:47.801Z"
   },
   {
    "duration": 15,
    "start_time": "2024-08-10T19:21:48.946Z"
   },
   {
    "duration": 4,
    "start_time": "2024-08-10T19:21:49.880Z"
   },
   {
    "duration": 277,
    "start_time": "2024-08-10T19:22:07.477Z"
   },
   {
    "duration": 274,
    "start_time": "2024-08-10T19:22:15.110Z"
   },
   {
    "duration": 242,
    "start_time": "2024-08-10T19:22:28.758Z"
   },
   {
    "duration": 1903,
    "start_time": "2024-08-10T19:25:08.306Z"
   },
   {
    "duration": 1686,
    "start_time": "2024-08-10T19:25:13.132Z"
   },
   {
    "duration": 269,
    "start_time": "2024-08-10T19:30:41.940Z"
   },
   {
    "duration": 235,
    "start_time": "2024-08-10T19:30:53.180Z"
   },
   {
    "duration": 2054,
    "start_time": "2024-08-10T19:30:59.859Z"
   },
   {
    "duration": 20,
    "start_time": "2024-08-10T19:33:09.136Z"
   },
   {
    "duration": 205,
    "start_time": "2024-08-10T19:33:41.902Z"
   },
   {
    "duration": 1731,
    "start_time": "2024-08-10T19:33:47.422Z"
   },
   {
    "duration": 27,
    "start_time": "2024-08-10T19:34:25.541Z"
   },
   {
    "duration": 1897,
    "start_time": "2024-08-10T19:35:16.110Z"
   },
   {
    "duration": 55,
    "start_time": "2024-08-10T19:35:20.082Z"
   },
   {
    "duration": 11,
    "start_time": "2024-08-10T19:35:21.818Z"
   },
   {
    "duration": 12,
    "start_time": "2024-08-10T19:35:22.582Z"
   },
   {
    "duration": 4,
    "start_time": "2024-08-10T19:35:23.760Z"
   },
   {
    "duration": 5,
    "start_time": "2024-08-10T19:35:24.545Z"
   },
   {
    "duration": 13,
    "start_time": "2024-08-10T19:35:25.179Z"
   },
   {
    "duration": 15,
    "start_time": "2024-08-10T19:35:26.175Z"
   },
   {
    "duration": 5,
    "start_time": "2024-08-10T19:35:26.952Z"
   },
   {
    "duration": 296,
    "start_time": "2024-08-10T19:35:34.334Z"
   },
   {
    "duration": 11,
    "start_time": "2024-08-10T19:35:42.977Z"
   },
   {
    "duration": 341,
    "start_time": "2024-08-10T19:35:50.999Z"
   },
   {
    "duration": 1874,
    "start_time": "2024-08-10T19:35:55.053Z"
   },
   {
    "duration": 756,
    "start_time": "2024-08-10T19:36:31.805Z"
   },
   {
    "duration": 7,
    "start_time": "2024-08-10T19:36:58.687Z"
   },
   {
    "duration": 311,
    "start_time": "2024-08-10T19:37:13.864Z"
   },
   {
    "duration": 174,
    "start_time": "2024-08-10T19:37:26.776Z"
   },
   {
    "duration": 270,
    "start_time": "2024-08-10T19:37:33.851Z"
   },
   {
    "duration": 150,
    "start_time": "2024-08-10T19:54:39.357Z"
   },
   {
    "duration": 24,
    "start_time": "2024-08-10T19:54:51.102Z"
   },
   {
    "duration": 27,
    "start_time": "2024-08-10T19:55:19.097Z"
   },
   {
    "duration": 16,
    "start_time": "2024-08-10T19:57:29.450Z"
   },
   {
    "duration": 8,
    "start_time": "2024-08-10T19:58:01.649Z"
   },
   {
    "duration": 348,
    "start_time": "2024-08-10T19:58:16.324Z"
   },
   {
    "duration": 366,
    "start_time": "2024-08-10T19:58:48.005Z"
   },
   {
    "duration": 688,
    "start_time": "2024-08-10T19:59:37.154Z"
   },
   {
    "duration": 364,
    "start_time": "2024-08-10T20:00:17.863Z"
   },
   {
    "duration": 592,
    "start_time": "2024-08-10T20:01:33.355Z"
   },
   {
    "duration": 10,
    "start_time": "2024-08-10T20:01:50.669Z"
   },
   {
    "duration": 623,
    "start_time": "2024-08-10T20:01:51.600Z"
   },
   {
    "duration": 391,
    "start_time": "2024-08-10T20:02:13.470Z"
   },
   {
    "duration": 509,
    "start_time": "2024-08-10T20:02:26.736Z"
   },
   {
    "duration": 2735,
    "start_time": "2024-08-10T20:03:30.698Z"
   },
   {
    "duration": 1630,
    "start_time": "2024-08-10T20:03:52.217Z"
   },
   {
    "duration": 3330,
    "start_time": "2024-08-10T20:04:29.901Z"
   },
   {
    "duration": 360,
    "start_time": "2024-08-10T20:04:54.713Z"
   },
   {
    "duration": 18,
    "start_time": "2024-08-10T20:11:25.272Z"
   },
   {
    "duration": 6,
    "start_time": "2024-08-10T20:13:46.020Z"
   },
   {
    "duration": 5,
    "start_time": "2024-08-10T20:16:07.090Z"
   },
   {
    "duration": 5,
    "start_time": "2024-08-10T20:16:22.232Z"
   },
   {
    "duration": 71,
    "start_time": "2024-08-10T20:29:16.161Z"
   },
   {
    "duration": 65,
    "start_time": "2024-08-10T20:29:24.705Z"
   },
   {
    "duration": 6311,
    "start_time": "2024-08-10T20:30:33.099Z"
   },
   {
    "duration": 6276,
    "start_time": "2024-08-10T20:31:08.409Z"
   },
   {
    "duration": 6300,
    "start_time": "2024-08-10T20:31:16.908Z"
   },
   {
    "duration": 4,
    "start_time": "2024-08-10T20:31:23.210Z"
   },
   {
    "duration": 209572,
    "start_time": "2024-08-10T20:35:08.762Z"
   },
   {
    "duration": 4,
    "start_time": "2024-08-10T20:38:38.336Z"
   },
   {
    "duration": 20522,
    "start_time": "2024-08-10T20:39:39.090Z"
   },
   {
    "duration": 4,
    "start_time": "2024-08-10T20:39:59.613Z"
   },
   {
    "duration": 11,
    "start_time": "2024-08-10T20:40:47.699Z"
   },
   {
    "duration": 5,
    "start_time": "2024-08-10T20:43:25.599Z"
   },
   {
    "duration": 13,
    "start_time": "2024-08-10T20:43:37.303Z"
   },
   {
    "duration": 9,
    "start_time": "2024-08-10T20:43:46.663Z"
   },
   {
    "duration": 22343,
    "start_time": "2024-08-10T20:44:36.175Z"
   },
   {
    "duration": 26189,
    "start_time": "2024-08-10T20:44:59.928Z"
   },
   {
    "duration": 90,
    "start_time": "2024-08-10T20:45:26.119Z"
   },
   {
    "duration": 14,
    "start_time": "2024-08-10T20:47:32.635Z"
   },
   {
    "duration": 16,
    "start_time": "2024-08-10T20:47:37.179Z"
   },
   {
    "duration": 7,
    "start_time": "2024-08-10T20:48:31.277Z"
   },
   {
    "duration": 194,
    "start_time": "2024-08-10T20:48:33.592Z"
   },
   {
    "duration": 4,
    "start_time": "2024-08-10T20:48:50.251Z"
   },
   {
    "duration": 6,
    "start_time": "2024-08-10T20:48:50.257Z"
   },
   {
    "duration": 1786,
    "start_time": "2024-08-10T20:48:50.265Z"
   },
   {
    "duration": 54,
    "start_time": "2024-08-10T20:48:52.053Z"
   },
   {
    "duration": 11,
    "start_time": "2024-08-10T20:48:52.109Z"
   },
   {
    "duration": 24,
    "start_time": "2024-08-10T20:48:52.122Z"
   },
   {
    "duration": 17,
    "start_time": "2024-08-10T20:48:52.147Z"
   },
   {
    "duration": 24,
    "start_time": "2024-08-10T20:48:52.165Z"
   },
   {
    "duration": 15,
    "start_time": "2024-08-10T20:48:52.191Z"
   },
   {
    "duration": 14,
    "start_time": "2024-08-10T20:48:52.207Z"
   },
   {
    "duration": 4,
    "start_time": "2024-08-10T20:48:52.223Z"
   },
   {
    "duration": 323,
    "start_time": "2024-08-10T20:48:52.228Z"
   },
   {
    "duration": 11,
    "start_time": "2024-08-10T20:48:52.552Z"
   },
   {
    "duration": 383,
    "start_time": "2024-08-10T20:48:52.565Z"
   },
   {
    "duration": 1958,
    "start_time": "2024-08-10T20:48:52.950Z"
   },
   {
    "duration": 846,
    "start_time": "2024-08-10T20:48:54.911Z"
   },
   {
    "duration": 7,
    "start_time": "2024-08-10T20:48:55.759Z"
   },
   {
    "duration": 331,
    "start_time": "2024-08-10T20:48:55.767Z"
   },
   {
    "duration": 181,
    "start_time": "2024-08-10T20:48:56.106Z"
   },
   {
    "duration": 268,
    "start_time": "2024-08-10T20:48:56.289Z"
   },
   {
    "duration": 8,
    "start_time": "2024-08-10T20:48:56.559Z"
   },
   {
    "duration": 364,
    "start_time": "2024-08-10T20:48:56.569Z"
   },
   {
    "duration": 17,
    "start_time": "2024-08-10T20:48:56.935Z"
   },
   {
    "duration": 7,
    "start_time": "2024-08-10T20:48:56.954Z"
   },
   {
    "duration": 374,
    "start_time": "2024-08-10T20:48:56.963Z"
   },
   {
    "duration": 77877,
    "start_time": "2024-08-10T20:48:57.338Z"
   },
   {
    "duration": 2968,
    "start_time": "2024-08-10T20:50:15.217Z"
   },
   {
    "duration": 12,
    "start_time": "2024-08-10T20:50:18.187Z"
   },
   {
    "duration": 0,
    "start_time": "2024-08-10T20:50:18.201Z"
   },
   {
    "duration": 0,
    "start_time": "2024-08-10T20:50:18.202Z"
   },
   {
    "duration": 0,
    "start_time": "2024-08-10T20:50:18.203Z"
   },
   {
    "duration": 27,
    "start_time": "2024-08-10T20:50:26.465Z"
   },
   {
    "duration": 6,
    "start_time": "2024-08-10T20:50:49.393Z"
   },
   {
    "duration": 196,
    "start_time": "2024-08-10T20:50:52.242Z"
   },
   {
    "duration": 11,
    "start_time": "2024-08-10T20:51:21.447Z"
   },
   {
    "duration": 13,
    "start_time": "2024-08-10T20:51:57.788Z"
   },
   {
    "duration": 13,
    "start_time": "2024-08-10T20:52:00.075Z"
   },
   {
    "duration": 6,
    "start_time": "2024-08-10T20:52:06.154Z"
   },
   {
    "duration": 187,
    "start_time": "2024-08-10T20:52:08.164Z"
   },
   {
    "duration": 7,
    "start_time": "2024-08-10T20:54:47.749Z"
   },
   {
    "duration": 6,
    "start_time": "2024-08-10T20:54:49.737Z"
   },
   {
    "duration": 26613,
    "start_time": "2024-08-10T20:54:51.986Z"
   },
   {
    "duration": 230318,
    "start_time": "2024-08-10T20:55:25.974Z"
   },
   {
    "duration": 7011,
    "start_time": "2024-08-10T20:59:16.294Z"
   },
   {
    "duration": 11,
    "start_time": "2024-08-10T20:59:23.307Z"
   },
   {
    "duration": 0,
    "start_time": "2024-08-10T20:59:23.320Z"
   },
   {
    "duration": 8,
    "start_time": "2024-08-10T20:59:25.237Z"
   },
   {
    "duration": 12,
    "start_time": "2024-08-10T20:59:34.956Z"
   },
   {
    "duration": 1732,
    "start_time": "2024-08-10T20:59:50.302Z"
   },
   {
    "duration": 54,
    "start_time": "2024-08-10T20:59:53.592Z"
   },
   {
    "duration": 12,
    "start_time": "2024-08-10T20:59:55.029Z"
   },
   {
    "duration": 11,
    "start_time": "2024-08-10T20:59:55.539Z"
   },
   {
    "duration": 5,
    "start_time": "2024-08-10T20:59:56.687Z"
   },
   {
    "duration": 5,
    "start_time": "2024-08-10T20:59:57.176Z"
   },
   {
    "duration": 14,
    "start_time": "2024-08-10T20:59:57.666Z"
   },
   {
    "duration": 15,
    "start_time": "2024-08-10T20:59:58.258Z"
   },
   {
    "duration": 4,
    "start_time": "2024-08-10T20:59:58.925Z"
   },
   {
    "duration": 300,
    "start_time": "2024-08-10T21:00:00.377Z"
   },
   {
    "duration": 11,
    "start_time": "2024-08-10T21:00:01.487Z"
   },
   {
    "duration": 372,
    "start_time": "2024-08-10T21:00:02.152Z"
   },
   {
    "duration": 1991,
    "start_time": "2024-08-10T21:00:03.324Z"
   },
   {
    "duration": 731,
    "start_time": "2024-08-10T21:00:08.707Z"
   },
   {
    "duration": 6,
    "start_time": "2024-08-10T21:00:10.785Z"
   },
   {
    "duration": 311,
    "start_time": "2024-08-10T21:00:11.503Z"
   },
   {
    "duration": 211,
    "start_time": "2024-08-10T21:00:12.760Z"
   },
   {
    "duration": 257,
    "start_time": "2024-08-10T21:00:13.799Z"
   },
   {
    "duration": 8,
    "start_time": "2024-08-10T21:00:15.752Z"
   },
   {
    "duration": 345,
    "start_time": "2024-08-10T21:00:16.422Z"
   },
   {
    "duration": 16,
    "start_time": "2024-08-10T21:00:22.561Z"
   },
   {
    "duration": 10,
    "start_time": "2024-08-10T21:00:23.842Z"
   },
   {
    "duration": 11,
    "start_time": "2024-08-10T21:00:26.743Z"
   },
   {
    "duration": 6,
    "start_time": "2024-08-10T21:00:30.162Z"
   },
   {
    "duration": 329,
    "start_time": "2024-08-10T21:00:31.928Z"
   },
   {
    "duration": 7,
    "start_time": "2024-08-10T21:00:48.317Z"
   },
   {
    "duration": 208,
    "start_time": "2024-08-10T21:00:58.318Z"
   },
   {
    "duration": 6,
    "start_time": "2024-08-10T21:01:05.611Z"
   },
   {
    "duration": 41361,
    "start_time": "2024-08-10T21:01:07.408Z"
   },
   {
    "duration": 215919,
    "start_time": "2024-08-10T21:01:48.770Z"
   },
   {
    "duration": 3,
    "start_time": "2024-08-10T21:05:31.813Z"
   },
   {
    "duration": 22,
    "start_time": "2024-08-10T21:05:31.818Z"
   },
   {
    "duration": 1891,
    "start_time": "2024-08-10T21:05:31.842Z"
   },
   {
    "duration": 56,
    "start_time": "2024-08-10T21:05:33.734Z"
   },
   {
    "duration": 11,
    "start_time": "2024-08-10T21:05:33.792Z"
   },
   {
    "duration": 26,
    "start_time": "2024-08-10T21:05:33.804Z"
   },
   {
    "duration": 21,
    "start_time": "2024-08-10T21:05:33.831Z"
   },
   {
    "duration": 25,
    "start_time": "2024-08-10T21:05:33.854Z"
   },
   {
    "duration": 21,
    "start_time": "2024-08-10T21:05:33.881Z"
   },
   {
    "duration": 29,
    "start_time": "2024-08-10T21:05:33.903Z"
   },
   {
    "duration": 11,
    "start_time": "2024-08-10T21:05:33.934Z"
   },
   {
    "duration": 308,
    "start_time": "2024-08-10T21:05:33.946Z"
   },
   {
    "duration": 10,
    "start_time": "2024-08-10T21:05:34.256Z"
   },
   {
    "duration": 360,
    "start_time": "2024-08-10T21:05:34.268Z"
   },
   {
    "duration": 1982,
    "start_time": "2024-08-10T21:05:34.629Z"
   },
   {
    "duration": 781,
    "start_time": "2024-08-10T21:05:36.706Z"
   },
   {
    "duration": 19,
    "start_time": "2024-08-10T21:05:37.488Z"
   },
   {
    "duration": 315,
    "start_time": "2024-08-10T21:05:37.509Z"
   },
   {
    "duration": 187,
    "start_time": "2024-08-10T21:05:37.825Z"
   },
   {
    "duration": 267,
    "start_time": "2024-08-10T21:05:38.014Z"
   },
   {
    "duration": 8,
    "start_time": "2024-08-10T21:05:38.283Z"
   },
   {
    "duration": 353,
    "start_time": "2024-08-10T21:05:38.293Z"
   },
   {
    "duration": 17,
    "start_time": "2024-08-10T21:05:38.648Z"
   },
   {
    "duration": 13,
    "start_time": "2024-08-10T21:05:38.666Z"
   },
   {
    "duration": 33,
    "start_time": "2024-08-10T21:05:38.680Z"
   },
   {
    "duration": 6,
    "start_time": "2024-08-10T21:05:38.715Z"
   },
   {
    "duration": 41092,
    "start_time": "2024-08-10T21:05:38.722Z"
   },
   {
    "duration": 297793,
    "start_time": "2024-08-10T21:06:19.815Z"
   },
   {
    "duration": 28307,
    "start_time": "2024-08-10T21:11:17.609Z"
   },
   {
    "duration": 9,
    "start_time": "2024-08-10T21:11:45.919Z"
   },
   {
    "duration": 92,
    "start_time": "2024-08-10T21:11:45.930Z"
   },
   {
    "duration": 6,
    "start_time": "2024-08-10T21:11:46.024Z"
   },
   {
    "duration": 23,
    "start_time": "2024-08-10T21:13:20.254Z"
   },
   {
    "duration": 24,
    "start_time": "2024-08-10T21:14:02.240Z"
   },
   {
    "duration": 6,
    "start_time": "2024-08-10T21:14:17.727Z"
   },
   {
    "duration": 6,
    "start_time": "2024-08-10T21:14:45.301Z"
   },
   {
    "duration": 282,
    "start_time": "2024-08-10T21:17:21.988Z"
   },
   {
    "duration": 3,
    "start_time": "2024-08-10T21:23:32.447Z"
   },
   {
    "duration": 7,
    "start_time": "2024-08-10T21:23:32.452Z"
   },
   {
    "duration": 1812,
    "start_time": "2024-08-10T21:23:32.460Z"
   },
   {
    "duration": 59,
    "start_time": "2024-08-10T21:23:34.274Z"
   },
   {
    "duration": 11,
    "start_time": "2024-08-10T21:23:34.335Z"
   },
   {
    "duration": 13,
    "start_time": "2024-08-10T21:23:34.347Z"
   },
   {
    "duration": 5,
    "start_time": "2024-08-10T21:23:34.361Z"
   },
   {
    "duration": 4,
    "start_time": "2024-08-10T21:23:34.367Z"
   },
   {
    "duration": 41,
    "start_time": "2024-08-10T21:23:34.372Z"
   },
   {
    "duration": 15,
    "start_time": "2024-08-10T21:23:34.415Z"
   },
   {
    "duration": 4,
    "start_time": "2024-08-10T21:23:34.432Z"
   },
   {
    "duration": 312,
    "start_time": "2024-08-10T21:23:34.437Z"
   },
   {
    "duration": 10,
    "start_time": "2024-08-10T21:23:34.750Z"
   },
   {
    "duration": 355,
    "start_time": "2024-08-10T21:23:34.761Z"
   },
   {
    "duration": 1991,
    "start_time": "2024-08-10T21:23:35.117Z"
   },
   {
    "duration": 846,
    "start_time": "2024-08-10T21:23:37.110Z"
   },
   {
    "duration": 7,
    "start_time": "2024-08-10T21:23:37.957Z"
   },
   {
    "duration": 327,
    "start_time": "2024-08-10T21:23:37.965Z"
   },
   {
    "duration": 176,
    "start_time": "2024-08-10T21:23:38.294Z"
   },
   {
    "duration": 272,
    "start_time": "2024-08-10T21:23:38.471Z"
   },
   {
    "duration": 9,
    "start_time": "2024-08-10T21:23:38.745Z"
   },
   {
    "duration": 358,
    "start_time": "2024-08-10T21:23:38.755Z"
   },
   {
    "duration": 17,
    "start_time": "2024-08-10T21:23:39.115Z"
   },
   {
    "duration": 16,
    "start_time": "2024-08-10T21:23:39.133Z"
   },
   {
    "duration": 21,
    "start_time": "2024-08-10T21:23:39.151Z"
   },
   {
    "duration": 6,
    "start_time": "2024-08-10T21:23:39.173Z"
   },
   {
    "duration": 41436,
    "start_time": "2024-08-10T21:23:39.181Z"
   },
   {
    "duration": 271523,
    "start_time": "2024-08-10T21:24:20.620Z"
   },
   {
    "duration": 30668,
    "start_time": "2024-08-10T21:28:52.145Z"
   },
   {
    "duration": 8,
    "start_time": "2024-08-10T21:29:22.814Z"
   },
   {
    "duration": 356,
    "start_time": "2024-08-10T21:29:22.824Z"
   },
   {
    "duration": 0,
    "start_time": "2024-08-10T21:29:23.182Z"
   },
   {
    "duration": 0,
    "start_time": "2024-08-10T21:29:23.183Z"
   },
   {
    "duration": 78,
    "start_time": "2024-08-10T21:30:49.233Z"
   },
   {
    "duration": 6,
    "start_time": "2024-08-10T21:30:53.805Z"
   },
   {
    "duration": 251,
    "start_time": "2024-08-10T21:31:22.462Z"
   },
   {
    "duration": 439,
    "start_time": "2024-08-10T21:32:41.399Z"
   },
   {
    "duration": 261,
    "start_time": "2024-08-10T21:34:16.091Z"
   },
   {
    "duration": 2221,
    "start_time": "2024-08-11T17:52:32.266Z"
   },
   {
    "duration": 100,
    "start_time": "2024-08-11T17:52:36.275Z"
   },
   {
    "duration": 11,
    "start_time": "2024-08-11T17:52:39.396Z"
   },
   {
    "duration": 12,
    "start_time": "2024-08-11T17:52:39.716Z"
   },
   {
    "duration": 5,
    "start_time": "2024-08-11T17:52:42.821Z"
   },
   {
    "duration": 4,
    "start_time": "2024-08-11T17:52:43.577Z"
   },
   {
    "duration": 14,
    "start_time": "2024-08-11T17:52:44.281Z"
   },
   {
    "duration": 15,
    "start_time": "2024-08-11T17:52:45.472Z"
   },
   {
    "duration": 4,
    "start_time": "2024-08-11T17:52:46.503Z"
   },
   {
    "duration": 290,
    "start_time": "2024-08-11T17:54:25.010Z"
   },
   {
    "duration": 10,
    "start_time": "2024-08-11T17:54:27.439Z"
   },
   {
    "duration": 4,
    "start_time": "2024-08-11T17:54:34.261Z"
   },
   {
    "duration": 8,
    "start_time": "2024-08-11T17:54:46.386Z"
   },
   {
    "duration": 9,
    "start_time": "2024-08-11T17:54:49.859Z"
   },
   {
    "duration": 9,
    "start_time": "2024-08-11T17:54:52.675Z"
   },
   {
    "duration": 10,
    "start_time": "2024-08-11T17:54:56.219Z"
   },
   {
    "duration": 11,
    "start_time": "2024-08-11T17:55:40.948Z"
   },
   {
    "duration": 134,
    "start_time": "2024-08-11T17:56:20.867Z"
   },
   {
    "duration": 11,
    "start_time": "2024-08-11T17:56:27.229Z"
   },
   {
    "duration": 4,
    "start_time": "2024-08-11T17:56:59.791Z"
   },
   {
    "duration": 329,
    "start_time": "2024-08-11T17:57:53.200Z"
   },
   {
    "duration": 2093,
    "start_time": "2024-08-11T17:57:55.011Z"
   },
   {
    "duration": 752,
    "start_time": "2024-08-11T17:58:08.414Z"
   },
   {
    "duration": 7,
    "start_time": "2024-08-11T17:58:20.977Z"
   },
   {
    "duration": 305,
    "start_time": "2024-08-11T17:58:21.709Z"
   },
   {
    "duration": 172,
    "start_time": "2024-08-11T17:58:22.808Z"
   },
   {
    "duration": 255,
    "start_time": "2024-08-11T17:58:23.852Z"
   },
   {
    "duration": 8,
    "start_time": "2024-08-11T17:58:26.672Z"
   },
   {
    "duration": 326,
    "start_time": "2024-08-11T17:58:27.681Z"
   },
   {
    "duration": 17,
    "start_time": "2024-08-11T17:58:45.641Z"
   },
   {
    "duration": 13,
    "start_time": "2024-08-11T17:58:46.817Z"
   },
   {
    "duration": 10,
    "start_time": "2024-08-11T17:58:48.031Z"
   },
   {
    "duration": 6,
    "start_time": "2024-08-11T17:59:03.049Z"
   },
   {
    "duration": 78,
    "start_time": "2024-08-11T18:04:57.575Z"
   },
   {
    "duration": 5,
    "start_time": "2024-08-11T18:05:20.431Z"
   },
   {
    "duration": 71,
    "start_time": "2024-08-11T18:06:53.837Z"
   },
   {
    "duration": 40907,
    "start_time": "2024-08-11T18:07:29.714Z"
   },
   {
    "duration": 402700,
    "start_time": "2024-08-11T18:08:10.622Z"
   },
   {
    "duration": 41989,
    "start_time": "2024-08-11T18:14:53.324Z"
   },
   {
    "duration": 72,
    "start_time": "2024-08-11T18:15:35.315Z"
   },
   {
    "duration": 17,
    "start_time": "2024-08-11T18:15:35.389Z"
   },
   {
    "duration": 451,
    "start_time": "2024-08-11T18:16:05.460Z"
   },
   {
    "duration": 13,
    "start_time": "2024-08-11T18:16:08.548Z"
   },
   {
    "duration": 9,
    "start_time": "2024-08-11T18:17:18.712Z"
   },
   {
    "duration": 17,
    "start_time": "2024-08-11T18:18:10.124Z"
   },
   {
    "duration": 7,
    "start_time": "2024-08-11T18:18:13.703Z"
   },
   {
    "duration": 271,
    "start_time": "2024-08-11T18:19:01.696Z"
   },
   {
    "duration": 92,
    "start_time": "2024-08-11T18:23:13.529Z"
   },
   {
    "duration": 3,
    "start_time": "2024-08-11T18:23:35.023Z"
   },
   {
    "duration": 14,
    "start_time": "2024-08-11T18:23:35.028Z"
   },
   {
    "duration": 1739,
    "start_time": "2024-08-11T18:23:35.043Z"
   },
   {
    "duration": 63,
    "start_time": "2024-08-11T18:23:36.784Z"
   },
   {
    "duration": 12,
    "start_time": "2024-08-11T18:23:36.849Z"
   },
   {
    "duration": 16,
    "start_time": "2024-08-11T18:23:36.862Z"
   },
   {
    "duration": 7,
    "start_time": "2024-08-11T18:23:36.880Z"
   },
   {
    "duration": 18,
    "start_time": "2024-08-11T18:23:36.888Z"
   },
   {
    "duration": 13,
    "start_time": "2024-08-11T18:23:36.908Z"
   },
   {
    "duration": 23,
    "start_time": "2024-08-11T18:23:36.923Z"
   },
   {
    "duration": 4,
    "start_time": "2024-08-11T18:23:36.948Z"
   },
   {
    "duration": 298,
    "start_time": "2024-08-11T18:23:36.953Z"
   },
   {
    "duration": 10,
    "start_time": "2024-08-11T18:23:37.254Z"
   },
   {
    "duration": 14,
    "start_time": "2024-08-11T18:23:37.268Z"
   },
   {
    "duration": 354,
    "start_time": "2024-08-11T18:23:37.283Z"
   },
   {
    "duration": 1966,
    "start_time": "2024-08-11T18:23:37.639Z"
   },
   {
    "duration": 788,
    "start_time": "2024-08-11T18:23:39.608Z"
   },
   {
    "duration": 8,
    "start_time": "2024-08-11T18:23:40.397Z"
   },
   {
    "duration": 309,
    "start_time": "2024-08-11T18:23:40.406Z"
   },
   {
    "duration": 188,
    "start_time": "2024-08-11T18:23:40.717Z"
   },
   {
    "duration": 296,
    "start_time": "2024-08-11T18:23:40.907Z"
   },
   {
    "duration": 9,
    "start_time": "2024-08-11T18:23:41.204Z"
   },
   {
    "duration": 385,
    "start_time": "2024-08-11T18:23:41.215Z"
   },
   {
    "duration": 16,
    "start_time": "2024-08-11T18:23:41.601Z"
   },
   {
    "duration": 13,
    "start_time": "2024-08-11T18:23:41.619Z"
   },
   {
    "duration": 11,
    "start_time": "2024-08-11T18:23:41.633Z"
   },
   {
    "duration": 6,
    "start_time": "2024-08-11T18:23:41.646Z"
   },
   {
    "duration": 40782,
    "start_time": "2024-08-11T18:23:41.653Z"
   },
   {
    "duration": 466603,
    "start_time": "2024-08-11T18:24:22.437Z"
   },
   {
    "duration": 422184,
    "start_time": "2024-08-11T18:32:09.042Z"
   },
   {
    "duration": 577,
    "start_time": "2024-08-11T18:39:11.229Z"
   },
   {
    "duration": 99,
    "start_time": "2024-08-11T18:39:11.809Z"
   },
   {
    "duration": 113,
    "start_time": "2024-08-11T18:39:11.910Z"
   },
   {
    "duration": 8,
    "start_time": "2024-08-11T18:39:12.025Z"
   },
   {
    "duration": 354,
    "start_time": "2024-08-11T18:39:12.035Z"
   }
  ],
  "kernelspec": {
   "display_name": "Python 3 (ipykernel)",
   "language": "python",
   "name": "python3"
  },
  "language_info": {
   "codemirror_mode": {
    "name": "ipython",
    "version": 3
   },
   "file_extension": ".py",
   "mimetype": "text/x-python",
   "name": "python",
   "nbconvert_exporter": "python",
   "pygments_lexer": "ipython3",
   "version": "3.9.5"
  },
  "toc": {
   "base_numbering": 1,
   "nav_menu": {},
   "number_sections": true,
   "sideBar": true,
   "skip_h1_title": true,
   "title_cell": "Содержание",
   "title_sidebar": "Contents",
   "toc_cell": true,
   "toc_position": {
    "height": "calc(100% - 180px)",
    "left": "10px",
    "top": "150px",
    "width": "165px"
   },
   "toc_section_display": true,
   "toc_window_display": true
  }
 },
 "nbformat": 4,
 "nbformat_minor": 2
}
