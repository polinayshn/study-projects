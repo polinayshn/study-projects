{
 "cells": [
  {
   "cell_type": "markdown",
   "metadata": {
    "toc": true
   },
   "source": [
    "<h1>Содержание<span class=\"tocSkip\"></span></h1>\n",
    "<div class=\"toc\"><ul class=\"toc-item\"><li><span><a href=\"#Подготовка\" data-toc-modified-id=\"Подготовка-1\"><span class=\"toc-item-num\">1&nbsp;&nbsp;</span>Подготовка</a></span><ul class=\"toc-item\"><li><span><a href=\"#Анализ-исходных-данных\" data-toc-modified-id=\"Анализ-исходных-данных-1.1\"><span class=\"toc-item-num\">1.1&nbsp;&nbsp;</span>Анализ исходных данных</a></span></li><li><span><a href=\"#Обработка-текста\" data-toc-modified-id=\"Обработка-текста-1.2\"><span class=\"toc-item-num\">1.2&nbsp;&nbsp;</span>Обработка текста</a></span></li></ul></li><li><span><a href=\"#Обучение\" data-toc-modified-id=\"Обучение-2\"><span class=\"toc-item-num\">2&nbsp;&nbsp;</span>Обучение</a></span></li><li><span><a href=\"#Выводы\" data-toc-modified-id=\"Выводы-3\"><span class=\"toc-item-num\">3&nbsp;&nbsp;</span>Выводы</a></span></li><li><span><a href=\"#Чек-лист-проверки\" data-toc-modified-id=\"Чек-лист-проверки-4\"><span class=\"toc-item-num\">4&nbsp;&nbsp;</span>Чек-лист проверки</a></span></li></ul></div>"
   ]
  },
  {
   "cell_type": "markdown",
   "metadata": {},
   "source": [
    "<div class=\"alert alert-info\">\n",
    "<font size=\"5\"><b>Комментарий ревьюера</b></font>\n",
    "\n",
    "Привет Полина! Меня зовут Марат, и я буду твоим ревьюером.  По поводу обращения - в IT сфере принято общаться на «ты» :) Но, если привычней на «вы», дай знать. Как ревьюера моя задача помочь тебе в развитии, дав хорошие советы. Я внимательно посмотрю твой код, ознакомлюсь с твоими выводами и оставлю комментарии. Где то могу предложить небольшие исправление в коде, но ненавязчиво. Где потребуются уточнения, я оставлю много наводящих вопросов. Они помогут тебя с поиском верного решения.\n",
    "\n",
    "Все мои комментарии размечены по цветам, для лучшего восприятия. \n",
    "    \n",
    "<div class=\"alert alert-success\">Зеленым цветом и словом «Успех» отмечены особо удачные и элегантные решения, которыми ты можешь гордиться. </div>\n",
    "        \n",
    "<div class=\"alert alert-warning\">Желтым и значком словом «Совет», помечены решения у которых есть альтернативные решения, более оптимальные. Ты можешь найти их сразу и доработать проект, или отложить это на потом, для будущих проектах. Проект будет принят и без их доработки. </div>\n",
    "        \n",
    "<div class=\"alert alert-danger\"> Красным цветом и значком словом «Ошибка» помечу твои решения, на которые стоит обратить внимание прежде всего. После их доработки проект будет принят. </div>\n",
    "        \n",
    "Залог успеха - работа сообща, взаимное уважение и работа в диалоге. Поэтому, помечай свои ответные комментарии на мои реплики заметным цветом или курсивом, так мне будет легче их отслеживать. Пожалуйста, не изменяй и не удаляй мои комментарии. Все это поможет выполнить повторную проверку быстрей.\n",
    "\n",
    "</div>"
   ]
  },
  {
   "cell_type": "markdown",
   "metadata": {},
   "source": [
    "<div class=\"alert alert-info\">\n",
    "Привет, Марат, спасибо за комментарии! Доработала и описала в комментариях изменения"
   ]
  },
  {
   "cell_type": "markdown",
   "metadata": {},
   "source": [
    "<div class=\"alert alert-success\">\n",
    "<font size=\"5\"><b>Комментарий ревьюераV2</b></font>\n",
    "\n",
    "\n",
    "\n",
    "Успех 👍:\n",
    "\n",
    "\n",
    "\n",
    "Привет Полина! Давай посмотрим\n",
    "\n",
    "\n",
    " "
   ]
  },
  {
   "cell_type": "markdown",
   "metadata": {},
   "source": [
    "# Проект для «Викишоп»"
   ]
  },
  {
   "cell_type": "markdown",
   "metadata": {},
   "source": [
    "Интернет-магазин «Викишоп» запускает новый сервис. Теперь пользователи могут редактировать и дополнять описания товаров, как в вики-сообществах. То есть клиенты предлагают свои правки и комментируют изменения других. Магазину нужен инструмент, который будет искать токсичные комментарии и отправлять их на модерацию. \n",
    "\n",
    "Обучите модель классифицировать комментарии на позитивные и негативные. В вашем распоряжении набор данных с разметкой о токсичности правок.\n",
    "\n",
    "Постройте модель со значением метрики качества *F1* не меньше 0.75. \n",
    "\n",
    "**Инструкция по выполнению проекта**\n",
    "\n",
    "1. Загрузите и подготовьте данные.\n",
    "2. Обучите разные модели. \n",
    "3. Сделайте выводы.\n",
    "\n",
    "Для выполнения проекта применять *BERT* необязательно, но вы можете попробовать.\n",
    "\n",
    "**Описание данных**\n",
    "\n",
    "Данные находятся в файле `toxic_comments.csv`. Столбец *text* в нём содержит текст комментария, а *toxic* — целевой признак."
   ]
  },
  {
   "cell_type": "code",
   "execution_count": 1,
   "metadata": {},
   "outputs": [],
   "source": [
    "!/opt/conda/bin/python -m pip install wordcloud -q"
   ]
  },
  {
   "cell_type": "code",
   "execution_count": 2,
   "metadata": {},
   "outputs": [],
   "source": [
    "!pip install Pillow==9.5.0 shap -q"
   ]
  },
  {
   "cell_type": "code",
   "execution_count": 3,
   "metadata": {},
   "outputs": [
    {
     "name": "stderr",
     "output_type": "stream",
     "text": [
      "[nltk_data] Downloading package punkt to /home/jovyan/nltk_data...\n",
      "[nltk_data]   Package punkt is already up-to-date!\n",
      "[nltk_data] Downloading package stopwords to /home/jovyan/nltk_data...\n",
      "[nltk_data]   Package stopwords is already up-to-date!\n",
      "[nltk_data] Downloading package wordnet to /home/jovyan/nltk_data...\n",
      "[nltk_data]   Package wordnet is already up-to-date!\n",
      "[nltk_data] Downloading package vader_lexicon to\n",
      "[nltk_data]     /home/jovyan/nltk_data...\n",
      "[nltk_data]   Package vader_lexicon is already up-to-date!\n"
     ]
    },
    {
     "data": {
      "text/plain": [
       "True"
      ]
     },
     "execution_count": 3,
     "metadata": {},
     "output_type": "execute_result"
    }
   ],
   "source": [
    "import os\n",
    "import re\n",
    "import time\n",
    "\n",
    "import numpy as np\n",
    "import pandas as pd\n",
    "import matplotlib.pyplot as plt\n",
    "import seaborn as sns\n",
    "import spacy\n",
    "import nltk\n",
    "\n",
    "from tqdm import tqdm\n",
    "from nltk.corpus import stopwords\n",
    "from nltk.tokenize import word_tokenize\n",
    "from nltk.stem import WordNetLemmatizer\n",
    "from nltk.sentiment import SentimentIntensityAnalyzer\n",
    "\n",
    "from catboost import CatBoostClassifier\n",
    "from sklearn.dummy import DummyClassifier\n",
    "from sklearn.feature_extraction.text import TfidfVectorizer, CountVectorizer, TfidfTransformer\n",
    "from sklearn.linear_model import LogisticRegression, PassiveAggressiveClassifier\n",
    "from sklearn.metrics import (make_scorer, f1_score, accuracy_score,\n",
    "                             confusion_matrix, roc_curve)\n",
    "from sklearn.model_selection import (train_test_split, GridSearchCV,\n",
    "                                     StratifiedKFold, cross_val_score)\n",
    "from sklearn.pipeline import Pipeline\n",
    "from sklearn.svm import LinearSVC\n",
    "\n",
    "import shap\n",
    "from sklearn.inspection import permutation_importance\n",
    "from wordcloud import WordCloud\n",
    "\n",
    "# Загрузка необходимых ресурсов NLTK\n",
    "nltk.download('punkt')\n",
    "nltk.download('stopwords')\n",
    "nltk.download('wordnet')\n",
    "nltk.download('vader_lexicon')"
   ]
  },
  {
   "cell_type": "markdown",
   "metadata": {},
   "source": [
    "## Подготовка"
   ]
  },
  {
   "cell_type": "markdown",
   "metadata": {},
   "source": [
    "### Анализ исходных данных"
   ]
  },
  {
   "cell_type": "code",
   "execution_count": 4,
   "metadata": {},
   "outputs": [],
   "source": [
    "# Считаем CSV-файл с данными с помощью библиотеки pandas в датафрейм и изучим общую информацию\n",
    "\n",
    "path = '/datasets'\n",
    "\n",
    "try:\n",
    "    # Чтение датафреймов\n",
    "    comments = pd.read_csv(os.path.join(path, 'toxic_comments.csv'), index_col=0)\n",
    "\n",
    "except FileNotFoundError:\n",
    "    print('Один или несколько файлов не найдены.')"
   ]
  },
  {
   "cell_type": "code",
   "execution_count": 5,
   "metadata": {},
   "outputs": [
    {
     "data": {
      "text/html": [
       "<div>\n",
       "<style scoped>\n",
       "    .dataframe tbody tr th:only-of-type {\n",
       "        vertical-align: middle;\n",
       "    }\n",
       "\n",
       "    .dataframe tbody tr th {\n",
       "        vertical-align: top;\n",
       "    }\n",
       "\n",
       "    .dataframe thead th {\n",
       "        text-align: right;\n",
       "    }\n",
       "</style>\n",
       "<table border=\"1\" class=\"dataframe\">\n",
       "  <thead>\n",
       "    <tr style=\"text-align: right;\">\n",
       "      <th></th>\n",
       "      <th>text</th>\n",
       "      <th>toxic</th>\n",
       "    </tr>\n",
       "  </thead>\n",
       "  <tbody>\n",
       "    <tr>\n",
       "      <th>0</th>\n",
       "      <td>Explanation\\nWhy the edits made under my usern...</td>\n",
       "      <td>0</td>\n",
       "    </tr>\n",
       "    <tr>\n",
       "      <th>1</th>\n",
       "      <td>D'aww! He matches this background colour I'm s...</td>\n",
       "      <td>0</td>\n",
       "    </tr>\n",
       "    <tr>\n",
       "      <th>2</th>\n",
       "      <td>Hey man, I'm really not trying to edit war. It...</td>\n",
       "      <td>0</td>\n",
       "    </tr>\n",
       "    <tr>\n",
       "      <th>3</th>\n",
       "      <td>\"\\nMore\\nI can't make any real suggestions on ...</td>\n",
       "      <td>0</td>\n",
       "    </tr>\n",
       "    <tr>\n",
       "      <th>4</th>\n",
       "      <td>You, sir, are my hero. Any chance you remember...</td>\n",
       "      <td>0</td>\n",
       "    </tr>\n",
       "  </tbody>\n",
       "</table>\n",
       "</div>"
      ],
      "text/plain": [
       "                                                text  toxic\n",
       "0  Explanation\\nWhy the edits made under my usern...      0\n",
       "1  D'aww! He matches this background colour I'm s...      0\n",
       "2  Hey man, I'm really not trying to edit war. It...      0\n",
       "3  \"\\nMore\\nI can't make any real suggestions on ...      0\n",
       "4  You, sir, are my hero. Any chance you remember...      0"
      ]
     },
     "execution_count": 5,
     "metadata": {},
     "output_type": "execute_result"
    }
   ],
   "source": [
    "comments.head(5)"
   ]
  },
  {
   "cell_type": "code",
   "execution_count": 6,
   "metadata": {},
   "outputs": [
    {
     "name": "stdout",
     "output_type": "stream",
     "text": [
      "<class 'pandas.core.frame.DataFrame'>\n",
      "Int64Index: 159292 entries, 0 to 159450\n",
      "Data columns (total 2 columns):\n",
      " #   Column  Non-Null Count   Dtype \n",
      "---  ------  --------------   ----- \n",
      " 0   text    159292 non-null  object\n",
      " 1   toxic   159292 non-null  int64 \n",
      "dtypes: int64(1), object(1)\n",
      "memory usage: 3.6+ MB\n"
     ]
    }
   ],
   "source": [
    "comments.info()"
   ]
  },
  {
   "cell_type": "markdown",
   "metadata": {},
   "source": [
    "<div class=\"alert alert-warning\">\n",
    "<font size=\"5\"><b>Комментарий ревьюера</b></font>\n",
    "\n",
    "Совет: \n",
    "\n",
    "\n",
    "Если не знаешь - чтобы не было столбца  `Unnamed: 0` при чтении файла можно так:\n",
    "\n",
    "\n",
    "    pd.read_csv(..., index_col=0)\n",
    "\n",
    "    \n",
    "(`Unnamed: 0` появляется при не совсем корректном сохранении файла)    \n",
    "\n",
    "\n",
    "Unnamed: 0 это \"след\" старых индексов. Если ты уберёшь первые 10 примеров и своего датасета, сохранишь его, а потом откроешь,  то появится столбец Unnamed: 0 начиная с цифры 9, и появится новый индексы начиная с нуля \n",
    "\n",
    "\n",
    "Но это мелочь,  даже не нужно ничего исправлять. Просто знай, чтобы увидев такое в чужом коде не удивляться что бы это могло означать"
   ]
  },
  {
   "cell_type": "markdown",
   "metadata": {},
   "source": [
    "<div class=\"alert alert-info\">\n",
    "Обновила"
   ]
  },
  {
   "cell_type": "markdown",
   "metadata": {},
   "source": [
    "<div class=\"alert alert-success\">\n",
    "<font size=\"5\"><b>Комментарий ревьюераV2</b></font>\n",
    "\n",
    "\n",
    "\n",
    "Успех 👍:\n",
    "\n",
    "\n",
    "\n",
    "👍\n",
    "\n",
    "\n",
    " "
   ]
  },
  {
   "cell_type": "code",
   "execution_count": 7,
   "metadata": {},
   "outputs": [
    {
     "data": {
      "text/html": [
       "<div>\n",
       "<style scoped>\n",
       "    .dataframe tbody tr th:only-of-type {\n",
       "        vertical-align: middle;\n",
       "    }\n",
       "\n",
       "    .dataframe tbody tr th {\n",
       "        vertical-align: top;\n",
       "    }\n",
       "\n",
       "    .dataframe thead th {\n",
       "        text-align: right;\n",
       "    }\n",
       "</style>\n",
       "<table border=\"1\" class=\"dataframe\">\n",
       "  <thead>\n",
       "    <tr style=\"text-align: right;\">\n",
       "      <th></th>\n",
       "      <th>text</th>\n",
       "      <th>toxic</th>\n",
       "    </tr>\n",
       "  </thead>\n",
       "  <tbody>\n",
       "    <tr>\n",
       "      <th>11832</th>\n",
       "      <td>Applicability to Wikipedia \\n\\nTo what degree ...</td>\n",
       "      <td>0</td>\n",
       "    </tr>\n",
       "    <tr>\n",
       "      <th>82319</th>\n",
       "      <td>\"\\n\\n krill.jpg is still used in articles \\n\\n \"</td>\n",
       "      <td>0</td>\n",
       "    </tr>\n",
       "    <tr>\n",
       "      <th>46089</th>\n",
       "      <td>As long as the time frpm Big Bang is identical...</td>\n",
       "      <td>0</td>\n",
       "    </tr>\n",
       "  </tbody>\n",
       "</table>\n",
       "</div>"
      ],
      "text/plain": [
       "                                                    text  toxic\n",
       "11832  Applicability to Wikipedia \\n\\nTo what degree ...      0\n",
       "82319   \"\\n\\n krill.jpg is still used in articles \\n\\n \"      0\n",
       "46089  As long as the time frpm Big Bang is identical...      0"
      ]
     },
     "execution_count": 7,
     "metadata": {},
     "output_type": "execute_result"
    }
   ],
   "source": [
    "comments.sample(3)"
   ]
  },
  {
   "cell_type": "code",
   "execution_count": 8,
   "metadata": {},
   "outputs": [
    {
     "name": "stdout",
     "output_type": "stream",
     "text": [
      "<class 'pandas.core.frame.DataFrame'>\n",
      "Int64Index: 159292 entries, 0 to 159450\n",
      "Data columns (total 2 columns):\n",
      " #   Column  Non-Null Count   Dtype \n",
      "---  ------  --------------   ----- \n",
      " 0   text    159292 non-null  object\n",
      " 1   toxic   159292 non-null  int64 \n",
      "dtypes: int64(1), object(1)\n",
      "memory usage: 3.6+ MB\n"
     ]
    }
   ],
   "source": [
    "# Удалим дубликаты комментов если есть (нет)\n",
    "comments = comments.drop_duplicates(subset=['text'])\n",
    "comments.info()"
   ]
  },
  {
   "cell_type": "markdown",
   "metadata": {},
   "source": [
    "<div class=\"alert alert-success\">\n",
    "<font size=\"5\"><b>Комментарий ревьюера</b></font>\n",
    "\n",
    "Успех:\n",
    "\n",
    "Данные изучены \n",
    "\n",
    "<div class=\"alert alert-warning\">\n",
    "\n",
    "Совет: \n",
    "\n",
    "\n",
    "\n",
    "\n",
    "- стоило еще проверить на сбалансированность классов в таргете это важная информация при моделировании и  корректной оценки модели. и к нему график можно, ведь красивый, хорошо оформленный график может быть украшением проекта. Без учёта дисбаланса  предсказания модели могут быть смещены в сторону более часто встречающегося класса.  Для начала можно посмотреть [тут](https://pudie.ru/articles/707332/)\n",
    "\n",
    "\n",
    "- нет никакого промежуточного вывода в конце раздела, и никак он не выделен    \n",
    " \n",
    "\n",
    "\n",
    "\n",
    "- можно также посчитать количество слов в предложений,  длину слов в твите, опять же в разбивке по Таргету.  Если будут какие-то сильные отличия, возможно из-за этого стоит сгенерировать дополнительные признаки для наших моделей. Или например можно использовать библиотеку SentimentIntensityAnalyzer для оценки сантиментов, и посмотреть насколько хорошо ее оценки корелирует с нашими таргетами\n",
    "   \n",
    "   \n",
    "- когда мы работаем с текстами, describe итп описательные статистике не использовать, но можно провести частотный анализ текста.  Предлагаю для этого использовать [облако слов](https://habr.com/ru/post/517410/) - чтобы получить общее представление о тематике и о наиболее часто встречаемых словах в токсичных и нетоксичных твитах (в облаке уже автоматически будут убраны стоп слова). Кроме того графики, рисунки делают проект визуально интересней\n",
    "   \n",
    "   \n",
    "В тренажере облако импортируем так\n",
    "\n",
    "    !/opt/conda/bin/python -m pip install wordcloud \n",
    "\n",
    "\n",
    "или\n",
    "\n",
    "    !/opt/conda/bin/python -m pip install wordcloud==1.8.2.2  \n",
    "\n",
    "\n",
    "И возможно дополнительно надо будет сделать\n",
    "\n",
    "\n",
    "\n",
    "    !pip install --upgrade Pillow  (попробуй версию 9.5.0)\n",
    "\n",
    "     "
   ]
  },
  {
   "cell_type": "markdown",
   "metadata": {},
   "source": [
    "<div class=\"alert alert-info\">\n",
    "Добавила анализ и выводы ниже"
   ]
  },
  {
   "cell_type": "code",
   "execution_count": 9,
   "metadata": {},
   "outputs": [
    {
     "data": {
      "image/png": "[encoded data removed]",
      "text/plain": [
       "<Figure size 864x360 with 2 Axes>"
      ]
     },
     "metadata": {
      "needs_background": "light"
     },
     "output_type": "display_data"
    }
   ],
   "source": [
    "# Проверка на сбалансированность классов в таргете\n",
    "fig, ax = plt.subplots(1, 2, figsize=(12, 5))\n",
    "\n",
    "# Бар-чарт\n",
    "sns.countplot(x='toxic', data=comments, ax=ax[0])\n",
    "ax[0].set_title('Распределение токсичных и нет комментариев')\n",
    "ax[0].set_xlabel('Toxic Comments (0 = No, 1 = Yes)')\n",
    "ax[0].set_ylabel('Count')\n",
    "\n",
    "# Пай-чарт\n",
    "percentage = comments['toxic'].value_counts(normalize=True) * 100\n",
    "ax[1].pie(percentage, labels=['Non-Toxic', 'Toxic'], autopct='%1.1f%%', startangle=90, colors=['lightblue', 'salmon'])\n",
    "ax[1].axis('equal')\n",
    "ax[1].set_title('Распределение комментариев в %')\n",
    "\n",
    "plt.tight_layout()\n",
    "plt.show()"
   ]
  },
  {
   "cell_type": "code",
   "execution_count": 10,
   "metadata": {},
   "outputs": [
    {
     "data": {
      "text/html": [
       "<div>\n",
       "<style scoped>\n",
       "    .dataframe tbody tr th:only-of-type {\n",
       "        vertical-align: middle;\n",
       "    }\n",
       "\n",
       "    .dataframe tbody tr th {\n",
       "        vertical-align: top;\n",
       "    }\n",
       "\n",
       "    .dataframe thead tr th {\n",
       "        text-align: left;\n",
       "    }\n",
       "\n",
       "    .dataframe thead tr:last-of-type th {\n",
       "        text-align: right;\n",
       "    }\n",
       "</style>\n",
       "<table border=\"1\" class=\"dataframe\">\n",
       "  <thead>\n",
       "    <tr>\n",
       "      <th></th>\n",
       "      <th colspan=\"2\" halign=\"left\">word_count</th>\n",
       "      <th colspan=\"2\" halign=\"left\">char_count</th>\n",
       "    </tr>\n",
       "    <tr>\n",
       "      <th></th>\n",
       "      <th>mean</th>\n",
       "      <th>std</th>\n",
       "      <th>mean</th>\n",
       "      <th>std</th>\n",
       "    </tr>\n",
       "    <tr>\n",
       "      <th>toxic</th>\n",
       "      <th></th>\n",
       "      <th></th>\n",
       "      <th></th>\n",
       "      <th></th>\n",
       "    </tr>\n",
       "  </thead>\n",
       "  <tbody>\n",
       "    <tr>\n",
       "      <th>0</th>\n",
       "      <td>68.857665</td>\n",
       "      <td>98.097420</td>\n",
       "      <td>403.956585</td>\n",
       "      <td>585.914845</td>\n",
       "    </tr>\n",
       "    <tr>\n",
       "      <th>1</th>\n",
       "      <td>52.677314</td>\n",
       "      <td>106.772843</td>\n",
       "      <td>302.932411</td>\n",
       "      <td>618.647890</td>\n",
       "    </tr>\n",
       "  </tbody>\n",
       "</table>\n",
       "</div>"
      ],
      "text/plain": [
       "      word_count              char_count            \n",
       "            mean         std        mean         std\n",
       "toxic                                               \n",
       "0      68.857665   98.097420  403.956585  585.914845\n",
       "1      52.677314  106.772843  302.932411  618.647890"
      ]
     },
     "execution_count": 10,
     "metadata": {},
     "output_type": "execute_result"
    }
   ],
   "source": [
    "# Подсчет количества слов и длины слов в комментариях по таргету\n",
    "comments['word_count'] = comments['text'].apply(lambda x: len(x.split()))\n",
    "comments['char_count'] = comments['text'].apply(lambda x: len(x))\n",
    "\n",
    "# Группировка по таргету\n",
    "comments.groupby('toxic').agg({'word_count': ['mean', 'std'], 'char_count': ['mean', 'std']})"
   ]
  },
  {
   "cell_type": "markdown",
   "metadata": {},
   "source": [
    "<b> По результатам видим: </b>\n",
    "- 90% коментариев в данных - не токсичные, используем дальше в выборках\n",
    "- в среднем в токсичных комментариях меньше слов и знаков"
   ]
  },
  {
   "cell_type": "markdown",
   "metadata": {},
   "source": [
    "<div class=\"alert alert-success\">\n",
    "<font size=\"5\"><b>Комментарий ревьюераV2</b></font>\n",
    "\n",
    "\n",
    "\n",
    "Успех 👍:\n",
    "\n",
    "\n",
    "\n",
    "Красота\n",
    "\n",
    "(Видимо чтобы обидеть человека много слов не нужно)\n",
    " "
   ]
  },
  {
   "cell_type": "code",
   "execution_count": 11,
   "metadata": {},
   "outputs": [],
   "source": [
    "# Оценка сентиментов с SentimentIntensityAnalyzer\n",
    "sia = SentimentIntensityAnalyzer()\n",
    "comments['sentiment'] = comments['text'].apply(lambda x: sia.polarity_scores(x)['compound'])"
   ]
  },
  {
   "cell_type": "code",
   "execution_count": 12,
   "metadata": {},
   "outputs": [
    {
     "data": {
      "text/plain": [
       "-0.2949356684240629"
      ]
     },
     "execution_count": 12,
     "metadata": {},
     "output_type": "execute_result"
    }
   ],
   "source": [
    "# Проверка корреляции между сентиментами и таргетами\n",
    "comments[['toxic', 'sentiment']].corr().iloc[0, 1]"
   ]
  },
  {
   "cell_type": "code",
   "execution_count": 13,
   "metadata": {},
   "outputs": [
    {
     "data": {
      "image/png": "[encoded data removed]",
      "text/plain": [
       "<Figure size 720x432 with 1 Axes>"
      ]
     },
     "metadata": {
      "needs_background": "light"
     },
     "output_type": "display_data"
    },
    {
     "data": {
      "image/png": "[encoded data removed]",
      "text/plain": [
       "<Figure size 720x432 with 1 Axes>"
      ]
     },
     "metadata": {
      "needs_background": "light"
     },
     "output_type": "display_data"
    }
   ],
   "source": [
    "# Диаграмма рассеяния (scatter plot)\n",
    "plt.figure(figsize=(10, 6))\n",
    "sns.scatterplot(data=comments, x='sentiment', y='toxic', alpha=0.6)\n",
    "plt.title('Сентименты и токсичность')\n",
    "plt.xlabel('Sentiment Score')\n",
    "plt.ylabel('Toxicity (0 = Non-Toxic, 1 = Toxic)')\n",
    "plt.axhline(0.5, color='red', linestyle='--', label='Toxicity Threshold')\n",
    "plt.legend()\n",
    "plt.show()\n",
    "\n",
    "# Добавление линии регрессии\n",
    "plt.figure(figsize=(10, 6))\n",
    "sns.regplot(data=comments, x='sentiment', y='toxic', logistic=True, ci=None, scatter_kws={'alpha':0.6})\n",
    "plt.title('Регрессия')\n",
    "plt.xlabel('Sentiment Score')\n",
    "plt.ylabel('Toxicity (0 = Non-Toxic, 1 = Toxic)')\n",
    "plt.axhline(0.5, color='red', linestyle='--', label='Toxicity Threshold')\n",
    "plt.legend()\n",
    "plt.show()"
   ]
  },
  {
   "cell_type": "code",
   "execution_count": 14,
   "metadata": {},
   "outputs": [
    {
     "data": {
      "image/png": "[encoded data removed]",
      "text/plain": [
       "<Figure size 720x432 with 1 Axes>"
      ]
     },
     "metadata": {
      "needs_background": "light"
     },
     "output_type": "display_data"
    }
   ],
   "source": [
    "plt.figure(figsize=(10, 6))\n",
    "sns.boxplot(data=comments, x='toxic', y='sentiment')\n",
    "plt.title('Группировка по токсичности')\n",
    "plt.xlabel('Toxicity (0 = Non-Toxic, 1 = Toxic)')\n",
    "plt.ylabel('Sentiment Score')\n",
    "plt.xticks([0, 1], ['Non-Toxic', 'Toxic'])\n",
    "plt.show()"
   ]
  },
  {
   "cell_type": "code",
   "execution_count": 15,
   "metadata": {},
   "outputs": [
    {
     "data": {
      "image/png": "[encoded data removed]",
      "text/plain": [
       "<Figure size 720x432 with 1 Axes>"
      ]
     },
     "metadata": {
      "needs_background": "light"
     },
     "output_type": "display_data"
    }
   ],
   "source": [
    "plt.figure(figsize=(10, 6))\n",
    "sns.histplot(data=comments, x='sentiment', hue='toxic', multiple='stack', bins=30, alpha=0.6)\n",
    "plt.title('Гистограмма сентиментов')\n",
    "plt.xlabel('Sentiment Score')\n",
    "plt.ylabel('Count')\n",
    "plt.legend(title='Toxicity', labels=['Non-Toxic', 'Toxic'])\n",
    "plt.show()"
   ]
  },
  {
   "cell_type": "markdown",
   "metadata": {},
   "source": [
    "Значение корреляции между сентиментами и токсичностью: -0.294 говорит о том, что существует умеренная отрицательная корреляция, более низкие значения сентимента (более отрицательные оценки) связаны с большей вероятностью того, что комментарий будет токсичным.  \n",
    "Также по графикам видим, что токсичные комментарии имеют более негативные сентименты."
   ]
  },
  {
   "cell_type": "markdown",
   "metadata": {},
   "source": [
    "<div class=\"alert alert-success\">\n",
    "<font size=\"5\"><b>Комментарий ревьюераV2</b></font>\n",
    "\n",
    "\n",
    "\n",
    "Успех 👍:\n",
    "\n",
    "\n",
    "\n",
    "Выглядит так, что можно попробовать в качестве дополнительного признака у нашей модели\n",
    "\n",
    "\n",
    " "
   ]
  },
  {
   "cell_type": "code",
   "execution_count": 16,
   "metadata": {},
   "outputs": [
    {
     "data": {
      "image/png": "[encoded data removed]",
      "text/plain": [
       "<Figure size 720x360 with 1 Axes>"
      ]
     },
     "metadata": {
      "needs_background": "light"
     },
     "output_type": "display_data"
    },
    {
     "data": {
      "image/png": "[encoded data removed]",
      "text/plain": [
       "<Figure size 720x360 with 1 Axes>"
      ]
     },
     "metadata": {
      "needs_background": "light"
     },
     "output_type": "display_data"
    }
   ],
   "source": [
    "# Частотный анализ текста - облака слов для токсичных и нетоксичных комментариев\n",
    "toxic_text = ' '.join(comments[comments['toxic'] == 1]['text'])\n",
    "non_toxic_text = ' '.join(comments[comments['toxic'] == 0]['text'])\n",
    "\n",
    "# Облако слов для токсичных комментариев\n",
    "toxic_wordcloud = WordCloud(width=800, height=400, background_color='white').generate(toxic_text)\n",
    "plt.figure(figsize=(10, 5))\n",
    "plt.imshow(toxic_wordcloud, interpolation='bilinear')\n",
    "plt.axis('off')\n",
    "plt.title('Облако слов токсичных комментариев')\n",
    "plt.show()\n",
    "\n",
    "# Облако слов для нетоксичных комментариев\n",
    "non_toxic_wordcloud = WordCloud(width=800, height=400, background_color='white').generate(non_toxic_text)\n",
    "plt.figure(figsize=(10, 5))\n",
    "plt.imshow(non_toxic_wordcloud, interpolation='bilinear')\n",
    "plt.axis('off')\n",
    "plt.title('Облако слов не токсичных комментариев')\n",
    "plt.show()"
   ]
  },
  {
   "cell_type": "markdown",
   "metadata": {},
   "source": [
    " \n",
    "<div class=\"alert alert-success\">\n",
    "<font size=\"5\"><b>Комментарий ревьюераV2</b></font>\n",
    "\n",
    "\n",
    "\n",
    "Успех 👍:\n",
    "\n",
    "\n",
    "Красиво, хотя слова некрасивые. И сразу видны ключевые слова для разделения \n",
    "\n",
    "\n",
    "\n",
    "\n",
    "    \n",
    "<div class=\"alert alert-warning\">\n",
    "\n",
    "\n",
    "Совет 🤔:\n",
    "    \n",
    "    \n",
    "    \n",
    "как видишь есть дубликаты, можно посмотреть как их убрать collocations=False:    \n",
    "    \n",
    "https://stackoverflow.com/questions/43954114/python-wordcloud-repetitive-words\n",
    "\n"
   ]
  },
  {
   "cell_type": "markdown",
   "metadata": {},
   "source": [
    "<b>По результатам анализа данных:</b>\n",
    "- в данных больше не токсичных комментариев,\n",
    "- токсичные и не токсичные комментарии в целом похожи по длине и количеству знаков, в токсичных комментариях немного меньше слов и знаков,\n",
    "- построили облака слов для токсичных и не токсичных комментов"
   ]
  },
  {
   "cell_type": "markdown",
   "metadata": {},
   "source": [
    "### Обработка текста"
   ]
  },
  {
   "cell_type": "code",
   "execution_count": 17,
   "metadata": {},
   "outputs": [],
   "source": [
    "# Загружаем SpaCy\n",
    "#nlp = spacy.load(\"en_core_web_sm\")\n",
    "\n",
    "# Настраиваем tqdm для отображения прогресса\n",
    "#tqdm.pandas()\n",
    "\n",
    "#def preprocess_text(text):\n",
    "    # Обработка текста с помощью SpaCy\n",
    "#    doc = nlp(text.lower())\n",
    "    # Лемматизация и удаление стоп-слов, знаков препинания и слов без латиницы\n",
    "#    tokens = [\n",
    "#        token.lemma_ for token in doc \n",
    "#        if token.is_alpha and not token.is_stop and all(char.isascii() for char in token.text)\n",
    "#    ]\n",
    "    # Соединение токенов в одну строку\n",
    "#    processed_text = ' '.join(tokens)\n",
    "#    return processed_text\n",
    "\n",
    "# Пример для тестирования работы функции\n",
    "#sentence1 = \"The striped bats, are hanging 45 on their feet for best\"\n",
    "#sentence2 = \"you should be ashamed of yourself went worked\"\n",
    "#df_my = pd.DataFrame([sentence1, sentence2], columns=['text'])\n",
    "\n",
    "# Применяем функцию на тестовых данных с прогрессом\n",
    "#print(df_my['text'].progress_apply(preprocess_text))"
   ]
  },
  {
   "cell_type": "markdown",
   "metadata": {},
   "source": [
    "<div class=\"alert alert-danger\">\n",
    "<font size=\"5\"><b>Комментарий ревьюера</b></font>\n",
    "\n",
    "Ошибка:\n",
    "\n",
    "\n",
    "\n",
    "- WordNetLemmatizer  рабочий вариант, но у него есть особенности, для корректной работы ему нужно передавать не просто слово, но и POS-тег (Part of Speech, части речи). Набираемся ума-разума [тут](https://webdevblog.ru/podhody-lemmatizacii-s-primerami-v-python/) )  Обрати внимание на функцию `get_wordnet_pos`. Сразу хочу предупредить, что если делать Лемматизацию правильно, сучетом постегов, то время может занять полчаса-час. Так что не удивляйся (вообще советую сохранить результаты Лематизации в каком-то файлике, чтобы каждый раз не тратить на это много времени)\n",
    "\n",
    "\n",
    "- Также не забываем провести очистку данных.  Знаки препинания, цифры - убираем.  Вообще можно оставить только слова на латинице    \n",
    "    \n",
    "    \n",
    "- ['<end>'] ['<start>'] А зачем тебе это? И можно ведь сразу добавить в функцию '.join(x), а не делать это ниже\n",
    "\n",
    "\n",
    "\n",
    "\n",
    "\n",
    "\n",
    "\n",
    " \n",
    "\n",
    "\n",
    "<div class=\"alert alert-warning\">\n",
    "\n",
    "\n",
    "Совет: \n",
    "\n",
    "\n",
    "\n",
    "\n",
    "- лемматизацию можно было сделать с помощью SpaCy лемматизатором и прямо скажем как инструмент он более удобен и универсален, не нужно заморачиваться с токенизацией и учётом пос тегов\n",
    "\n",
    "\n",
    "\n",
    "\n",
    "- Чтобы сэкономить время, и убедиться что всё отработало нормально, берёшь парочку предложений, создаёшь dataframe\n",
    "    \n",
    "    \n",
    "    sentence1 = \"The striped bats are hanging on their feet for best\"\n",
    "    sentence2 = \"you should be ashamed of yourself went worked\"\n",
    "    df_my = pd.DataFrame([sentence1, sentence2], columns = ['text'])\n",
    "    print(df_my)\n",
    "\n",
    "\n",
    "    print(df_my['text'].apply(func))\n",
    "    \n",
    "    \n",
    "    \n",
    "И тестируешь не нем, должно получиться \n",
    "    \n",
    "    \n",
    "    \n",
    "    striped  ------> strip, went -------> go  \n",
    "\n",
    "\n",
    "\n",
    "Если всё получилось, то можно использовать на всём датасете"
   ]
  },
  {
   "cell_type": "markdown",
   "metadata": {},
   "source": [
    "<div class=\"alert alert-info\">\n",
    "Поменяла WordNetLemmatizer на SpaCy, потестировала, striped получился stripe, но вроде похоже"
   ]
  },
  {
   "cell_type": "code",
   "execution_count": 18,
   "metadata": {},
   "outputs": [],
   "source": [
    "#comments['processed_text'] = comments['text'].progress_apply(preprocess_text)\n",
    "#comments[['processed_text']].to_csv('toxic_comments_pky.csv')\n",
    "\n",
    "processed_comments = pd.read_csv('toxic_comments_pky.csv', index_col=[0])\n",
    "comments = comments.join(processed_comments)"
   ]
  },
  {
   "cell_type": "code",
   "execution_count": 19,
   "metadata": {},
   "outputs": [
    {
     "data": {
      "text/html": [
       "<div>\n",
       "<style scoped>\n",
       "    .dataframe tbody tr th:only-of-type {\n",
       "        vertical-align: middle;\n",
       "    }\n",
       "\n",
       "    .dataframe tbody tr th {\n",
       "        vertical-align: top;\n",
       "    }\n",
       "\n",
       "    .dataframe thead th {\n",
       "        text-align: right;\n",
       "    }\n",
       "</style>\n",
       "<table border=\"1\" class=\"dataframe\">\n",
       "  <thead>\n",
       "    <tr style=\"text-align: right;\">\n",
       "      <th></th>\n",
       "      <th>text</th>\n",
       "      <th>toxic</th>\n",
       "      <th>word_count</th>\n",
       "      <th>char_count</th>\n",
       "      <th>sentiment</th>\n",
       "      <th>processed_text</th>\n",
       "    </tr>\n",
       "  </thead>\n",
       "  <tbody>\n",
       "    <tr>\n",
       "      <th>129108</th>\n",
       "      <td>\", 18 December 2015 (UTC)\\nWP:DUE yes. It has ...</td>\n",
       "      <td>0</td>\n",
       "      <td>46</td>\n",
       "      <td>247</td>\n",
       "      <td>0.2893</td>\n",
       "      <td>december utc wp yes place protocol sure hunch ...</td>\n",
       "    </tr>\n",
       "    <tr>\n",
       "      <th>113182</th>\n",
       "      <td>\"\\n\\n Removal of Patroclus Image per New Infor...</td>\n",
       "      <td>0</td>\n",
       "      <td>186</td>\n",
       "      <td>1174</td>\n",
       "      <td>-0.7184</td>\n",
       "      <td>removal patroclus image new information image ...</td>\n",
       "    </tr>\n",
       "    <tr>\n",
       "      <th>129451</th>\n",
       "      <td>At least 95% of the stories on this incident w...</td>\n",
       "      <td>0</td>\n",
       "      <td>57</td>\n",
       "      <td>346</td>\n",
       "      <td>0.6124</td>\n",
       "      <td>story incident false claim white spontaneously...</td>\n",
       "    </tr>\n",
       "    <tr>\n",
       "      <th>11395</th>\n",
       "      <td>There was a documentary shown on Mediacorp Cha...</td>\n",
       "      <td>0</td>\n",
       "      <td>42</td>\n",
       "      <td>249</td>\n",
       "      <td>0.7391</td>\n",
       "      <td>documentary show mediacorp channel hotel new w...</td>\n",
       "    </tr>\n",
       "    <tr>\n",
       "      <th>23957</th>\n",
       "      <td>2:00, 4 February 2015 (PST)</td>\n",
       "      <td>0</td>\n",
       "      <td>5</td>\n",
       "      <td>27</td>\n",
       "      <td>0.0000</td>\n",
       "      <td>february pst</td>\n",
       "    </tr>\n",
       "  </tbody>\n",
       "</table>\n",
       "</div>"
      ],
      "text/plain": [
       "                                                     text  toxic  word_count  \\\n",
       "129108  \", 18 December 2015 (UTC)\\nWP:DUE yes. It has ...      0          46   \n",
       "113182  \"\\n\\n Removal of Patroclus Image per New Infor...      0         186   \n",
       "129451  At least 95% of the stories on this incident w...      0          57   \n",
       "11395   There was a documentary shown on Mediacorp Cha...      0          42   \n",
       "23957                         2:00, 4 February 2015 (PST)      0           5   \n",
       "\n",
       "        char_count  sentiment  \\\n",
       "129108         247     0.2893   \n",
       "113182        1174    -0.7184   \n",
       "129451         346     0.6124   \n",
       "11395          249     0.7391   \n",
       "23957           27     0.0000   \n",
       "\n",
       "                                           processed_text  \n",
       "129108  december utc wp yes place protocol sure hunch ...  \n",
       "113182  removal patroclus image new information image ...  \n",
       "129451  story incident false claim white spontaneously...  \n",
       "11395   documentary show mediacorp channel hotel new w...  \n",
       "23957                                        february pst  "
      ]
     },
     "execution_count": 19,
     "metadata": {},
     "output_type": "execute_result"
    }
   ],
   "source": [
    "comments.sample(5)"
   ]
  },
  {
   "cell_type": "markdown",
   "metadata": {},
   "source": [
    "<div class=\"alert alert-success\">\n",
    "<font size=\"5\"><b>Комментарий ревьюера</b></font>\n",
    "\n",
    "Успех:\n",
    "\n",
    "\n",
    " \n",
    "\n",
    "- Плюс за использование apply, неэффективные циклы нам ни к чему.\n",
    "\n",
    "\n",
    "- Да, всегда лучше проверить что получилось  в итоге, так всегда будет возможность поправить ошибку\n",
    "\n",
    "<div class=\"alert alert-warning\">\n",
    "\n",
    "\n",
    "Совет: \n",
    "\n",
    "\n",
    "    \n",
    "- попробуй .progress_apply, делает что .apply, но еще и показывает на какой итерации находится процесс.  \n",
    "\n",
    "Для некоторых версий, чтобы заработал .progress_apply предварительно нужно сделать:\n",
    "    \n",
    "    \n",
    "    from tqdm.notebook import tqdm\n",
    "    tqdm.pandas()\n",
    "    \n",
    "\n",
    "И cудя по всему импорты нужно засунуть внутрь функции\n",
    " "
   ]
  },
  {
   "cell_type": "markdown",
   "metadata": {},
   "source": [
    "<div class=\"alert alert-info\">\n",
    "Поменяла .apply на .progress_apply, работает"
   ]
  },
  {
   "cell_type": "markdown",
   "metadata": {},
   "source": [
    "<div class=\"alert alert-success\">\n",
    "<font size=\"5\"><b>Комментарий ревьюераV2</b></font>\n",
    "\n",
    "\n",
    "\n",
    "Успех 👍:\n",
    "\n",
    "\n",
    "\n",
    "👍\n",
    "\n",
    "\n",
    " "
   ]
  },
  {
   "cell_type": "code",
   "execution_count": 20,
   "metadata": {
    "scrolled": true
   },
   "outputs": [
    {
     "data": {
      "text/html": [
       "<div>\n",
       "<style scoped>\n",
       "    .dataframe tbody tr th:only-of-type {\n",
       "        vertical-align: middle;\n",
       "    }\n",
       "\n",
       "    .dataframe tbody tr th {\n",
       "        vertical-align: top;\n",
       "    }\n",
       "\n",
       "    .dataframe thead th {\n",
       "        text-align: right;\n",
       "    }\n",
       "</style>\n",
       "<table border=\"1\" class=\"dataframe\">\n",
       "  <thead>\n",
       "    <tr style=\"text-align: right;\">\n",
       "      <th></th>\n",
       "      <th>text</th>\n",
       "      <th>toxic</th>\n",
       "      <th>word_count</th>\n",
       "      <th>char_count</th>\n",
       "      <th>sentiment</th>\n",
       "      <th>processed_text</th>\n",
       "    </tr>\n",
       "  </thead>\n",
       "  <tbody>\n",
       "    <tr>\n",
       "      <th>177</th>\n",
       "      <td>86.29.244.57|86.29.244.57]] 04:21, 14 May 2007</td>\n",
       "      <td>0</td>\n",
       "      <td>5</td>\n",
       "      <td>46</td>\n",
       "      <td>0.000</td>\n",
       "      <td>NaN</td>\n",
       "    </tr>\n",
       "    <tr>\n",
       "      <th>627</th>\n",
       "      <td>Seems we both have some.</td>\n",
       "      <td>0</td>\n",
       "      <td>5</td>\n",
       "      <td>24</td>\n",
       "      <td>0.000</td>\n",
       "      <td>NaN</td>\n",
       "    </tr>\n",
       "    <tr>\n",
       "      <th>824</th>\n",
       "      <td>16, 7 May 2007 (UTC)TimySmidge 21:</td>\n",
       "      <td>0</td>\n",
       "      <td>6</td>\n",
       "      <td>34</td>\n",
       "      <td>0.000</td>\n",
       "      <td>NaN</td>\n",
       "    </tr>\n",
       "    <tr>\n",
       "      <th>1719</th>\n",
       "      <td>Thivierr|Rob]] 23:52, 27 May 2006</td>\n",
       "      <td>0</td>\n",
       "      <td>5</td>\n",
       "      <td>33</td>\n",
       "      <td>0.000</td>\n",
       "      <td>NaN</td>\n",
       "    </tr>\n",
       "    <tr>\n",
       "      <th>2091</th>\n",
       "      <td>No, it doesn´t.80.228.65.162</td>\n",
       "      <td>0</td>\n",
       "      <td>3</td>\n",
       "      <td>28</td>\n",
       "      <td>-0.296</td>\n",
       "      <td>NaN</td>\n",
       "    </tr>\n",
       "    <tr>\n",
       "      <th>...</th>\n",
       "      <td>...</td>\n",
       "      <td>...</td>\n",
       "      <td>...</td>\n",
       "      <td>...</td>\n",
       "      <td>...</td>\n",
       "      <td>...</td>\n",
       "    </tr>\n",
       "    <tr>\n",
       "      <th>152700</th>\n",
       "      <td>SAME FOR THIS 166.137.240.20</td>\n",
       "      <td>0</td>\n",
       "      <td>4</td>\n",
       "      <td>28</td>\n",
       "      <td>0.000</td>\n",
       "      <td>NaN</td>\n",
       "    </tr>\n",
       "    <tr>\n",
       "      <th>153198</th>\n",
       "      <td>which is OVER 9000 OVER 9000 OVER 9000 OVER 90...</td>\n",
       "      <td>0</td>\n",
       "      <td>296</td>\n",
       "      <td>1478</td>\n",
       "      <td>0.000</td>\n",
       "      <td>NaN</td>\n",
       "    </tr>\n",
       "    <tr>\n",
       "      <th>153499</th>\n",
       "      <td>http://en.wikipedia.org/w/index.php?title=Cras...</td>\n",
       "      <td>0</td>\n",
       "      <td>6</td>\n",
       "      <td>119</td>\n",
       "      <td>0.000</td>\n",
       "      <td>NaN</td>\n",
       "    </tr>\n",
       "    <tr>\n",
       "      <th>155625</th>\n",
       "      <td>If you have more to say, put</td>\n",
       "      <td>0</td>\n",
       "      <td>7</td>\n",
       "      <td>28</td>\n",
       "      <td>0.000</td>\n",
       "      <td>NaN</td>\n",
       "    </tr>\n",
       "    <tr>\n",
       "      <th>158899</th>\n",
       "      <td>Why don't you do it? 24.68.148.215</td>\n",
       "      <td>0</td>\n",
       "      <td>6</td>\n",
       "      <td>34</td>\n",
       "      <td>0.000</td>\n",
       "      <td>NaN</td>\n",
       "    </tr>\n",
       "  </tbody>\n",
       "</table>\n",
       "<p>251 rows × 6 columns</p>\n",
       "</div>"
      ],
      "text/plain": [
       "                                                     text  toxic  word_count  \\\n",
       "177        86.29.244.57|86.29.244.57]] 04:21, 14 May 2007      0           5   \n",
       "627                              Seems we both have some.      0           5   \n",
       "824                    16, 7 May 2007 (UTC)TimySmidge 21:      0           6   \n",
       "1719                    Thivierr|Rob]] 23:52, 27 May 2006      0           5   \n",
       "2091                         No, it doesn´t.80.228.65.162      0           3   \n",
       "...                                                   ...    ...         ...   \n",
       "152700                       SAME FOR THIS 166.137.240.20      0           4   \n",
       "153198  which is OVER 9000 OVER 9000 OVER 9000 OVER 90...      0         296   \n",
       "153499  http://en.wikipedia.org/w/index.php?title=Cras...      0           6   \n",
       "155625                       If you have more to say, put      0           7   \n",
       "158899                 Why don't you do it? 24.68.148.215      0           6   \n",
       "\n",
       "        char_count  sentiment processed_text  \n",
       "177             46      0.000            NaN  \n",
       "627             24      0.000            NaN  \n",
       "824             34      0.000            NaN  \n",
       "1719            33      0.000            NaN  \n",
       "2091            28     -0.296            NaN  \n",
       "...            ...        ...            ...  \n",
       "152700          28      0.000            NaN  \n",
       "153198        1478      0.000            NaN  \n",
       "153499         119      0.000            NaN  \n",
       "155625          28      0.000            NaN  \n",
       "158899          34      0.000            NaN  \n",
       "\n",
       "[251 rows x 6 columns]"
      ]
     },
     "execution_count": 20,
     "metadata": {},
     "output_type": "execute_result"
    }
   ],
   "source": [
    "# Удалим пустые строки\n",
    "comments[comments['processed_text'].isna()]"
   ]
  },
  {
   "cell_type": "code",
   "execution_count": 21,
   "metadata": {},
   "outputs": [
    {
     "data": {
      "text/html": [
       "<div>\n",
       "<style scoped>\n",
       "    .dataframe tbody tr th:only-of-type {\n",
       "        vertical-align: middle;\n",
       "    }\n",
       "\n",
       "    .dataframe tbody tr th {\n",
       "        vertical-align: top;\n",
       "    }\n",
       "\n",
       "    .dataframe thead th {\n",
       "        text-align: right;\n",
       "    }\n",
       "</style>\n",
       "<table border=\"1\" class=\"dataframe\">\n",
       "  <thead>\n",
       "    <tr style=\"text-align: right;\">\n",
       "      <th></th>\n",
       "      <th>text</th>\n",
       "      <th>toxic</th>\n",
       "      <th>word_count</th>\n",
       "      <th>char_count</th>\n",
       "      <th>sentiment</th>\n",
       "      <th>processed_text</th>\n",
       "    </tr>\n",
       "  </thead>\n",
       "  <tbody>\n",
       "  </tbody>\n",
       "</table>\n",
       "</div>"
      ],
      "text/plain": [
       "Empty DataFrame\n",
       "Columns: [text, toxic, word_count, char_count, sentiment, processed_text]\n",
       "Index: []"
      ]
     },
     "execution_count": 21,
     "metadata": {},
     "output_type": "execute_result"
    }
   ],
   "source": [
    "comments = comments.dropna(subset=['processed_text', 'toxic'])\n",
    "comments[comments['processed_text'].isna()]"
   ]
  },
  {
   "cell_type": "code",
   "execution_count": 22,
   "metadata": {},
   "outputs": [
    {
     "data": {
      "text/plain": [
       "0    142866\n",
       "1     16175\n",
       "Name: toxic, dtype: int64"
      ]
     },
     "execution_count": 22,
     "metadata": {},
     "output_type": "execute_result"
    }
   ],
   "source": [
    "comments['toxic'].value_counts()"
   ]
  },
  {
   "cell_type": "markdown",
   "metadata": {},
   "source": [
    "## Обучение"
   ]
  },
  {
   "cell_type": "markdown",
   "metadata": {},
   "source": [
    "<div class=\"alert alert-warning\">\n",
    "<font size=\"5\"><b>Комментарий ревьюера</b></font>\n",
    "\n",
    "Совет:\n",
    "\n",
    "\n",
    "- .fit_transform на train датасете, .transform на test/valid. Вроде все верно, но после ты подаешь tf_idf_train в GridSearchCV или cross_val_score и он внутри себя разбивая его на тренировочный и валидационный датасет, получается подглядывание в будущее (утечка данных). Решение в использовании pipeline, ниже распишу\n",
    "\n",
    " "
   ]
  },
  {
   "cell_type": "markdown",
   "metadata": {},
   "source": [
    "<div class=\"alert alert-danger\">\n",
    "<font size=\"5\"><b>Комментарий ревьюера</b></font>\n",
    "\n",
    "    \n",
    "    \n",
    "нет никакого перебора гиперпараметров,  но при этом Откуда то взялись   learning_rate=0.1, depth=6. Все эти значения мы находим   \n",
    " \n",
    "    \n",
    "Есть два варианта исправить красное:\n",
    "    \n",
    "    \n",
    "1. Создать валидационный датасет, найти по нему лучшую модель (не по дефолтным значениям, а добавить какой то перебор в цикле).  \n",
    "    \n",
    "    \n",
    "2.  Можно вместо цикла использовать sklearn-ий встроенный функционал GridSearch. В случаи использования GridSearch, не нужно будет заранее делать валидационную выборку, лучшую метрику автоматом сохранят в best_score_, а лучшую модель (переобученная уже на полном наборе данных) будет хранить в best_estimator_, данные обучения положит в cv_restult_. А главное  он сделает несколько разбиений на train / validation выборки (кросс-валидация), тем самым поборется с рандомом, когда на валидации получен хороший результат только изза удачного сплита. \n",
    "\n",
    "А еще лучше использовать связку GridSearchCV + pipeline. \n",
    "\n",
    "[Pipeline](https://scikit-learn.org/stable/modules/generated/sklearn.pipeline.Pipeline.html), это тема которая сразу затрагивает кроссвалидацию, тюнинг \"векторайз\", подбор гиперпараметров модели и о том что код стоит делать компактным.\n",
    "    \n",
    "    \n",
    "- в TfidfVectorizer(stop_words=stopwords) у тебя по умолчанию ngram_range=(1, 1), тут можно подбирать разное число n- грамм (и другие параметры), максимизируя метрику, но как объединить перебор по ngram_range с обучением моделей, чтобы не делать это по отдельности или с использованием цикла?! pipeline! Готовый [пример для работы с текстами](https://medium.com/@yoni.levine/how-to-grid-search-with-a-pipeline-93147835d916). Всё что нужно там есть, хотя очень лаконично. Можешь погуглить по:\n",
    "\n",
    "\n",
    "    \n",
    "    pipeline nlp gridsearchcv\n",
    "    \n",
    "    \n",
    "- как избежать ошибки подглядывания в будущее, когда мы предварительно работаем с данными (шкалирование, нормализация, TfidfVectorizer итп итд)? pipeline! особенно это важно, когда мы используем кроссвалидацию. Для TfidfVectorizer делаеь .fit (обучаемся) на train, а transform на test, точно также нужно сделать для валидационной выборки. Но GS делает валидационные внутри себя, спрашивается как добраться до них и избежать подглядывания в будущее? Казалось бы никак, но нет! Pipeline! ) \n",
    "    \n",
    "    \n",
    "- pipeline позволяет делать наш код компактней и читабельней, это большой плюс, когда код будет раздуваться   \n",
    "\n",
    "\n",
    "\n",
    "В общем если сделать GS+pieline будет вообще хорошо )  \n",
    "    \n",
    "     "
   ]
  },
  {
   "cell_type": "markdown",
   "metadata": {},
   "source": [
    "<div class=\"alert alert-danger\">\n",
    "<font size=\"5\"><b>Комментарий ревьюера</b></font>\n",
    "\n",
    "Ошибка: \n",
    "\n",
    "- Все верно, логика моделирования не нарушена, тут тестируем только лучшую модель отобранную на валидации,  только тебя не смутила такая большая разница в метриках?  В общем обрати внимание что такое .score\n",
    "\n",
    "<div class=\"alert alert-warning\">\n",
    "\n",
    "\n",
    "\n",
    "Совет: \n",
    "\n",
    "\n",
    "Что может помочь добиться лучшего результата (от простого)? \n",
    "\n",
    " \n",
    "\n",
    "- можно поиграться [порогом](https://machinelearningmastery.com/threshold-moving-for-imbalanced-classification/). Таким образом можно поднять метрику на процент - полтора\n",
    "    \n",
    "\n",
    "\n",
    "    \n",
    "- попробовать другие модели. проект своеобразный выбор между вычислительными ограничениями (много примеров, расчеты могут затянуться) и задачей получить хорошую метрику. С этой точки зрения  интересная [моделька](https://medium.com/geekculture/passive-aggressive-algorithm-for-big-data-models-8cd535ceb2e6) (открывается с помощью VPN) [или](https://datafinder.ru/products/passivno-agressivnyy-klassifikator-v-mashinnom-obuchenii). Она считается очень шустрой     \n",
    "    \n",
    "\n",
    "\n",
    "- использование предбученной модели Берта, выбрав соответствующую модель и используя полученные эмбединги, даже на небольшом тренировочном датасете можно обучить модель, которая на test покажет хорошую метрику. В этом случаи можно сразу получить метрику > 0.95 (при правильно выбранной модели)\n",
    "\n"
   ]
  },
  {
   "cell_type": "markdown",
   "metadata": {},
   "source": [
    "<div class=\"alert alert-info\">\n",
    "Добавила pipeline с GridSearch, модель PassiveAggressiveClassifier и StratifiedKFold чтобы учесть дисбаланс в выборках"
   ]
  },
  {
   "cell_type": "code",
   "execution_count": 23,
   "metadata": {},
   "outputs": [],
   "source": [
    "X = comments['processed_text']\n",
    "y = comments['toxic']\n",
    "\n",
    "# Разделение данных на тренировочную и тестовую выборки\n",
    "X_train, X_test, y_train, y_test = train_test_split(X, y, test_size=0.2, random_state=42, stratify=y)"
   ]
  },
  {
   "cell_type": "code",
   "execution_count": 24,
   "metadata": {},
   "outputs": [],
   "source": [
    "# Определяем Pipeline\n",
    "pipeline = Pipeline([\n",
    "    ('tfidf', TfidfVectorizer(stop_words='english', max_df=0.7)),\n",
    "    ('classifier', LogisticRegression(max_iter=200)) \n",
    "])\n",
    "# Параметры для GridSearch\n",
    "param_grid = {\n",
    "    'tfidf__ngram_range': [(1, 1), (1, 2)],  \n",
    "    'classifier': [LogisticRegression(max_iter=200), \n",
    "                   LinearSVC(max_iter=200),\n",
    "                   PassiveAggressiveClassifier(max_iter=50)\n",
    "                  ]}\n",
    "#                   ,CatBoostClassifier(iterations=100, learning_rate=0.1, depth=6, verbose=0)]"
   ]
  },
  {
   "cell_type": "code",
   "execution_count": 25,
   "metadata": {},
   "outputs": [],
   "source": [
    "# Используем StratifiedKFold для учета дисбаланса по целевому признаку\n",
    "cv = StratifiedKFold(n_splits=5, shuffle=True, random_state=42)"
   ]
  },
  {
   "cell_type": "code",
   "execution_count": 26,
   "metadata": {},
   "outputs": [
    {
     "name": "stdout",
     "output_type": "stream",
     "text": [
      "CPU times: user 13min 56s, sys: 4min 15s, total: 18min 12s\n",
      "Wall time: 18min 12s\n"
     ]
    },
    {
     "data": {
      "text/plain": [
       "GridSearchCV(cv=StratifiedKFold(n_splits=5, random_state=42, shuffle=True),\n",
       "             estimator=Pipeline(steps=[('tfidf',\n",
       "                                        TfidfVectorizer(max_df=0.7,\n",
       "                                                        stop_words='english')),\n",
       "                                       ('classifier',\n",
       "                                        LogisticRegression(max_iter=200))]),\n",
       "             n_jobs=-1,\n",
       "             param_grid={'classifier': [LogisticRegression(max_iter=200),\n",
       "                                        LinearSVC(max_iter=200),\n",
       "                                        PassiveAggressiveClassifier(max_iter=50)],\n",
       "                         'tfidf__ngram_range': [(1, 1), (1, 2)]},\n",
       "             return_train_score=True, scoring='f1')"
      ]
     },
     "execution_count": 26,
     "metadata": {},
     "output_type": "execute_result"
    }
   ],
   "source": [
    "%%time\n",
    "# GridSearchCV\n",
    "grid_search = GridSearchCV(pipeline, param_grid, scoring='f1', cv=cv, n_jobs=-1, return_train_score=True)\n",
    "grid_search.fit(X_train, y_train)"
   ]
  },
  {
   "cell_type": "code",
   "execution_count": 27,
   "metadata": {},
   "outputs": [
    {
     "name": "stdout",
     "output_type": "stream",
     "text": [
      "Лучшая модель: PassiveAggressiveClassifier с F1 Score: 0.78\n"
     ]
    }
   ],
   "source": [
    "best_model = grid_search.best_estimator_\n",
    "print(f'Лучшая модель: {best_model.named_steps[\"classifier\"].__class__.__name__} с F1 Score: {grid_search.best_score_:.2f}')"
   ]
  },
  {
   "cell_type": "code",
   "execution_count": 28,
   "metadata": {},
   "outputs": [
    {
     "name": "stdout",
     "output_type": "stream",
     "text": [
      "Лучший f1 на тренировочной выборке: 0.7841158093525111\n",
      "Лучший f1 на тестовой выборке: 0.7848770018160804\n"
     ]
    }
   ],
   "source": [
    "# Лучшие параметры и значение f1 для тренировочной выборки\n",
    "best_f1_train = grid_search.best_score_\n",
    "print(\"Лучший f1 на тренировочной выборке:\", best_f1_train)\n",
    "\n",
    "# Предсказания на тестовой выборке\n",
    "best_model = grid_search.best_estimator_\n",
    "y_pred_test = best_model.predict(X_test)\n",
    "\n",
    "# Вычисление f1 для тестовой выборки\n",
    "f1_test = f1_score(y_test, y_pred_test)\n",
    "print(\"Лучший f1 на тестовой выборке:\", f1_test)"
   ]
  },
  {
   "cell_type": "markdown",
   "metadata": {},
   "source": [
    "<div class=\"alert alert-success\">\n",
    "<font size=\"5\"><b>Комментарий ревьюераV2</b></font>\n",
    "\n",
    "\n",
    "\n",
    "Успех 👍:\n",
    "\n",
    "\n",
    "    \n",
    "    \n",
    "Отличная работа, использование связки GridSearchCV + pipeline это уже другой уровень \n",
    "    \n",
    "    \n",
    "    \n",
    "    \n",
    "<div class=\"alert alert-warning\">\n",
    "\n",
    "\n",
    "Совет:  \n",
    "\n",
    "\n",
    "    \n",
    "    \n",
    "чтобы отточить технику можно было ещё сделать  feature_engenering (это когда мы создаём собственные признаки. Во многих случаях это более эффективный способ повысить нашу метрику. Опять же для данного проекта это особо не работает,  но можно было попрактиковаться.  Например использовать результаты SentimentIntensityAnalyzer    "
   ]
  },
  {
   "cell_type": "markdown",
   "metadata": {},
   "source": [
    "\n",
    " \n",
    "\n",
    "<div class=\"alert alert-warning\">\n",
    "<font size=\"5\"><b>Комментарий ревьюера</b></font>\n",
    "\n",
    "\n",
    "Совет: \n",
    "\n",
    "\n",
    "   \n",
    " \n",
    "\n",
    "Можно оценить важность признаков, это можно сделать с помощью [.feature_importance](https://inria.github.io/scikit-learn-mooc/python_scripts/dev_features_importance.html), [Permutation Importance](https://scikit-learn.org/stable/modules/permutation_importance.html), shap\n",
    "    \n",
    "    \n",
    "    \n",
    "Полезно чтобы модель не выглядела чёрным ящиком   "
   ]
  },
  {
   "cell_type": "markdown",
   "metadata": {},
   "source": [
    "<div class=\"alert alert-info\">\n",
    "Попробовала сделать shap анализ важности признаков - падает kernel"
   ]
  },
  {
   "cell_type": "markdown",
   "metadata": {},
   "source": [
    " \n",
    "\n",
    "\n",
    "<div class=\"alert alert-warning\">\n",
    "<font size=\"5\"><b>Комментарий ревьюераV2</b></font>\n",
    "\n",
    "\n",
    "Совет: \n",
    "\n",
    "Тогда можно было взять логистическую регрессию (Не знаю есть такое у PassiveAggressiveClassifier), и получаем список слов    \n",
    "    \n",
    "    \n",
    "    \n",
    "    words = Твоя модель.best_estimator_.named_steps['Имя викторизатора'].get_feature_names_out()\n",
    "\n",
    "    \n",
    "    \n",
    "    \n",
    "Получаем коэффициенты важности (для логистической регрессии)   \n",
    "    \n",
    "    \n",
    "    \n",
    "    weights = Твоя модель.best_estimator_.named_steps['имя модели'].coef_[0]\n",
    "\n",
    "\n",
    "\n",
    " \n",
    "\n",
    "А потом можно построить такой-то красивый график с помощью     seaborn\n",
    "\n",
    " \n",
    "    \n",
    "Вот так ядро точно не упадёт    "
   ]
  },
  {
   "cell_type": "code",
   "execution_count": null,
   "metadata": {},
   "outputs": [],
   "source": [
    "# Создаем объект SHAP Explainer\n",
    "# explainer = shap.Explainer(best_model.named_steps['classifier'], \\\n",
    "#                            best_model.named_steps['tfidf'].transform(X_train[:100]))\n",
    "\n",
    "# Применяем SHAP к тестовым данным\n",
    "# shap_values = explainer(best_model.named_steps['tfidf'].transform(X_test[:100]))\n",
    "\n",
    "# Визуализация значений SHAP для первых нескольких примеров\n",
    "# shap.summary_plot(shap_values, feature_names=best_model.named_steps['tfidf'].get_feature_names_out())"
   ]
  },
  {
   "cell_type": "markdown",
   "metadata": {},
   "source": []
  },
  {
   "cell_type": "markdown",
   "metadata": {},
   "source": [
    "## Выводы"
   ]
  },
  {
   "cell_type": "markdown",
   "metadata": {},
   "source": [
    "В рамках задачи по созданию инструмента для модерации комментариев в интернет-магазине «Викишоп» был разработан и обучен классификатор для определения токсичных и позитивных комментариев. \n",
    "\n",
    "Мы исследовали несколько моделей и использовали метод кросс-валидации для оценки их качества по метрике F1. \n",
    "В результате сравнения различных подходов была выбрана модель PassiveAggressiveClassifier с f1: 0.78. \n",
    "\n",
    "Мы рекомендуем внедрить модель PassiveAggressiveClassifier для автоматического определения токсичных комментариев и отправки их на модерацию, что позволит улучшить качество сообщений на платформе и создать более комфортную среду для пользователей."
   ]
  },
  {
   "cell_type": "markdown",
   "metadata": {},
   "source": [
    "\n",
    "<div class=\"alert alert-info\">\n",
    "<font size=\"5\"><b>Комментарий ревьюера</b></font>\n",
    "\n",
    "\n",
    "\n",
    "Полина, у тебя старательно выполненная работа, все четко, осмысленно. \n",
    "\n",
    "\n",
    "\n",
    "Нет проблем с комментированием кода - всё что ты делаешь понятно\n",
    " \n",
    "\n",
    "Логика моделирования не нарушена \n",
    "\n",
    "\n",
    "Так как число ошибок небольшое, можешь усложнить проект:\n",
    "\n",
    "\n",
    "\n",
    " \n",
    "- попробуй использовать связку GS+pipeline\n",
    "\n",
    "\n",
    "\n",
    "\n",
    "- попробуй очень современный и модный сейчас подход с использованием  Берта. Есть несколько вариантов, самый эффективный - это использовать эмбединги (как замена TFIDF) для этого есть уже готовый код в тренажёре (в этом случае разрешается сильно порезать датасет, а если еще и использовать GPU в Colab код можно прогнать за полчаса).\n",
    "\n",
    "\n",
    "\n",
    "- для красивой  визуализации можешь построить облако для токсичных и нетоксичных комментариев\n",
    "\n",
    "\n",
    "\n",
    "- чтобы заглянуть внутрь модели, можешь посмотреть какой из признаков является наиболее важный для логистической регресси (должно получиться слово fuck)   \n",
    "\n",
    " \n",
    "\n",
    "\n",
    "Обязательное к исправлению:\n",
    "\n",
    " \n",
    "\n",
    "- WordNetLemmatizer используем с POS - тег, и не забываем провести очистку текста от не нужного, у нас ведь и без того огромное пространство признаков создаётся \n",
    " \n",
    "\n",
    "\n",
    "- нет перебора гиперпараметров (это можно сделать с помощью вручную прописанных циклов либо с помощью GridSearchCV)\n",
    "\n",
    " \n",
    "\n",
    "- считаем нужную метрику на тестовой \n",
    "\n",
    "\n",
    "\n",
    "\n",
    "Жду исправлений, для принятия проекта. Если какие то вопросы, то сразу спрашивай ) \n",
    "\n",
    "\n",
    "<font color='green'><b>Полезные (и просто интересные) материалы:</b> \\\n",
    "Для работы с текстами используют и другие подходы. Например, сейчас активно используются RNN (LSTM) и трансформеры (BERT и другие с улицы Сезам, например, ELMO). НО! Они не являются панацеей, не всегда они нужны, так как и TF-IDF или Word2Vec + модели из классического ML тоже могут справляться. \\\n",
    "BERT тяжелый, существует много его вариаций для разных задач, есть готовые модели, есть надстройки над библиотекой transformers. Если, обучать BERT на GPU (можно в Google Colab или Kaggle), то должно быть побыстрее.\\\n",
    "https://huggingface.co/transformers/model_doc/bert.html \\\n",
    "https://t.me/renat_alimbekov \\\n",
    "https://colah.github.io/posts/2015-08-Understanding-LSTMs/ - Про LSTM \\\n",
    "https://web.stanford.edu/~jurafsky/slp3/10.pdf - про энкодер-декодер модели, этеншены\\\n",
    "https://pytorch.org/tutorials/beginner/transformer_tutorial.html - официальный гайд\n",
    "по трансформеру от создателей pytorch\\\n",
    "https://transformer.huggingface.co/ - поболтать с трансформером \\\n",
    "Библиотеки: allennlp, fairseq, transformers, tensorflow-text — множествореализованных\n",
    "методов для трансформеров методов NLP \\\n",
    "Word2Vec https://radimrehurek.com/gensim/models/word2vec.html \n",
    "\n",
    "\n",
    "Если понравилась работа с текстами, то можешь посмотреть очень интересный (но очень-очень сложный) курс лекций: https://github.com/yandexdataschool/nlp_course .\n",
    "\n",
    "Если нравится смотреть и слушать то есть целый курс на Ютубе https://www.youtube.com/watch?v=qDMwIQRQt-M&list=PLEwK9wdS5g0qksxWxtE5c2KuFkIfUXe3i&index=1\n"
   ]
  },
  {
   "cell_type": "markdown",
   "metadata": {},
   "source": [
    "\n",
    "<div class=\"alert alert-info\">\n",
    "<font size=\"5\"><b>Комментарий ревьюераV2</b></font>\n",
    "\n",
    "Спасибо за работу!    \n",
    "\n",
    "    \n",
    "Красное исправлено,   желтые советы использованы,    (это все было по желанию), значит стремишься развиваться, а желание и интерес это главное. Надеюсь мои советы   были полезны и в копилочку знаний упало что то новое, а проект стал лучше, и симпатичней. Единственное Жаль что не попробовала Берт, в плане кода его реализация даже проще TFIDF, зато Метрика взлетела бы\n",
    "  \n",
    "  \n",
    "Отличная работа Полина. Желаю успехов в дальнейшей учебе!\n",
    "\n",
    " "
   ]
  },
  {
   "cell_type": "markdown",
   "metadata": {},
   "source": [
    "## Чек-лист проверки"
   ]
  },
  {
   "cell_type": "markdown",
   "metadata": {},
   "source": [
    "- [x]  Jupyter Notebook открыт\n",
    "- [x]  Весь код выполняется без ошибок\n",
    "- [x]  Ячейки с кодом расположены в порядке исполнения\n",
    "- [x]  Данные загружены и подготовлены\n",
    "- [x]  Модели обучены\n",
    "- [x]  Значение метрики *F1* не меньше 0.75\n",
    "- [x]  Выводы написаны"
   ]
  }
 ],
 "metadata": {
  "ExecuteTimeLog": [
   {
    "duration": 1881,
    "start_time": "2024-08-24T11:29:13.680Z"
   },
   {
    "duration": 3670,
    "start_time": "2024-08-24T11:30:23.734Z"
   },
   {
    "duration": 12,
    "start_time": "2024-08-24T11:30:39.984Z"
   },
   {
    "duration": 31,
    "start_time": "2024-08-24T11:31:21.408Z"
   },
   {
    "duration": 9,
    "start_time": "2024-08-24T11:32:14.477Z"
   },
   {
    "duration": 9,
    "start_time": "2024-08-24T11:32:22.479Z"
   },
   {
    "duration": 864,
    "start_time": "2024-08-24T11:33:17.097Z"
   },
   {
    "duration": 7,
    "start_time": "2024-08-24T11:33:20.071Z"
   },
   {
    "duration": 37,
    "start_time": "2024-08-24T11:33:21.990Z"
   },
   {
    "duration": 14,
    "start_time": "2024-08-24T11:33:24.105Z"
   },
   {
    "duration": 10,
    "start_time": "2024-08-24T11:33:25.663Z"
   },
   {
    "duration": 237,
    "start_time": "2024-08-24T11:34:56.127Z"
   },
   {
    "duration": 208,
    "start_time": "2024-08-24T11:35:37.772Z"
   },
   {
    "duration": 380,
    "start_time": "2024-08-24T11:44:38.140Z"
   },
   {
    "duration": 936,
    "start_time": "2024-08-24T11:44:50.000Z"
   },
   {
    "duration": 7,
    "start_time": "2024-08-24T11:44:51.774Z"
   },
   {
    "duration": 40,
    "start_time": "2024-08-24T11:44:52.681Z"
   },
   {
    "duration": 10,
    "start_time": "2024-08-24T11:44:53.628Z"
   },
   {
    "duration": 10,
    "start_time": "2024-08-24T11:44:54.247Z"
   },
   {
    "duration": 246,
    "start_time": "2024-08-24T11:44:55.318Z"
   },
   {
    "duration": 136652,
    "start_time": "2024-08-24T11:45:35.657Z"
   },
   {
    "duration": 8688,
    "start_time": "2024-08-24T11:48:00.003Z"
   },
   {
    "duration": 424947,
    "start_time": "2024-08-24T11:48:14.351Z"
   },
   {
    "duration": 20,
    "start_time": "2024-08-24T11:56:22.258Z"
   },
   {
    "duration": 2,
    "start_time": "2024-08-24T11:57:14.302Z"
   },
   {
    "duration": 152,
    "start_time": "2024-08-24T11:57:35.769Z"
   },
   {
    "duration": 9,
    "start_time": "2024-08-24T11:58:07.957Z"
   },
   {
    "duration": 1043861,
    "start_time": "2024-08-24T11:58:14.964Z"
   },
   {
    "duration": 1472,
    "start_time": "2024-08-24T12:16:33.806Z"
   },
   {
    "duration": 926,
    "start_time": "2024-08-24T12:16:37.598Z"
   },
   {
    "duration": 8,
    "start_time": "2024-08-24T12:16:39.528Z"
   },
   {
    "duration": 30,
    "start_time": "2024-08-24T12:16:40.517Z"
   },
   {
    "duration": 10,
    "start_time": "2024-08-24T12:16:41.247Z"
   },
   {
    "duration": 12,
    "start_time": "2024-08-24T12:16:42.198Z"
   },
   {
    "duration": 251,
    "start_time": "2024-08-24T12:16:43.267Z"
   },
   {
    "duration": 126434,
    "start_time": "2024-08-24T12:16:44.691Z"
   },
   {
    "duration": 7543,
    "start_time": "2024-08-24T12:18:51.127Z"
   },
   {
    "duration": 62,
    "start_time": "2024-08-24T12:19:37.246Z"
   },
   {
    "duration": 111751,
    "start_time": "2024-08-24T12:19:53.224Z"
   },
   {
    "duration": 20,
    "start_time": "2024-08-24T12:21:51.589Z"
   },
   {
    "duration": 4880,
    "start_time": "2024-08-24T12:21:57.981Z"
   },
   {
    "duration": 4,
    "start_time": "2024-08-24T12:22:31.742Z"
   },
   {
    "duration": 116,
    "start_time": "2024-08-24T12:22:32.878Z"
   },
   {
    "duration": 56,
    "start_time": "2024-08-24T12:22:58.746Z"
   },
   {
    "duration": 3,
    "start_time": "2024-08-24T12:23:04.777Z"
   },
   {
    "duration": 561571,
    "start_time": "2024-08-24T12:23:06.797Z"
   },
   {
    "duration": 1575,
    "start_time": "2024-08-24T14:10:20.367Z"
   },
   {
    "duration": 1246,
    "start_time": "2024-08-24T14:10:24.618Z"
   },
   {
    "duration": 9,
    "start_time": "2024-08-24T14:10:27.110Z"
   },
   {
    "duration": 36,
    "start_time": "2024-08-24T14:10:27.978Z"
   },
   {
    "duration": 11,
    "start_time": "2024-08-24T14:10:28.779Z"
   },
   {
    "duration": 12,
    "start_time": "2024-08-24T14:10:29.478Z"
   },
   {
    "duration": 266,
    "start_time": "2024-08-24T14:10:30.512Z"
   },
   {
    "duration": 91696,
    "start_time": "2024-08-24T14:10:32.144Z"
   },
   {
    "duration": 0,
    "start_time": "2024-08-24T14:12:03.841Z"
   },
   {
    "duration": 0,
    "start_time": "2024-08-24T14:12:03.843Z"
   },
   {
    "duration": 0,
    "start_time": "2024-08-24T14:12:03.844Z"
   },
   {
    "duration": 0,
    "start_time": "2024-08-24T14:12:03.845Z"
   },
   {
    "duration": 0,
    "start_time": "2024-08-24T14:12:03.846Z"
   },
   {
    "duration": 11,
    "start_time": "2024-08-24T14:12:16.088Z"
   },
   {
    "duration": 800,
    "start_time": "2024-08-24T14:12:20.356Z"
   },
   {
    "duration": 6,
    "start_time": "2024-08-24T14:12:21.158Z"
   },
   {
    "duration": 30,
    "start_time": "2024-08-24T14:12:21.931Z"
   },
   {
    "duration": 10,
    "start_time": "2024-08-24T14:12:22.764Z"
   },
   {
    "duration": 10,
    "start_time": "2024-08-24T14:12:23.364Z"
   },
   {
    "duration": 233,
    "start_time": "2024-08-24T14:12:24.223Z"
   },
   {
    "duration": 105934,
    "start_time": "2024-08-24T14:13:31.212Z"
   },
   {
    "duration": 37,
    "start_time": "2024-08-24T14:15:17.147Z"
   },
   {
    "duration": 4618,
    "start_time": "2024-08-24T14:15:17.186Z"
   },
   {
    "duration": 3,
    "start_time": "2024-08-24T14:15:21.805Z"
   },
   {
    "duration": 17,
    "start_time": "2024-08-24T14:15:21.810Z"
   },
   {
    "duration": 1448,
    "start_time": "2024-08-24T14:26:11.992Z"
   },
   {
    "duration": 938,
    "start_time": "2024-08-24T14:26:16.862Z"
   },
   {
    "duration": 9,
    "start_time": "2024-08-24T14:26:18.574Z"
   },
   {
    "duration": 31,
    "start_time": "2024-08-24T14:26:20.098Z"
   },
   {
    "duration": 10,
    "start_time": "2024-08-24T14:26:20.229Z"
   },
   {
    "duration": 15,
    "start_time": "2024-08-24T14:26:21.176Z"
   },
   {
    "duration": 245,
    "start_time": "2024-08-24T14:26:21.845Z"
   },
   {
    "duration": 107910,
    "start_time": "2024-08-24T14:26:23.329Z"
   },
   {
    "duration": 45,
    "start_time": "2024-08-24T14:28:11.241Z"
   },
   {
    "duration": 112,
    "start_time": "2024-08-24T14:28:15.819Z"
   },
   {
    "duration": 3574,
    "start_time": "2024-08-24T14:28:27.030Z"
   },
   {
    "duration": 34,
    "start_time": "2024-08-24T14:28:31.792Z"
   },
   {
    "duration": 4651,
    "start_time": "2024-08-24T14:28:42.332Z"
   },
   {
    "duration": 6,
    "start_time": "2024-08-24T14:28:53.418Z"
   },
   {
    "duration": 3,
    "start_time": "2024-08-24T14:29:03.145Z"
   },
   {
    "duration": 3,
    "start_time": "2024-08-24T14:29:04.062Z"
   },
   {
    "duration": 180701,
    "start_time": "2024-08-24T14:29:05.955Z"
   },
   {
    "duration": 3707,
    "start_time": "2024-08-24T14:33:04.093Z"
   },
   {
    "duration": 944,
    "start_time": "2024-08-24T14:33:07.802Z"
   },
   {
    "duration": 9,
    "start_time": "2024-08-24T14:33:08.748Z"
   },
   {
    "duration": 57,
    "start_time": "2024-08-24T14:33:08.759Z"
   },
   {
    "duration": 10,
    "start_time": "2024-08-24T14:33:08.817Z"
   },
   {
    "duration": 22,
    "start_time": "2024-08-24T14:33:08.828Z"
   },
   {
    "duration": 243,
    "start_time": "2024-08-24T14:33:08.852Z"
   },
   {
    "duration": 108428,
    "start_time": "2024-08-24T14:33:09.801Z"
   },
   {
    "duration": 51,
    "start_time": "2024-08-24T14:34:58.232Z"
   },
   {
    "duration": 4813,
    "start_time": "2024-08-24T14:34:58.285Z"
   },
   {
    "duration": 122,
    "start_time": "2024-08-24T14:35:03.100Z"
   },
   {
    "duration": 0,
    "start_time": "2024-08-24T14:35:03.223Z"
   },
   {
    "duration": 0,
    "start_time": "2024-08-24T14:35:03.224Z"
   },
   {
    "duration": 3,
    "start_time": "2024-08-24T14:35:23.781Z"
   },
   {
    "duration": 3,
    "start_time": "2024-08-24T14:35:24.797Z"
   },
   {
    "duration": 3,
    "start_time": "2024-08-24T14:35:25.702Z"
   },
   {
    "duration": 1306427,
    "start_time": "2024-08-24T14:35:27.325Z"
   },
   {
    "duration": 49335,
    "start_time": "2024-08-24T14:59:05.512Z"
   },
   {
    "duration": 1557,
    "start_time": "2024-08-24T16:42:41.399Z"
   },
   {
    "duration": 1243,
    "start_time": "2024-08-24T16:42:45.072Z"
   },
   {
    "duration": 9,
    "start_time": "2024-08-24T16:42:46.316Z"
   },
   {
    "duration": 31,
    "start_time": "2024-08-24T16:42:46.614Z"
   },
   {
    "duration": 10,
    "start_time": "2024-08-24T16:42:47.521Z"
   },
   {
    "duration": 11,
    "start_time": "2024-08-24T16:42:48.145Z"
   },
   {
    "duration": 242,
    "start_time": "2024-08-24T16:42:48.854Z"
   },
   {
    "duration": 105500,
    "start_time": "2024-08-24T16:42:49.804Z"
   },
   {
    "duration": 41,
    "start_time": "2024-08-24T16:45:05.765Z"
   },
   {
    "duration": 4638,
    "start_time": "2024-08-24T16:45:07.583Z"
   },
   {
    "duration": 3,
    "start_time": "2024-08-24T16:45:14.670Z"
   },
   {
    "duration": 3,
    "start_time": "2024-08-24T16:45:16.215Z"
   },
   {
    "duration": 3,
    "start_time": "2024-08-24T16:45:17.648Z"
   },
   {
    "duration": 15362,
    "start_time": "2024-08-24T16:45:31.808Z"
   },
   {
    "duration": 1224141,
    "start_time": "2024-08-24T16:45:51.835Z"
   },
   {
    "duration": 0,
    "start_time": "2024-08-24T17:06:15.978Z"
   },
   {
    "duration": 0,
    "start_time": "2024-08-24T17:06:15.979Z"
   },
   {
    "duration": 0,
    "start_time": "2024-08-24T17:06:15.980Z"
   },
   {
    "duration": 0,
    "start_time": "2024-08-24T17:06:15.981Z"
   },
   {
    "duration": 214,
    "start_time": "2024-08-24T17:10:15.666Z"
   },
   {
    "duration": 3470055,
    "start_time": "2024-08-24T17:10:32.927Z"
   },
   {
    "duration": 1086,
    "start_time": "2024-08-24T18:15:02.148Z"
   },
   {
    "duration": 1078,
    "start_time": "2024-08-24T18:15:22.352Z"
   },
   {
    "duration": 3390,
    "start_time": "2024-08-24T18:15:38.717Z"
   },
   {
    "duration": 15,
    "start_time": "2024-08-24T18:15:44.128Z"
   },
   {
    "duration": 3363,
    "start_time": "2024-08-24T18:15:46.472Z"
   },
   {
    "duration": 877,
    "start_time": "2024-08-24T18:16:20.066Z"
   },
   {
    "duration": 960,
    "start_time": "2024-08-24T18:16:36.764Z"
   },
   {
    "duration": 2355,
    "start_time": "2024-08-24T18:20:27.179Z"
   },
   {
    "duration": 2232,
    "start_time": "2024-08-24T18:20:49.266Z"
   },
   {
    "duration": 1541,
    "start_time": "2024-08-24T18:23:05.327Z"
   },
   {
    "duration": 876,
    "start_time": "2024-08-24T18:23:08.849Z"
   },
   {
    "duration": 9,
    "start_time": "2024-08-24T18:23:09.727Z"
   },
   {
    "duration": 32,
    "start_time": "2024-08-24T18:23:10.117Z"
   },
   {
    "duration": 10,
    "start_time": "2024-08-24T18:23:10.689Z"
   },
   {
    "duration": 11,
    "start_time": "2024-08-24T18:23:11.248Z"
   },
   {
    "duration": 248,
    "start_time": "2024-08-24T18:23:11.857Z"
   },
   {
    "duration": 109552,
    "start_time": "2024-08-24T18:23:12.413Z"
   },
   {
    "duration": 42,
    "start_time": "2024-08-24T18:25:01.967Z"
   },
   {
    "duration": 324,
    "start_time": "2024-08-24T18:25:02.011Z"
   },
   {
    "duration": 0,
    "start_time": "2024-08-24T18:25:02.337Z"
   },
   {
    "duration": 0,
    "start_time": "2024-08-24T18:25:02.338Z"
   },
   {
    "duration": 0,
    "start_time": "2024-08-24T18:25:02.339Z"
   },
   {
    "duration": 0,
    "start_time": "2024-08-24T18:25:02.340Z"
   },
   {
    "duration": 213,
    "start_time": "2024-08-24T18:25:32.336Z"
   },
   {
    "duration": 5302,
    "start_time": "2024-08-24T18:25:33.588Z"
   },
   {
    "duration": 3,
    "start_time": "2024-08-24T18:25:40.065Z"
   },
   {
    "duration": 3,
    "start_time": "2024-08-24T18:25:41.918Z"
   },
   {
    "duration": 375289,
    "start_time": "2024-08-24T18:26:20.636Z"
   },
   {
    "duration": 0,
    "start_time": "2024-08-24T18:32:35.927Z"
   },
   {
    "duration": 0,
    "start_time": "2024-08-24T18:32:35.928Z"
   },
   {
    "duration": 0,
    "start_time": "2024-08-24T18:32:35.929Z"
   },
   {
    "duration": 3,
    "start_time": "2024-08-24T18:32:40.412Z"
   },
   {
    "duration": 264310,
    "start_time": "2024-08-24T18:32:42.250Z"
   },
   {
    "duration": 0,
    "start_time": "2024-08-24T18:37:06.562Z"
   },
   {
    "duration": 0,
    "start_time": "2024-08-24T18:37:06.563Z"
   },
   {
    "duration": 0,
    "start_time": "2024-08-24T18:37:06.564Z"
   },
   {
    "duration": 5222,
    "start_time": "2024-08-24T18:37:57.341Z"
   },
   {
    "duration": 5,
    "start_time": "2024-08-24T18:38:04.490Z"
   },
   {
    "duration": 3,
    "start_time": "2024-08-24T18:38:06.559Z"
   },
   {
    "duration": 36425,
    "start_time": "2024-08-24T18:38:08.896Z"
   },
   {
    "duration": 2272,
    "start_time": "2024-08-24T18:38:49.861Z"
   },
   {
    "duration": 1694,
    "start_time": "2024-08-24T18:38:52.136Z"
   },
   {
    "duration": 855,
    "start_time": "2024-08-24T18:38:53.832Z"
   },
   {
    "duration": 9,
    "start_time": "2024-08-24T18:38:54.688Z"
   },
   {
    "duration": 30,
    "start_time": "2024-08-24T18:38:54.699Z"
   },
   {
    "duration": 25,
    "start_time": "2024-08-24T18:38:54.730Z"
   },
   {
    "duration": 11,
    "start_time": "2024-08-24T18:38:54.757Z"
   },
   {
    "duration": 263,
    "start_time": "2024-08-24T18:38:54.770Z"
   },
   {
    "duration": 108579,
    "start_time": "2024-08-24T18:38:55.036Z"
   },
   {
    "duration": 48,
    "start_time": "2024-08-24T18:40:43.617Z"
   },
   {
    "duration": 203,
    "start_time": "2024-08-24T18:40:43.666Z"
   },
   {
    "duration": 4510,
    "start_time": "2024-08-24T18:40:43.871Z"
   },
   {
    "duration": 3,
    "start_time": "2024-08-24T18:40:48.383Z"
   },
   {
    "duration": 12,
    "start_time": "2024-08-24T18:40:48.388Z"
   },
   {
    "duration": 421046,
    "start_time": "2024-08-24T18:40:48.402Z"
   },
   {
    "duration": 0,
    "start_time": "2024-08-24T18:47:49.450Z"
   },
   {
    "duration": 0,
    "start_time": "2024-08-24T18:47:49.451Z"
   },
   {
    "duration": 0,
    "start_time": "2024-08-24T18:47:49.452Z"
   },
   {
    "duration": 76,
    "start_time": "2024-08-24T18:48:04.840Z"
   },
   {
    "duration": 4,
    "start_time": "2024-08-24T18:48:11.246Z"
   },
   {
    "duration": 10468,
    "start_time": "2024-08-24T18:48:13.388Z"
   },
   {
    "duration": 67,
    "start_time": "2024-08-24T18:48:28.076Z"
   },
   {
    "duration": 956,
    "start_time": "2024-08-24T18:49:15.337Z"
   },
   {
    "duration": 64,
    "start_time": "2024-08-24T18:49:21.414Z"
   },
   {
    "duration": 17,
    "start_time": "2024-08-24T18:49:24.493Z"
   },
   {
    "duration": 18,
    "start_time": "2024-08-24T18:50:12.464Z"
   },
   {
    "duration": 529,
    "start_time": "2024-08-24T18:50:32.391Z"
   },
   {
    "duration": 68,
    "start_time": "2024-08-24T18:52:25.451Z"
   },
   {
    "duration": 525,
    "start_time": "2024-08-24T18:53:24.279Z"
   },
   {
    "duration": 513,
    "start_time": "2024-08-24T18:53:59.250Z"
   },
   {
    "duration": 6,
    "start_time": "2024-08-24T18:55:31.192Z"
   },
   {
    "duration": 489,
    "start_time": "2024-08-24T18:57:18.401Z"
   },
   {
    "duration": 520,
    "start_time": "2024-08-24T18:58:18.164Z"
   },
   {
    "duration": 11,
    "start_time": "2024-08-24T19:00:39.646Z"
   },
   {
    "duration": 35,
    "start_time": "2024-08-24T19:01:53.490Z"
   },
   {
    "duration": 22,
    "start_time": "2024-08-24T19:02:03.915Z"
   },
   {
    "duration": 6377,
    "start_time": "2024-08-24T19:02:42.525Z"
   },
   {
    "duration": 1071,
    "start_time": "2024-08-24T19:04:59.679Z"
   },
   {
    "duration": 0,
    "start_time": "2024-08-24T19:05:00.752Z"
   },
   {
    "duration": 0,
    "start_time": "2024-08-24T19:05:00.753Z"
   },
   {
    "duration": 0,
    "start_time": "2024-08-24T19:05:00.754Z"
   },
   {
    "duration": 0,
    "start_time": "2024-08-24T19:05:00.755Z"
   },
   {
    "duration": 0,
    "start_time": "2024-08-24T19:05:00.756Z"
   },
   {
    "duration": 0,
    "start_time": "2024-08-24T19:05:00.757Z"
   },
   {
    "duration": 0,
    "start_time": "2024-08-24T19:05:00.757Z"
   },
   {
    "duration": 0,
    "start_time": "2024-08-24T19:05:00.758Z"
   },
   {
    "duration": 0,
    "start_time": "2024-08-24T19:05:00.759Z"
   },
   {
    "duration": 0,
    "start_time": "2024-08-24T19:05:00.760Z"
   },
   {
    "duration": 0,
    "start_time": "2024-08-24T19:05:00.761Z"
   },
   {
    "duration": 0,
    "start_time": "2024-08-24T19:05:00.762Z"
   },
   {
    "duration": 0,
    "start_time": "2024-08-24T19:05:00.763Z"
   },
   {
    "duration": 0,
    "start_time": "2024-08-24T19:05:00.764Z"
   },
   {
    "duration": 0,
    "start_time": "2024-08-24T19:05:00.765Z"
   },
   {
    "duration": 1751,
    "start_time": "2024-08-24T19:05:13.750Z"
   },
   {
    "duration": 907,
    "start_time": "2024-08-24T19:05:15.503Z"
   },
   {
    "duration": 9,
    "start_time": "2024-08-24T19:05:16.411Z"
   },
   {
    "duration": 42,
    "start_time": "2024-08-24T19:05:16.421Z"
   },
   {
    "duration": 9,
    "start_time": "2024-08-24T19:05:16.465Z"
   },
   {
    "duration": 18,
    "start_time": "2024-08-24T19:05:16.476Z"
   },
   {
    "duration": 275,
    "start_time": "2024-08-24T19:05:16.495Z"
   },
   {
    "duration": 105290,
    "start_time": "2024-08-24T19:05:16.772Z"
   },
   {
    "duration": 39,
    "start_time": "2024-08-24T19:07:02.064Z"
   },
   {
    "duration": 215,
    "start_time": "2024-08-24T19:07:02.105Z"
   },
   {
    "duration": 4585,
    "start_time": "2024-08-24T19:07:02.321Z"
   },
   {
    "duration": 3,
    "start_time": "2024-08-24T19:07:06.908Z"
   },
   {
    "duration": 16,
    "start_time": "2024-08-24T19:07:06.913Z"
   },
   {
    "duration": 1809,
    "start_time": "2024-08-24T19:22:34.247Z"
   },
   {
    "duration": 922,
    "start_time": "2024-08-24T19:22:36.059Z"
   },
   {
    "duration": 8,
    "start_time": "2024-08-24T19:22:36.983Z"
   },
   {
    "duration": 36,
    "start_time": "2024-08-24T19:22:36.992Z"
   },
   {
    "duration": 10,
    "start_time": "2024-08-24T19:22:37.030Z"
   },
   {
    "duration": 11,
    "start_time": "2024-08-24T19:22:37.053Z"
   },
   {
    "duration": 283,
    "start_time": "2024-08-24T19:22:37.066Z"
   },
   {
    "duration": 107316,
    "start_time": "2024-08-24T19:22:37.352Z"
   },
   {
    "duration": 39,
    "start_time": "2024-08-24T19:24:24.669Z"
   },
   {
    "duration": 211,
    "start_time": "2024-08-24T19:24:24.709Z"
   },
   {
    "duration": 4439,
    "start_time": "2024-08-24T19:24:24.922Z"
   },
   {
    "duration": 3,
    "start_time": "2024-08-24T19:24:29.362Z"
   },
   {
    "duration": 5,
    "start_time": "2024-08-24T19:24:29.367Z"
   },
   {
    "duration": 621775,
    "start_time": "2024-08-24T19:24:29.374Z"
   },
   {
    "duration": 893,
    "start_time": "2024-08-24T19:34:51.151Z"
   },
   {
    "duration": 76,
    "start_time": "2024-08-24T19:34:52.045Z"
   },
   {
    "duration": 1946,
    "start_time": "2024-08-27T11:22:43.690Z"
   },
   {
    "duration": 117,
    "start_time": "2024-08-27T11:23:18.613Z"
   },
   {
    "duration": 1181,
    "start_time": "2024-08-27T11:23:29.198Z"
   },
   {
    "duration": 9,
    "start_time": "2024-08-27T11:23:31.694Z"
   },
   {
    "duration": 23,
    "start_time": "2024-08-27T11:23:34.505Z"
   },
   {
    "duration": 3505,
    "start_time": "2024-08-27T16:15:02.167Z"
   },
   {
    "duration": 4414,
    "start_time": "2024-08-27T16:15:30.885Z"
   },
   {
    "duration": 4108,
    "start_time": "2024-08-27T16:16:05.726Z"
   },
   {
    "duration": 2070,
    "start_time": "2024-08-27T16:17:10.128Z"
   },
   {
    "duration": 1218,
    "start_time": "2024-08-27T16:17:12.200Z"
   },
   {
    "duration": 9,
    "start_time": "2024-08-27T16:17:13.420Z"
   },
   {
    "duration": 48,
    "start_time": "2024-08-27T16:17:13.431Z"
   },
   {
    "duration": 1636,
    "start_time": "2024-08-27T16:20:46.487Z"
   },
   {
    "duration": 896,
    "start_time": "2024-08-27T16:20:53.906Z"
   },
   {
    "duration": 7,
    "start_time": "2024-08-27T16:20:55.753Z"
   },
   {
    "duration": 31,
    "start_time": "2024-08-27T16:20:56.405Z"
   },
   {
    "duration": 11,
    "start_time": "2024-08-27T16:20:58.336Z"
   },
   {
    "duration": 252,
    "start_time": "2024-08-27T16:20:59.637Z"
   },
   {
    "duration": 122,
    "start_time": "2024-08-27T16:21:21.421Z"
   },
   {
    "duration": 390,
    "start_time": "2024-08-27T16:22:40.280Z"
   },
   {
    "duration": 326,
    "start_time": "2024-08-27T16:23:11.500Z"
   },
   {
    "duration": 724,
    "start_time": "2024-08-27T16:23:55.226Z"
   },
   {
    "duration": 804,
    "start_time": "2024-08-27T16:24:40.206Z"
   },
   {
    "duration": 155,
    "start_time": "2024-08-27T16:25:03.630Z"
   },
   {
    "duration": 350,
    "start_time": "2024-08-27T16:25:29.714Z"
   },
   {
    "duration": 95160,
    "start_time": "2024-08-27T16:25:38.486Z"
   },
   {
    "duration": 6,
    "start_time": "2024-08-27T16:27:33.345Z"
   },
   {
    "duration": 11205,
    "start_time": "2024-08-27T16:29:11.380Z"
   },
   {
    "duration": 78208,
    "start_time": "2024-08-27T16:30:13.474Z"
   },
   {
    "duration": 10,
    "start_time": "2024-08-27T16:31:36.718Z"
   },
   {
    "duration": 11151,
    "start_time": "2024-08-27T16:32:04.912Z"
   },
   {
    "duration": 95096,
    "start_time": "2024-08-27T16:32:27.126Z"
   },
   {
    "duration": 146,
    "start_time": "2024-08-27T16:34:02.818Z"
   },
   {
    "duration": 312,
    "start_time": "2024-08-27T16:34:03.281Z"
   },
   {
    "duration": 29493,
    "start_time": "2024-08-27T16:36:44.226Z"
   },
   {
    "duration": 3565,
    "start_time": "2024-08-27T16:45:36.929Z"
   },
   {
    "duration": 895,
    "start_time": "2024-08-27T16:45:43.731Z"
   },
   {
    "duration": 8,
    "start_time": "2024-08-27T16:45:44.628Z"
   },
   {
    "duration": 31,
    "start_time": "2024-08-27T16:45:44.952Z"
   },
   {
    "duration": 11,
    "start_time": "2024-08-27T16:45:46.781Z"
   },
   {
    "duration": 253,
    "start_time": "2024-08-27T16:45:47.251Z"
   },
   {
    "duration": 345,
    "start_time": "2024-08-27T16:45:49.167Z"
   },
   {
    "duration": 722,
    "start_time": "2024-08-27T16:45:49.849Z"
   },
   {
    "duration": 96612,
    "start_time": "2024-08-27T16:45:51.762Z"
   },
   {
    "duration": 16,
    "start_time": "2024-08-27T16:47:28.376Z"
   },
   {
    "duration": 11312,
    "start_time": "2024-08-27T16:47:28.394Z"
   },
   {
    "duration": 148,
    "start_time": "2024-08-27T16:47:39.708Z"
   },
   {
    "duration": 332,
    "start_time": "2024-08-27T16:47:39.858Z"
   },
   {
    "duration": 29849,
    "start_time": "2024-08-27T16:47:40.192Z"
   },
   {
    "duration": 3443,
    "start_time": "2024-08-27T16:53:20.970Z"
   },
   {
    "duration": 482,
    "start_time": "2024-08-27T16:55:20.919Z"
   },
   {
    "duration": 497,
    "start_time": "2024-08-27T16:56:29.980Z"
   },
   {
    "duration": 516,
    "start_time": "2024-08-27T16:58:41.259Z"
   },
   {
    "duration": 794,
    "start_time": "2024-08-27T17:00:26.829Z"
   },
   {
    "duration": 315847,
    "start_time": "2024-08-27T17:02:17.371Z"
   },
   {
    "duration": 0,
    "start_time": "2024-08-27T17:07:33.220Z"
   },
   {
    "duration": 3645,
    "start_time": "2024-08-28T06:38:36.361Z"
   },
   {
    "duration": 4484,
    "start_time": "2024-08-28T06:38:40.008Z"
   },
   {
    "duration": 6860,
    "start_time": "2024-08-28T06:38:44.494Z"
   },
   {
    "duration": 3716,
    "start_time": "2024-08-28T06:39:30.660Z"
   },
   {
    "duration": 10,
    "start_time": "2024-08-28T06:39:34.377Z"
   },
   {
    "duration": 41,
    "start_time": "2024-08-28T06:39:34.389Z"
   },
   {
    "duration": 15,
    "start_time": "2024-08-28T06:39:34.432Z"
   },
   {
    "duration": 259,
    "start_time": "2024-08-28T06:39:34.448Z"
   },
   {
    "duration": 432,
    "start_time": "2024-08-28T06:39:37.148Z"
   },
   {
    "duration": 770,
    "start_time": "2024-08-28T06:39:37.702Z"
   },
   {
    "duration": 98941,
    "start_time": "2024-08-28T06:39:39.254Z"
   },
   {
    "duration": 16,
    "start_time": "2024-08-28T06:41:18.197Z"
   },
   {
    "duration": 11147,
    "start_time": "2024-08-28T06:41:18.215Z"
   },
   {
    "duration": 151,
    "start_time": "2024-08-28T06:41:29.364Z"
   },
   {
    "duration": 509,
    "start_time": "2024-08-28T06:41:29.517Z"
   },
   {
    "duration": 30526,
    "start_time": "2024-08-28T06:42:01.262Z"
   },
   {
    "duration": 515,
    "start_time": "2024-08-28T06:42:38.408Z"
   },
   {
    "duration": 2629050,
    "start_time": "2024-08-28T06:42:46.908Z"
   },
   {
    "duration": 32,
    "start_time": "2024-08-28T07:26:35.960Z"
   },
   {
    "duration": 3214,
    "start_time": "2024-08-28T07:27:49.354Z"
   },
   {
    "duration": 1561,
    "start_time": "2024-08-28T07:28:19.773Z"
   },
   {
    "duration": 10,
    "start_time": "2024-08-28T07:28:23.426Z"
   },
   {
    "duration": 704,
    "start_time": "2024-08-28T07:28:33.941Z"
   },
   {
    "duration": 8,
    "start_time": "2024-08-28T07:28:35.093Z"
   },
   {
    "duration": 9,
    "start_time": "2024-08-28T07:28:53.671Z"
   },
   {
    "duration": 370,
    "start_time": "2024-08-28T07:30:42.071Z"
   },
   {
    "duration": 17,
    "start_time": "2024-08-28T07:30:59.812Z"
   },
   {
    "duration": 21,
    "start_time": "2024-08-28T07:31:52.696Z"
   },
   {
    "duration": 20,
    "start_time": "2024-08-28T07:32:42.722Z"
   },
   {
    "duration": 14,
    "start_time": "2024-08-28T07:32:46.485Z"
   },
   {
    "duration": 522,
    "start_time": "2024-08-28T07:37:08.867Z"
   },
   {
    "duration": 24053,
    "start_time": "2024-08-28T07:37:28.349Z"
   },
   {
    "duration": 464,
    "start_time": "2024-08-28T07:37:55.689Z"
   },
   {
    "duration": 2650665,
    "start_time": "2024-08-28T07:38:01.748Z"
   },
   {
    "duration": 14,
    "start_time": "2024-08-28T08:22:14.874Z"
   },
   {
    "duration": 6408,
    "start_time": "2024-08-28T08:23:09.565Z"
   },
   {
    "duration": 913,
    "start_time": "2024-08-28T08:23:15.975Z"
   },
   {
    "duration": 10,
    "start_time": "2024-08-28T08:23:16.889Z"
   },
   {
    "duration": 35,
    "start_time": "2024-08-28T08:23:16.900Z"
   },
   {
    "duration": 24,
    "start_time": "2024-08-28T08:23:16.936Z"
   },
   {
    "duration": 255,
    "start_time": "2024-08-28T08:23:16.962Z"
   },
   {
    "duration": 342,
    "start_time": "2024-08-28T08:23:17.218Z"
   },
   {
    "duration": 785,
    "start_time": "2024-08-28T08:23:17.562Z"
   },
   {
    "duration": 98808,
    "start_time": "2024-08-28T08:23:18.509Z"
   },
   {
    "duration": 15,
    "start_time": "2024-08-28T08:24:57.319Z"
   },
   {
    "duration": 11109,
    "start_time": "2024-08-28T08:24:57.336Z"
   },
   {
    "duration": 149,
    "start_time": "2024-08-28T08:25:08.447Z"
   },
   {
    "duration": 324,
    "start_time": "2024-08-28T08:25:08.598Z"
   },
   {
    "duration": 30205,
    "start_time": "2024-08-28T08:25:08.924Z"
   },
   {
    "duration": 514,
    "start_time": "2024-08-28T08:25:39.131Z"
   },
   {
    "duration": 775,
    "start_time": "2024-08-28T08:25:39.646Z"
   },
   {
    "duration": 35,
    "start_time": "2024-08-28T08:25:40.423Z"
   },
   {
    "duration": 4879,
    "start_time": "2024-08-28T15:12:26.421Z"
   },
   {
    "duration": 0,
    "start_time": "2024-08-28T15:12:31.302Z"
   },
   {
    "duration": 0,
    "start_time": "2024-08-28T15:12:31.303Z"
   },
   {
    "duration": 0,
    "start_time": "2024-08-28T15:12:31.304Z"
   },
   {
    "duration": 18,
    "start_time": "2024-08-28T15:12:31.442Z"
   },
   {
    "duration": 18,
    "start_time": "2024-08-28T15:12:32.075Z"
   },
   {
    "duration": 3609,
    "start_time": "2024-08-28T15:12:39.780Z"
   },
   {
    "duration": 4415,
    "start_time": "2024-08-28T15:12:43.392Z"
   },
   {
    "duration": 2422,
    "start_time": "2024-08-28T15:12:50.620Z"
   },
   {
    "duration": 41,
    "start_time": "2024-08-28T15:12:53.045Z"
   },
   {
    "duration": 6109,
    "start_time": "2024-08-28T15:13:10.914Z"
   },
   {
    "duration": 3743,
    "start_time": "2024-08-28T15:13:21.963Z"
   },
   {
    "duration": 8,
    "start_time": "2024-08-28T15:13:25.708Z"
   },
   {
    "duration": 39,
    "start_time": "2024-08-28T15:13:25.718Z"
   },
   {
    "duration": 11,
    "start_time": "2024-08-28T15:13:25.759Z"
   },
   {
    "duration": 261,
    "start_time": "2024-08-28T15:13:25.771Z"
   },
   {
    "duration": 340,
    "start_time": "2024-08-28T15:13:27.031Z"
   },
   {
    "duration": 792,
    "start_time": "2024-08-28T15:13:28.057Z"
   },
   {
    "duration": 100250,
    "start_time": "2024-08-28T15:13:29.785Z"
   },
   {
    "duration": 21,
    "start_time": "2024-08-28T15:15:10.037Z"
   },
   {
    "duration": 11576,
    "start_time": "2024-08-28T15:15:10.060Z"
   },
   {
    "duration": 154,
    "start_time": "2024-08-28T15:15:21.639Z"
   },
   {
    "duration": 349,
    "start_time": "2024-08-28T15:15:21.795Z"
   },
   {
    "duration": 30477,
    "start_time": "2024-08-28T15:15:22.146Z"
   },
   {
    "duration": 542,
    "start_time": "2024-08-28T15:15:52.625Z"
   },
   {
    "duration": 871,
    "start_time": "2024-08-28T15:15:53.168Z"
   },
   {
    "duration": 35,
    "start_time": "2024-08-28T15:15:54.040Z"
   },
   {
    "duration": 3210,
    "start_time": "2024-08-28T19:05:31.567Z"
   },
   {
    "duration": 4118,
    "start_time": "2024-08-28T19:05:34.779Z"
   },
   {
    "duration": 6044,
    "start_time": "2024-08-28T19:05:40.074Z"
   },
   {
    "duration": 3849,
    "start_time": "2024-08-28T19:05:52.084Z"
   },
   {
    "duration": 9,
    "start_time": "2024-08-28T19:05:55.935Z"
   },
   {
    "duration": 31,
    "start_time": "2024-08-28T19:05:55.946Z"
   },
   {
    "duration": 9,
    "start_time": "2024-08-28T19:05:55.979Z"
   },
   {
    "duration": 259,
    "start_time": "2024-08-28T19:05:55.990Z"
   },
   {
    "duration": 386,
    "start_time": "2024-08-28T19:05:57.780Z"
   },
   {
    "duration": 762,
    "start_time": "2024-08-28T19:05:58.440Z"
   },
   {
    "duration": 97126,
    "start_time": "2024-08-28T19:06:00.147Z"
   },
   {
    "duration": 16,
    "start_time": "2024-08-28T19:07:37.275Z"
   },
   {
    "duration": 11190,
    "start_time": "2024-08-28T19:07:37.292Z"
   },
   {
    "duration": 150,
    "start_time": "2024-08-28T19:07:48.484Z"
   },
   {
    "duration": 508,
    "start_time": "2024-08-28T19:07:48.635Z"
   },
   {
    "duration": 30223,
    "start_time": "2024-08-28T19:07:49.144Z"
   },
   {
    "duration": 528,
    "start_time": "2024-08-28T19:08:19.369Z"
   },
   {
    "duration": 760,
    "start_time": "2024-08-28T19:08:19.899Z"
   },
   {
    "duration": 30,
    "start_time": "2024-08-28T19:08:20.661Z"
   },
   {
    "duration": 11,
    "start_time": "2024-08-28T19:14:34.910Z"
   },
   {
    "duration": 60,
    "start_time": "2024-08-28T19:15:46.224Z"
   },
   {
    "duration": 3,
    "start_time": "2024-08-28T19:15:56.316Z"
   },
   {
    "duration": 4,
    "start_time": "2024-08-28T19:16:04.566Z"
   },
   {
    "duration": 3,
    "start_time": "2024-08-28T19:16:15.087Z"
   },
   {
    "duration": 1143,
    "start_time": "2024-08-28T19:16:25.117Z"
   },
   {
    "duration": 46,
    "start_time": "2024-08-28T19:17:37.083Z"
   },
   {
    "duration": 832,
    "start_time": "2024-08-28T19:17:47.372Z"
   },
   {
    "duration": 5,
    "start_time": "2024-08-28T19:18:18.676Z"
   },
   {
    "duration": 25,
    "start_time": "2024-08-28T19:18:35.895Z"
   },
   {
    "duration": 25,
    "start_time": "2024-08-28T19:18:48.702Z"
   },
   {
    "duration": 24,
    "start_time": "2024-08-28T19:19:14.275Z"
   },
   {
    "duration": 63,
    "start_time": "2024-08-28T19:19:32.213Z"
   },
   {
    "duration": 3,
    "start_time": "2024-08-28T19:19:33.128Z"
   },
   {
    "duration": 3,
    "start_time": "2024-08-28T19:19:34.034Z"
   },
   {
    "duration": 2,
    "start_time": "2024-08-28T19:19:35.415Z"
   },
   {
    "duration": 25,
    "start_time": "2024-08-28T19:19:38.345Z"
   },
   {
    "duration": 485061,
    "start_time": "2024-08-28T19:19:39.340Z"
   },
   {
    "duration": 0,
    "start_time": "2024-08-28T19:27:44.403Z"
   },
   {
    "duration": 3,
    "start_time": "2024-08-28T19:27:53.100Z"
   },
   {
    "duration": 20,
    "start_time": "2024-08-28T19:27:53.941Z"
   },
   {
    "duration": 12,
    "start_time": "2024-08-28T19:28:18.292Z"
   },
   {
    "duration": 6,
    "start_time": "2024-08-28T19:28:35.189Z"
   },
   {
    "duration": 103,
    "start_time": "2024-08-28T19:28:37.850Z"
   },
   {
    "duration": 3,
    "start_time": "2024-08-28T19:28:38.717Z"
   },
   {
    "duration": 3,
    "start_time": "2024-08-28T19:28:39.415Z"
   },
   {
    "duration": 2,
    "start_time": "2024-08-28T19:28:41.384Z"
   },
   {
    "duration": 25,
    "start_time": "2024-08-28T19:28:42.764Z"
   },
   {
    "duration": 28,
    "start_time": "2024-08-28T19:28:44.288Z"
   },
   {
    "duration": 2425,
    "start_time": "2024-08-28T20:08:31.292Z"
   },
   {
    "duration": 2383,
    "start_time": "2024-08-28T20:08:33.720Z"
   },
   {
    "duration": 4715,
    "start_time": "2024-08-28T20:08:36.105Z"
   },
   {
    "duration": 0,
    "start_time": "2024-08-28T20:08:40.825Z"
   },
   {
    "duration": 0,
    "start_time": "2024-08-28T20:08:40.826Z"
   },
   {
    "duration": 0,
    "start_time": "2024-08-28T20:08:40.827Z"
   },
   {
    "duration": 0,
    "start_time": "2024-08-28T20:08:40.828Z"
   },
   {
    "duration": 0,
    "start_time": "2024-08-28T20:08:40.829Z"
   },
   {
    "duration": 0,
    "start_time": "2024-08-28T20:08:40.830Z"
   },
   {
    "duration": 0,
    "start_time": "2024-08-28T20:08:40.831Z"
   },
   {
    "duration": 0,
    "start_time": "2024-08-28T20:08:40.833Z"
   },
   {
    "duration": 0,
    "start_time": "2024-08-28T20:08:40.833Z"
   },
   {
    "duration": 0,
    "start_time": "2024-08-28T20:08:40.835Z"
   },
   {
    "duration": 0,
    "start_time": "2024-08-28T20:08:40.836Z"
   },
   {
    "duration": 0,
    "start_time": "2024-08-28T20:08:40.836Z"
   },
   {
    "duration": 0,
    "start_time": "2024-08-28T20:08:40.838Z"
   },
   {
    "duration": 0,
    "start_time": "2024-08-28T20:08:40.839Z"
   },
   {
    "duration": 0,
    "start_time": "2024-08-28T20:08:40.839Z"
   },
   {
    "duration": 0,
    "start_time": "2024-08-28T20:08:40.840Z"
   },
   {
    "duration": 0,
    "start_time": "2024-08-28T20:08:40.841Z"
   },
   {
    "duration": 0,
    "start_time": "2024-08-28T20:08:40.842Z"
   },
   {
    "duration": 0,
    "start_time": "2024-08-28T20:08:40.843Z"
   },
   {
    "duration": 0,
    "start_time": "2024-08-28T20:08:40.844Z"
   },
   {
    "duration": 0,
    "start_time": "2024-08-28T20:08:40.845Z"
   },
   {
    "duration": 0,
    "start_time": "2024-08-28T20:08:40.846Z"
   },
   {
    "duration": 0,
    "start_time": "2024-08-28T20:08:40.846Z"
   },
   {
    "duration": 0,
    "start_time": "2024-08-28T20:08:40.847Z"
   },
   {
    "duration": 0,
    "start_time": "2024-08-28T20:08:40.848Z"
   },
   {
    "duration": 0,
    "start_time": "2024-08-28T20:08:40.849Z"
   },
   {
    "duration": 0,
    "start_time": "2024-08-28T20:08:40.850Z"
   },
   {
    "duration": 0,
    "start_time": "2024-08-28T20:08:40.851Z"
   },
   {
    "duration": 0,
    "start_time": "2024-08-28T20:08:40.852Z"
   },
   {
    "duration": 0,
    "start_time": "2024-08-28T20:08:40.853Z"
   },
   {
    "duration": 0,
    "start_time": "2024-08-28T20:08:40.854Z"
   },
   {
    "duration": 3802,
    "start_time": "2024-08-28T20:08:58.530Z"
   },
   {
    "duration": 1930,
    "start_time": "2024-08-28T20:09:04.026Z"
   },
   {
    "duration": 2433,
    "start_time": "2024-08-28T20:09:15.909Z"
   },
   {
    "duration": 2515,
    "start_time": "2024-08-28T20:09:18.345Z"
   },
   {
    "duration": 9,
    "start_time": "2024-08-28T20:09:20.863Z"
   },
   {
    "duration": 3820,
    "start_time": "2024-08-28T20:09:20.874Z"
   },
   {
    "duration": 13,
    "start_time": "2024-08-28T20:09:24.696Z"
   },
   {
    "duration": 254,
    "start_time": "2024-08-28T20:09:24.710Z"
   },
   {
    "duration": 11,
    "start_time": "2024-08-28T20:09:24.965Z"
   },
   {
    "duration": 273,
    "start_time": "2024-08-28T20:09:24.978Z"
   },
   {
    "duration": 414,
    "start_time": "2024-08-28T20:09:25.253Z"
   },
   {
    "duration": 716,
    "start_time": "2024-08-28T20:09:25.668Z"
   },
   {
    "duration": 94031,
    "start_time": "2024-08-28T20:09:26.386Z"
   },
   {
    "duration": 20,
    "start_time": "2024-08-28T20:11:00.419Z"
   },
   {
    "duration": 10612,
    "start_time": "2024-08-28T20:11:00.441Z"
   },
   {
    "duration": 157,
    "start_time": "2024-08-28T20:11:11.056Z"
   },
   {
    "duration": 327,
    "start_time": "2024-08-28T20:11:11.214Z"
   },
   {
    "duration": 29395,
    "start_time": "2024-08-28T20:11:11.543Z"
   },
   {
    "duration": 521,
    "start_time": "2024-08-28T20:11:40.939Z"
   },
   {
    "duration": 727,
    "start_time": "2024-08-28T20:11:41.462Z"
   },
   {
    "duration": 39,
    "start_time": "2024-08-28T20:11:42.190Z"
   },
   {
    "duration": 30,
    "start_time": "2024-08-28T20:11:42.230Z"
   },
   {
    "duration": 85,
    "start_time": "2024-08-28T20:11:42.262Z"
   },
   {
    "duration": 7,
    "start_time": "2024-08-28T20:11:42.348Z"
   },
   {
    "duration": 105,
    "start_time": "2024-08-28T20:11:42.356Z"
   },
   {
    "duration": 4,
    "start_time": "2024-08-28T20:11:42.462Z"
   },
   {
    "duration": 6,
    "start_time": "2024-08-28T20:11:42.468Z"
   },
   {
    "duration": 4,
    "start_time": "2024-08-28T20:11:42.476Z"
   },
   {
    "duration": 2606,
    "start_time": "2024-08-28T20:51:00.157Z"
   },
   {
    "duration": 2666,
    "start_time": "2024-08-28T20:51:02.766Z"
   },
   {
    "duration": 6417,
    "start_time": "2024-08-28T20:51:05.434Z"
   },
   {
    "duration": 3896,
    "start_time": "2024-08-28T20:51:11.853Z"
   },
   {
    "duration": 9,
    "start_time": "2024-08-28T20:51:15.750Z"
   },
   {
    "duration": 40,
    "start_time": "2024-08-28T20:51:15.760Z"
   },
   {
    "duration": 201,
    "start_time": "2024-08-28T20:51:15.801Z"
   },
   {
    "duration": 275,
    "start_time": "2024-08-28T20:51:16.004Z"
   },
   {
    "duration": 353,
    "start_time": "2024-08-28T20:51:16.281Z"
   },
   {
    "duration": 759,
    "start_time": "2024-08-28T20:51:16.637Z"
   },
   {
    "duration": 95141,
    "start_time": "2024-08-28T20:51:17.398Z"
   },
   {
    "duration": 16,
    "start_time": "2024-08-28T20:52:52.541Z"
   },
   {
    "duration": 10922,
    "start_time": "2024-08-28T20:52:52.559Z"
   },
   {
    "duration": 144,
    "start_time": "2024-08-28T20:53:03.484Z"
   },
   {
    "duration": 307,
    "start_time": "2024-08-28T20:53:03.630Z"
   },
   {
    "duration": 29115,
    "start_time": "2024-08-28T20:53:03.938Z"
   },
   {
    "duration": 492,
    "start_time": "2024-08-28T20:53:33.054Z"
   },
   {
    "duration": 711,
    "start_time": "2024-08-28T20:53:33.547Z"
   },
   {
    "duration": 30,
    "start_time": "2024-08-28T20:53:34.260Z"
   },
   {
    "duration": 41,
    "start_time": "2024-08-28T20:53:34.291Z"
   },
   {
    "duration": 59,
    "start_time": "2024-08-28T20:53:34.334Z"
   },
   {
    "duration": 5,
    "start_time": "2024-08-28T20:53:34.394Z"
   },
   {
    "duration": 78,
    "start_time": "2024-08-28T20:53:34.401Z"
   },
   {
    "duration": 3,
    "start_time": "2024-08-28T20:53:34.480Z"
   },
   {
    "duration": 13,
    "start_time": "2024-08-28T20:53:34.484Z"
   },
   {
    "duration": 0,
    "start_time": "2024-08-28T20:53:34.499Z"
   },
   {
    "duration": 0,
    "start_time": "2024-08-28T20:53:34.500Z"
   },
   {
    "duration": 0,
    "start_time": "2024-08-28T20:53:34.501Z"
   },
   {
    "duration": 0,
    "start_time": "2024-08-28T20:53:34.502Z"
   },
   {
    "duration": 0,
    "start_time": "2024-08-28T20:53:34.503Z"
   },
   {
    "duration": 0,
    "start_time": "2024-08-28T20:53:34.505Z"
   },
   {
    "duration": 0,
    "start_time": "2024-08-28T20:53:34.506Z"
   },
   {
    "duration": 0,
    "start_time": "2024-08-28T20:53:34.507Z"
   },
   {
    "duration": 0,
    "start_time": "2024-08-28T20:53:34.525Z"
   },
   {
    "duration": 4,
    "start_time": "2024-08-28T20:54:11.571Z"
   },
   {
    "duration": 3,
    "start_time": "2024-08-28T20:54:27.740Z"
   },
   {
    "duration": 2,
    "start_time": "2024-08-28T20:54:30.413Z"
   },
   {
    "duration": 1065075,
    "start_time": "2024-08-28T20:54:32.214Z"
   },
   {
    "duration": 351,
    "start_time": "2024-08-28T21:13:04.252Z"
   },
   {
    "duration": 19,
    "start_time": "2024-08-28T21:13:25.524Z"
   },
   {
    "duration": 19,
    "start_time": "2024-08-28T21:13:35.914Z"
   },
   {
    "duration": 19,
    "start_time": "2024-08-28T21:14:41.170Z"
   },
   {
    "duration": 3,
    "start_time": "2024-08-28T21:14:50.964Z"
   },
   {
    "duration": 2006,
    "start_time": "2024-08-28T21:14:55.162Z"
   },
   {
    "duration": 2008,
    "start_time": "2024-08-28T21:15:14.586Z"
   },
   {
    "duration": 2004,
    "start_time": "2024-08-28T21:15:27.624Z"
   },
   {
    "duration": 10702,
    "start_time": "2024-08-28T21:15:33.566Z"
   },
   {
    "duration": 24,
    "start_time": "2024-08-28T21:15:44.270Z"
   },
   {
    "duration": 0,
    "start_time": "2024-08-28T21:15:44.296Z"
   },
   {
    "duration": 0,
    "start_time": "2024-08-28T21:15:44.297Z"
   },
   {
    "duration": 0,
    "start_time": "2024-08-28T21:15:44.298Z"
   },
   {
    "duration": 3490,
    "start_time": "2024-08-29T07:47:46.969Z"
   },
   {
    "duration": 5270,
    "start_time": "2024-08-29T07:47:50.461Z"
   },
   {
    "duration": 11992,
    "start_time": "2024-08-29T07:47:57.553Z"
   },
   {
    "duration": 1062,
    "start_time": "2024-08-29T07:48:11.301Z"
   },
   {
    "duration": 9,
    "start_time": "2024-08-29T07:48:12.364Z"
   },
   {
    "duration": 37,
    "start_time": "2024-08-29T07:48:12.667Z"
   },
   {
    "duration": 9,
    "start_time": "2024-08-29T07:48:14.506Z"
   },
   {
    "duration": 241,
    "start_time": "2024-08-29T07:48:15.366Z"
   },
   {
    "duration": 310,
    "start_time": "2024-08-29T07:48:16.902Z"
   },
   {
    "duration": 604,
    "start_time": "2024-08-29T07:48:17.584Z"
   },
   {
    "duration": 81349,
    "start_time": "2024-08-29T07:48:19.567Z"
   },
   {
    "duration": 15,
    "start_time": "2024-08-29T07:49:40.918Z"
   },
   {
    "duration": 9355,
    "start_time": "2024-08-29T07:49:40.934Z"
   },
   {
    "duration": 119,
    "start_time": "2024-08-29T07:49:50.290Z"
   },
   {
    "duration": 264,
    "start_time": "2024-08-29T07:49:50.410Z"
   },
   {
    "duration": 25061,
    "start_time": "2024-08-29T07:49:50.675Z"
   },
   {
    "duration": 472,
    "start_time": "2024-08-29T07:50:15.738Z"
   },
   {
    "duration": 603,
    "start_time": "2024-08-29T07:50:16.211Z"
   },
   {
    "duration": 20,
    "start_time": "2024-08-29T07:50:16.815Z"
   },
   {
    "duration": 17,
    "start_time": "2024-08-29T07:50:16.837Z"
   },
   {
    "duration": 51,
    "start_time": "2024-08-29T07:50:16.856Z"
   },
   {
    "duration": 4,
    "start_time": "2024-08-29T07:50:16.909Z"
   },
   {
    "duration": 45,
    "start_time": "2024-08-29T07:50:16.914Z"
   },
   {
    "duration": 5376,
    "start_time": "2024-08-31T12:49:04.849Z"
   },
   {
    "duration": 4047,
    "start_time": "2024-08-31T12:49:13.502Z"
   },
   {
    "duration": 6259,
    "start_time": "2024-08-31T12:49:17.551Z"
   },
   {
    "duration": 483,
    "start_time": "2024-08-31T12:49:27.321Z"
   },
   {
    "duration": 7161,
    "start_time": "2024-08-31T12:49:47.681Z"
   },
   {
    "duration": 1377,
    "start_time": "2024-08-31T12:49:57.794Z"
   },
   {
    "duration": 10,
    "start_time": "2024-08-31T12:49:59.172Z"
   },
   {
    "duration": 33,
    "start_time": "2024-08-31T12:49:59.273Z"
   },
   {
    "duration": 11,
    "start_time": "2024-08-31T12:50:01.081Z"
   },
   {
    "duration": 298,
    "start_time": "2024-08-31T12:50:02.174Z"
   },
   {
    "duration": 572,
    "start_time": "2024-08-31T12:50:03.944Z"
   },
   {
    "duration": 785,
    "start_time": "2024-08-31T12:50:05.105Z"
   },
   {
    "duration": 111710,
    "start_time": "2024-08-31T12:50:07.254Z"
   },
   {
    "duration": 18,
    "start_time": "2024-08-31T12:51:58.966Z"
   },
   {
    "duration": 12314,
    "start_time": "2024-08-31T12:51:58.985Z"
   },
   {
    "duration": 155,
    "start_time": "2024-08-31T12:52:11.304Z"
   },
   {
    "duration": 332,
    "start_time": "2024-08-31T12:52:11.461Z"
   },
   {
    "duration": 30896,
    "start_time": "2024-08-31T12:52:11.795Z"
   },
   {
    "duration": 656,
    "start_time": "2024-08-31T12:52:42.693Z"
   },
   {
    "duration": 827,
    "start_time": "2024-08-31T12:52:43.351Z"
   },
   {
    "duration": 38,
    "start_time": "2024-08-31T12:52:44.181Z"
   },
   {
    "duration": 31,
    "start_time": "2024-08-31T12:52:44.222Z"
   },
   {
    "duration": 85,
    "start_time": "2024-08-31T12:52:44.255Z"
   },
   {
    "duration": 6,
    "start_time": "2024-08-31T12:52:44.342Z"
   },
   {
    "duration": 72,
    "start_time": "2024-08-31T12:54:21.563Z"
   },
   {
    "duration": 447,
    "start_time": "2024-08-31T12:56:03.450Z"
   },
   {
    "duration": 11,
    "start_time": "2024-08-31T12:56:42.599Z"
   },
   {
    "duration": 6,
    "start_time": "2024-08-31T12:56:50.378Z"
   },
   {
    "duration": 5,
    "start_time": "2024-08-31T12:56:51.303Z"
   },
   {
    "duration": 3,
    "start_time": "2024-08-31T12:56:52.356Z"
   },
   {
    "duration": 110,
    "start_time": "2024-08-31T12:56:53.793Z"
   },
   {
    "duration": 6,
    "start_time": "2024-08-31T12:57:44.127Z"
   },
   {
    "duration": 7,
    "start_time": "2024-08-31T12:58:16.045Z"
   },
   {
    "duration": 2,
    "start_time": "2024-08-31T12:58:20.054Z"
   },
   {
    "duration": 111,
    "start_time": "2024-08-31T12:58:20.754Z"
   },
   {
    "duration": 663059,
    "start_time": "2024-08-31T12:58:37.329Z"
   },
   {
    "duration": 0,
    "start_time": "2024-08-31T13:09:40.390Z"
   },
   {
    "duration": 0,
    "start_time": "2024-08-31T13:09:40.392Z"
   },
   {
    "duration": 0,
    "start_time": "2024-08-31T13:09:40.413Z"
   },
   {
    "duration": 0,
    "start_time": "2024-08-31T13:09:40.415Z"
   },
   {
    "duration": 0,
    "start_time": "2024-08-31T13:09:40.416Z"
   },
   {
    "duration": 0,
    "start_time": "2024-08-31T13:09:40.418Z"
   },
   {
    "duration": 0,
    "start_time": "2024-08-31T13:09:40.419Z"
   },
   {
    "duration": 0,
    "start_time": "2024-08-31T13:09:40.421Z"
   },
   {
    "duration": 81,
    "start_time": "2024-08-31T13:10:14.748Z"
   },
   {
    "duration": 4,
    "start_time": "2024-08-31T13:10:15.821Z"
   },
   {
    "duration": 3,
    "start_time": "2024-08-31T13:10:21.584Z"
   },
   {
    "duration": 4819,
    "start_time": "2024-08-31T17:46:59.149Z"
   },
   {
    "duration": 3354,
    "start_time": "2024-08-31T17:47:09.016Z"
   },
   {
    "duration": 5587,
    "start_time": "2024-08-31T17:47:12.372Z"
   },
   {
    "duration": 410,
    "start_time": "2024-08-31T17:47:20.871Z"
   },
   {
    "duration": 6324,
    "start_time": "2024-08-31T17:47:34.895Z"
   },
   {
    "duration": 3702,
    "start_time": "2024-08-31T17:47:45.147Z"
   },
   {
    "duration": 9,
    "start_time": "2024-08-31T17:47:48.851Z"
   },
   {
    "duration": 36,
    "start_time": "2024-08-31T17:47:48.862Z"
   },
   {
    "duration": 11,
    "start_time": "2024-08-31T17:47:48.900Z"
   },
   {
    "duration": 265,
    "start_time": "2024-08-31T17:47:49.025Z"
   },
   {
    "duration": 553,
    "start_time": "2024-08-31T17:47:51.962Z"
   },
   {
    "duration": 754,
    "start_time": "2024-08-31T17:47:52.517Z"
   },
   {
    "duration": 98842,
    "start_time": "2024-08-31T17:47:55.697Z"
   },
   {
    "duration": 17,
    "start_time": "2024-08-31T17:49:34.541Z"
   },
   {
    "duration": 11204,
    "start_time": "2024-08-31T17:49:34.560Z"
   },
   {
    "duration": 154,
    "start_time": "2024-08-31T17:49:45.767Z"
   },
   {
    "duration": 329,
    "start_time": "2024-08-31T17:49:45.923Z"
   },
   {
    "duration": 30743,
    "start_time": "2024-08-31T17:49:46.255Z"
   },
   {
    "duration": 535,
    "start_time": "2024-08-31T17:50:16.999Z"
   },
   {
    "duration": 745,
    "start_time": "2024-08-31T17:50:17.536Z"
   },
   {
    "duration": 42,
    "start_time": "2024-08-31T17:50:18.283Z"
   },
   {
    "duration": 37,
    "start_time": "2024-08-31T17:50:18.327Z"
   },
   {
    "duration": 103,
    "start_time": "2024-08-31T17:50:18.365Z"
   },
   {
    "duration": 7,
    "start_time": "2024-08-31T17:50:18.470Z"
   },
   {
    "duration": 77,
    "start_time": "2024-08-31T17:50:18.479Z"
   },
   {
    "duration": 4,
    "start_time": "2024-08-31T17:50:48.224Z"
   },
   {
    "duration": 3,
    "start_time": "2024-08-31T17:50:49.296Z"
   },
   {
    "duration": 887297,
    "start_time": "2024-08-31T17:50:51.781Z"
   },
   {
    "duration": 4,
    "start_time": "2024-08-31T18:05:51.954Z"
   },
   {
    "duration": 2,
    "start_time": "2024-08-31T18:05:53.104Z"
   },
   {
    "duration": 1113400,
    "start_time": "2024-08-31T18:05:53.685Z"
   },
   {
    "duration": 3,
    "start_time": "2024-08-31T18:24:27.086Z"
   },
   {
    "duration": 2082,
    "start_time": "2024-08-31T18:24:27.098Z"
   },
   {
    "duration": 10997,
    "start_time": "2024-08-31T18:24:29.182Z"
   },
   {
    "duration": 47,
    "start_time": "2024-08-31T18:24:40.180Z"
   },
   {
    "duration": 0,
    "start_time": "2024-08-31T18:24:40.229Z"
   },
   {
    "duration": 0,
    "start_time": "2024-08-31T18:24:40.230Z"
   },
   {
    "duration": 0,
    "start_time": "2024-08-31T18:24:40.232Z"
   },
   {
    "duration": 7003,
    "start_time": "2024-08-31T18:40:54.795Z"
   },
   {
    "duration": 3729,
    "start_time": "2024-08-31T18:41:04.924Z"
   },
   {
    "duration": 9,
    "start_time": "2024-08-31T18:41:08.655Z"
   },
   {
    "duration": 44,
    "start_time": "2024-08-31T18:41:08.666Z"
   },
   {
    "duration": 20,
    "start_time": "2024-08-31T18:41:08.711Z"
   },
   {
    "duration": 266,
    "start_time": "2024-08-31T18:41:08.839Z"
   },
   {
    "duration": 750,
    "start_time": "2024-08-31T18:41:21.290Z"
   },
   {
    "duration": 224,
    "start_time": "2024-08-31T18:41:22.143Z"
   },
   {
    "duration": 31,
    "start_time": "2024-08-31T18:41:25.019Z"
   },
   {
    "duration": 65,
    "start_time": "2024-08-31T18:41:27.728Z"
   },
   {
    "duration": 8,
    "start_time": "2024-08-31T18:41:28.863Z"
   },
   {
    "duration": 73,
    "start_time": "2024-08-31T18:41:32.392Z"
   },
   {
    "duration": 4,
    "start_time": "2024-08-31T18:41:33.226Z"
   },
   {
    "duration": 2,
    "start_time": "2024-08-31T18:41:35.017Z"
   },
   {
    "duration": 1081846,
    "start_time": "2024-08-31T18:41:35.680Z"
   },
   {
    "duration": 3,
    "start_time": "2024-08-31T18:59:37.528Z"
   },
   {
    "duration": 2042,
    "start_time": "2024-08-31T18:59:37.533Z"
   },
   {
    "duration": 6463,
    "start_time": "2024-08-31T19:26:57.927Z"
   },
   {
    "duration": 3704,
    "start_time": "2024-08-31T19:27:04.392Z"
   },
   {
    "duration": 14,
    "start_time": "2024-08-31T19:27:08.099Z"
   },
   {
    "duration": 270,
    "start_time": "2024-08-31T19:27:08.114Z"
   },
   {
    "duration": 728,
    "start_time": "2024-08-31T19:27:20.394Z"
   },
   {
    "duration": 36,
    "start_time": "2024-08-31T19:27:21.124Z"
   },
   {
    "duration": 212,
    "start_time": "2024-08-31T19:27:24.093Z"
   },
   {
    "duration": 65,
    "start_time": "2024-08-31T19:27:24.379Z"
   },
   {
    "duration": 5,
    "start_time": "2024-08-31T19:27:26.228Z"
   },
   {
    "duration": 60,
    "start_time": "2024-08-31T19:27:30.861Z"
   },
   {
    "duration": 4,
    "start_time": "2024-08-31T19:27:32.359Z"
   },
   {
    "duration": 3,
    "start_time": "2024-08-31T19:27:34.660Z"
   },
   {
    "duration": 1094061,
    "start_time": "2024-08-31T19:27:35.093Z"
   },
   {
    "duration": 3,
    "start_time": "2024-08-31T20:12:14.231Z"
   },
   {
    "duration": 361,
    "start_time": "2024-08-31T20:13:57.483Z"
   },
   {
    "duration": 4160,
    "start_time": "2024-08-31T20:14:10.889Z"
   },
   {
    "duration": 206,
    "start_time": "2024-08-31T20:14:16.726Z"
   },
   {
    "duration": 2504,
    "start_time": "2024-08-31T20:17:15.938Z"
   },
   {
    "duration": 2499,
    "start_time": "2024-08-31T20:17:18.444Z"
   },
   {
    "duration": 6306,
    "start_time": "2024-08-31T20:17:20.945Z"
   },
   {
    "duration": 3694,
    "start_time": "2024-08-31T20:17:27.253Z"
   },
   {
    "duration": 11,
    "start_time": "2024-08-31T20:17:30.949Z"
   },
   {
    "duration": 35,
    "start_time": "2024-08-31T20:17:30.962Z"
   },
   {
    "duration": 23,
    "start_time": "2024-08-31T20:17:30.999Z"
   },
   {
    "duration": 431,
    "start_time": "2024-08-31T20:17:31.024Z"
   },
   {
    "duration": 360,
    "start_time": "2024-08-31T20:17:31.457Z"
   },
   {
    "duration": 753,
    "start_time": "2024-08-31T20:17:31.820Z"
   },
   {
    "duration": 98553,
    "start_time": "2024-08-31T20:17:32.575Z"
   },
   {
    "duration": 16,
    "start_time": "2024-08-31T20:19:11.130Z"
   },
   {
    "duration": 11181,
    "start_time": "2024-08-31T20:19:11.147Z"
   },
   {
    "duration": 155,
    "start_time": "2024-08-31T20:19:22.329Z"
   },
   {
    "duration": 337,
    "start_time": "2024-08-31T20:19:22.486Z"
   },
   {
    "duration": 30495,
    "start_time": "2024-08-31T20:19:22.825Z"
   },
   {
    "duration": 3,
    "start_time": "2024-08-31T20:19:53.321Z"
   },
   {
    "duration": 745,
    "start_time": "2024-08-31T20:19:53.326Z"
   },
   {
    "duration": 39,
    "start_time": "2024-08-31T20:19:54.073Z"
   },
   {
    "duration": 87,
    "start_time": "2024-08-31T20:19:54.114Z"
   },
   {
    "duration": 66,
    "start_time": "2024-08-31T20:19:54.203Z"
   },
   {
    "duration": 6,
    "start_time": "2024-08-31T20:19:54.270Z"
   },
   {
    "duration": 74,
    "start_time": "2024-08-31T20:19:54.277Z"
   },
   {
    "duration": 4,
    "start_time": "2024-08-31T20:19:54.353Z"
   },
   {
    "duration": 33,
    "start_time": "2024-08-31T20:19:54.358Z"
   },
   {
    "duration": 1092990,
    "start_time": "2024-08-31T20:19:54.392Z"
   },
   {
    "duration": 3,
    "start_time": "2024-08-31T20:38:07.384Z"
   },
   {
    "duration": 2026,
    "start_time": "2024-08-31T20:38:07.397Z"
   },
   {
    "duration": 410,
    "start_time": "2024-08-31T20:38:09.425Z"
   },
   {
    "duration": 0,
    "start_time": "2024-08-31T20:38:09.837Z"
   }
  ],
  "kernelspec": {
   "display_name": "Python 3 (ipykernel)",
   "language": "python",
   "name": "python3"
  },
  "language_info": {
   "codemirror_mode": {
    "name": "ipython",
    "version": 3
   },
   "file_extension": ".py",
   "mimetype": "text/x-python",
   "name": "python",
   "nbconvert_exporter": "python",
   "pygments_lexer": "ipython3",
   "version": "3.9.5"
  },
  "toc": {
   "base_numbering": 1,
   "nav_menu": {},
   "number_sections": true,
   "sideBar": true,
   "skip_h1_title": true,
   "title_cell": "Содержание",
   "title_sidebar": "Contents",
   "toc_cell": true,
   "toc_position": {
    "height": "calc(100% - 180px)",
    "left": "10px",
    "top": "150px",
    "width": "302.391px"
   },
   "toc_section_display": true,
   "toc_window_display": false
  }
 },
 "nbformat": 4,
 "nbformat_minor": 2
}
