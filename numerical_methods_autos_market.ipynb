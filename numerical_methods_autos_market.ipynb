{
 "cells": [
  {
   "cell_type": "markdown",
   "metadata": {},
   "source": [
    "\n",
    "Привет, меня зовут Люман Аблаев. Сегодня я проверю твой проект.\n",
    "<br> Дальнейшее общение будет происходить на \"ты\" если это не вызывает никаких проблем.\n",
    "<br> Желательно реагировать на красные комментарии ('исправил', 'не понятно как исправить ошибку', ...)\n",
    "<br> Пожалуйста, не удаляй комментарии ревьюера, так как они повышают качество повторного ревью.\n",
    "\n",
    "Комментарии будут в <font color='green'>зеленой</font>, <font color='blue'>синей</font> или <font color='red'>красной</font> рамках:\n",
    "\n",
    "\n",
    "<div class=\"alert alert-block alert-success\">\n",
    "<b>Успех:</b> Если все сделано отлично\n",
    "</div>\n",
    "\n",
    "<div class=\"alert alert-block alert-info\">\n",
    "<b>Совет: </b> Если можно немного улучшить\n",
    "</div>\n",
    "\n",
    "<div class=\"alert alert-block alert-danger\">\n",
    "<b>Ошибка:</b> Если требуются исправления. Работа не может быть принята с красными комментариями.\n",
    "</div>\n",
    "\n",
    "-------------------\n",
    "\n",
    "Будет очень хорошо, если ты будешь помечать свои действия следующим образом:\n",
    "<div class=\"alert alert-block alert-warning\">\n",
    "<b>Комментарий студента:</b> ...\n",
    "</div>\n",
    "\n",
    "<div class=\"alert alert-block alert-warning\">\n",
    "<b>Изменения:</b> Были внесены следующие изменения ...\n",
    "</div>\n",
    "\n",
    "\n",
    "\n",
    "\n",
    "\n",
    "\n",
    "\n",
    "<font color='orange' style='font-size:24px; font-weight:bold'>Общее впечатление</font>\n",
    "* Спасибо за очень качественную работу - видно, что вложено много труда.\n",
    "- Я оставил некоторые советы, надеюсь они будут полезными и интересными\n",
    "- Есть некоторые недочеты, которые нужно поправить, но у тебя это не должно занять много времени)\n",
    "- Жду обновленную работу\n",
    "\n",
    "\n",
    "\n"
   ]
  },
  {
   "cell_type": "markdown",
   "metadata": {},
   "source": [
    "<div class=\"alert alert-block alert-warning\">\n",
    "<b>Комментарий студента:</b> Привет, Люман! Спасибо за комментарии. Постаралась поправить (не все синие комментарии успела) и добавила комменты про изменения.\n",
    "</div>"
   ]
  },
  {
   "cell_type": "markdown",
   "metadata": {},
   "source": [
    "<font color='orange' style='font-size:24px; font-weight:bold'>Общее впечатление[2]</font>\n",
    "* Спасибо за доработки\n",
    "- Приятно видеть фидбек \n",
    "- Недочеты исправлены - работа полностью корректна\n",
    "- Рад был быть полезен. Удачи в дальнейшем обучении!\n"
   ]
  },
  {
   "cell_type": "markdown",
   "metadata": {},
   "source": [
    "# Определение стоимости автомобилей"
   ]
  },
  {
   "cell_type": "markdown",
   "metadata": {},
   "source": [
    "Сервис по продаже автомобилей с пробегом «Не бит, не крашен» разрабатывает приложение для привлечения новых клиентов. В нём можно быстро узнать рыночную стоимость своего автомобиля. В вашем распоряжении исторические данные: технические характеристики, комплектации и цены автомобилей. Вам нужно построить модель для определения стоимости. \n",
    "\n",
    "Заказчику важны:\n",
    "\n",
    "- качество предсказания;\n",
    "- скорость предсказания;\n",
    "- время обучения."
   ]
  },
  {
   "cell_type": "code",
   "execution_count": 1,
   "metadata": {},
   "outputs": [],
   "source": [
    "#!pip install phik ydata_profiling shap numpy==1.23 numba==0.58.1 -q"
   ]
  },
  {
   "cell_type": "code",
   "execution_count": 2,
   "metadata": {},
   "outputs": [],
   "source": [
    "#!pip install --upgrade pip seaborn ydata_profiling Pillow scikit-learn scipy -q"
   ]
  },
  {
   "cell_type": "code",
   "execution_count": 3,
   "metadata": {},
   "outputs": [],
   "source": [
    "#!pip install --upgrade catboost"
   ]
  },
  {
   "cell_type": "code",
   "execution_count": 4,
   "metadata": {},
   "outputs": [],
   "source": [
    "import os\n",
    "import re\n",
    "import time\n",
    "\n",
    "import lightgbm as lgb\n",
    "import numpy as np\n",
    "import pandas as pd\n",
    "import ydata_profiling\n",
    "\n",
    "from catboost import CatBoostRegressor\n",
    "from sklearn.compose import ColumnTransformer\n",
    "from sklearn.ensemble import RandomForestRegressor\n",
    "from sklearn.impute import SimpleImputer\n",
    "from sklearn.linear_model import LinearRegression\n",
    "from sklearn.metrics import mean_squared_error\n",
    "from sklearn.model_selection import train_test_split, GridSearchCV\n",
    "from sklearn.preprocessing import LabelEncoder, TargetEncoder, OrdinalEncoder\n",
    "from lightgbm import LGBMRegressor"
   ]
  },
  {
   "cell_type": "markdown",
   "metadata": {},
   "source": [
    "\n",
    "<div class=\"alert alert-block alert-success\">\n",
    "<b>Успех:</b> Импорты  на месте\n",
    "</div>\n"
   ]
  },
  {
   "cell_type": "markdown",
   "metadata": {},
   "source": [
    "## Подготовка данных"
   ]
  },
  {
   "cell_type": "markdown",
   "metadata": {},
   "source": [
    "<b> Описание данных: </b> \n",
    "\n",
    "Данные находятся в файле `/datasets/autos.csv`\n",
    "  \n",
    "Признаки:  \n",
    "`DateCrawled` — дата скачивания анкеты из базы  \n",
    "`VehicleType` — тип автомобильного кузова  \n",
    "`RegistrationYear` — год регистрации автомобиля  \n",
    "`Gearbox` — тип коробки передач  \n",
    "`Power` — мощность (л. с.)  \n",
    "`Model` — модель автомобиля  \n",
    "`Kilometer` — пробег (км)  \n",
    "`RegistrationMonth` — месяц регистрации автомобиля  \n",
    "`FuelType` — тип топлива  \n",
    "`Brand` — марка автомобиля  \n",
    "`Repaired` — была машина в ремонте или нет  \n",
    "`DateCreated` — дата создания анкеты  \n",
    "`NumberOfPictures` — количество фотографий автомобиля  \n",
    "`PostalCode` — почтовый индекс владельца анкеты (пользователя)  \n",
    "`LastSeen` — дата последней активности пользователя  \n",
    "  \n",
    "Целевой признак  \n",
    "`Price` — цена (евро)  "
   ]
  },
  {
   "cell_type": "code",
   "execution_count": 5,
   "metadata": {},
   "outputs": [],
   "source": [
    "# Считаем CSV-файл с данными с помощью библиотеки pandas в датафрейм и изучим общую информацию\n",
    "\n",
    "path = '/datasets'\n",
    "\n",
    "try:\n",
    "    # Чтение датафреймов\n",
    "    autos = pd.read_csv(os.path.join(path, 'autos.csv'), parse_dates=['DateCrawled', 'DateCreated', 'LastSeen'])\n",
    "\n",
    "except FileNotFoundError:\n",
    "    print('Один или несколько файлов не найдены.')"
   ]
  },
  {
   "cell_type": "code",
   "execution_count": 6,
   "metadata": {},
   "outputs": [
    {
     "name": "stdout",
     "output_type": "stream",
     "text": [
      "<class 'pandas.core.frame.DataFrame'>\n",
      "RangeIndex: 354369 entries, 0 to 354368\n",
      "Data columns (total 16 columns):\n",
      " #   Column             Non-Null Count   Dtype         \n",
      "---  ------             --------------   -----         \n",
      " 0   DateCrawled        354369 non-null  datetime64[ns]\n",
      " 1   Price              354369 non-null  int64         \n",
      " 2   VehicleType        316879 non-null  object        \n",
      " 3   RegistrationYear   354369 non-null  int64         \n",
      " 4   Gearbox            334536 non-null  object        \n",
      " 5   Power              354369 non-null  int64         \n",
      " 6   Model              334664 non-null  object        \n",
      " 7   Kilometer          354369 non-null  int64         \n",
      " 8   RegistrationMonth  354369 non-null  int64         \n",
      " 9   FuelType           321474 non-null  object        \n",
      " 10  Brand              354369 non-null  object        \n",
      " 11  Repaired           283215 non-null  object        \n",
      " 12  DateCreated        354369 non-null  datetime64[ns]\n",
      " 13  NumberOfPictures   354369 non-null  int64         \n",
      " 14  PostalCode         354369 non-null  int64         \n",
      " 15  LastSeen           354369 non-null  datetime64[ns]\n",
      "dtypes: datetime64[ns](3), int64(7), object(6)\n",
      "memory usage: 43.3+ MB\n"
     ]
    }
   ],
   "source": [
    "autos.info()"
   ]
  },
  {
   "cell_type": "code",
   "execution_count": 7,
   "metadata": {},
   "outputs": [
    {
     "data": {
      "text/html": [
       "<div>\n",
       "<style scoped>\n",
       "    .dataframe tbody tr th:only-of-type {\n",
       "        vertical-align: middle;\n",
       "    }\n",
       "\n",
       "    .dataframe tbody tr th {\n",
       "        vertical-align: top;\n",
       "    }\n",
       "\n",
       "    .dataframe thead th {\n",
       "        text-align: right;\n",
       "    }\n",
       "</style>\n",
       "<table border=\"1\" class=\"dataframe\">\n",
       "  <thead>\n",
       "    <tr style=\"text-align: right;\">\n",
       "      <th></th>\n",
       "      <th>DateCrawled</th>\n",
       "      <th>Price</th>\n",
       "      <th>VehicleType</th>\n",
       "      <th>RegistrationYear</th>\n",
       "      <th>Gearbox</th>\n",
       "      <th>Power</th>\n",
       "      <th>Model</th>\n",
       "      <th>Kilometer</th>\n",
       "      <th>RegistrationMonth</th>\n",
       "      <th>FuelType</th>\n",
       "      <th>Brand</th>\n",
       "      <th>Repaired</th>\n",
       "      <th>DateCreated</th>\n",
       "      <th>NumberOfPictures</th>\n",
       "      <th>PostalCode</th>\n",
       "      <th>LastSeen</th>\n",
       "    </tr>\n",
       "  </thead>\n",
       "  <tbody>\n",
       "    <tr>\n",
       "      <th>159901</th>\n",
       "      <td>2016-03-11 11:59:22</td>\n",
       "      <td>2800</td>\n",
       "      <td>suv</td>\n",
       "      <td>2001</td>\n",
       "      <td>manual</td>\n",
       "      <td>120</td>\n",
       "      <td>pajero</td>\n",
       "      <td>100000</td>\n",
       "      <td>12</td>\n",
       "      <td>NaN</td>\n",
       "      <td>mitsubishi</td>\n",
       "      <td>no</td>\n",
       "      <td>2016-03-11</td>\n",
       "      <td>0</td>\n",
       "      <td>74357</td>\n",
       "      <td>2016-03-11 11:59:22</td>\n",
       "    </tr>\n",
       "    <tr>\n",
       "      <th>106542</th>\n",
       "      <td>2016-03-16 17:45:33</td>\n",
       "      <td>1650</td>\n",
       "      <td>NaN</td>\n",
       "      <td>2018</td>\n",
       "      <td>manual</td>\n",
       "      <td>105</td>\n",
       "      <td>golf</td>\n",
       "      <td>150000</td>\n",
       "      <td>5</td>\n",
       "      <td>petrol</td>\n",
       "      <td>volkswagen</td>\n",
       "      <td>NaN</td>\n",
       "      <td>2016-03-16</td>\n",
       "      <td>0</td>\n",
       "      <td>46236</td>\n",
       "      <td>2016-03-17 15:46:43</td>\n",
       "    </tr>\n",
       "    <tr>\n",
       "      <th>180433</th>\n",
       "      <td>2016-04-01 15:48:30</td>\n",
       "      <td>1999</td>\n",
       "      <td>bus</td>\n",
       "      <td>1999</td>\n",
       "      <td>manual</td>\n",
       "      <td>122</td>\n",
       "      <td>other</td>\n",
       "      <td>150000</td>\n",
       "      <td>12</td>\n",
       "      <td>petrol</td>\n",
       "      <td>mitsubishi</td>\n",
       "      <td>no</td>\n",
       "      <td>2016-04-01</td>\n",
       "      <td>0</td>\n",
       "      <td>61130</td>\n",
       "      <td>2016-04-07 13:50:05</td>\n",
       "    </tr>\n",
       "  </tbody>\n",
       "</table>\n",
       "</div>"
      ],
      "text/plain": [
       "               DateCrawled  Price VehicleType  RegistrationYear Gearbox  \\\n",
       "159901 2016-03-11 11:59:22   2800         suv              2001  manual   \n",
       "106542 2016-03-16 17:45:33   1650         NaN              2018  manual   \n",
       "180433 2016-04-01 15:48:30   1999         bus              1999  manual   \n",
       "\n",
       "        Power   Model  Kilometer  RegistrationMonth FuelType       Brand  \\\n",
       "159901    120  pajero     100000                 12      NaN  mitsubishi   \n",
       "106542    105    golf     150000                  5   petrol  volkswagen   \n",
       "180433    122   other     150000                 12   petrol  mitsubishi   \n",
       "\n",
       "       Repaired DateCreated  NumberOfPictures  PostalCode            LastSeen  \n",
       "159901       no  2016-03-11                 0       74357 2016-03-11 11:59:22  \n",
       "106542      NaN  2016-03-16                 0       46236 2016-03-17 15:46:43  \n",
       "180433       no  2016-04-01                 0       61130 2016-04-07 13:50:05  "
      ]
     },
     "execution_count": 7,
     "metadata": {},
     "output_type": "execute_result"
    }
   ],
   "source": [
    "autos.sample(3)"
   ]
  },
  {
   "cell_type": "code",
   "execution_count": 8,
   "metadata": {
    "scrolled": true
   },
   "outputs": [
    {
     "data": {
      "text/html": [
       "<div>\n",
       "<style scoped>\n",
       "    .dataframe tbody tr th:only-of-type {\n",
       "        vertical-align: middle;\n",
       "    }\n",
       "\n",
       "    .dataframe tbody tr th {\n",
       "        vertical-align: top;\n",
       "    }\n",
       "\n",
       "    .dataframe thead th {\n",
       "        text-align: right;\n",
       "    }\n",
       "</style>\n",
       "<table border=\"1\" class=\"dataframe\">\n",
       "  <thead>\n",
       "    <tr style=\"text-align: right;\">\n",
       "      <th></th>\n",
       "      <th>DateCrawled</th>\n",
       "      <th>Price</th>\n",
       "      <th>VehicleType</th>\n",
       "      <th>RegistrationYear</th>\n",
       "      <th>Gearbox</th>\n",
       "      <th>Power</th>\n",
       "      <th>Model</th>\n",
       "      <th>Kilometer</th>\n",
       "      <th>RegistrationMonth</th>\n",
       "      <th>FuelType</th>\n",
       "      <th>Brand</th>\n",
       "      <th>Repaired</th>\n",
       "      <th>DateCreated</th>\n",
       "      <th>NumberOfPictures</th>\n",
       "      <th>PostalCode</th>\n",
       "      <th>LastSeen</th>\n",
       "    </tr>\n",
       "  </thead>\n",
       "  <tbody>\n",
       "    <tr>\n",
       "      <th>0</th>\n",
       "      <td>2016-03-24 11:52:17</td>\n",
       "      <td>480</td>\n",
       "      <td>NaN</td>\n",
       "      <td>1993</td>\n",
       "      <td>manual</td>\n",
       "      <td>0</td>\n",
       "      <td>golf</td>\n",
       "      <td>150000</td>\n",
       "      <td>0</td>\n",
       "      <td>petrol</td>\n",
       "      <td>volkswagen</td>\n",
       "      <td>NaN</td>\n",
       "      <td>2016-03-24</td>\n",
       "      <td>0</td>\n",
       "      <td>70435</td>\n",
       "      <td>2016-04-07 03:16:57</td>\n",
       "    </tr>\n",
       "    <tr>\n",
       "      <th>1</th>\n",
       "      <td>2016-03-24 10:58:45</td>\n",
       "      <td>18300</td>\n",
       "      <td>coupe</td>\n",
       "      <td>2011</td>\n",
       "      <td>manual</td>\n",
       "      <td>190</td>\n",
       "      <td>NaN</td>\n",
       "      <td>125000</td>\n",
       "      <td>5</td>\n",
       "      <td>gasoline</td>\n",
       "      <td>audi</td>\n",
       "      <td>yes</td>\n",
       "      <td>2016-03-24</td>\n",
       "      <td>0</td>\n",
       "      <td>66954</td>\n",
       "      <td>2016-04-07 01:46:50</td>\n",
       "    </tr>\n",
       "    <tr>\n",
       "      <th>2</th>\n",
       "      <td>2016-03-14 12:52:21</td>\n",
       "      <td>9800</td>\n",
       "      <td>suv</td>\n",
       "      <td>2004</td>\n",
       "      <td>auto</td>\n",
       "      <td>163</td>\n",
       "      <td>grand</td>\n",
       "      <td>125000</td>\n",
       "      <td>8</td>\n",
       "      <td>gasoline</td>\n",
       "      <td>jeep</td>\n",
       "      <td>NaN</td>\n",
       "      <td>2016-03-14</td>\n",
       "      <td>0</td>\n",
       "      <td>90480</td>\n",
       "      <td>2016-04-05 12:47:46</td>\n",
       "    </tr>\n",
       "  </tbody>\n",
       "</table>\n",
       "</div>"
      ],
      "text/plain": [
       "          DateCrawled  Price VehicleType  RegistrationYear Gearbox  Power  \\\n",
       "0 2016-03-24 11:52:17    480         NaN              1993  manual      0   \n",
       "1 2016-03-24 10:58:45  18300       coupe              2011  manual    190   \n",
       "2 2016-03-14 12:52:21   9800         suv              2004    auto    163   \n",
       "\n",
       "   Model  Kilometer  RegistrationMonth  FuelType       Brand Repaired  \\\n",
       "0   golf     150000                  0    petrol  volkswagen      NaN   \n",
       "1    NaN     125000                  5  gasoline        audi      yes   \n",
       "2  grand     125000                  8  gasoline        jeep      NaN   \n",
       "\n",
       "  DateCreated  NumberOfPictures  PostalCode            LastSeen  \n",
       "0  2016-03-24                 0       70435 2016-04-07 03:16:57  \n",
       "1  2016-03-24                 0       66954 2016-04-07 01:46:50  \n",
       "2  2016-03-14                 0       90480 2016-04-05 12:47:46  "
      ]
     },
     "execution_count": 8,
     "metadata": {},
     "output_type": "execute_result"
    }
   ],
   "source": [
    "autos.head(3)"
   ]
  },
  {
   "cell_type": "markdown",
   "metadata": {},
   "source": [
    "<b>По результатам загрузки</b> видим, что полученные данные соответствуют их описанию."
   ]
  },
  {
   "cell_type": "code",
   "execution_count": 9,
   "metadata": {},
   "outputs": [],
   "source": [
    "#ydata_profiling.ProfileReport(autos)"
   ]
  },
  {
   "cell_type": "markdown",
   "metadata": {},
   "source": [
    "<b>По результатам:</b>\n",
    "- цена: 3% - нулевые значения, пропусков нет, максимум - 20000, среднее - 4416, больше всего зависит от мощности и года регистрации\n",
    "- дата скачивания анкеты: с 05/03/2016 по 07/04/2016, нет пропущенных значений,\n",
    "- тип кузова: больше всего в данных - седанов, всего 8 категорий, 10% значений пропущено,\n",
    "- год регистрации: нет пропусков, но есть странные значения - год 1000 и 9999,\n",
    "- коробка: 2 варианта, 5% пропусков,\n",
    "- мощность: нет пропусков, но значение 0 у 11%,\n",
    "- модель: 250 вариантов, 5% пропусков,\n",
    "- пробег: от 5000 до 150 000, нет пропусков,\n",
    "- месяц регистрации: нет пропусков, но есть значение - 0,\n",
    "- тип топлива: 7 вариантов, 9% пропусков,\n",
    "- марка: 40 вариантов, нет пропусков,\n",
    "- ремонт: boolean, 20% пропусков,\n",
    "- фото: всегда 0,\n",
    "- в датасете 4 дубликата"
   ]
  },
  {
   "cell_type": "markdown",
   "metadata": {},
   "source": [
    "\n",
    "<div class=\"alert alert-block alert-success\">\n",
    "<b>Успех:</b> Использован продвинутый инструмент. Главное во время обучения не злоупотреблять, чтобы руки не забыл как делать EDA анализ)\n",
    "</div>\n"
   ]
  },
  {
   "cell_type": "code",
   "execution_count": 10,
   "metadata": {},
   "outputs": [
    {
     "name": "stdout",
     "output_type": "stream",
     "text": [
      "<class 'pandas.core.frame.DataFrame'>\n",
      "Index: 354365 entries, 0 to 354368\n",
      "Data columns (total 16 columns):\n",
      " #   Column             Non-Null Count   Dtype         \n",
      "---  ------             --------------   -----         \n",
      " 0   DateCrawled        354365 non-null  datetime64[ns]\n",
      " 1   Price              354365 non-null  int64         \n",
      " 2   VehicleType        316875 non-null  object        \n",
      " 3   RegistrationYear   354365 non-null  int64         \n",
      " 4   Gearbox            334532 non-null  object        \n",
      " 5   Power              354365 non-null  int64         \n",
      " 6   Model              334660 non-null  object        \n",
      " 7   Kilometer          354365 non-null  int64         \n",
      " 8   RegistrationMonth  354365 non-null  int64         \n",
      " 9   FuelType           321470 non-null  object        \n",
      " 10  Brand              354365 non-null  object        \n",
      " 11  Repaired           283211 non-null  object        \n",
      " 12  DateCreated        354365 non-null  datetime64[ns]\n",
      " 13  NumberOfPictures   354365 non-null  int64         \n",
      " 14  PostalCode         354365 non-null  int64         \n",
      " 15  LastSeen           354365 non-null  datetime64[ns]\n",
      "dtypes: datetime64[ns](3), int64(7), object(6)\n",
      "memory usage: 46.0+ MB\n"
     ]
    }
   ],
   "source": [
    "# Удалим дубликаты:\n",
    "autos.drop_duplicates(inplace=True)\n",
    "autos.info()"
   ]
  },
  {
   "cell_type": "code",
   "execution_count": 11,
   "metadata": {
    "scrolled": true
   },
   "outputs": [
    {
     "name": "stdout",
     "output_type": "stream",
     "text": [
      "<class 'pandas.core.frame.DataFrame'>\n",
      "Index: 354194 entries, 0 to 354368\n",
      "Data columns (total 16 columns):\n",
      " #   Column             Non-Null Count   Dtype         \n",
      "---  ------             --------------   -----         \n",
      " 0   DateCrawled        354194 non-null  datetime64[ns]\n",
      " 1   Price              354194 non-null  int64         \n",
      " 2   VehicleType        316875 non-null  object        \n",
      " 3   RegistrationYear   354194 non-null  int64         \n",
      " 4   Gearbox            334499 non-null  object        \n",
      " 5   Power              354194 non-null  int64         \n",
      " 6   Model              334564 non-null  object        \n",
      " 7   Kilometer          354194 non-null  int64         \n",
      " 8   RegistrationMonth  354194 non-null  int64         \n",
      " 9   FuelType           321427 non-null  object        \n",
      " 10  Brand              354194 non-null  object        \n",
      " 11  Repaired           283187 non-null  object        \n",
      " 12  DateCreated        354194 non-null  datetime64[ns]\n",
      " 13  NumberOfPictures   354194 non-null  int64         \n",
      " 14  PostalCode         354194 non-null  int64         \n",
      " 15  LastSeen           354194 non-null  datetime64[ns]\n",
      "dtypes: datetime64[ns](3), int64(7), object(6)\n",
      "memory usage: 45.9+ MB\n"
     ]
    }
   ],
   "source": [
    "# Удалим 171 строку где год регистрации аномальный (больше 2024 или меньше 1900)\n",
    "autos = autos[(autos['RegistrationYear']<2024)&(autos['RegistrationYear']>1900)]\n",
    "autos.info()"
   ]
  },
  {
   "cell_type": "code",
   "execution_count": 12,
   "metadata": {},
   "outputs": [],
   "source": [
    "autos['DateCrawled_y'] = autos['DateCrawled'].dt.year\n",
    "autos['DateCrawled_m'] = autos['DateCrawled'].dt.month"
   ]
  },
  {
   "cell_type": "code",
   "execution_count": 13,
   "metadata": {},
   "outputs": [
    {
     "data": {
      "text/plain": [
       "0         2016\n",
       "1         2016\n",
       "2         2016\n",
       "3         2016\n",
       "4         2016\n",
       "          ... \n",
       "354364    2016\n",
       "354365    2016\n",
       "354366    2016\n",
       "354367    2016\n",
       "354368    2016\n",
       "Name: DateCrawled_y, Length: 354194, dtype: int32"
      ]
     },
     "execution_count": 13,
     "metadata": {},
     "output_type": "execute_result"
    }
   ],
   "source": [
    "autos['DateCrawled_y']"
   ]
  },
  {
   "cell_type": "code",
   "execution_count": 14,
   "metadata": {},
   "outputs": [
    {
     "data": {
      "text/html": [
       "<div>\n",
       "<style scoped>\n",
       "    .dataframe tbody tr th:only-of-type {\n",
       "        vertical-align: middle;\n",
       "    }\n",
       "\n",
       "    .dataframe tbody tr th {\n",
       "        vertical-align: top;\n",
       "    }\n",
       "\n",
       "    .dataframe thead th {\n",
       "        text-align: right;\n",
       "    }\n",
       "</style>\n",
       "<table border=\"1\" class=\"dataframe\">\n",
       "  <thead>\n",
       "    <tr style=\"text-align: right;\">\n",
       "      <th></th>\n",
       "      <th>DateCrawled_m</th>\n",
       "      <th>RegistrationYear</th>\n",
       "      <th>Model</th>\n",
       "    </tr>\n",
       "  </thead>\n",
       "  <tbody>\n",
       "    <tr>\n",
       "      <th>0</th>\n",
       "      <td>3</td>\n",
       "      <td>1910</td>\n",
       "      <td>30</td>\n",
       "    </tr>\n",
       "    <tr>\n",
       "      <th>1</th>\n",
       "      <td>3</td>\n",
       "      <td>1915</td>\n",
       "      <td>0</td>\n",
       "    </tr>\n",
       "    <tr>\n",
       "      <th>2</th>\n",
       "      <td>3</td>\n",
       "      <td>1920</td>\n",
       "      <td>0</td>\n",
       "    </tr>\n",
       "    <tr>\n",
       "      <th>3</th>\n",
       "      <td>3</td>\n",
       "      <td>1923</td>\n",
       "      <td>2</td>\n",
       "    </tr>\n",
       "    <tr>\n",
       "      <th>4</th>\n",
       "      <td>3</td>\n",
       "      <td>1925</td>\n",
       "      <td>0</td>\n",
       "    </tr>\n",
       "    <tr>\n",
       "      <th>...</th>\n",
       "      <td>...</td>\n",
       "      <td>...</td>\n",
       "      <td>...</td>\n",
       "    </tr>\n",
       "    <tr>\n",
       "      <th>172</th>\n",
       "      <td>4</td>\n",
       "      <td>2015</td>\n",
       "      <td>196</td>\n",
       "    </tr>\n",
       "    <tr>\n",
       "      <th>173</th>\n",
       "      <td>4</td>\n",
       "      <td>2016</td>\n",
       "      <td>1353</td>\n",
       "    </tr>\n",
       "    <tr>\n",
       "      <th>174</th>\n",
       "      <td>4</td>\n",
       "      <td>2017</td>\n",
       "      <td>1430</td>\n",
       "    </tr>\n",
       "    <tr>\n",
       "      <th>175</th>\n",
       "      <td>4</td>\n",
       "      <td>2018</td>\n",
       "      <td>571</td>\n",
       "    </tr>\n",
       "    <tr>\n",
       "      <th>176</th>\n",
       "      <td>4</td>\n",
       "      <td>2019</td>\n",
       "      <td>4</td>\n",
       "    </tr>\n",
       "  </tbody>\n",
       "</table>\n",
       "<p>177 rows × 3 columns</p>\n",
       "</div>"
      ],
      "text/plain": [
       "     DateCrawled_m  RegistrationYear  Model\n",
       "0                3              1910     30\n",
       "1                3              1915      0\n",
       "2                3              1920      0\n",
       "3                3              1923      2\n",
       "4                3              1925      0\n",
       "..             ...               ...    ...\n",
       "172              4              2015    196\n",
       "173              4              2016   1353\n",
       "174              4              2017   1430\n",
       "175              4              2018    571\n",
       "176              4              2019      4\n",
       "\n",
       "[177 rows x 3 columns]"
      ]
     },
     "execution_count": 14,
     "metadata": {},
     "output_type": "execute_result"
    }
   ],
   "source": [
    "autos.groupby(['DateCrawled_m', 'RegistrationYear'])['Model'].count().reset_index()"
   ]
  },
  {
   "cell_type": "code",
   "execution_count": 15,
   "metadata": {},
   "outputs": [
    {
     "data": {
      "text/plain": [
       "RegistrationYear\n",
       "2000    20599\n",
       "1999    19065\n",
       "2005    18553\n",
       "2001    16801\n",
       "2006    16574\n",
       "        ...  \n",
       "1927        1\n",
       "1925        1\n",
       "1915        1\n",
       "1949        1\n",
       "1946        1\n",
       "Name: count, Length: 96, dtype: int64"
      ]
     },
     "execution_count": 15,
     "metadata": {},
     "output_type": "execute_result"
    }
   ],
   "source": [
    "autos[autos['DateCrawled_m']==3]['RegistrationYear'].value_counts()"
   ]
  },
  {
   "cell_type": "code",
   "execution_count": 16,
   "metadata": {},
   "outputs": [
    {
     "data": {
      "text/plain": [
       "RegistrationYear\n",
       "2000    3891\n",
       "1999    3662\n",
       "2005    3556\n",
       "2006    3326\n",
       "2001    3322\n",
       "        ... \n",
       "1948       1\n",
       "1931       1\n",
       "1947       1\n",
       "1936       1\n",
       "1933       1\n",
       "Name: count, Length: 81, dtype: int64"
      ]
     },
     "execution_count": 16,
     "metadata": {},
     "output_type": "execute_result"
    }
   ],
   "source": [
    "autos[autos['DateCrawled_m']==4]['RegistrationYear'].value_counts()"
   ]
  },
  {
   "cell_type": "markdown",
   "metadata": {},
   "source": [
    "<div class=\"alert alert-block alert-info\">\n",
    "<b>Совет:</b> Советую посмотреть на дату выгрузки анкет - там тоже можно увидеть полезную информацию по поводу границ года регистраци.\n",
    "</div>\n",
    "\n"
   ]
  },
  {
   "cell_type": "markdown",
   "metadata": {},
   "source": [
    "<div class=\"alert alert-block alert-warning\">\n",
    "<b>Комментарий студента:</b> Не нашла связи между датой выгрузки (год и месяц) и датой регистрации машины. Анкеты выгружали в марте и апреле 2016, в апреле меньше (16% после удаления дубликатов), но машины с годом регистрации около 1900 есть и там и там. Топ по количеству машин в разные годы регистрации тоже выглядит похоже. \n",
    "</div>"
   ]
  },
  {
   "cell_type": "markdown",
   "metadata": {},
   "source": [
    "\n",
    "<div class=\"alert alert-block alert-success\">\n",
    "<b>Ответ[2]:</b> Согласно дате выгрузки базы, у нас не может быть год регистрации больше 2016 года \n",
    "</div>"
   ]
  },
  {
   "cell_type": "code",
   "execution_count": 17,
   "metadata": {},
   "outputs": [
    {
     "data": {
      "text/html": [
       "<div>\n",
       "<style scoped>\n",
       "    .dataframe tbody tr th:only-of-type {\n",
       "        vertical-align: middle;\n",
       "    }\n",
       "\n",
       "    .dataframe tbody tr th {\n",
       "        vertical-align: top;\n",
       "    }\n",
       "\n",
       "    .dataframe thead th {\n",
       "        text-align: right;\n",
       "    }\n",
       "</style>\n",
       "<table border=\"1\" class=\"dataframe\">\n",
       "  <thead>\n",
       "    <tr style=\"text-align: right;\">\n",
       "      <th></th>\n",
       "      <th>DateCrawled</th>\n",
       "      <th>Price</th>\n",
       "      <th>VehicleType</th>\n",
       "      <th>RegistrationYear</th>\n",
       "      <th>Gearbox</th>\n",
       "      <th>Power</th>\n",
       "      <th>Model</th>\n",
       "      <th>Kilometer</th>\n",
       "      <th>RegistrationMonth</th>\n",
       "      <th>FuelType</th>\n",
       "      <th>Brand</th>\n",
       "      <th>Repaired</th>\n",
       "      <th>DateCreated</th>\n",
       "      <th>NumberOfPictures</th>\n",
       "      <th>PostalCode</th>\n",
       "      <th>LastSeen</th>\n",
       "      <th>DateCrawled_y</th>\n",
       "      <th>DateCrawled_m</th>\n",
       "    </tr>\n",
       "  </thead>\n",
       "  <tbody>\n",
       "    <tr>\n",
       "      <th>0</th>\n",
       "      <td>2016-03-24 11:52:17</td>\n",
       "      <td>480</td>\n",
       "      <td>NaN</td>\n",
       "      <td>1993</td>\n",
       "      <td>manual</td>\n",
       "      <td>0</td>\n",
       "      <td>golf</td>\n",
       "      <td>150000</td>\n",
       "      <td>0</td>\n",
       "      <td>petrol</td>\n",
       "      <td>volkswagen</td>\n",
       "      <td>NaN</td>\n",
       "      <td>2016-03-24</td>\n",
       "      <td>0</td>\n",
       "      <td>70435</td>\n",
       "      <td>2016-04-07 03:16:57</td>\n",
       "      <td>2016</td>\n",
       "      <td>3</td>\n",
       "    </tr>\n",
       "    <tr>\n",
       "      <th>15</th>\n",
       "      <td>2016-03-11 21:39:15</td>\n",
       "      <td>450</td>\n",
       "      <td>small</td>\n",
       "      <td>1910</td>\n",
       "      <td>NaN</td>\n",
       "      <td>0</td>\n",
       "      <td>ka</td>\n",
       "      <td>5000</td>\n",
       "      <td>0</td>\n",
       "      <td>petrol</td>\n",
       "      <td>ford</td>\n",
       "      <td>NaN</td>\n",
       "      <td>2016-03-11</td>\n",
       "      <td>0</td>\n",
       "      <td>24148</td>\n",
       "      <td>2016-03-19 08:46:47</td>\n",
       "      <td>2016</td>\n",
       "      <td>3</td>\n",
       "    </tr>\n",
       "    <tr>\n",
       "      <th>32</th>\n",
       "      <td>2016-03-15 20:59:01</td>\n",
       "      <td>245</td>\n",
       "      <td>sedan</td>\n",
       "      <td>1994</td>\n",
       "      <td>NaN</td>\n",
       "      <td>0</td>\n",
       "      <td>golf</td>\n",
       "      <td>150000</td>\n",
       "      <td>2</td>\n",
       "      <td>petrol</td>\n",
       "      <td>volkswagen</td>\n",
       "      <td>no</td>\n",
       "      <td>2016-03-15</td>\n",
       "      <td>0</td>\n",
       "      <td>44145</td>\n",
       "      <td>2016-03-17 18:17:43</td>\n",
       "      <td>2016</td>\n",
       "      <td>3</td>\n",
       "    </tr>\n",
       "    <tr>\n",
       "      <th>37</th>\n",
       "      <td>2016-03-28 17:50:15</td>\n",
       "      <td>1500</td>\n",
       "      <td>NaN</td>\n",
       "      <td>2016</td>\n",
       "      <td>NaN</td>\n",
       "      <td>0</td>\n",
       "      <td>kangoo</td>\n",
       "      <td>150000</td>\n",
       "      <td>1</td>\n",
       "      <td>gasoline</td>\n",
       "      <td>renault</td>\n",
       "      <td>no</td>\n",
       "      <td>2016-03-28</td>\n",
       "      <td>0</td>\n",
       "      <td>46483</td>\n",
       "      <td>2016-03-30 09:18:02</td>\n",
       "      <td>2016</td>\n",
       "      <td>3</td>\n",
       "    </tr>\n",
       "    <tr>\n",
       "      <th>40</th>\n",
       "      <td>2016-03-26 22:06:17</td>\n",
       "      <td>0</td>\n",
       "      <td>NaN</td>\n",
       "      <td>1990</td>\n",
       "      <td>NaN</td>\n",
       "      <td>0</td>\n",
       "      <td>corsa</td>\n",
       "      <td>150000</td>\n",
       "      <td>1</td>\n",
       "      <td>petrol</td>\n",
       "      <td>opel</td>\n",
       "      <td>NaN</td>\n",
       "      <td>2016-03-26</td>\n",
       "      <td>0</td>\n",
       "      <td>56412</td>\n",
       "      <td>2016-03-27 17:43:34</td>\n",
       "      <td>2016</td>\n",
       "      <td>3</td>\n",
       "    </tr>\n",
       "    <tr>\n",
       "      <th>54</th>\n",
       "      <td>2016-03-17 07:56:40</td>\n",
       "      <td>4700</td>\n",
       "      <td>wagon</td>\n",
       "      <td>2005</td>\n",
       "      <td>manual</td>\n",
       "      <td>0</td>\n",
       "      <td>signum</td>\n",
       "      <td>150000</td>\n",
       "      <td>0</td>\n",
       "      <td>NaN</td>\n",
       "      <td>opel</td>\n",
       "      <td>no</td>\n",
       "      <td>2016-03-17</td>\n",
       "      <td>0</td>\n",
       "      <td>88433</td>\n",
       "      <td>2016-04-04 04:17:32</td>\n",
       "      <td>2016</td>\n",
       "      <td>3</td>\n",
       "    </tr>\n",
       "    <tr>\n",
       "      <th>55</th>\n",
       "      <td>2016-03-26 10:39:35</td>\n",
       "      <td>550</td>\n",
       "      <td>wagon</td>\n",
       "      <td>1999</td>\n",
       "      <td>manual</td>\n",
       "      <td>0</td>\n",
       "      <td>astra</td>\n",
       "      <td>150000</td>\n",
       "      <td>8</td>\n",
       "      <td>gasoline</td>\n",
       "      <td>opel</td>\n",
       "      <td>yes</td>\n",
       "      <td>2016-03-26</td>\n",
       "      <td>0</td>\n",
       "      <td>56759</td>\n",
       "      <td>2016-04-01 23:17:27</td>\n",
       "      <td>2016</td>\n",
       "      <td>3</td>\n",
       "    </tr>\n",
       "    <tr>\n",
       "      <th>69</th>\n",
       "      <td>2016-04-01 11:56:40</td>\n",
       "      <td>1200</td>\n",
       "      <td>coupe</td>\n",
       "      <td>2001</td>\n",
       "      <td>NaN</td>\n",
       "      <td>0</td>\n",
       "      <td>astra</td>\n",
       "      <td>150000</td>\n",
       "      <td>0</td>\n",
       "      <td>NaN</td>\n",
       "      <td>opel</td>\n",
       "      <td>NaN</td>\n",
       "      <td>2016-04-01</td>\n",
       "      <td>0</td>\n",
       "      <td>47249</td>\n",
       "      <td>2016-04-07 08:46:07</td>\n",
       "      <td>2016</td>\n",
       "      <td>4</td>\n",
       "    </tr>\n",
       "    <tr>\n",
       "      <th>70</th>\n",
       "      <td>2016-03-08 01:36:42</td>\n",
       "      <td>800</td>\n",
       "      <td>small</td>\n",
       "      <td>1993</td>\n",
       "      <td>manual</td>\n",
       "      <td>0</td>\n",
       "      <td>polo</td>\n",
       "      <td>150000</td>\n",
       "      <td>3</td>\n",
       "      <td>petrol</td>\n",
       "      <td>volkswagen</td>\n",
       "      <td>no</td>\n",
       "      <td>2016-03-08</td>\n",
       "      <td>0</td>\n",
       "      <td>8258</td>\n",
       "      <td>2016-04-05 23:46:00</td>\n",
       "      <td>2016</td>\n",
       "      <td>3</td>\n",
       "    </tr>\n",
       "    <tr>\n",
       "      <th>90</th>\n",
       "      <td>2016-03-23 11:53:21</td>\n",
       "      <td>2400</td>\n",
       "      <td>sedan</td>\n",
       "      <td>2003</td>\n",
       "      <td>manual</td>\n",
       "      <td>0</td>\n",
       "      <td>a4</td>\n",
       "      <td>150000</td>\n",
       "      <td>9</td>\n",
       "      <td>gasoline</td>\n",
       "      <td>audi</td>\n",
       "      <td>NaN</td>\n",
       "      <td>2016-03-23</td>\n",
       "      <td>0</td>\n",
       "      <td>40210</td>\n",
       "      <td>2016-03-23 11:53:21</td>\n",
       "      <td>2016</td>\n",
       "      <td>3</td>\n",
       "    </tr>\n",
       "  </tbody>\n",
       "</table>\n",
       "</div>"
      ],
      "text/plain": [
       "           DateCrawled  Price VehicleType  RegistrationYear Gearbox  Power  \\\n",
       "0  2016-03-24 11:52:17    480         NaN              1993  manual      0   \n",
       "15 2016-03-11 21:39:15    450       small              1910     NaN      0   \n",
       "32 2016-03-15 20:59:01    245       sedan              1994     NaN      0   \n",
       "37 2016-03-28 17:50:15   1500         NaN              2016     NaN      0   \n",
       "40 2016-03-26 22:06:17      0         NaN              1990     NaN      0   \n",
       "54 2016-03-17 07:56:40   4700       wagon              2005  manual      0   \n",
       "55 2016-03-26 10:39:35    550       wagon              1999  manual      0   \n",
       "69 2016-04-01 11:56:40   1200       coupe              2001     NaN      0   \n",
       "70 2016-03-08 01:36:42    800       small              1993  manual      0   \n",
       "90 2016-03-23 11:53:21   2400       sedan              2003  manual      0   \n",
       "\n",
       "     Model  Kilometer  RegistrationMonth  FuelType       Brand Repaired  \\\n",
       "0     golf     150000                  0    petrol  volkswagen      NaN   \n",
       "15      ka       5000                  0    petrol        ford      NaN   \n",
       "32    golf     150000                  2    petrol  volkswagen       no   \n",
       "37  kangoo     150000                  1  gasoline     renault       no   \n",
       "40   corsa     150000                  1    petrol        opel      NaN   \n",
       "54  signum     150000                  0       NaN        opel       no   \n",
       "55   astra     150000                  8  gasoline        opel      yes   \n",
       "69   astra     150000                  0       NaN        opel      NaN   \n",
       "70    polo     150000                  3    petrol  volkswagen       no   \n",
       "90      a4     150000                  9  gasoline        audi      NaN   \n",
       "\n",
       "   DateCreated  NumberOfPictures  PostalCode            LastSeen  \\\n",
       "0   2016-03-24                 0       70435 2016-04-07 03:16:57   \n",
       "15  2016-03-11                 0       24148 2016-03-19 08:46:47   \n",
       "32  2016-03-15                 0       44145 2016-03-17 18:17:43   \n",
       "37  2016-03-28                 0       46483 2016-03-30 09:18:02   \n",
       "40  2016-03-26                 0       56412 2016-03-27 17:43:34   \n",
       "54  2016-03-17                 0       88433 2016-04-04 04:17:32   \n",
       "55  2016-03-26                 0       56759 2016-04-01 23:17:27   \n",
       "69  2016-04-01                 0       47249 2016-04-07 08:46:07   \n",
       "70  2016-03-08                 0        8258 2016-04-05 23:46:00   \n",
       "90  2016-03-23                 0       40210 2016-03-23 11:53:21   \n",
       "\n",
       "    DateCrawled_y  DateCrawled_m  \n",
       "0            2016              3  \n",
       "15           2016              3  \n",
       "32           2016              3  \n",
       "37           2016              3  \n",
       "40           2016              3  \n",
       "54           2016              3  \n",
       "55           2016              3  \n",
       "69           2016              4  \n",
       "70           2016              3  \n",
       "90           2016              3  "
      ]
     },
     "execution_count": 17,
     "metadata": {},
     "output_type": "execute_result"
    }
   ],
   "source": [
    "autos[autos['Power']==0].head(10)"
   ]
  },
  {
   "cell_type": "code",
   "execution_count": 18,
   "metadata": {},
   "outputs": [
    {
     "name": "stderr",
     "output_type": "stream",
     "text": [
      "/tmp/ipykernel_307/2473047989.py:8: DeprecationWarning: DataFrameGroupBy.apply operated on the grouping columns. This behavior is deprecated, and in a future version of pandas the grouping columns will be excluded from the operation. Either pass `include_groups=False` to exclude the groupings or explicitly select the grouping columns after groupby to silence this warning.\n",
      "  autos = autos.groupby(['Brand', 'Model'], group_keys=False).apply(replace_zero_with_median)\n"
     ]
    }
   ],
   "source": [
    "# Функция для замены 0 на медианное значение\n",
    "def replace_zero_with_median(group):\n",
    "    median_value = group['Power'].median()\n",
    "    group['Power'] = group['Power'].replace(0, median_value)\n",
    "    return group\n",
    "\n",
    "# Применяем функцию к группам по Brand и Model\n",
    "autos = autos.groupby(['Brand', 'Model'], group_keys=False).apply(replace_zero_with_median)"
   ]
  },
  {
   "cell_type": "markdown",
   "metadata": {},
   "source": [
    "\n",
    "\n",
    "\n",
    "<div class=\"alert alert-block alert-info\">\n",
    "<b>Совет:</b>  А очень большие мощности кажутся адекватными значениям? И вопрос на подумать: Как думаешь а машины с 0-ой мощностью могут быть просто без двигателя?\n",
    "</div>\n"
   ]
  },
  {
   "cell_type": "code",
   "execution_count": 19,
   "metadata": {},
   "outputs": [
    {
     "data": {
      "text/plain": [
       "299"
      ]
     },
     "execution_count": 19,
     "metadata": {},
     "output_type": "execute_result"
    }
   ],
   "source": [
    "len(autos[autos['Power']>700])"
   ]
  },
  {
   "cell_type": "code",
   "execution_count": 20,
   "metadata": {},
   "outputs": [
    {
     "name": "stdout",
     "output_type": "stream",
     "text": [
      "<class 'pandas.core.frame.DataFrame'>\n",
      "Index: 334263 entries, 0 to 354368\n",
      "Data columns (total 18 columns):\n",
      " #   Column             Non-Null Count   Dtype         \n",
      "---  ------             --------------   -----         \n",
      " 0   DateCrawled        334263 non-null  datetime64[ns]\n",
      " 1   Price              334263 non-null  int64         \n",
      " 2   VehicleType        303737 non-null  object        \n",
      " 3   RegistrationYear   334263 non-null  int64         \n",
      " 4   Gearbox            318645 non-null  object        \n",
      " 5   Power              334263 non-null  float64       \n",
      " 6   Model              334263 non-null  object        \n",
      " 7   Kilometer          334263 non-null  int64         \n",
      " 8   RegistrationMonth  334263 non-null  int64         \n",
      " 9   FuelType           308656 non-null  object        \n",
      " 10  Brand              334263 non-null  object        \n",
      " 11  Repaired           272352 non-null  object        \n",
      " 12  DateCreated        334263 non-null  datetime64[ns]\n",
      " 13  NumberOfPictures   334263 non-null  int64         \n",
      " 14  PostalCode         334263 non-null  int64         \n",
      " 15  LastSeen           334263 non-null  datetime64[ns]\n",
      " 16  DateCrawled_y      334263 non-null  int32         \n",
      " 17  DateCrawled_m      334263 non-null  int32         \n",
      "dtypes: datetime64[ns](3), float64(1), int32(2), int64(6), object(6)\n",
      "memory usage: 45.9+ MB\n"
     ]
    }
   ],
   "source": [
    "autos = autos[autos['Power']<700]\n",
    "autos.info()"
   ]
  },
  {
   "cell_type": "markdown",
   "metadata": {},
   "source": [
    "<div class=\"alert alert-block alert-warning\">\n",
    "<b>Комментарий студента:</b> Удалила машины с мощностью больше 700, кажется ошибкой, тк это вроде максимальная мощность на рынке. С 0 мощностью поискала объявления на авто.ру: объявления без двигателя есть, но мощность указана. Может с налогами связано, которые по мощности расчитаны в том числе, и это повлияет на цену продажи?\n",
    "</div>"
   ]
  },
  {
   "cell_type": "markdown",
   "metadata": {},
   "source": [
    "<div class=\"alert alert-block alert-success\">\n",
    "<b>Успех[2]:</b>  тут еще напрашивается вопрос: нужны ли автомобили, которые подойдут в категорию запчасти, нашему сервису 'не бит, не крашен' для прогнозирования цен на нормальные автомобили?)\n",
    "</div>\n"
   ]
  },
  {
   "cell_type": "code",
   "execution_count": 21,
   "metadata": {
    "scrolled": true
   },
   "outputs": [
    {
     "data": {
      "text/html": [
       "<div>\n",
       "<style scoped>\n",
       "    .dataframe tbody tr th:only-of-type {\n",
       "        vertical-align: middle;\n",
       "    }\n",
       "\n",
       "    .dataframe tbody tr th {\n",
       "        vertical-align: top;\n",
       "    }\n",
       "\n",
       "    .dataframe thead th {\n",
       "        text-align: right;\n",
       "    }\n",
       "</style>\n",
       "<table border=\"1\" class=\"dataframe\">\n",
       "  <thead>\n",
       "    <tr style=\"text-align: right;\">\n",
       "      <th></th>\n",
       "      <th>DateCrawled</th>\n",
       "      <th>Price</th>\n",
       "      <th>VehicleType</th>\n",
       "      <th>RegistrationYear</th>\n",
       "      <th>Gearbox</th>\n",
       "      <th>Power</th>\n",
       "      <th>Model</th>\n",
       "      <th>Kilometer</th>\n",
       "      <th>RegistrationMonth</th>\n",
       "      <th>FuelType</th>\n",
       "      <th>Brand</th>\n",
       "      <th>Repaired</th>\n",
       "      <th>DateCreated</th>\n",
       "      <th>NumberOfPictures</th>\n",
       "      <th>PostalCode</th>\n",
       "      <th>LastSeen</th>\n",
       "      <th>DateCrawled_y</th>\n",
       "      <th>DateCrawled_m</th>\n",
       "    </tr>\n",
       "  </thead>\n",
       "  <tbody>\n",
       "    <tr>\n",
       "      <th>0</th>\n",
       "      <td>2016-03-24 11:52:17</td>\n",
       "      <td>480</td>\n",
       "      <td>NaN</td>\n",
       "      <td>1993</td>\n",
       "      <td>manual</td>\n",
       "      <td>95.0</td>\n",
       "      <td>golf</td>\n",
       "      <td>150000</td>\n",
       "      <td>0</td>\n",
       "      <td>petrol</td>\n",
       "      <td>volkswagen</td>\n",
       "      <td>NaN</td>\n",
       "      <td>2016-03-24</td>\n",
       "      <td>0</td>\n",
       "      <td>70435</td>\n",
       "      <td>2016-04-07 03:16:57</td>\n",
       "      <td>2016</td>\n",
       "      <td>3</td>\n",
       "    </tr>\n",
       "  </tbody>\n",
       "</table>\n",
       "</div>"
      ],
      "text/plain": [
       "          DateCrawled  Price VehicleType  RegistrationYear Gearbox  Power  \\\n",
       "0 2016-03-24 11:52:17    480         NaN              1993  manual   95.0   \n",
       "\n",
       "  Model  Kilometer  RegistrationMonth FuelType       Brand Repaired  \\\n",
       "0  golf     150000                  0   petrol  volkswagen      NaN   \n",
       "\n",
       "  DateCreated  NumberOfPictures  PostalCode            LastSeen  \\\n",
       "0  2016-03-24                 0       70435 2016-04-07 03:16:57   \n",
       "\n",
       "   DateCrawled_y  DateCrawled_m  \n",
       "0           2016              3  "
      ]
     },
     "execution_count": 21,
     "metadata": {},
     "output_type": "execute_result"
    }
   ],
   "source": [
    "autos.loc[[0]]"
   ]
  },
  {
   "cell_type": "code",
   "execution_count": 22,
   "metadata": {
    "scrolled": true
   },
   "outputs": [
    {
     "data": {
      "text/html": [
       "<div>\n",
       "<style scoped>\n",
       "    .dataframe tbody tr th:only-of-type {\n",
       "        vertical-align: middle;\n",
       "    }\n",
       "\n",
       "    .dataframe tbody tr th {\n",
       "        vertical-align: top;\n",
       "    }\n",
       "\n",
       "    .dataframe thead th {\n",
       "        text-align: right;\n",
       "    }\n",
       "</style>\n",
       "<table border=\"1\" class=\"dataframe\">\n",
       "  <thead>\n",
       "    <tr style=\"text-align: right;\">\n",
       "      <th></th>\n",
       "      <th>DateCrawled</th>\n",
       "      <th>Price</th>\n",
       "      <th>VehicleType</th>\n",
       "      <th>RegistrationYear</th>\n",
       "      <th>Gearbox</th>\n",
       "      <th>Power</th>\n",
       "      <th>Model</th>\n",
       "      <th>Kilometer</th>\n",
       "      <th>RegistrationMonth</th>\n",
       "      <th>FuelType</th>\n",
       "      <th>Brand</th>\n",
       "      <th>Repaired</th>\n",
       "      <th>DateCreated</th>\n",
       "      <th>NumberOfPictures</th>\n",
       "      <th>PostalCode</th>\n",
       "      <th>LastSeen</th>\n",
       "      <th>DateCrawled_y</th>\n",
       "      <th>DateCrawled_m</th>\n",
       "    </tr>\n",
       "  </thead>\n",
       "  <tbody>\n",
       "    <tr>\n",
       "      <th>40033</th>\n",
       "      <td>2016-03-16 23:38:34</td>\n",
       "      <td>2500</td>\n",
       "      <td>sedan</td>\n",
       "      <td>1999</td>\n",
       "      <td>manual</td>\n",
       "      <td>150.0</td>\n",
       "      <td>golf</td>\n",
       "      <td>150000</td>\n",
       "      <td>11</td>\n",
       "      <td>petrol</td>\n",
       "      <td>volkswagen</td>\n",
       "      <td>no</td>\n",
       "      <td>2016-03-16</td>\n",
       "      <td>0</td>\n",
       "      <td>64354</td>\n",
       "      <td>2016-04-06 00:17:55</td>\n",
       "      <td>2016</td>\n",
       "      <td>3</td>\n",
       "    </tr>\n",
       "    <tr>\n",
       "      <th>230033</th>\n",
       "      <td>2016-03-12 16:58:27</td>\n",
       "      <td>3400</td>\n",
       "      <td>sedan</td>\n",
       "      <td>2007</td>\n",
       "      <td>manual</td>\n",
       "      <td>80.0</td>\n",
       "      <td>golf</td>\n",
       "      <td>150000</td>\n",
       "      <td>4</td>\n",
       "      <td>petrol</td>\n",
       "      <td>volkswagen</td>\n",
       "      <td>no</td>\n",
       "      <td>2016-03-12</td>\n",
       "      <td>0</td>\n",
       "      <td>72820</td>\n",
       "      <td>2016-03-30 16:46:57</td>\n",
       "      <td>2016</td>\n",
       "      <td>3</td>\n",
       "    </tr>\n",
       "    <tr>\n",
       "      <th>26261</th>\n",
       "      <td>2016-03-22 16:55:33</td>\n",
       "      <td>8100</td>\n",
       "      <td>small</td>\n",
       "      <td>2009</td>\n",
       "      <td>manual</td>\n",
       "      <td>122.0</td>\n",
       "      <td>golf</td>\n",
       "      <td>125000</td>\n",
       "      <td>7</td>\n",
       "      <td>petrol</td>\n",
       "      <td>volkswagen</td>\n",
       "      <td>no</td>\n",
       "      <td>2016-03-22</td>\n",
       "      <td>0</td>\n",
       "      <td>91054</td>\n",
       "      <td>2016-03-22 17:40:50</td>\n",
       "      <td>2016</td>\n",
       "      <td>3</td>\n",
       "    </tr>\n",
       "  </tbody>\n",
       "</table>\n",
       "</div>"
      ],
      "text/plain": [
       "               DateCrawled  Price VehicleType  RegistrationYear Gearbox  \\\n",
       "40033  2016-03-16 23:38:34   2500       sedan              1999  manual   \n",
       "230033 2016-03-12 16:58:27   3400       sedan              2007  manual   \n",
       "26261  2016-03-22 16:55:33   8100       small              2009  manual   \n",
       "\n",
       "        Power Model  Kilometer  RegistrationMonth FuelType       Brand  \\\n",
       "40033   150.0  golf     150000                 11   petrol  volkswagen   \n",
       "230033   80.0  golf     150000                  4   petrol  volkswagen   \n",
       "26261   122.0  golf     125000                  7   petrol  volkswagen   \n",
       "\n",
       "       Repaired DateCreated  NumberOfPictures  PostalCode            LastSeen  \\\n",
       "40033        no  2016-03-16                 0       64354 2016-04-06 00:17:55   \n",
       "230033       no  2016-03-12                 0       72820 2016-03-30 16:46:57   \n",
       "26261        no  2016-03-22                 0       91054 2016-03-22 17:40:50   \n",
       "\n",
       "        DateCrawled_y  DateCrawled_m  \n",
       "40033            2016              3  \n",
       "230033           2016              3  \n",
       "26261            2016              3  "
      ]
     },
     "execution_count": 22,
     "metadata": {},
     "output_type": "execute_result"
    }
   ],
   "source": [
    "# Проверим VW Golf\n",
    "autos[autos['Model']=='golf'].sample(3)"
   ]
  },
  {
   "cell_type": "code",
   "execution_count": 23,
   "metadata": {},
   "outputs": [],
   "source": [
    "# Заполним пропуски в категориальных переменных заглушкой\n",
    "columns_to_fill = ['VehicleType', 'Gearbox', 'Model', 'FuelType', 'Repaired']\n",
    "autos[columns_to_fill] = autos[columns_to_fill].fillna('other')"
   ]
  },
  {
   "cell_type": "markdown",
   "metadata": {},
   "source": [
    "<div class=\"alert alert-block alert-success\">\n",
    "<b>Успех:</b>  Пропуски обработаны хорошим образом\n",
    "</div>\n",
    "\n",
    "\n",
    "<div class=\"alert alert-block alert-info\">\n",
    "<b>Совет:</b> У fuel_type есть категории, которые означают одно и тоже - их можно объединить, либо подумать может они действительно означают, что-то разное.\n",
    "</div>\n"
   ]
  },
  {
   "cell_type": "markdown",
   "metadata": {},
   "source": [
    "<div class=\"alert alert-block alert-warning\">\n",
    "<b>Комментарий студента:</b> Объединила бензин\n",
    "</div>"
   ]
  },
  {
   "cell_type": "markdown",
   "metadata": {},
   "source": [
    "\n",
    "<div class=\"alert alert-block alert-success\">\n",
    "    \n",
    "<b>Успех[2]:</b> 👍\n",
    "</div>\n"
   ]
  },
  {
   "cell_type": "code",
   "execution_count": 24,
   "metadata": {},
   "outputs": [
    {
     "data": {
      "text/plain": [
       "array(['petrol', 'gasoline', 'other', 'lpg', 'hybrid', 'cng', 'electric'],\n",
       "      dtype=object)"
      ]
     },
     "execution_count": 24,
     "metadata": {},
     "output_type": "execute_result"
    }
   ],
   "source": [
    "autos['FuelType'].unique()"
   ]
  },
  {
   "cell_type": "code",
   "execution_count": 25,
   "metadata": {},
   "outputs": [
    {
     "data": {
      "text/plain": [
       "array(['petrol', 'other', 'lpg', 'hybrid', 'cng', 'electric'],\n",
       "      dtype=object)"
      ]
     },
     "execution_count": 25,
     "metadata": {},
     "output_type": "execute_result"
    }
   ],
   "source": [
    "autos['FuelType'] = autos['FuelType'].replace('gasoline', 'petrol')\n",
    "autos['FuelType'].unique()"
   ]
  },
  {
   "cell_type": "markdown",
   "metadata": {},
   "source": [
    "<div class=\"alert alert-block alert-info\">\n",
    "<b>Совет:</b>  А около-нулевые цены, не кажется подозрительными? Самое интересное, что на нескольких сайтов по продажам подержанных автомобилей в Германии (страну можно определить по почтовым индексам, большинство из них из Германии) показало, что цены начинаются действительно с 0 и 1 евро, но это единичные объявления и не понятно, то ли это ошибка при заполнении формы, то ли машины на металлолом. Но я  все-таки склоняюсь к тому, чтобы избавиться от таких данных\n",
    "</div>\n"
   ]
  },
  {
   "cell_type": "markdown",
   "metadata": {},
   "source": [
    "<div class=\"alert alert-block alert-warning\">\n",
    "<b>Комментарий студента:</b> Удалила объявления дешевле 10 евро\n",
    "</div>"
   ]
  },
  {
   "cell_type": "markdown",
   "metadata": {},
   "source": [
    "\n",
    "<div class=\"alert alert-block alert-success\">\n",
    "    \n",
    "<b>Успех[2]:</b> Есть\n",
    "</div>\n"
   ]
  },
  {
   "cell_type": "code",
   "execution_count": 26,
   "metadata": {},
   "outputs": [
    {
     "data": {
      "text/plain": [
       "PostalCode\n",
       "15344    81\n",
       "27432    25\n",
       "58840    25\n",
       "52249    24\n",
       "15345    23\n",
       "         ..\n",
       "66123     1\n",
       "85399     1\n",
       "9244      1\n",
       "18442     1\n",
       "22559     1\n",
       "Name: count, Length: 3865, dtype: int64"
      ]
     },
     "execution_count": 26,
     "metadata": {},
     "output_type": "execute_result"
    }
   ],
   "source": [
    "autos[autos['Price']<10]['PostalCode'].value_counts()"
   ]
  },
  {
   "cell_type": "code",
   "execution_count": 27,
   "metadata": {},
   "outputs": [
    {
     "data": {
      "text/plain": [
       "9534"
      ]
     },
     "execution_count": 27,
     "metadata": {},
     "output_type": "execute_result"
    }
   ],
   "source": [
    "len(autos[autos['Price']<10])"
   ]
  },
  {
   "cell_type": "code",
   "execution_count": 28,
   "metadata": {},
   "outputs": [],
   "source": [
    "autos = autos[autos['Price']>10]"
   ]
  },
  {
   "cell_type": "code",
   "execution_count": 29,
   "metadata": {},
   "outputs": [],
   "source": [
    "# Удалим для построения модели неинформативные колонки или с низкой корреляцией с таргетом\n",
    "autos = autos.drop(columns=['NumberOfPictures', 'DateCrawled', 'DateCreated', 'LastSeen', 'PostalCode', \\\n",
    "                            'DateCrawled_y', 'DateCrawled_m'], errors='ignore')"
   ]
  },
  {
   "cell_type": "markdown",
   "metadata": {},
   "source": [
    "\n",
    "<div class=\"alert alert-block alert-success\">\n",
    "<b>Успех:</b> Удалить неинформативные признаки - верное решение\n",
    "</div>\n"
   ]
  },
  {
   "cell_type": "code",
   "execution_count": 30,
   "metadata": {},
   "outputs": [
    {
     "data": {
      "text/plain": [
       "Index(['Price', 'VehicleType', 'RegistrationYear', 'Gearbox', 'Power', 'Model',\n",
       "       'Kilometer', 'RegistrationMonth', 'FuelType', 'Brand', 'Repaired'],\n",
       "      dtype='object')"
      ]
     },
     "execution_count": 30,
     "metadata": {},
     "output_type": "execute_result"
    }
   ],
   "source": [
    "autos.columns"
   ]
  },
  {
   "cell_type": "markdown",
   "metadata": {},
   "source": [
    "## Обучение моделей"
   ]
  },
  {
   "cell_type": "code",
   "execution_count": 31,
   "metadata": {},
   "outputs": [],
   "source": [
    "# Разделяем признаки на категориальные и числовые \n",
    "cat_features = ['VehicleType', 'Gearbox', 'Model', 'FuelType', 'Brand', 'Repaired']\n",
    "\n",
    "# Разделяем данные на обучающую, валидационную и тестовую выборки\n",
    "features = autos.drop('Price', axis=1)\n",
    "target = autos['Price']\n",
    "features_train, features_temp, target_train, target_temp = train_test_split(features, \\\n",
    "                                                                            target, \\\n",
    "                                                                            test_size=0.2, \\\n",
    "                                                                            random_state=42)\n",
    "features_valid, features_test, target_valid, target_test = train_test_split(features_temp, \\\n",
    "                                                                            target_temp, \\\n",
    "                                                                            test_size=0.5, \\\n",
    "                                                                            random_state=42)\n",
    "\n",
    "# Создаем OrdinalEncoder и обучаем только на обучающей выборке\n",
    "ordinal_encoder = OrdinalEncoder(handle_unknown='use_encoded_value', unknown_value=-1)\n",
    "features_train[cat_features] = ordinal_encoder.fit_transform(features_train[cat_features])\n",
    "\n",
    "# Применяем трансформацию к валидационной и тестовой выборкам\n",
    "features_valid[cat_features] = ordinal_encoder.transform(features_valid[cat_features])\n",
    "features_test[cat_features] = ordinal_encoder.transform(features_test[cat_features])"
   ]
  },
  {
   "cell_type": "markdown",
   "metadata": {},
   "source": [
    "\n",
    "\n",
    "\n",
    "<div class=\"alert alert-block alert-danger\">\n",
    "<b>Ошибка::</b> \n",
    "    \n",
    "1) LabelEncoder инструмент предназначенный работать с целевым признаком, кодировать его  обучащие признаки - не хорошо и считается ошибкой, лучше использовать OrdinalEncoder\n",
    "    \n",
    "2) Но и  OE  здесь был бы - хороший выбор для всех моделей, кроме линейных, они не могут корректно обрабатывать номинальные данные обработанные порядковым способом. Для них хорош OHE, но тот же OHE нельзя применять для всех других моделей здесь (потому что не эффективно, с точки зрения времени)\n",
    "        \n",
    "- Сделать 1 набор данных: \n",
    "    - Закодировать для всех моделей методом TargetEncoder, BinaryEncoder - вполне универсальные варианты\n",
    "    - Закодировать все признаки методом OHE, а модель машины методом OE\n",
    "    - Заменить использование линейных моделей (так как их рассмотрение не обязательно) и использовать единственный метод кодировки OE.\n",
    "- Сделать 2 набора данных\n",
    "    - Закодировать для линейных моделей методом OHE, для остальных OE (или внутренний метод кодирования данных)\n",
    "    \n",
    "3) Отмечу, что encoder правильно применять после разбиения данных и обучать только на обучающей выборке, для остальных выборок просто использовать transform. Примеры использования с объяснениями можно найти посмотреь https://colab.research.google.com/drive/1_gAMXcQKoCShB_l8FNtYEejMnosm9mvt?usp=sharing \n",
    "\n",
    "И не забывай использовать параметр `handle_unknown`\n",
    "    \n",
    "4) Тебе также нужна еще третья тестовая выборка - для итогового оценивания лучшей модели\n"
   ]
  },
  {
   "cell_type": "markdown",
   "metadata": {},
   "source": [
    "<div class=\"alert alert-block alert-warning\">\n",
    "<b>Комментарий студента:</b> Добавила выборку и обновила encoder\n",
    "</div>"
   ]
  },
  {
   "cell_type": "markdown",
   "metadata": {},
   "source": [
    "\n",
    "<div class=\"alert alert-block alert-success\">\n",
    "    \n",
    "<b>Успех[2]:</b> Все правильно сделала\n",
    "</div>\n"
   ]
  },
  {
   "cell_type": "code",
   "execution_count": 32,
   "metadata": {},
   "outputs": [
    {
     "name": "stdout",
     "output_type": "stream",
     "text": [
      "СatBoost Best RMSE (GridSearch): 1850.9930117583292\n",
      "СatBoost Best parameters (GridSearch): {'depth': 6, 'iterations': 100, 'learning_rate': 0.1}\n",
      "СatBoost Validation RMSE: 1816.9509029838184\n"
     ]
    }
   ],
   "source": [
    "# Гиперпараметры для CatBoostRegressor\n",
    "params_cb = {\n",
    "    'iterations': [50, 100],\n",
    "    'depth': [4, 6],\n",
    "    'learning_rate': [0.01, 0.1]\n",
    "}\n",
    "\n",
    "# Запускаем GridSearchCV\n",
    "grid_search = GridSearchCV(estimator=CatBoostRegressor(loss_function=\"RMSE\", silent=True),\n",
    "                           param_grid=params_cb,\n",
    "                           scoring='neg_root_mean_squared_error',\n",
    "                           cv=3,\n",
    "                           n_jobs=-1)\n",
    "\n",
    "grid_search.fit(features_train, target_train)\n",
    "\n",
    "# Получаем лучшие параметры и лучший результат RMSE\n",
    "best_score = -grid_search.best_score_  # Конвертировать обратно в положительное значение RMSE\n",
    "best_params = grid_search.best_params_\n",
    "\n",
    "# Предсказание на валидационном наборе\n",
    "preds = grid_search.predict(features_valid)\n",
    "validation_rmse = np.sqrt(mean_squared_error(target_valid, preds))\n",
    "\n",
    "print(f'СatBoost Best RMSE (GridSearch): {best_score}')\n",
    "print(f'СatBoost Best parameters (GridSearch): {best_params}')\n",
    "print(f'СatBoost Validation RMSE: {validation_rmse}')"
   ]
  },
  {
   "cell_type": "code",
   "execution_count": 33,
   "metadata": {},
   "outputs": [
    {
     "name": "stdout",
     "output_type": "stream",
     "text": [
      "Parameters: {'depth': 4, 'iterations': 50, 'learning_rate': 0.01}, Training time: 1.4836 seconds, Prediction time: 0.0092 seconds\n",
      "Parameters: {'depth': 4, 'iterations': 50, 'learning_rate': 0.1}, Training time: 1.4185 seconds, Prediction time: 0.0132 seconds\n",
      "Parameters: {'depth': 4, 'iterations': 100, 'learning_rate': 0.01}, Training time: 2.3712 seconds, Prediction time: 0.0126 seconds\n",
      "Parameters: {'depth': 4, 'iterations': 100, 'learning_rate': 0.1}, Training time: 2.3312 seconds, Prediction time: 0.0160 seconds\n",
      "Parameters: {'depth': 6, 'iterations': 50, 'learning_rate': 0.01}, Training time: 1.7199 seconds, Prediction time: 0.0101 seconds\n",
      "Parameters: {'depth': 6, 'iterations': 50, 'learning_rate': 0.1}, Training time: 1.5816 seconds, Prediction time: 0.0136 seconds\n",
      "Parameters: {'depth': 6, 'iterations': 100, 'learning_rate': 0.01}, Training time: 2.7093 seconds, Prediction time: 0.0132 seconds\n",
      "Parameters: {'depth': 6, 'iterations': 100, 'learning_rate': 0.1}, Training time: 2.6577 seconds, Prediction time: 0.0168 seconds\n"
     ]
    }
   ],
   "source": [
    "# Достаем время обучения и время предсказания для каждой комбинации гиперпараметров\n",
    "training_times = grid_search.cv_results_['mean_fit_time']\n",
    "prediction_times = grid_search.cv_results_['mean_score_time']\n",
    "\n",
    "# Печатаем время обучения и предсказания для каждой комбинации\n",
    "for param, train_time, pred_time in zip(grid_search.cv_results_['params'], training_times, prediction_times):\n",
    "    print(f'Parameters: {param}, Training time: {train_time:.4f} seconds, Prediction time: {pred_time:.4f} seconds')"
   ]
  },
  {
   "cell_type": "code",
   "execution_count": 34,
   "metadata": {},
   "outputs": [
    {
     "name": "stdout",
     "output_type": "stream",
     "text": [
      "СatBoost Best training time: 2.6577 seconds\n",
      "СatBoost Best prediction time: 0.0168 seconds\n"
     ]
    }
   ],
   "source": [
    "# Получаем время обучения и время предсказания для лучших параметров\n",
    "best_index = grid_search.best_index_\n",
    "best_fit_time = grid_search.cv_results_['mean_fit_time'][best_index]\n",
    "best_score_time = grid_search.cv_results_['mean_score_time'][best_index]\n",
    "\n",
    "print(f'СatBoost Best training time: {best_fit_time:.4f} seconds')\n",
    "print(f'СatBoost Best prediction time: {best_score_time:.4f} seconds')"
   ]
  },
  {
   "cell_type": "code",
   "execution_count": 35,
   "metadata": {},
   "outputs": [
    {
     "name": "stdout",
     "output_type": "stream",
     "text": [
      "LightGBM Best RMSE (GridSearch): 1752.6672492609725\n",
      "LightGBM Best parameters (GridSearch): {'learning_rate': 0.1, 'max_depth': 6, 'n_estimators': 100}\n",
      "LightGBM Validation RMSE: 1714.110015024773\n"
     ]
    }
   ],
   "source": [
    "# Гиперпараметры для LightGBM\n",
    "params_lgbm = {\n",
    "    'n_estimators': [50, 100],\n",
    "    'max_depth': [4, 6],\n",
    "    'learning_rate': [0.01, 0.1]\n",
    "}\n",
    "\n",
    "# Запускаем GridSearchCV для LightGBM\n",
    "grid_search_lgbm = GridSearchCV(estimator=LGBMRegressor(),\n",
    "                                 param_grid=params_lgbm,\n",
    "                                 scoring='neg_root_mean_squared_error',\n",
    "                                 cv=3,\n",
    "                                 n_jobs=-1)\n",
    "\n",
    "grid_search_lgbm.fit(features_train, target_train)\n",
    "\n",
    "# Получаем лучшие параметры и лучший результат RMSE для LightGBM\n",
    "best_score_lgbm = -grid_search_lgbm.best_score_\n",
    "best_params_lgbm = grid_search_lgbm.best_params_\n",
    "\n",
    "# Предсказание на валидационном наборе для LightGBM\n",
    "preds_lgbm = grid_search_lgbm.predict(features_valid)\n",
    "validation_rmse_lgbm = np.sqrt(mean_squared_error(target_valid, preds_lgbm))\n",
    "\n",
    "print(f'LightGBM Best RMSE (GridSearch): {best_score_lgbm}')\n",
    "print(f'LightGBM Best parameters (GridSearch): {best_params_lgbm}')\n",
    "print(f'LightGBM Validation RMSE: {validation_rmse_lgbm}')"
   ]
  },
  {
   "cell_type": "code",
   "execution_count": 36,
   "metadata": {},
   "outputs": [
    {
     "name": "stdout",
     "output_type": "stream",
     "text": [
      "LightGBM Best training time: 3.3339 seconds\n",
      "LightGBM Best prediction time: 0.6659 seconds\n"
     ]
    }
   ],
   "source": [
    "# Получаем время обучения и время предсказания для лучших параметров\n",
    "best_index_lgbm = grid_search_lgbm.best_index_\n",
    "best_fit_time_lgbm = grid_search_lgbm.cv_results_['mean_fit_time'][best_index_lgbm]\n",
    "best_score_time_lgbm = grid_search_lgbm.cv_results_['mean_score_time'][best_index_lgbm]\n",
    "\n",
    "print(f'LightGBM Best training time: {best_fit_time_lgbm:.4f} seconds')\n",
    "print(f'LightGBM Best prediction time: {best_score_time_lgbm:.4f} seconds')"
   ]
  },
  {
   "cell_type": "code",
   "execution_count": 37,
   "metadata": {},
   "outputs": [
    {
     "name": "stdout",
     "output_type": "stream",
     "text": [
      "RandomForest Best RMSE (GridSearch): 2260.8488104350345\n",
      "RandomForest Best parameters (GridSearch): {'max_depth': 6, 'min_samples_split': 2, 'n_estimators': 100}\n",
      "RandomForest Validation RMSE: 2236.8186258989035\n"
     ]
    }
   ],
   "source": [
    "# Гиперпараметры для RandomForest\n",
    "params_rf = {\n",
    "    'n_estimators': [50, 100],\n",
    "    'max_depth': [4, 6],\n",
    "    'min_samples_split': [2, 5]\n",
    "}\n",
    "\n",
    "# Запускаем GridSearchCV для RandomForestRegressor\n",
    "grid_search_rf = GridSearchCV(estimator=RandomForestRegressor(),\n",
    "                               param_grid=params_rf,\n",
    "                               scoring='neg_root_mean_squared_error',\n",
    "                               cv=3,\n",
    "                               n_jobs=-1)\n",
    "\n",
    "grid_search_rf.fit(features_train, target_train)\n",
    "\n",
    "# Получаем лучшие параметры и лучший результат RMSE для RandomForest\n",
    "best_score_rf = -grid_search_rf.best_score_\n",
    "best_params_rf = grid_search_rf.best_params_\n",
    "\n",
    "# Предсказание на валидационном наборе для RandomForest\n",
    "preds_rf = grid_search_rf.predict(features_valid)\n",
    "validation_rmse_rf = np.sqrt(mean_squared_error(target_valid, preds_rf))\n",
    "\n",
    "print(f'RandomForest Best RMSE (GridSearch): {best_score_rf}')\n",
    "print(f'RandomForest Best parameters (GridSearch): {best_params_rf}')\n",
    "print(f'RandomForest Validation RMSE: {validation_rmse_rf}')"
   ]
  },
  {
   "cell_type": "code",
   "execution_count": 38,
   "metadata": {},
   "outputs": [
    {
     "name": "stdout",
     "output_type": "stream",
     "text": [
      "RandomForest Best training time: 14.6240 seconds\n",
      "RandomForest Best prediction time: 0.3675 seconds\n"
     ]
    }
   ],
   "source": [
    "# Получаем время обучения и время предсказания для лучших параметров\n",
    "best_index_rf = grid_search_rf.best_index_\n",
    "best_fit_time_rf = grid_search_rf.cv_results_['mean_fit_time'][best_index_rf]\n",
    "best_score_time_rf = grid_search_rf.cv_results_['mean_score_time'][best_index_rf]\n",
    "\n",
    "print(f'RandomForest Best training time: {best_fit_time_rf:.4f} seconds')\n",
    "print(f'RandomForest Best prediction time: {best_score_time_rf:.4f} seconds')"
   ]
  },
  {
   "cell_type": "markdown",
   "metadata": {},
   "source": [
    "\n",
    "<div class=\"alert alert-block alert-danger\">\n",
    "<b>Ошибка:</b>\n",
    "    \n",
    "- время обучения это  чистый `.fit()` модели - без подбора гиперпараметров и без предсказаний,  то есть время обучения gridsearch не подойдет\n",
    "\n",
    "p.s. можно вытаскивать  все  метрики  интересующие заказчика лаконично из GridSearchCV/RandomizedSearchCV, все они лежат в `.cv_results_`\n",
    "</div>"
   ]
  },
  {
   "cell_type": "markdown",
   "metadata": {},
   "source": [
    "<div class=\"alert alert-block alert-warning\">\n",
    "<b>Комментарий студента:</b> Обновила с учетом новой выборки, поменяла модели и вывела время из .cv_results_\n",
    "</div>"
   ]
  },
  {
   "cell_type": "markdown",
   "metadata": {},
   "source": [
    "\n",
    "<div class=\"alert alert-block alert-success\">\n",
    "    \n",
    "<b>Успех[2]:</b> Лаконичный выбор\n",
    "</div>\n"
   ]
  },
  {
   "cell_type": "markdown",
   "metadata": {},
   "source": [
    "## Анализ моделей"
   ]
  },
  {
   "cell_type": "markdown",
   "metadata": {},
   "source": [
    "Исходя из представленных результатов по трем моделям (CatBoost, LightGBM и RandomForest), можно сделать следующие выводы:\n",
    "\n",
    "1. Качество предсказания (RMSE):\n",
    "   - CatBoost: Best RMSE - 1850.99 (Validation RMSE - 1816.95)\n",
    "   - LightGBM: Best RMSE - 1752.67 (Validation RMSE - 1714.11)\n",
    "   - RandomForest: Best RMSE - 2259.38 (Validation RMSE - 2243.93)\n",
    "\n",
    "2. Временные характеристики:\n",
    "   - CatBoost: Training time - 2.82 seconds, Prediction time - 0.017 seconds\n",
    "   - LightGBM: Training time - 3.43 seconds, Prediction time - 0.664 seconds\n",
    "   - RandomForest: Training time - 7.66 seconds, Prediction time - 0.196 seconds\n",
    "\n",
    "Выбор модели:\n",
    "На основе критериев заказчика, мы можем выбрать LightGBM, так как она имеет наименьший RMSE на валидационной выборке (1714.11), что значительно ниже порога в 2500. Несмотря на то, что CatBoost имеет лучшее время обучения, качество предсказания у LightGBM выше.\n",
    "\n",
    "Теперь проверим качество модели LightGBM на тестовой выборке:"
   ]
  },
  {
   "cell_type": "markdown",
   "metadata": {},
   "source": [
    "\n",
    "<div class=\"alert alert-block alert-success\">\n",
    "<b>Успех[2]:</b> Отлично проделан шаг\n",
    "    \n",
    "- Радует количество рассмотренных моделей.   \n",
    "- Кросс-валидационные методы успешно использованы. \n",
    "- Все метрики интересующие заказчика корректно вычислены и проанализированы. \n",
    "- Выбор лучшей модели обоснован. \n",
    "</div>\n"
   ]
  },
  {
   "cell_type": "code",
   "execution_count": 39,
   "metadata": {},
   "outputs": [
    {
     "name": "stdout",
     "output_type": "stream",
     "text": [
      "Test RMSE for LightGBM: 1727.6239\n"
     ]
    }
   ],
   "source": [
    "# Инициализация модели с лучшими параметрами\n",
    "best_lightgbm = LGBMRegressor(learning_rate=0.1, max_depth=6, n_estimators=100)\n",
    "\n",
    "# Обучение модели на тренировочных данных\n",
    "best_lightgbm.fit(features_train, target_train)\n",
    "\n",
    "# Предсказание на тестовых данных\n",
    "test_preds = best_lightgbm.predict(features_test)\n",
    "\n",
    "# Вычисление RMSE на тестовой выборке\n",
    "test_rmse = np.sqrt(mean_squared_error(target_test, test_preds))\n",
    "\n",
    "print(f'Test RMSE for LightGBM: {test_rmse:.4f}')"
   ]
  },
  {
   "cell_type": "markdown",
   "metadata": {},
   "source": [
    "<div class=\"alert alert-block alert-success\">\n",
    "<b>Успех[2]:</b> На тестовой выборке получено хорошее качество!\n",
    "</div>\n"
   ]
  },
  {
   "cell_type": "markdown",
   "metadata": {},
   "source": [
    "<div class=\"alert alert-block alert-danger\">\n",
    "<b>Ошибка:</b> После анализа и выбора одной наилучшей модели, должно идти  ее тестирование. Другие модели тестовую выборку использовать не должны.\n",
    "</div>\n",
    "\n",
    "<div class=\"alert alert-block alert-info\">\n",
    "<b>Совет:</b> \n",
    "\n",
    "Также если говорить, что можно ещё улучшить в подобных проектах, то я бы выделил такие моменты:<br>\n",
    "    \n",
    "1) Для понимания, а какие в итоге факторы важны при моделировании, можно выводить их важность, использую feature_importances_, ну и график заодно. Это будет смотреться очнь здорово: результативная метрика и график важности факторов)))\n",
    "    \n",
    "2) У нас разный возраст машин. Есть гипотеза, что для разных возрастов - своё ценообразование. Поэтому, можно попробовать ввести фактор \"тип возраста\" (ретро, супер-ретро, старая, новая... надо подумать..)..<br>\n",
    "\n",
    "3) У некоторых моделей семейства бустингов, есть внутренний метод кодировки данных, который хорошо было бы попробовать\n",
    "</div>\n",
    "\n"
   ]
  },
  {
   "cell_type": "markdown",
   "metadata": {},
   "source": [
    "<div class=\"alert alert-block alert-warning\">\n",
    "<b>Комментарий студента:</b> Обновила вывод, протестировала лучшую модель на тестовой выборке\n",
    "</div>"
   ]
  },
  {
   "cell_type": "markdown",
   "metadata": {},
   "source": [
    "## Чек-лист проверки"
   ]
  },
  {
   "cell_type": "markdown",
   "metadata": {},
   "source": [
    "Поставьте 'x' в выполненных пунктах. Далее нажмите Shift+Enter."
   ]
  },
  {
   "cell_type": "markdown",
   "metadata": {},
   "source": [
    "- [x]  Jupyter Notebook открыт\n",
    "- [x]  Весь код выполняется без ошибок\n",
    "- [x]  Ячейки с кодом расположены в порядке исполнения\n",
    "- [x]  Выполнена загрузка и подготовка данных\n",
    "- [x]  Выполнено обучение моделей\n",
    "- [x]  Есть анализ скорости работы и качества моделей"
   ]
  }
 ],
 "metadata": {
  "ExecuteTimeLog": [
   {
    "duration": 45327,
    "start_time": "2024-07-31T10:44:48.838Z"
   },
   {
    "duration": 2208,
    "start_time": "2024-07-31T10:45:59.666Z"
   },
   {
    "duration": 1502,
    "start_time": "2024-07-31T10:46:25.107Z"
   },
   {
    "duration": 1210,
    "start_time": "2024-07-31T10:46:44.564Z"
   },
   {
    "duration": 3890,
    "start_time": "2024-07-31T10:46:50.031Z"
   },
   {
    "duration": 3366,
    "start_time": "2024-07-31T10:47:07.776Z"
   },
   {
    "duration": 64,
    "start_time": "2024-07-31T10:52:06.104Z"
   },
   {
    "duration": 3037,
    "start_time": "2024-07-31T10:52:21.827Z"
   },
   {
    "duration": 145,
    "start_time": "2024-07-31T10:52:31.323Z"
   },
   {
    "duration": 32,
    "start_time": "2024-07-31T10:52:38.686Z"
   },
   {
    "duration": 13,
    "start_time": "2024-07-31T10:52:46.704Z"
   },
   {
    "duration": 215,
    "start_time": "2024-07-31T10:53:35.561Z"
   },
   {
    "duration": 16,
    "start_time": "2024-07-31T10:53:38.727Z"
   },
   {
    "duration": 15,
    "start_time": "2024-07-31T10:53:45.208Z"
   },
   {
    "duration": 15,
    "start_time": "2024-07-31T10:54:50.716Z"
   },
   {
    "duration": 1127,
    "start_time": "2024-07-31T10:55:01.930Z"
   },
   {
    "duration": 98,
    "start_time": "2024-07-31T10:55:03.762Z"
   },
   {
    "duration": 23,
    "start_time": "2024-07-31T10:55:04.962Z"
   },
   {
    "duration": 15,
    "start_time": "2024-07-31T10:55:06.343Z"
   },
   {
    "duration": 15,
    "start_time": "2024-07-31T10:55:11.156Z"
   },
   {
    "duration": 42021,
    "start_time": "2024-07-31T10:55:59.760Z"
   },
   {
    "duration": 3446,
    "start_time": "2024-07-31T10:57:22.221Z"
   },
   {
    "duration": 3376,
    "start_time": "2024-07-31T10:57:47.210Z"
   },
   {
    "duration": 1115,
    "start_time": "2024-07-31T10:57:53.509Z"
   },
   {
    "duration": 100,
    "start_time": "2024-07-31T10:57:54.635Z"
   },
   {
    "duration": 33,
    "start_time": "2024-07-31T10:57:55.379Z"
   },
   {
    "duration": 16,
    "start_time": "2024-07-31T10:57:56.022Z"
   },
   {
    "duration": 43275,
    "start_time": "2024-07-31T10:57:57.191Z"
   },
   {
    "duration": 5499,
    "start_time": "2024-07-31T10:59:30.150Z"
   },
   {
    "duration": 3207,
    "start_time": "2024-07-31T10:59:39.502Z"
   },
   {
    "duration": 3360,
    "start_time": "2024-07-31T10:59:59.482Z"
   },
   {
    "duration": 1127,
    "start_time": "2024-07-31T11:00:05.382Z"
   },
   {
    "duration": 92,
    "start_time": "2024-07-31T11:00:06.545Z"
   },
   {
    "duration": 30,
    "start_time": "2024-07-31T11:00:07.362Z"
   },
   {
    "duration": 14,
    "start_time": "2024-07-31T11:00:07.972Z"
   },
   {
    "duration": 53133,
    "start_time": "2024-07-31T11:00:09.041Z"
   },
   {
    "duration": 958,
    "start_time": "2024-07-31T14:34:49.760Z"
   },
   {
    "duration": 39146,
    "start_time": "2024-07-31T14:35:02.131Z"
   },
   {
    "duration": 7322,
    "start_time": "2024-07-31T14:35:41.279Z"
   },
   {
    "duration": 3545,
    "start_time": "2024-07-31T14:36:02.144Z"
   },
   {
    "duration": 3098,
    "start_time": "2024-07-31T14:36:09.325Z"
   },
   {
    "duration": 89,
    "start_time": "2024-07-31T14:36:12.424Z"
   },
   {
    "duration": 28,
    "start_time": "2024-07-31T14:36:12.515Z"
   },
   {
    "duration": 20,
    "start_time": "2024-07-31T14:36:12.545Z"
   },
   {
    "duration": 54545,
    "start_time": "2024-07-31T14:36:13.240Z"
   },
   {
    "duration": 390,
    "start_time": "2024-07-31T14:55:40.123Z"
   },
   {
    "duration": 3275,
    "start_time": "2024-07-31T15:22:19.699Z"
   },
   {
    "duration": 1082,
    "start_time": "2024-07-31T15:22:26.018Z"
   },
   {
    "duration": 112,
    "start_time": "2024-07-31T15:22:27.103Z"
   },
   {
    "duration": 29,
    "start_time": "2024-07-31T15:22:27.217Z"
   },
   {
    "duration": 14,
    "start_time": "2024-07-31T15:22:27.638Z"
   },
   {
    "duration": 456,
    "start_time": "2024-07-31T15:22:29.373Z"
   },
   {
    "duration": 73,
    "start_time": "2024-07-31T15:22:31.738Z"
   },
   {
    "duration": 9,
    "start_time": "2024-07-31T15:22:34.956Z"
   },
   {
    "duration": 12,
    "start_time": "2024-07-31T15:23:12.656Z"
   },
   {
    "duration": 203,
    "start_time": "2024-07-31T15:23:23.215Z"
   },
   {
    "duration": 34,
    "start_time": "2024-07-31T15:23:34.962Z"
   },
   {
    "duration": 10,
    "start_time": "2024-07-31T15:25:24.780Z"
   },
   {
    "duration": 17,
    "start_time": "2024-07-31T15:25:40.715Z"
   },
   {
    "duration": 1063,
    "start_time": "2024-07-31T15:26:09.937Z"
   },
   {
    "duration": 431,
    "start_time": "2024-07-31T15:26:15.336Z"
   },
   {
    "duration": 137,
    "start_time": "2024-07-31T15:26:55.176Z"
   },
   {
    "duration": 30,
    "start_time": "2024-07-31T15:27:31.448Z"
   },
   {
    "duration": 625,
    "start_time": "2024-07-31T15:30:03.026Z"
   },
   {
    "duration": 1133,
    "start_time": "2024-07-31T15:32:15.040Z"
   },
   {
    "duration": 912,
    "start_time": "2024-07-31T15:32:38.087Z"
   },
   {
    "duration": 1424,
    "start_time": "2024-07-31T15:33:35.106Z"
   },
   {
    "duration": 1038,
    "start_time": "2024-07-31T15:33:57.160Z"
   },
   {
    "duration": 1006,
    "start_time": "2024-07-31T15:34:09.941Z"
   },
   {
    "duration": 22,
    "start_time": "2024-07-31T15:34:53.677Z"
   },
   {
    "duration": 16,
    "start_time": "2024-07-31T15:35:09.823Z"
   },
   {
    "duration": 47,
    "start_time": "2024-07-31T15:35:39.160Z"
   },
   {
    "duration": 14,
    "start_time": "2024-07-31T15:36:50.854Z"
   },
   {
    "duration": 120,
    "start_time": "2024-07-31T15:42:03.407Z"
   },
   {
    "duration": 27,
    "start_time": "2024-07-31T15:42:15.282Z"
   },
   {
    "duration": 5,
    "start_time": "2024-07-31T15:42:31.634Z"
   },
   {
    "duration": 17,
    "start_time": "2024-07-31T15:42:45.918Z"
   },
   {
    "duration": 18,
    "start_time": "2024-07-31T15:44:07.183Z"
   },
   {
    "duration": 3,
    "start_time": "2024-07-31T15:44:39.236Z"
   },
   {
    "duration": 17,
    "start_time": "2024-07-31T15:44:42.771Z"
   },
   {
    "duration": 4,
    "start_time": "2024-07-31T15:46:18.232Z"
   },
   {
    "duration": 34,
    "start_time": "2024-07-31T15:50:49.354Z"
   },
   {
    "duration": 3,
    "start_time": "2024-07-31T15:51:24.382Z"
   },
   {
    "duration": 2,
    "start_time": "2024-07-31T15:51:25.314Z"
   },
   {
    "duration": 18,
    "start_time": "2024-07-31T15:52:56.189Z"
   },
   {
    "duration": 2,
    "start_time": "2024-07-31T15:53:04.799Z"
   },
   {
    "duration": 3,
    "start_time": "2024-07-31T15:53:05.496Z"
   },
   {
    "duration": 2,
    "start_time": "2024-07-31T15:53:06.004Z"
   },
   {
    "duration": 6,
    "start_time": "2024-07-31T15:53:08.278Z"
   },
   {
    "duration": 80228,
    "start_time": "2024-07-31T15:53:17.305Z"
   },
   {
    "duration": 126027,
    "start_time": "2024-07-31T15:54:41.395Z"
   },
   {
    "duration": 3,
    "start_time": "2024-07-31T15:58:57.995Z"
   },
   {
    "duration": 6,
    "start_time": "2024-07-31T16:00:14.380Z"
   },
   {
    "duration": 5,
    "start_time": "2024-07-31T16:00:32.280Z"
   },
   {
    "duration": 87240,
    "start_time": "2024-07-31T16:00:42.576Z"
   },
   {
    "duration": 24,
    "start_time": "2024-07-31T16:08:20.560Z"
   },
   {
    "duration": 14,
    "start_time": "2024-07-31T16:08:52.902Z"
   },
   {
    "duration": 100,
    "start_time": "2024-07-31T16:08:56.556Z"
   },
   {
    "duration": 4,
    "start_time": "2024-07-31T16:08:58.813Z"
   },
   {
    "duration": 3,
    "start_time": "2024-07-31T16:09:10.933Z"
   },
   {
    "duration": 3,
    "start_time": "2024-07-31T16:09:12.307Z"
   },
   {
    "duration": 3,
    "start_time": "2024-07-31T16:09:13.579Z"
   },
   {
    "duration": 5,
    "start_time": "2024-07-31T16:09:15.893Z"
   },
   {
    "duration": 4,
    "start_time": "2024-07-31T16:09:18.388Z"
   },
   {
    "duration": 5740,
    "start_time": "2024-07-31T16:09:20.396Z"
   },
   {
    "duration": 4,
    "start_time": "2024-07-31T16:09:59.823Z"
   },
   {
    "duration": 6,
    "start_time": "2024-07-31T16:10:04.050Z"
   },
   {
    "duration": 4,
    "start_time": "2024-07-31T16:10:06.054Z"
   },
   {
    "duration": 5979,
    "start_time": "2024-07-31T16:10:08.855Z"
   },
   {
    "duration": 15,
    "start_time": "2024-07-31T16:21:38.100Z"
   },
   {
    "duration": 3,
    "start_time": "2024-07-31T16:21:56.021Z"
   },
   {
    "duration": 13,
    "start_time": "2024-07-31T16:21:57.040Z"
   },
   {
    "duration": 55,
    "start_time": "2024-07-31T16:22:31.303Z"
   },
   {
    "duration": 87,
    "start_time": "2024-07-31T16:25:23.763Z"
   },
   {
    "duration": 7,
    "start_time": "2024-07-31T16:25:54.969Z"
   },
   {
    "duration": 90,
    "start_time": "2024-07-31T16:25:57.217Z"
   },
   {
    "duration": 88,
    "start_time": "2024-07-31T16:26:25.822Z"
   },
   {
    "duration": 87342,
    "start_time": "2024-07-31T16:26:28.615Z"
   },
   {
    "duration": 6,
    "start_time": "2024-07-31T16:29:29.976Z"
   },
   {
    "duration": 11,
    "start_time": "2024-07-31T16:29:29.984Z"
   },
   {
    "duration": 7574,
    "start_time": "2024-07-31T16:29:29.997Z"
   },
   {
    "duration": 25,
    "start_time": "2024-07-31T16:29:37.573Z"
   },
   {
    "duration": 3155,
    "start_time": "2024-07-31T16:29:37.600Z"
   },
   {
    "duration": 118,
    "start_time": "2024-07-31T16:29:40.757Z"
   },
   {
    "duration": 28,
    "start_time": "2024-07-31T16:29:40.877Z"
   },
   {
    "duration": 13,
    "start_time": "2024-07-31T16:29:40.907Z"
   },
   {
    "duration": 15,
    "start_time": "2024-07-31T16:29:40.922Z"
   },
   {
    "duration": 526,
    "start_time": "2024-07-31T16:29:40.939Z"
   },
   {
    "duration": 137,
    "start_time": "2024-07-31T16:29:41.467Z"
   },
   {
    "duration": 31,
    "start_time": "2024-07-31T16:29:41.606Z"
   },
   {
    "duration": 1286,
    "start_time": "2024-07-31T16:29:41.639Z"
   },
   {
    "duration": 15,
    "start_time": "2024-07-31T16:29:42.928Z"
   },
   {
    "duration": 122,
    "start_time": "2024-07-31T16:29:42.945Z"
   },
   {
    "duration": 20,
    "start_time": "2024-07-31T16:29:43.069Z"
   },
   {
    "duration": 102,
    "start_time": "2024-07-31T16:29:43.091Z"
   },
   {
    "duration": 5,
    "start_time": "2024-07-31T16:29:43.195Z"
   },
   {
    "duration": 3,
    "start_time": "2024-07-31T16:29:43.202Z"
   },
   {
    "duration": 6,
    "start_time": "2024-07-31T16:29:43.206Z"
   },
   {
    "duration": 4,
    "start_time": "2024-07-31T16:29:43.213Z"
   },
   {
    "duration": 48626,
    "start_time": "2024-07-31T16:29:43.219Z"
   },
   {
    "duration": 19,
    "start_time": "2024-07-31T16:30:35.541Z"
   },
   {
    "duration": 2,
    "start_time": "2024-07-31T16:30:47.319Z"
   },
   {
    "duration": 7,
    "start_time": "2024-07-31T16:31:09.871Z"
   },
   {
    "duration": 5,
    "start_time": "2024-07-31T16:31:09.882Z"
   },
   {
    "duration": 6913,
    "start_time": "2024-07-31T16:31:09.890Z"
   },
   {
    "duration": 24,
    "start_time": "2024-07-31T16:31:16.805Z"
   },
   {
    "duration": 3160,
    "start_time": "2024-07-31T16:31:16.831Z"
   },
   {
    "duration": 103,
    "start_time": "2024-07-31T16:31:19.992Z"
   },
   {
    "duration": 29,
    "start_time": "2024-07-31T16:31:20.097Z"
   },
   {
    "duration": 13,
    "start_time": "2024-07-31T16:31:20.128Z"
   },
   {
    "duration": 3,
    "start_time": "2024-07-31T16:31:20.142Z"
   },
   {
    "duration": 478,
    "start_time": "2024-07-31T16:31:20.146Z"
   },
   {
    "duration": 168,
    "start_time": "2024-07-31T16:31:20.626Z"
   },
   {
    "duration": 33,
    "start_time": "2024-07-31T16:31:20.797Z"
   },
   {
    "duration": 1303,
    "start_time": "2024-07-31T16:31:20.832Z"
   },
   {
    "duration": 17,
    "start_time": "2024-07-31T16:31:22.139Z"
   },
   {
    "duration": 68,
    "start_time": "2024-07-31T16:31:22.157Z"
   },
   {
    "duration": 18,
    "start_time": "2024-07-31T16:31:22.227Z"
   },
   {
    "duration": 106,
    "start_time": "2024-07-31T16:31:22.247Z"
   },
   {
    "duration": 4,
    "start_time": "2024-07-31T16:31:22.354Z"
   },
   {
    "duration": 9,
    "start_time": "2024-07-31T16:31:22.360Z"
   },
   {
    "duration": 4,
    "start_time": "2024-07-31T16:31:22.371Z"
   },
   {
    "duration": 34,
    "start_time": "2024-07-31T16:31:22.377Z"
   },
   {
    "duration": 2,
    "start_time": "2024-07-31T16:31:22.413Z"
   },
   {
    "duration": 8147,
    "start_time": "2024-07-31T16:31:56.022Z"
   },
   {
    "duration": 31,
    "start_time": "2024-07-31T16:32:05.388Z"
   },
   {
    "duration": 3222,
    "start_time": "2024-07-31T16:32:07.610Z"
   },
   {
    "duration": 99,
    "start_time": "2024-07-31T16:32:10.833Z"
   },
   {
    "duration": 40,
    "start_time": "2024-07-31T16:32:10.933Z"
   },
   {
    "duration": 17,
    "start_time": "2024-07-31T16:32:10.975Z"
   },
   {
    "duration": 433,
    "start_time": "2024-07-31T16:32:13.148Z"
   },
   {
    "duration": 133,
    "start_time": "2024-07-31T16:32:13.892Z"
   },
   {
    "duration": 29,
    "start_time": "2024-07-31T16:32:14.896Z"
   },
   {
    "duration": 1249,
    "start_time": "2024-07-31T16:32:16.196Z"
   },
   {
    "duration": 14,
    "start_time": "2024-07-31T16:32:18.415Z"
   },
   {
    "duration": 53,
    "start_time": "2024-07-31T16:32:19.149Z"
   },
   {
    "duration": 20,
    "start_time": "2024-07-31T16:32:20.030Z"
   },
   {
    "duration": 100,
    "start_time": "2024-07-31T16:32:21.927Z"
   },
   {
    "duration": 5,
    "start_time": "2024-07-31T16:32:23.388Z"
   },
   {
    "duration": 3,
    "start_time": "2024-07-31T16:32:24.524Z"
   },
   {
    "duration": 2,
    "start_time": "2024-07-31T16:32:25.427Z"
   },
   {
    "duration": 19,
    "start_time": "2024-07-31T16:32:26.288Z"
   },
   {
    "duration": 2,
    "start_time": "2024-07-31T16:32:27.745Z"
   },
   {
    "duration": 9,
    "start_time": "2024-07-31T16:32:56.068Z"
   },
   {
    "duration": 9,
    "start_time": "2024-07-31T16:33:08.493Z"
   },
   {
    "duration": 4,
    "start_time": "2024-07-31T16:33:52.502Z"
   },
   {
    "duration": 58,
    "start_time": "2024-07-31T16:33:52.507Z"
   },
   {
    "duration": 6592,
    "start_time": "2024-07-31T16:33:52.568Z"
   },
   {
    "duration": 36,
    "start_time": "2024-07-31T16:33:59.162Z"
   },
   {
    "duration": 3210,
    "start_time": "2024-07-31T16:33:59.200Z"
   },
   {
    "duration": 115,
    "start_time": "2024-07-31T16:34:02.411Z"
   },
   {
    "duration": 27,
    "start_time": "2024-07-31T16:34:02.528Z"
   },
   {
    "duration": 23,
    "start_time": "2024-07-31T16:34:02.565Z"
   },
   {
    "duration": 6,
    "start_time": "2024-07-31T16:34:02.590Z"
   },
   {
    "duration": 497,
    "start_time": "2024-07-31T16:34:02.598Z"
   },
   {
    "duration": 137,
    "start_time": "2024-07-31T16:34:03.097Z"
   },
   {
    "duration": 46,
    "start_time": "2024-07-31T16:34:03.235Z"
   },
   {
    "duration": 1281,
    "start_time": "2024-07-31T16:34:03.283Z"
   },
   {
    "duration": 22,
    "start_time": "2024-07-31T16:34:04.568Z"
   },
   {
    "duration": 69,
    "start_time": "2024-07-31T16:34:04.592Z"
   },
   {
    "duration": 26,
    "start_time": "2024-07-31T16:34:04.663Z"
   },
   {
    "duration": 102,
    "start_time": "2024-07-31T16:34:04.690Z"
   },
   {
    "duration": 3,
    "start_time": "2024-07-31T16:34:04.794Z"
   },
   {
    "duration": 3,
    "start_time": "2024-07-31T16:34:04.799Z"
   },
   {
    "duration": 5,
    "start_time": "2024-07-31T16:34:04.804Z"
   },
   {
    "duration": 20,
    "start_time": "2024-07-31T16:34:04.811Z"
   },
   {
    "duration": 4,
    "start_time": "2024-07-31T16:34:04.833Z"
   },
   {
    "duration": 27,
    "start_time": "2024-07-31T16:34:04.838Z"
   },
   {
    "duration": 20,
    "start_time": "2024-07-31T16:34:04.869Z"
   },
   {
    "duration": 6952,
    "start_time": "2024-07-31T16:36:50.940Z"
   },
   {
    "duration": 3294,
    "start_time": "2024-07-31T16:37:01.203Z"
   },
   {
    "duration": 103,
    "start_time": "2024-07-31T16:37:04.499Z"
   },
   {
    "duration": 30,
    "start_time": "2024-07-31T16:37:04.604Z"
   },
   {
    "duration": 20,
    "start_time": "2024-07-31T16:37:04.636Z"
   },
   {
    "duration": 459,
    "start_time": "2024-07-31T16:37:07.918Z"
   },
   {
    "duration": 151,
    "start_time": "2024-07-31T16:37:08.471Z"
   },
   {
    "duration": 30,
    "start_time": "2024-07-31T16:37:09.221Z"
   },
   {
    "duration": 1373,
    "start_time": "2024-07-31T16:37:10.020Z"
   },
   {
    "duration": 15,
    "start_time": "2024-07-31T16:37:11.396Z"
   },
   {
    "duration": 56,
    "start_time": "2024-07-31T16:37:11.854Z"
   },
   {
    "duration": 19,
    "start_time": "2024-07-31T16:37:12.780Z"
   },
   {
    "duration": 111,
    "start_time": "2024-07-31T16:37:14.503Z"
   },
   {
    "duration": 4,
    "start_time": "2024-07-31T16:37:15.741Z"
   },
   {
    "duration": 3,
    "start_time": "2024-07-31T16:37:16.828Z"
   },
   {
    "duration": 5,
    "start_time": "2024-07-31T16:37:17.775Z"
   },
   {
    "duration": 23,
    "start_time": "2024-07-31T16:37:18.376Z"
   },
   {
    "duration": 2,
    "start_time": "2024-07-31T16:37:19.104Z"
   },
   {
    "duration": 5,
    "start_time": "2024-07-31T16:37:20.139Z"
   },
   {
    "duration": 3,
    "start_time": "2024-07-31T16:37:22.250Z"
   },
   {
    "duration": 17765,
    "start_time": "2024-07-31T16:38:50.246Z"
   },
   {
    "duration": 3474,
    "start_time": "2024-07-31T16:39:22.887Z"
   },
   {
    "duration": 6108,
    "start_time": "2024-07-31T16:40:04.971Z"
   },
   {
    "duration": 3206,
    "start_time": "2024-07-31T16:40:22.330Z"
   },
   {
    "duration": 99,
    "start_time": "2024-07-31T16:40:25.538Z"
   },
   {
    "duration": 44,
    "start_time": "2024-07-31T16:40:25.639Z"
   },
   {
    "duration": 13,
    "start_time": "2024-07-31T16:40:25.686Z"
   },
   {
    "duration": 443,
    "start_time": "2024-07-31T16:40:28.140Z"
   },
   {
    "duration": 143,
    "start_time": "2024-07-31T16:40:28.813Z"
   },
   {
    "duration": 36,
    "start_time": "2024-07-31T16:40:31.171Z"
   },
   {
    "duration": 1243,
    "start_time": "2024-07-31T16:40:31.209Z"
   },
   {
    "duration": 26,
    "start_time": "2024-07-31T16:40:32.454Z"
   },
   {
    "duration": 54,
    "start_time": "2024-07-31T16:40:32.483Z"
   },
   {
    "duration": 142,
    "start_time": "2024-07-31T16:40:34.277Z"
   },
   {
    "duration": 4,
    "start_time": "2024-07-31T16:40:35.009Z"
   },
   {
    "duration": 3,
    "start_time": "2024-07-31T16:40:35.802Z"
   },
   {
    "duration": 3,
    "start_time": "2024-07-31T16:40:36.592Z"
   },
   {
    "duration": 32,
    "start_time": "2024-07-31T16:40:37.154Z"
   },
   {
    "duration": 2,
    "start_time": "2024-07-31T16:40:37.714Z"
   },
   {
    "duration": 238,
    "start_time": "2024-07-31T16:40:38.387Z"
   },
   {
    "duration": 5,
    "start_time": "2024-07-31T16:40:39.739Z"
   },
   {
    "duration": 15,
    "start_time": "2024-07-31T16:40:40.613Z"
   },
   {
    "duration": 5,
    "start_time": "2024-07-31T16:41:05.794Z"
   },
   {
    "duration": 5,
    "start_time": "2024-07-31T16:41:08.818Z"
   },
   {
    "duration": 26798,
    "start_time": "2024-07-31T16:41:11.045Z"
   },
   {
    "duration": 18,
    "start_time": "2024-07-31T16:42:11.710Z"
   },
   {
    "duration": 26813,
    "start_time": "2024-07-31T16:43:10.786Z"
   },
   {
    "duration": 4,
    "start_time": "2024-07-31T16:44:28.310Z"
   },
   {
    "duration": 2,
    "start_time": "2024-07-31T16:44:29.022Z"
   },
   {
    "duration": 20,
    "start_time": "2024-07-31T16:44:29.632Z"
   },
   {
    "duration": 3,
    "start_time": "2024-07-31T16:44:30.589Z"
   },
   {
    "duration": 5,
    "start_time": "2024-07-31T16:44:31.385Z"
   },
   {
    "duration": 4,
    "start_time": "2024-07-31T16:44:32.658Z"
   },
   {
    "duration": 20503,
    "start_time": "2024-07-31T16:44:33.767Z"
   },
   {
    "duration": 20667,
    "start_time": "2024-07-31T16:47:29.613Z"
   },
   {
    "duration": 938,
    "start_time": "2024-07-31T16:52:00.286Z"
   },
   {
    "duration": 874,
    "start_time": "2024-07-31T16:52:33.074Z"
   },
   {
    "duration": 839,
    "start_time": "2024-07-31T16:52:56.659Z"
   },
   {
    "duration": 542,
    "start_time": "2024-07-31T16:53:57.892Z"
   },
   {
    "duration": 446,
    "start_time": "2024-07-31T16:54:14.127Z"
   },
   {
    "duration": 75,
    "start_time": "2024-07-31T16:54:46.228Z"
   },
   {
    "duration": 51,
    "start_time": "2024-07-31T16:55:09.671Z"
   },
   {
    "duration": 104,
    "start_time": "2024-07-31T16:55:10.695Z"
   },
   {
    "duration": 83,
    "start_time": "2024-07-31T16:56:48.772Z"
   },
   {
    "duration": 5,
    "start_time": "2024-07-31T16:57:09.512Z"
   },
   {
    "duration": 114,
    "start_time": "2024-07-31T16:57:51.705Z"
   },
   {
    "duration": 2174,
    "start_time": "2024-07-31T16:57:59.042Z"
   },
   {
    "duration": 2754,
    "start_time": "2024-07-31T16:58:26.280Z"
   },
   {
    "duration": 72,
    "start_time": "2024-07-31T16:58:48.290Z"
   },
   {
    "duration": 73,
    "start_time": "2024-07-31T16:58:51.607Z"
   },
   {
    "duration": 68,
    "start_time": "2024-07-31T16:58:53.489Z"
   },
   {
    "duration": 71,
    "start_time": "2024-07-31T16:58:54.237Z"
   },
   {
    "duration": 74,
    "start_time": "2024-07-31T16:58:54.904Z"
   },
   {
    "duration": 19,
    "start_time": "2024-07-31T17:00:03.418Z"
   },
   {
    "duration": 775,
    "start_time": "2024-07-31T17:00:07.887Z"
   },
   {
    "duration": 9,
    "start_time": "2024-07-31T17:00:10.168Z"
   },
   {
    "duration": 521,
    "start_time": "2024-07-31T17:00:27.641Z"
   },
   {
    "duration": 103,
    "start_time": "2024-07-31T17:00:29.228Z"
   },
   {
    "duration": 3,
    "start_time": "2024-07-31T17:00:30.953Z"
   },
   {
    "duration": 4,
    "start_time": "2024-07-31T17:00:47.276Z"
   },
   {
    "duration": 21,
    "start_time": "2024-07-31T17:03:19.597Z"
   },
   {
    "duration": 1804,
    "start_time": "2024-07-31T17:03:31.616Z"
   },
   {
    "duration": 4,
    "start_time": "2024-07-31T17:08:00.865Z"
   },
   {
    "duration": 3,
    "start_time": "2024-07-31T17:09:26.361Z"
   },
   {
    "duration": 73,
    "start_time": "2024-07-31T17:09:34.793Z"
   },
   {
    "duration": 138,
    "start_time": "2024-07-31T17:09:44.011Z"
   },
   {
    "duration": 6,
    "start_time": "2024-07-31T17:10:08.565Z"
   },
   {
    "duration": 12599,
    "start_time": "2024-07-31T17:10:10.474Z"
   },
   {
    "duration": 37,
    "start_time": "2024-07-31T17:11:47.226Z"
   },
   {
    "duration": 83,
    "start_time": "2024-07-31T17:11:56.062Z"
   },
   {
    "duration": 8782,
    "start_time": "2024-07-31T17:13:13.364Z"
   },
   {
    "duration": 3062,
    "start_time": "2024-07-31T17:13:24.698Z"
   },
   {
    "duration": 105,
    "start_time": "2024-07-31T17:13:27.761Z"
   },
   {
    "duration": 35,
    "start_time": "2024-07-31T17:13:27.868Z"
   },
   {
    "duration": 13,
    "start_time": "2024-07-31T17:13:27.905Z"
   },
   {
    "duration": 450,
    "start_time": "2024-07-31T17:13:29.445Z"
   },
   {
    "duration": 139,
    "start_time": "2024-07-31T17:13:29.963Z"
   },
   {
    "duration": 31,
    "start_time": "2024-07-31T17:13:30.814Z"
   },
   {
    "duration": 1217,
    "start_time": "2024-07-31T17:13:31.593Z"
   },
   {
    "duration": 17,
    "start_time": "2024-07-31T17:13:32.812Z"
   },
   {
    "duration": 61,
    "start_time": "2024-07-31T17:13:32.994Z"
   },
   {
    "duration": 19,
    "start_time": "2024-07-31T17:13:33.740Z"
   },
   {
    "duration": 4,
    "start_time": "2024-07-31T17:13:34.119Z"
   },
   {
    "duration": 2,
    "start_time": "2024-07-31T17:13:34.635Z"
   },
   {
    "duration": 85,
    "start_time": "2024-07-31T17:13:35.759Z"
   },
   {
    "duration": 278,
    "start_time": "2024-07-31T17:13:37.084Z"
   },
   {
    "duration": 124,
    "start_time": "2024-07-31T17:15:08.377Z"
   },
   {
    "duration": 62,
    "start_time": "2024-07-31T17:15:13.240Z"
   },
   {
    "duration": 5,
    "start_time": "2024-07-31T17:15:20.430Z"
   },
   {
    "duration": 3960,
    "start_time": "2024-07-31T17:15:20.437Z"
   },
   {
    "duration": 9925,
    "start_time": "2024-07-31T17:15:24.399Z"
   },
   {
    "duration": 3133,
    "start_time": "2024-07-31T17:15:34.326Z"
   },
   {
    "duration": 99,
    "start_time": "2024-07-31T17:15:37.461Z"
   },
   {
    "duration": 34,
    "start_time": "2024-07-31T17:15:37.562Z"
   },
   {
    "duration": 14,
    "start_time": "2024-07-31T17:15:37.597Z"
   },
   {
    "duration": 4,
    "start_time": "2024-07-31T17:15:37.613Z"
   },
   {
    "duration": 489,
    "start_time": "2024-07-31T17:15:37.618Z"
   },
   {
    "duration": 155,
    "start_time": "2024-07-31T17:15:38.110Z"
   },
   {
    "duration": 30,
    "start_time": "2024-07-31T17:15:38.267Z"
   },
   {
    "duration": 1213,
    "start_time": "2024-07-31T17:15:38.299Z"
   },
   {
    "duration": 14,
    "start_time": "2024-07-31T17:15:39.514Z"
   },
   {
    "duration": 57,
    "start_time": "2024-07-31T17:15:39.530Z"
   },
   {
    "duration": 19,
    "start_time": "2024-07-31T17:15:39.589Z"
   },
   {
    "duration": 5,
    "start_time": "2024-07-31T17:15:39.609Z"
   },
   {
    "duration": 4,
    "start_time": "2024-07-31T17:15:39.615Z"
   },
   {
    "duration": 125,
    "start_time": "2024-07-31T17:15:39.620Z"
   },
   {
    "duration": 280,
    "start_time": "2024-07-31T17:15:39.747Z"
   },
   {
    "duration": 31,
    "start_time": "2024-07-31T17:17:58.053Z"
   },
   {
    "duration": 85,
    "start_time": "2024-07-31T17:18:18.082Z"
   },
   {
    "duration": 22,
    "start_time": "2024-07-31T17:18:34.767Z"
   },
   {
    "duration": 2103,
    "start_time": "2024-07-31T17:18:59.036Z"
   },
   {
    "duration": 4,
    "start_time": "2024-07-31T17:20:25.883Z"
   },
   {
    "duration": 95,
    "start_time": "2024-07-31T17:22:16.695Z"
   },
   {
    "duration": 94,
    "start_time": "2024-07-31T17:22:22.089Z"
   },
   {
    "duration": 3,
    "start_time": "2024-07-31T17:22:22.722Z"
   },
   {
    "duration": 1357,
    "start_time": "2024-07-31T17:22:23.441Z"
   },
   {
    "duration": 109,
    "start_time": "2024-07-31T17:26:49.789Z"
   },
   {
    "duration": 14,
    "start_time": "2024-07-31T17:26:50.681Z"
   },
   {
    "duration": 3,
    "start_time": "2024-07-31T17:26:59.731Z"
   },
   {
    "duration": 2389,
    "start_time": "2024-07-31T17:27:01.532Z"
   },
   {
    "duration": 15,
    "start_time": "2024-07-31T17:28:28.648Z"
   },
   {
    "duration": 2,
    "start_time": "2024-07-31T17:28:40.526Z"
   },
   {
    "duration": 43,
    "start_time": "2024-07-31T17:28:41.992Z"
   },
   {
    "duration": 15,
    "start_time": "2024-07-31T17:30:22.699Z"
   },
   {
    "duration": 353,
    "start_time": "2024-07-31T17:30:42.501Z"
   },
   {
    "duration": 12285,
    "start_time": "2024-07-31T17:30:58.980Z"
   },
   {
    "duration": 10141,
    "start_time": "2024-07-31T17:33:04.524Z"
   },
   {
    "duration": 12888,
    "start_time": "2024-07-31T17:34:35.835Z"
   },
   {
    "duration": 4,
    "start_time": "2024-07-31T17:36:06.944Z"
   },
   {
    "duration": 3254,
    "start_time": "2024-07-31T17:36:06.951Z"
   },
   {
    "duration": 3441,
    "start_time": "2024-07-31T17:36:10.207Z"
   },
   {
    "duration": 1080,
    "start_time": "2024-07-31T17:36:13.650Z"
   },
   {
    "duration": 96,
    "start_time": "2024-07-31T17:36:14.732Z"
   },
   {
    "duration": 36,
    "start_time": "2024-07-31T17:36:14.830Z"
   },
   {
    "duration": 13,
    "start_time": "2024-07-31T17:36:14.867Z"
   },
   {
    "duration": 3,
    "start_time": "2024-07-31T17:36:14.882Z"
   },
   {
    "duration": 429,
    "start_time": "2024-07-31T17:36:14.888Z"
   },
   {
    "duration": 138,
    "start_time": "2024-07-31T17:36:15.319Z"
   },
   {
    "duration": 34,
    "start_time": "2024-07-31T17:36:15.458Z"
   },
   {
    "duration": 1192,
    "start_time": "2024-07-31T17:36:15.494Z"
   },
   {
    "duration": 14,
    "start_time": "2024-07-31T17:36:16.687Z"
   },
   {
    "duration": 66,
    "start_time": "2024-07-31T17:36:16.703Z"
   },
   {
    "duration": 97,
    "start_time": "2024-07-31T17:36:16.770Z"
   },
   {
    "duration": 17,
    "start_time": "2024-07-31T17:36:16.869Z"
   },
   {
    "duration": 4,
    "start_time": "2024-07-31T17:36:16.887Z"
   },
   {
    "duration": 8,
    "start_time": "2024-07-31T17:36:16.893Z"
   },
   {
    "duration": 626,
    "start_time": "2024-07-31T17:36:16.903Z"
   },
   {
    "duration": 22,
    "start_time": "2024-07-31T17:36:53.469Z"
   },
   {
    "duration": 2471,
    "start_time": "2024-07-31T17:36:58.452Z"
   },
   {
    "duration": 5,
    "start_time": "2024-07-31T17:37:20.174Z"
   },
   {
    "duration": 12214,
    "start_time": "2024-07-31T17:37:23.456Z"
   },
   {
    "duration": 286462,
    "start_time": "2024-07-31T17:39:54.611Z"
   },
   {
    "duration": 2933,
    "start_time": "2024-07-31T17:47:25.931Z"
   },
   {
    "duration": 1076,
    "start_time": "2024-07-31T17:47:31.980Z"
   },
   {
    "duration": 95,
    "start_time": "2024-07-31T17:47:34.129Z"
   },
   {
    "duration": 30,
    "start_time": "2024-07-31T17:47:34.930Z"
   },
   {
    "duration": 15,
    "start_time": "2024-07-31T17:47:35.647Z"
   },
   {
    "duration": 422,
    "start_time": "2024-07-31T17:47:38.266Z"
   },
   {
    "duration": 141,
    "start_time": "2024-07-31T17:47:39.391Z"
   },
   {
    "duration": 31,
    "start_time": "2024-07-31T17:47:40.418Z"
   },
   {
    "duration": 1319,
    "start_time": "2024-07-31T17:47:41.264Z"
   },
   {
    "duration": 15,
    "start_time": "2024-07-31T17:47:42.585Z"
   },
   {
    "duration": 49,
    "start_time": "2024-07-31T17:47:42.659Z"
   },
   {
    "duration": 92,
    "start_time": "2024-07-31T17:47:43.509Z"
   },
   {
    "duration": 18,
    "start_time": "2024-07-31T17:47:44.168Z"
   },
   {
    "duration": 4,
    "start_time": "2024-07-31T17:47:44.861Z"
   },
   {
    "duration": 3,
    "start_time": "2024-07-31T17:47:45.636Z"
   },
   {
    "duration": 407,
    "start_time": "2024-07-31T17:48:02.370Z"
   },
   {
    "duration": 5,
    "start_time": "2024-07-31T17:48:16.437Z"
   },
   {
    "duration": 61946,
    "start_time": "2024-07-31T17:48:34.481Z"
   },
   {
    "duration": 4,
    "start_time": "2024-07-31T17:50:01.101Z"
   },
   {
    "duration": 281976,
    "start_time": "2024-07-31T17:50:06.794Z"
   },
   {
    "duration": 262,
    "start_time": "2024-07-31T17:55:47.711Z"
   },
   {
    "duration": 8,
    "start_time": "2024-07-31T17:55:59.902Z"
   },
   {
    "duration": 10,
    "start_time": "2024-07-31T17:56:11.327Z"
   },
   {
    "duration": 4,
    "start_time": "2024-07-31T17:56:30.052Z"
   },
   {
    "duration": 45,
    "start_time": "2024-07-31T17:56:30.058Z"
   },
   {
    "duration": 3020,
    "start_time": "2024-07-31T17:56:30.104Z"
   },
   {
    "duration": 1041,
    "start_time": "2024-07-31T17:56:33.126Z"
   },
   {
    "duration": 101,
    "start_time": "2024-07-31T17:56:34.168Z"
   },
   {
    "duration": 29,
    "start_time": "2024-07-31T17:56:34.271Z"
   },
   {
    "duration": 31,
    "start_time": "2024-07-31T17:56:34.301Z"
   },
   {
    "duration": 3,
    "start_time": "2024-07-31T17:56:34.333Z"
   },
   {
    "duration": 445,
    "start_time": "2024-07-31T17:56:34.338Z"
   },
   {
    "duration": 132,
    "start_time": "2024-07-31T17:56:34.785Z"
   },
   {
    "duration": 28,
    "start_time": "2024-07-31T17:56:34.918Z"
   },
   {
    "duration": 1276,
    "start_time": "2024-07-31T17:56:34.948Z"
   },
   {
    "duration": 15,
    "start_time": "2024-07-31T17:56:36.226Z"
   },
   {
    "duration": 121,
    "start_time": "2024-07-31T17:56:36.243Z"
   },
   {
    "duration": 104,
    "start_time": "2024-07-31T17:56:36.366Z"
   },
   {
    "duration": 19,
    "start_time": "2024-07-31T17:56:36.471Z"
   },
   {
    "duration": 3,
    "start_time": "2024-07-31T17:56:36.492Z"
   },
   {
    "duration": 412,
    "start_time": "2024-07-31T17:56:36.497Z"
   },
   {
    "duration": 4,
    "start_time": "2024-07-31T17:56:36.911Z"
   },
   {
    "duration": 110737,
    "start_time": "2024-07-31T17:56:36.916Z"
   },
   {
    "duration": 4,
    "start_time": "2024-07-31T17:58:39.461Z"
   },
   {
    "duration": 14,
    "start_time": "2024-07-31T17:58:39.467Z"
   },
   {
    "duration": 2998,
    "start_time": "2024-07-31T17:58:39.483Z"
   },
   {
    "duration": 1031,
    "start_time": "2024-07-31T17:58:42.484Z"
   },
   {
    "duration": 110,
    "start_time": "2024-07-31T17:58:43.517Z"
   },
   {
    "duration": 37,
    "start_time": "2024-07-31T17:58:43.629Z"
   },
   {
    "duration": 49,
    "start_time": "2024-07-31T17:58:43.668Z"
   },
   {
    "duration": 3,
    "start_time": "2024-07-31T17:58:43.719Z"
   },
   {
    "duration": 436,
    "start_time": "2024-07-31T17:58:43.723Z"
   },
   {
    "duration": 140,
    "start_time": "2024-07-31T17:58:44.164Z"
   },
   {
    "duration": 43,
    "start_time": "2024-07-31T17:58:44.305Z"
   },
   {
    "duration": 1375,
    "start_time": "2024-07-31T17:58:44.350Z"
   },
   {
    "duration": 15,
    "start_time": "2024-07-31T17:58:45.726Z"
   },
   {
    "duration": 65,
    "start_time": "2024-07-31T17:58:45.743Z"
   },
   {
    "duration": 137,
    "start_time": "2024-07-31T17:58:45.809Z"
   },
   {
    "duration": 28,
    "start_time": "2024-07-31T17:58:45.948Z"
   },
   {
    "duration": 5,
    "start_time": "2024-07-31T17:58:45.978Z"
   },
   {
    "duration": 478,
    "start_time": "2024-07-31T17:58:45.985Z"
   },
   {
    "duration": 5,
    "start_time": "2024-07-31T17:58:46.465Z"
   },
   {
    "duration": 19115,
    "start_time": "2024-07-31T17:58:46.472Z"
   },
   {
    "duration": 2089,
    "start_time": "2024-07-31T17:59:39.787Z"
   },
   {
    "duration": 3398,
    "start_time": "2024-07-31T17:59:41.879Z"
   },
   {
    "duration": 5,
    "start_time": "2024-07-31T17:59:45.279Z"
   },
   {
    "duration": 1057,
    "start_time": "2024-07-31T17:59:45.286Z"
   },
   {
    "duration": 103,
    "start_time": "2024-07-31T17:59:46.346Z"
   },
   {
    "duration": 44,
    "start_time": "2024-07-31T17:59:46.452Z"
   },
   {
    "duration": 16,
    "start_time": "2024-07-31T17:59:46.499Z"
   },
   {
    "duration": 56238,
    "start_time": "2024-07-31T17:59:46.517Z"
   },
   {
    "duration": 602,
    "start_time": "2024-07-31T18:00:42.766Z"
   },
   {
    "duration": 129,
    "start_time": "2024-07-31T18:00:43.375Z"
   },
   {
    "duration": 29,
    "start_time": "2024-07-31T18:00:43.506Z"
   },
   {
    "duration": 1185,
    "start_time": "2024-07-31T18:00:43.536Z"
   },
   {
    "duration": 19,
    "start_time": "2024-07-31T18:00:44.724Z"
   },
   {
    "duration": 57,
    "start_time": "2024-07-31T18:00:44.746Z"
   },
   {
    "duration": 106,
    "start_time": "2024-07-31T18:00:44.805Z"
   },
   {
    "duration": 18,
    "start_time": "2024-07-31T18:00:44.912Z"
   },
   {
    "duration": 4,
    "start_time": "2024-07-31T18:00:44.932Z"
   },
   {
    "duration": 469,
    "start_time": "2024-07-31T18:00:44.937Z"
   },
   {
    "duration": 5,
    "start_time": "2024-07-31T18:00:45.407Z"
   },
   {
    "duration": 279373,
    "start_time": "2024-07-31T18:00:45.413Z"
   },
   {
    "duration": 94009,
    "start_time": "2024-08-05T18:36:28.120Z"
   },
   {
    "duration": 21888,
    "start_time": "2024-08-05T18:38:56.710Z"
   },
   {
    "duration": 3317,
    "start_time": "2024-08-05T18:40:06.121Z"
   },
   {
    "duration": 4,
    "start_time": "2024-08-05T18:40:09.820Z"
   },
   {
    "duration": 1074,
    "start_time": "2024-08-05T18:40:09.970Z"
   },
   {
    "duration": 100,
    "start_time": "2024-08-05T18:40:11.067Z"
   },
   {
    "duration": 23,
    "start_time": "2024-08-05T18:40:11.811Z"
   },
   {
    "duration": 12,
    "start_time": "2024-08-05T18:40:11.850Z"
   },
   {
    "duration": 45291,
    "start_time": "2024-08-05T18:40:11.924Z"
   },
   {
    "duration": 336,
    "start_time": "2024-08-05T18:40:57.410Z"
   },
   {
    "duration": 119,
    "start_time": "2024-08-05T18:40:57.770Z"
   },
   {
    "duration": 20,
    "start_time": "2024-08-05T18:40:57.895Z"
   },
   {
    "duration": 294,
    "start_time": "2024-08-05T18:40:58.298Z"
   },
   {
    "duration": 12,
    "start_time": "2024-08-05T18:40:58.599Z"
   },
   {
    "duration": 0,
    "start_time": "2024-08-05T18:41:01.691Z"
   },
   {
    "duration": 0,
    "start_time": "2024-08-05T18:41:01.693Z"
   },
   {
    "duration": 0,
    "start_time": "2024-08-05T18:41:01.694Z"
   },
   {
    "duration": 0,
    "start_time": "2024-08-05T18:41:01.695Z"
   },
   {
    "duration": 0,
    "start_time": "2024-08-05T18:41:01.696Z"
   },
   {
    "duration": 0,
    "start_time": "2024-08-05T18:41:01.698Z"
   },
   {
    "duration": 0,
    "start_time": "2024-08-05T18:41:01.699Z"
   },
   {
    "duration": 965,
    "start_time": "2024-08-05T18:49:30.823Z"
   },
   {
    "duration": 924,
    "start_time": "2024-08-05T18:49:42.253Z"
   },
   {
    "duration": 93,
    "start_time": "2024-08-05T18:49:43.635Z"
   },
   {
    "duration": 335,
    "start_time": "2024-08-05T18:49:52.347Z"
   },
   {
    "duration": 115,
    "start_time": "2024-08-05T18:49:53.438Z"
   },
   {
    "duration": 5,
    "start_time": "2024-08-05T18:49:55.030Z"
   },
   {
    "duration": 19,
    "start_time": "2024-08-05T18:50:05.767Z"
   },
   {
    "duration": 12,
    "start_time": "2024-08-05T18:50:18.600Z"
   },
   {
    "duration": 12,
    "start_time": "2024-08-05T18:50:28.115Z"
   },
   {
    "duration": 19,
    "start_time": "2024-08-05T18:51:41.924Z"
   },
   {
    "duration": 25,
    "start_time": "2024-08-05T18:52:39.913Z"
   },
   {
    "duration": 7,
    "start_time": "2024-08-05T18:53:01.862Z"
   },
   {
    "duration": 21,
    "start_time": "2024-08-05T18:53:19.326Z"
   },
   {
    "duration": 16,
    "start_time": "2024-08-05T18:53:41.101Z"
   },
   {
    "duration": 18,
    "start_time": "2024-08-05T18:53:56.611Z"
   },
   {
    "duration": 26,
    "start_time": "2024-08-05T18:54:14.951Z"
   },
   {
    "duration": 35,
    "start_time": "2024-08-05T18:54:37.723Z"
   },
   {
    "duration": 37,
    "start_time": "2024-08-05T18:55:00.991Z"
   },
   {
    "duration": 30,
    "start_time": "2024-08-05T18:55:08.588Z"
   },
   {
    "duration": 36,
    "start_time": "2024-08-05T18:55:18.083Z"
   },
   {
    "duration": 32,
    "start_time": "2024-08-05T18:56:45.243Z"
   },
   {
    "duration": 27,
    "start_time": "2024-08-05T18:57:17.324Z"
   },
   {
    "duration": 27,
    "start_time": "2024-08-05T18:57:25.124Z"
   },
   {
    "duration": 105,
    "start_time": "2024-08-05T18:58:43.608Z"
   },
   {
    "duration": 19,
    "start_time": "2024-08-05T18:58:45.007Z"
   },
   {
    "duration": 6,
    "start_time": "2024-08-05T18:58:46.273Z"
   },
   {
    "duration": 31,
    "start_time": "2024-08-05T18:58:48.402Z"
   },
   {
    "duration": 27,
    "start_time": "2024-08-05T18:59:49.204Z"
   },
   {
    "duration": 27,
    "start_time": "2024-08-05T18:59:50.305Z"
   },
   {
    "duration": 12,
    "start_time": "2024-08-05T18:59:59.647Z"
   },
   {
    "duration": 30,
    "start_time": "2024-08-05T19:00:16.359Z"
   },
   {
    "duration": 29,
    "start_time": "2024-08-05T19:00:28.871Z"
   },
   {
    "duration": 14,
    "start_time": "2024-08-05T19:00:36.893Z"
   },
   {
    "duration": 46742,
    "start_time": "2024-08-05T19:01:40.574Z"
   },
   {
    "duration": 1008,
    "start_time": "2024-08-05T19:09:53.782Z"
   },
   {
    "duration": 23,
    "start_time": "2024-08-05T19:10:01.753Z"
   },
   {
    "duration": 5,
    "start_time": "2024-08-05T19:11:27.620Z"
   },
   {
    "duration": 22,
    "start_time": "2024-08-05T19:11:38.296Z"
   },
   {
    "duration": 34,
    "start_time": "2024-08-05T19:12:20.545Z"
   },
   {
    "duration": 7,
    "start_time": "2024-08-05T19:13:05.189Z"
   },
   {
    "duration": 7,
    "start_time": "2024-08-05T19:13:15.999Z"
   },
   {
    "duration": 7,
    "start_time": "2024-08-05T19:13:48.819Z"
   },
   {
    "duration": 11,
    "start_time": "2024-08-05T19:13:56.127Z"
   },
   {
    "duration": 5,
    "start_time": "2024-08-05T19:14:06.531Z"
   },
   {
    "duration": 112,
    "start_time": "2024-08-05T19:26:34.710Z"
   },
   {
    "duration": 975,
    "start_time": "2024-08-05T19:27:23.867Z"
   },
   {
    "duration": 26,
    "start_time": "2024-08-05T19:27:30.778Z"
   },
   {
    "duration": 29,
    "start_time": "2024-08-05T19:29:47.707Z"
   },
   {
    "duration": 15,
    "start_time": "2024-08-05T19:30:12.873Z"
   },
   {
    "duration": 14,
    "start_time": "2024-08-05T19:30:15.061Z"
   },
   {
    "duration": 38,
    "start_time": "2024-08-05T19:32:34.375Z"
   },
   {
    "duration": 21,
    "start_time": "2024-08-05T19:32:39.993Z"
   },
   {
    "duration": 3,
    "start_time": "2024-08-05T19:32:41.597Z"
   },
   {
    "duration": 18,
    "start_time": "2024-08-05T19:33:30.300Z"
   },
   {
    "duration": 20,
    "start_time": "2024-08-05T19:34:05.697Z"
   },
   {
    "duration": 15,
    "start_time": "2024-08-05T19:34:10.477Z"
   },
   {
    "duration": 17,
    "start_time": "2024-08-05T19:34:47.831Z"
   },
   {
    "duration": 1207,
    "start_time": "2024-08-05T19:35:15.780Z"
   },
   {
    "duration": 990,
    "start_time": "2024-08-05T19:35:28.435Z"
   },
   {
    "duration": 326,
    "start_time": "2024-08-05T19:35:36.023Z"
   },
   {
    "duration": 118,
    "start_time": "2024-08-05T19:35:38.601Z"
   },
   {
    "duration": 18,
    "start_time": "2024-08-05T19:35:41.117Z"
   },
   {
    "duration": 5,
    "start_time": "2024-08-05T19:35:41.769Z"
   },
   {
    "duration": 33,
    "start_time": "2024-08-05T19:35:42.485Z"
   },
   {
    "duration": 36,
    "start_time": "2024-08-05T19:35:43.527Z"
   },
   {
    "duration": 14,
    "start_time": "2024-08-05T19:35:44.334Z"
   },
   {
    "duration": 20,
    "start_time": "2024-08-05T19:35:45.794Z"
   },
   {
    "duration": 475,
    "start_time": "2024-08-05T19:35:46.963Z"
   },
   {
    "duration": 5,
    "start_time": "2024-08-05T19:35:48.595Z"
   },
   {
    "duration": 119,
    "start_time": "2024-08-05T19:35:50.513Z"
   },
   {
    "duration": 17,
    "start_time": "2024-08-05T19:35:54.035Z"
   },
   {
    "duration": 43,
    "start_time": "2024-08-05T19:35:55.344Z"
   },
   {
    "duration": 113,
    "start_time": "2024-08-05T19:35:56.561Z"
   },
   {
    "duration": 16,
    "start_time": "2024-08-05T19:35:58.569Z"
   },
   {
    "duration": 50,
    "start_time": "2024-08-05T19:36:00.288Z"
   },
   {
    "duration": 27,
    "start_time": "2024-08-05T19:36:05.222Z"
   },
   {
    "duration": 932,
    "start_time": "2024-08-05T19:36:24.179Z"
   },
   {
    "duration": 18,
    "start_time": "2024-08-05T19:36:27.411Z"
   },
   {
    "duration": 11,
    "start_time": "2024-08-05T19:36:28.124Z"
   },
   {
    "duration": 329,
    "start_time": "2024-08-05T19:36:31.520Z"
   },
   {
    "duration": 112,
    "start_time": "2024-08-05T19:36:33.910Z"
   },
   {
    "duration": 18,
    "start_time": "2024-08-05T19:36:34.981Z"
   },
   {
    "duration": 5,
    "start_time": "2024-08-05T19:36:35.656Z"
   },
   {
    "duration": 30,
    "start_time": "2024-08-05T19:36:36.579Z"
   },
   {
    "duration": 29,
    "start_time": "2024-08-05T19:36:37.475Z"
   },
   {
    "duration": 14,
    "start_time": "2024-08-05T19:36:38.316Z"
   },
   {
    "duration": 20,
    "start_time": "2024-08-05T19:36:40.160Z"
   },
   {
    "duration": 623,
    "start_time": "2024-08-05T19:36:41.567Z"
   },
   {
    "duration": 5,
    "start_time": "2024-08-05T19:36:43.274Z"
   },
   {
    "duration": 115,
    "start_time": "2024-08-05T19:36:44.340Z"
   },
   {
    "duration": 18,
    "start_time": "2024-08-05T19:36:46.076Z"
   },
   {
    "duration": 41,
    "start_time": "2024-08-05T19:36:47.164Z"
   },
   {
    "duration": 108,
    "start_time": "2024-08-05T19:36:49.134Z"
   },
   {
    "duration": 16,
    "start_time": "2024-08-05T19:36:51.904Z"
   },
   {
    "duration": 39,
    "start_time": "2024-08-05T19:36:52.709Z"
   },
   {
    "duration": 11,
    "start_time": "2024-08-05T19:37:05.133Z"
   },
   {
    "duration": 11,
    "start_time": "2024-08-05T19:37:12.924Z"
   },
   {
    "duration": 12,
    "start_time": "2024-08-05T19:37:53.644Z"
   },
   {
    "duration": 12,
    "start_time": "2024-08-05T19:38:43.420Z"
   },
   {
    "duration": 10,
    "start_time": "2024-08-05T19:39:06.381Z"
   },
   {
    "duration": 36,
    "start_time": "2024-08-05T19:39:23.037Z"
   },
   {
    "duration": 24,
    "start_time": "2024-08-05T19:40:20.783Z"
   },
   {
    "duration": 4,
    "start_time": "2024-08-05T19:40:22.198Z"
   },
   {
    "duration": 22,
    "start_time": "2024-08-05T19:40:50.732Z"
   },
   {
    "duration": 3,
    "start_time": "2024-08-05T19:40:53.017Z"
   },
   {
    "duration": 14,
    "start_time": "2024-08-05T19:53:03.378Z"
   },
   {
    "duration": 3,
    "start_time": "2024-08-05T19:53:36.013Z"
   },
   {
    "duration": 14,
    "start_time": "2024-08-05T19:53:49.843Z"
   },
   {
    "duration": 13,
    "start_time": "2024-08-05T19:55:36.929Z"
   },
   {
    "duration": 22,
    "start_time": "2024-08-05T19:57:26.107Z"
   },
   {
    "duration": 3029,
    "start_time": "2024-08-05T19:58:15.466Z"
   },
   {
    "duration": 1065,
    "start_time": "2024-08-05T19:58:21.479Z"
   },
   {
    "duration": 90,
    "start_time": "2024-08-05T19:58:22.579Z"
   },
   {
    "duration": 25,
    "start_time": "2024-08-05T19:58:23.332Z"
   },
   {
    "duration": 11,
    "start_time": "2024-08-05T19:58:23.932Z"
   },
   {
    "duration": 342,
    "start_time": "2024-08-05T19:58:26.532Z"
   },
   {
    "duration": 123,
    "start_time": "2024-08-05T19:58:27.099Z"
   },
   {
    "duration": 18,
    "start_time": "2024-08-05T19:58:27.985Z"
   },
   {
    "duration": 6,
    "start_time": "2024-08-05T19:58:28.590Z"
   },
   {
    "duration": 31,
    "start_time": "2024-08-05T19:58:29.324Z"
   },
   {
    "duration": 30,
    "start_time": "2024-08-05T19:58:29.972Z"
   },
   {
    "duration": 15,
    "start_time": "2024-08-05T19:58:30.676Z"
   },
   {
    "duration": 19,
    "start_time": "2024-08-05T19:58:32.054Z"
   },
   {
    "duration": 489,
    "start_time": "2024-08-05T19:58:32.757Z"
   },
   {
    "duration": 6,
    "start_time": "2024-08-05T19:58:34.102Z"
   },
   {
    "duration": 121,
    "start_time": "2024-08-05T19:58:34.740Z"
   },
   {
    "duration": 21,
    "start_time": "2024-08-05T19:58:35.780Z"
   },
   {
    "duration": 41,
    "start_time": "2024-08-05T19:58:36.339Z"
   },
   {
    "duration": 101,
    "start_time": "2024-08-05T19:58:37.300Z"
   },
   {
    "duration": 16,
    "start_time": "2024-08-05T19:58:38.944Z"
   },
   {
    "duration": 40,
    "start_time": "2024-08-05T19:58:39.594Z"
   },
   {
    "duration": 12,
    "start_time": "2024-08-05T19:58:41.163Z"
   },
   {
    "duration": 10,
    "start_time": "2024-08-05T19:58:41.690Z"
   },
   {
    "duration": 36,
    "start_time": "2024-08-05T19:58:42.363Z"
   },
   {
    "duration": 24,
    "start_time": "2024-08-05T19:58:42.914Z"
   },
   {
    "duration": 3,
    "start_time": "2024-08-05T19:58:43.726Z"
   },
   {
    "duration": 3546,
    "start_time": "2024-08-05T20:05:15.381Z"
   },
   {
    "duration": 152,
    "start_time": "2024-08-05T20:06:40.187Z"
   },
   {
    "duration": 430,
    "start_time": "2024-08-05T20:07:08.791Z"
   },
   {
    "duration": 4,
    "start_time": "2024-08-05T20:07:33.929Z"
   },
   {
    "duration": 2753,
    "start_time": "2024-08-05T20:07:58.230Z"
   },
   {
    "duration": 4,
    "start_time": "2024-08-05T20:11:02.886Z"
   },
   {
    "duration": 2982,
    "start_time": "2024-08-05T20:11:07.678Z"
   },
   {
    "duration": 113,
    "start_time": "2024-08-05T20:13:09.637Z"
   },
   {
    "duration": 341,
    "start_time": "2024-08-05T20:13:33.246Z"
   },
   {
    "duration": 79,
    "start_time": "2024-08-05T20:13:53.574Z"
   },
   {
    "duration": 4,
    "start_time": "2024-08-05T20:14:10.356Z"
   },
   {
    "duration": 3362,
    "start_time": "2024-08-05T20:14:31.839Z"
   },
   {
    "duration": 3127,
    "start_time": "2024-08-05T20:17:04.520Z"
   },
   {
    "duration": 122417,
    "start_time": "2024-08-05T20:17:21.768Z"
   },
   {
    "duration": 5,
    "start_time": "2024-08-05T20:20:32.312Z"
   },
   {
    "duration": 2802,
    "start_time": "2024-08-05T20:20:41.443Z"
   },
   {
    "duration": 329,
    "start_time": "2024-08-05T20:21:33.798Z"
   },
   {
    "duration": 113,
    "start_time": "2024-08-05T20:21:35.799Z"
   },
   {
    "duration": 4,
    "start_time": "2024-08-05T20:21:39.006Z"
   },
   {
    "duration": 2833,
    "start_time": "2024-08-05T20:21:41.235Z"
   },
   {
    "duration": 142,
    "start_time": "2024-08-05T20:22:11.789Z"
   },
   {
    "duration": 4,
    "start_time": "2024-08-05T20:22:15.797Z"
   },
   {
    "duration": 2753,
    "start_time": "2024-08-05T20:22:18.066Z"
   },
   {
    "duration": 1810,
    "start_time": "2024-08-05T20:23:02.096Z"
   },
   {
    "duration": 2891,
    "start_time": "2024-08-05T20:23:03.908Z"
   },
   {
    "duration": 2961,
    "start_time": "2024-08-05T20:23:06.801Z"
   },
   {
    "duration": 1106,
    "start_time": "2024-08-05T20:23:09.764Z"
   },
   {
    "duration": 92,
    "start_time": "2024-08-05T20:23:10.872Z"
   },
   {
    "duration": 30,
    "start_time": "2024-08-05T20:23:10.965Z"
   },
   {
    "duration": 10,
    "start_time": "2024-08-05T20:23:10.997Z"
   },
   {
    "duration": 47724,
    "start_time": "2024-08-05T20:23:11.008Z"
   },
   {
    "duration": 515,
    "start_time": "2024-08-05T20:23:58.733Z"
   },
   {
    "duration": 134,
    "start_time": "2024-08-05T20:23:59.250Z"
   },
   {
    "duration": 18,
    "start_time": "2024-08-05T20:23:59.386Z"
   },
   {
    "duration": 4,
    "start_time": "2024-08-05T20:23:59.406Z"
   },
   {
    "duration": 53,
    "start_time": "2024-08-05T20:23:59.411Z"
   },
   {
    "duration": 45,
    "start_time": "2024-08-05T20:23:59.467Z"
   },
   {
    "duration": 13,
    "start_time": "2024-08-05T20:23:59.514Z"
   },
   {
    "duration": 19,
    "start_time": "2024-08-05T20:23:59.529Z"
   },
   {
    "duration": 696,
    "start_time": "2024-08-05T20:23:59.550Z"
   },
   {
    "duration": 5,
    "start_time": "2024-08-05T20:24:00.248Z"
   },
   {
    "duration": 193,
    "start_time": "2024-08-05T20:24:00.254Z"
   },
   {
    "duration": 20,
    "start_time": "2024-08-05T20:24:00.448Z"
   },
   {
    "duration": 95,
    "start_time": "2024-08-05T20:24:00.470Z"
   },
   {
    "duration": 148,
    "start_time": "2024-08-05T20:24:00.567Z"
   },
   {
    "duration": 17,
    "start_time": "2024-08-05T20:24:00.716Z"
   },
   {
    "duration": 100,
    "start_time": "2024-08-05T20:24:00.735Z"
   },
   {
    "duration": 30,
    "start_time": "2024-08-05T20:24:00.836Z"
   },
   {
    "duration": 48,
    "start_time": "2024-08-05T20:24:00.868Z"
   },
   {
    "duration": 74,
    "start_time": "2024-08-05T20:24:00.917Z"
   },
   {
    "duration": 73,
    "start_time": "2024-08-05T20:24:00.993Z"
   },
   {
    "duration": 24,
    "start_time": "2024-08-05T20:24:01.068Z"
   },
   {
    "duration": 428,
    "start_time": "2024-08-05T20:24:01.093Z"
   },
   {
    "duration": 5,
    "start_time": "2024-08-05T20:24:01.523Z"
   },
   {
    "duration": 3089,
    "start_time": "2024-08-05T20:24:01.529Z"
   },
   {
    "duration": 235,
    "start_time": "2024-08-05T20:24:38.352Z"
   },
   {
    "duration": 2891,
    "start_time": "2024-08-05T20:25:00.890Z"
   },
   {
    "duration": 140244,
    "start_time": "2024-08-05T20:25:05.168Z"
   },
   {
    "duration": 87,
    "start_time": "2024-08-05T20:27:38.472Z"
   },
   {
    "duration": 4,
    "start_time": "2024-08-05T20:28:10.572Z"
   },
   {
    "duration": 231,
    "start_time": "2024-08-05T20:28:22.663Z"
   },
   {
    "duration": 5,
    "start_time": "2024-08-05T20:28:27.160Z"
   },
   {
    "duration": 120561,
    "start_time": "2024-08-05T20:28:33.529Z"
   },
   {
    "duration": 22,
    "start_time": "2024-08-05T20:37:32.005Z"
   },
   {
    "duration": 15,
    "start_time": "2024-08-05T20:37:40.941Z"
   },
   {
    "duration": 100,
    "start_time": "2024-08-05T20:37:47.136Z"
   },
   {
    "duration": 101,
    "start_time": "2024-08-05T20:37:54.242Z"
   },
   {
    "duration": 21,
    "start_time": "2024-08-05T20:38:10.791Z"
   },
   {
    "duration": 21,
    "start_time": "2024-08-05T20:38:20.376Z"
   },
   {
    "duration": 108698,
    "start_time": "2024-08-05T20:41:03.946Z"
   },
   {
    "duration": 5,
    "start_time": "2024-08-05T20:43:02.169Z"
   },
   {
    "duration": 107605,
    "start_time": "2024-08-05T20:43:05.078Z"
   },
   {
    "duration": 198,
    "start_time": "2024-08-05T20:44:52.685Z"
   },
   {
    "duration": 2863,
    "start_time": "2024-08-05T20:44:52.886Z"
   },
   {
    "duration": 13,
    "start_time": "2024-08-05T20:45:19.775Z"
   },
   {
    "duration": 2892,
    "start_time": "2024-08-05T20:45:28.208Z"
   },
   {
    "duration": 2728,
    "start_time": "2024-08-05T20:52:48.051Z"
   },
   {
    "duration": 7053,
    "start_time": "2024-08-05T20:53:26.843Z"
   },
   {
    "duration": 3,
    "start_time": "2024-08-05T20:54:04.447Z"
   },
   {
    "duration": 9,
    "start_time": "2024-08-05T20:54:04.451Z"
   },
   {
    "duration": 3,
    "start_time": "2024-08-05T20:54:04.461Z"
   },
   {
    "duration": 3085,
    "start_time": "2024-08-05T20:54:04.466Z"
   },
   {
    "duration": 1092,
    "start_time": "2024-08-05T20:54:07.553Z"
   },
   {
    "duration": 99,
    "start_time": "2024-08-05T20:54:08.647Z"
   },
   {
    "duration": 25,
    "start_time": "2024-08-05T20:54:08.747Z"
   },
   {
    "duration": 14,
    "start_time": "2024-08-05T20:54:08.774Z"
   },
   {
    "duration": 3,
    "start_time": "2024-08-05T20:54:08.789Z"
   },
   {
    "duration": 359,
    "start_time": "2024-08-05T20:54:08.793Z"
   },
   {
    "duration": 130,
    "start_time": "2024-08-05T20:54:09.155Z"
   },
   {
    "duration": 18,
    "start_time": "2024-08-05T20:54:09.286Z"
   },
   {
    "duration": 4,
    "start_time": "2024-08-05T20:54:09.306Z"
   },
   {
    "duration": 36,
    "start_time": "2024-08-05T20:54:09.313Z"
   },
   {
    "duration": 47,
    "start_time": "2024-08-05T20:54:09.351Z"
   },
   {
    "duration": 14,
    "start_time": "2024-08-05T20:54:09.399Z"
   },
   {
    "duration": 20,
    "start_time": "2024-08-05T20:54:09.415Z"
   },
   {
    "duration": 509,
    "start_time": "2024-08-05T20:54:09.437Z"
   },
   {
    "duration": 6,
    "start_time": "2024-08-05T20:54:09.947Z"
   },
   {
    "duration": 130,
    "start_time": "2024-08-05T20:54:09.955Z"
   },
   {
    "duration": 20,
    "start_time": "2024-08-05T20:54:10.087Z"
   },
   {
    "duration": 40,
    "start_time": "2024-08-05T20:54:10.108Z"
   },
   {
    "duration": 152,
    "start_time": "2024-08-05T20:54:10.150Z"
   },
   {
    "duration": 16,
    "start_time": "2024-08-05T20:54:10.304Z"
   },
   {
    "duration": 39,
    "start_time": "2024-08-05T20:54:10.322Z"
   },
   {
    "duration": 28,
    "start_time": "2024-08-05T20:54:10.363Z"
   },
   {
    "duration": 10,
    "start_time": "2024-08-05T20:54:10.393Z"
   },
   {
    "duration": 35,
    "start_time": "2024-08-05T20:54:10.404Z"
   },
   {
    "duration": 45,
    "start_time": "2024-08-05T20:54:10.441Z"
   },
   {
    "duration": 3,
    "start_time": "2024-08-05T20:54:10.488Z"
   },
   {
    "duration": 514,
    "start_time": "2024-08-05T20:54:10.493Z"
   },
   {
    "duration": 54569,
    "start_time": "2024-08-05T20:54:11.009Z"
   },
   {
    "duration": 7,
    "start_time": "2024-08-05T20:57:37.930Z"
   },
   {
    "duration": 75938,
    "start_time": "2024-08-05T20:58:55.845Z"
   },
   {
    "duration": 198,
    "start_time": "2024-08-05T21:00:11.785Z"
   },
   {
    "duration": 29,
    "start_time": "2024-08-05T21:01:48.797Z"
   },
   {
    "duration": 250564,
    "start_time": "2024-08-05T21:01:56.408Z"
   },
   {
    "duration": 9,
    "start_time": "2024-08-05T21:06:06.974Z"
   },
   {
    "duration": 4,
    "start_time": "2024-08-05T21:06:33.700Z"
   },
   {
    "duration": 3,
    "start_time": "2024-08-05T21:06:44.514Z"
   },
   {
    "duration": 4,
    "start_time": "2024-08-05T21:07:41.192Z"
   },
   {
    "duration": 4,
    "start_time": "2024-08-05T21:08:35.258Z"
   },
   {
    "duration": 4,
    "start_time": "2024-08-05T21:08:55.731Z"
   },
   {
    "duration": 6099,
    "start_time": "2024-08-05T21:14:36.992Z"
   },
   {
    "duration": 3,
    "start_time": "2024-08-05T21:16:57.705Z"
   },
   {
    "duration": 6,
    "start_time": "2024-08-05T21:16:57.710Z"
   },
   {
    "duration": 4,
    "start_time": "2024-08-05T21:16:57.718Z"
   },
   {
    "duration": 3012,
    "start_time": "2024-08-05T21:16:57.723Z"
   },
   {
    "duration": 1110,
    "start_time": "2024-08-05T21:17:00.737Z"
   },
   {
    "duration": 103,
    "start_time": "2024-08-05T21:17:01.848Z"
   },
   {
    "duration": 35,
    "start_time": "2024-08-05T21:17:01.952Z"
   },
   {
    "duration": 11,
    "start_time": "2024-08-05T21:17:01.989Z"
   },
   {
    "duration": 11,
    "start_time": "2024-08-05T21:17:02.002Z"
   },
   {
    "duration": 369,
    "start_time": "2024-08-05T21:17:02.016Z"
   },
   {
    "duration": 127,
    "start_time": "2024-08-05T21:17:02.387Z"
   },
   {
    "duration": 17,
    "start_time": "2024-08-05T21:17:02.516Z"
   },
   {
    "duration": 5,
    "start_time": "2024-08-05T21:17:02.534Z"
   },
   {
    "duration": 46,
    "start_time": "2024-08-05T21:17:02.540Z"
   },
   {
    "duration": 30,
    "start_time": "2024-08-05T21:17:02.588Z"
   },
   {
    "duration": 14,
    "start_time": "2024-08-05T21:17:02.620Z"
   },
   {
    "duration": 20,
    "start_time": "2024-08-05T21:17:02.635Z"
   },
   {
    "duration": 514,
    "start_time": "2024-08-05T21:17:02.656Z"
   },
   {
    "duration": 14,
    "start_time": "2024-08-05T21:17:03.171Z"
   },
   {
    "duration": 159,
    "start_time": "2024-08-05T21:17:03.186Z"
   },
   {
    "duration": 20,
    "start_time": "2024-08-05T21:17:03.346Z"
   },
   {
    "duration": 49,
    "start_time": "2024-08-05T21:17:03.368Z"
   },
   {
    "duration": 109,
    "start_time": "2024-08-05T21:17:03.418Z"
   },
   {
    "duration": 18,
    "start_time": "2024-08-05T21:17:03.528Z"
   },
   {
    "duration": 55,
    "start_time": "2024-08-05T21:17:03.547Z"
   },
   {
    "duration": 17,
    "start_time": "2024-08-05T21:17:03.604Z"
   },
   {
    "duration": 9,
    "start_time": "2024-08-05T21:17:03.622Z"
   },
   {
    "duration": 56,
    "start_time": "2024-08-05T21:17:03.634Z"
   },
   {
    "duration": 24,
    "start_time": "2024-08-05T21:17:03.691Z"
   },
   {
    "duration": 4,
    "start_time": "2024-08-05T21:17:03.716Z"
   },
   {
    "duration": 545,
    "start_time": "2024-08-05T21:17:03.722Z"
   },
   {
    "duration": 52959,
    "start_time": "2024-08-05T21:17:04.268Z"
   },
   {
    "duration": 5,
    "start_time": "2024-08-05T21:17:57.229Z"
   },
   {
    "duration": 8,
    "start_time": "2024-08-05T21:17:57.235Z"
   },
   {
    "duration": 76747,
    "start_time": "2024-08-05T21:17:57.245Z"
   },
   {
    "duration": 89,
    "start_time": "2024-08-05T21:19:13.993Z"
   },
   {
    "duration": 255834,
    "start_time": "2024-08-05T21:19:14.084Z"
   },
   {
    "duration": 3,
    "start_time": "2024-08-05T21:23:29.920Z"
   },
   {
    "duration": 4665,
    "start_time": "2024-08-05T21:23:29.925Z"
   }
  ],
  "kernelspec": {
   "display_name": "Python 3 (ipykernel)",
   "language": "python",
   "name": "python3"
  },
  "language_info": {
   "codemirror_mode": {
    "name": "ipython",
    "version": 3
   },
   "file_extension": ".py",
   "mimetype": "text/x-python",
   "name": "python",
   "nbconvert_exporter": "python",
   "pygments_lexer": "ipython3",
   "version": "3.9.5"
  },
  "toc": {
   "base_numbering": 1,
   "nav_menu": {},
   "number_sections": true,
   "sideBar": true,
   "skip_h1_title": true,
   "title_cell": "Table of Contents",
   "title_sidebar": "Contents",
   "toc_cell": false,
   "toc_position": {},
   "toc_section_display": true,
   "toc_window_display": false
  }
 },
 "nbformat": 4,
 "nbformat_minor": 2
}
