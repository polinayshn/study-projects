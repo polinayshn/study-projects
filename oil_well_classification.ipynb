{
 "cells": [
  {
   "cell_type": "markdown",
   "metadata": {},
   "source": [
    "Привет, меня зовут Артем. Сегодня я проверю твой проект.\n",
    "<br> Дальнейшее общение будет происходить на \"ты\" если это не вызывает никаких проблем.\n",
    "<br> Желательно реагировать на каждый мой комментарий ('исправил', 'не понятно как исправить ошибку', ...)\n",
    "<br> Пожалуйста, не удаляй комментарии ревьюера, так как они повышают качество повторного ревью.\n",
    "\n",
    "Комментарии будут в <font color='green'>зеленой</font>, <font color='blue'>синей</font> или <font color='red'>красной</font> рамках:\n",
    "\n",
    "<div class=\"alert alert-block alert-success\">\n",
    "<b>Успех:</b> Если все сделано отлично\n",
    "</div>\n",
    "\n",
    "<div class=\"alert alert-block alert-info\">\n",
    "<b>Совет: </b> Если можно немного улучшить\n",
    "</div>\n",
    "\n",
    "<div class=\"alert alert-block alert-danger\">\n",
    "<b>Ошибка:</b> Если требуются исправления. Работа не может быть принята с красными комментариями.\n",
    "</div>\n",
    "\n",
    "-------------------\n",
    "\n",
    "Будет очень хорошо, если ты будешь помечать свои действия следующим образом:\n",
    "<div class=\"alert alert-block alert-warning\">\n",
    "<b>Комментарий студента:</b> ...\n",
    "</div>\n",
    "\n",
    "<div class=\"alert alert-block alert-warning\">\n",
    "<b>Изменения:</b> Были внесены следующие изменения ...\n",
    "</div>\n",
    "\n",
    "### <font color='orange'>Общее впечатление</font>\n",
    "* Большое спасибо за проделанную работу. Видно, что приложено много усилий.\n",
    "* Над этим проектом нужно будет еще немного поработать. Однако, изменения не должны занять много времени.\n",
    "* В работе я оставил несколько советов. Буду рад, если ты учтешь их.\n",
    "* С радостью отвечу на твои вопросы, если они есть. Лучше всего их собрать в следующей ячейке. Жду новую версию проекта."
   ]
  },
  {
   "cell_type": "markdown",
   "metadata": {},
   "source": [
    "<div class=\"alert alert-block alert-warning\">\n",
    "<b>Комментарий студента:</b> Привет, Артем! Спасибо за комментарии. Поправила и добавила комментарии про изменения\n",
    "</div>"
   ]
  },
  {
   "cell_type": "markdown",
   "metadata": {},
   "source": [
    "### <font color='orange'>Общее впечатление (ревью 2)</font>\n",
    "* Для удобства все новые комментарии обозначены фразой \"ревью 2\".\n",
    "* Удачи в дорабокте!"
   ]
  },
  {
   "cell_type": "markdown",
   "metadata": {},
   "source": [
    "### <font color='orange'>Общее впечатление (ревью 3)</font>\n",
    "* После исправлений проект улучшился и теперь он может быть зачтен.\n",
    "* Удачи в дальнейшем обучении и следующих работах!"
   ]
  },
  {
   "cell_type": "markdown",
   "metadata": {},
   "source": [
    "# Выбор локации для скважины"
   ]
  },
  {
   "cell_type": "markdown",
   "metadata": {},
   "source": [
    "Допустим, вы работаете в добывающей компании «ГлавРосГосНефть». Нужно решить, где бурить новую скважину.\n",
    "\n",
    "Вам предоставлены пробы нефти в трёх регионах: в каждом 10 000 месторождений, где измерили качество нефти и объём её запасов. Постройте модель машинного обучения, которая поможет определить регион, где добыча принесёт наибольшую прибыль. Проанализируйте возможную прибыль и риски техникой *Bootstrap.*\n",
    "\n",
    "Шаги для выбора локации:\n",
    "\n",
    "- В избранном регионе ищут месторождения, для каждого определяют значения признаков;\n",
    "- Строят модель и оценивают объём запасов;\n",
    "- Выбирают месторождения с самым высокими оценками значений. Количество месторождений зависит от бюджета компании и стоимости разработки одной скважины;\n",
    "- Прибыль равна суммарной прибыли отобранных месторождений."
   ]
  },
  {
   "cell_type": "markdown",
   "metadata": {},
   "source": [
    "## Загрузка и подготовка данных"
   ]
  },
  {
   "cell_type": "code",
   "execution_count": 1,
   "metadata": {},
   "outputs": [
    {
     "name": "stdout",
     "output_type": "stream",
     "text": [
      "\u001b[31mERROR: pip's dependency resolver does not currently take into account all the packages that are installed. This behaviour is the source of the following dependency conflicts.\r\n",
      "thinc 8.0.17 requires pydantic!=1.8,!=1.8.1,<1.9.0,>=1.7.4, but you have pydantic 2.8.2 which is incompatible.\r\n",
      "spacy 3.2.0 requires pydantic!=1.8,!=1.8.1,<1.9.0,>=1.7.4, but you have pydantic 2.8.2 which is incompatible.\u001b[0m\r\n"
     ]
    }
   ],
   "source": [
    "!pip install phik ydata_profiling shap numpy==1.23 numba==0.58.1 -q"
   ]
  },
  {
   "cell_type": "code",
   "execution_count": 2,
   "metadata": {},
   "outputs": [],
   "source": [
    "import matplotlib.pyplot as plt\n",
    "import numpy as np\n",
    "import os\n",
    "import pandas as pd\n",
    "import phik\n",
    "import re\n",
    "import scipy.stats as st\n",
    "import seaborn as sns\n",
    "import statsmodels.api as sm\n",
    "import warnings\n",
    "\n",
    "from sklearn.model_selection import train_test_split\n",
    "from sklearn.linear_model import LinearRegression\n",
    "from sklearn.metrics import mean_squared_error\n",
    "from sklearn.compose import ColumnTransformer\n",
    "from sklearn.pipeline import Pipeline\n",
    "from sklearn.impute import SimpleImputer\n",
    "from sklearn.preprocessing import OneHotEncoder, StandardScaler\n",
    "\n",
    "import shap\n",
    "import ydata_profiling"
   ]
  },
  {
   "cell_type": "markdown",
   "metadata": {},
   "source": [
    "<div class=\"alert alert-block alert-success\">\n",
    "<b>Успех:</b> Отлично, что все импорты собраны в первой ячейке ноутбука! Если у того, кто будет запускать твой ноутбук будут отсутствовать некоторые библиотеки, то он это увидит сразу, а не в процессе!\n",
    "</div>"
   ]
  },
  {
   "cell_type": "markdown",
   "metadata": {},
   "source": [
    "<b> Описание данных: </b> \n",
    "  Данные геологоразведки трёх регионов находятся в файлах: \n",
    "`/datasets/geo_data_0.csv.` \n",
    "`/datasets/geo_data_1.csv.` \n",
    "`/datasets/geo_data_2.csv.` \n",
    "\n",
    "`id` — уникальный идентификатор скважины;  \n",
    "`f0`, `f1`, `f2` — три признака точек (неважно, что они означают, но сами признаки значимы);  \n",
    "`product` — объём запасов в скважине (тыс. баррелей)."
   ]
  },
  {
   "cell_type": "code",
   "execution_count": 3,
   "metadata": {},
   "outputs": [],
   "source": [
    "# Считаем CSV-файлы с данными с помощью библиотеки pandas в датафрейм и изучим общую информацию\n",
    "\n",
    "path = '/datasets'\n",
    "\n",
    "try:\n",
    "    # Чтение датафреймов\n",
    "    geo_data = pd.read_csv(os.path.join(path, 'geo_data_0.csv'), index_col='id')\n",
    "    geo_data1 = pd.read_csv(os.path.join(path, 'geo_data_1.csv'), index_col='id')\n",
    "    geo_data2 = pd.read_csv(os.path.join(path, 'geo_data_2.csv'), index_col='id')\n",
    "\n",
    "except FileNotFoundError:\n",
    "    print('Один или несколько файлов не найдены.')"
   ]
  },
  {
   "cell_type": "code",
   "execution_count": 4,
   "metadata": {},
   "outputs": [
    {
     "data": {
      "text/html": [
       "<div>\n",
       "<style scoped>\n",
       "    .dataframe tbody tr th:only-of-type {\n",
       "        vertical-align: middle;\n",
       "    }\n",
       "\n",
       "    .dataframe tbody tr th {\n",
       "        vertical-align: top;\n",
       "    }\n",
       "\n",
       "    .dataframe thead th {\n",
       "        text-align: right;\n",
       "    }\n",
       "</style>\n",
       "<table border=\"1\" class=\"dataframe\">\n",
       "  <thead>\n",
       "    <tr style=\"text-align: right;\">\n",
       "      <th></th>\n",
       "      <th>f0</th>\n",
       "      <th>f1</th>\n",
       "      <th>f2</th>\n",
       "      <th>product</th>\n",
       "    </tr>\n",
       "    <tr>\n",
       "      <th>id</th>\n",
       "      <th></th>\n",
       "      <th></th>\n",
       "      <th></th>\n",
       "      <th></th>\n",
       "    </tr>\n",
       "  </thead>\n",
       "  <tbody>\n",
       "    <tr>\n",
       "      <th>FgLK4</th>\n",
       "      <td>0.722486</td>\n",
       "      <td>0.156214</td>\n",
       "      <td>3.743333</td>\n",
       "      <td>136.940110</td>\n",
       "    </tr>\n",
       "    <tr>\n",
       "      <th>GQbdb</th>\n",
       "      <td>0.065091</td>\n",
       "      <td>1.059783</td>\n",
       "      <td>7.337488</td>\n",
       "      <td>101.731406</td>\n",
       "    </tr>\n",
       "    <tr>\n",
       "      <th>Qnd7y</th>\n",
       "      <td>0.992474</td>\n",
       "      <td>0.537133</td>\n",
       "      <td>-2.278604</td>\n",
       "      <td>49.876440</td>\n",
       "    </tr>\n",
       "  </tbody>\n",
       "</table>\n",
       "</div>"
      ],
      "text/plain": [
       "             f0        f1        f2     product\n",
       "id                                             \n",
       "FgLK4  0.722486  0.156214  3.743333  136.940110\n",
       "GQbdb  0.065091  1.059783  7.337488  101.731406\n",
       "Qnd7y  0.992474  0.537133 -2.278604   49.876440"
      ]
     },
     "execution_count": 4,
     "metadata": {},
     "output_type": "execute_result"
    }
   ],
   "source": [
    "geo_data.sample(3)"
   ]
  },
  {
   "cell_type": "code",
   "execution_count": 5,
   "metadata": {},
   "outputs": [
    {
     "name": "stdout",
     "output_type": "stream",
     "text": [
      "<class 'pandas.core.frame.DataFrame'>\n",
      "Index: 100000 entries, txEyH to 1CWhH\n",
      "Data columns (total 4 columns):\n",
      " #   Column   Non-Null Count   Dtype  \n",
      "---  ------   --------------   -----  \n",
      " 0   f0       100000 non-null  float64\n",
      " 1   f1       100000 non-null  float64\n",
      " 2   f2       100000 non-null  float64\n",
      " 3   product  100000 non-null  float64\n",
      "dtypes: float64(4)\n",
      "memory usage: 3.8+ MB\n"
     ]
    }
   ],
   "source": [
    "geo_data.info()"
   ]
  },
  {
   "cell_type": "code",
   "execution_count": 6,
   "metadata": {},
   "outputs": [
    {
     "data": {
      "text/html": [
       "<div>\n",
       "<style scoped>\n",
       "    .dataframe tbody tr th:only-of-type {\n",
       "        vertical-align: middle;\n",
       "    }\n",
       "\n",
       "    .dataframe tbody tr th {\n",
       "        vertical-align: top;\n",
       "    }\n",
       "\n",
       "    .dataframe thead th {\n",
       "        text-align: right;\n",
       "    }\n",
       "</style>\n",
       "<table border=\"1\" class=\"dataframe\">\n",
       "  <thead>\n",
       "    <tr style=\"text-align: right;\">\n",
       "      <th></th>\n",
       "      <th>f0</th>\n",
       "      <th>f1</th>\n",
       "      <th>f2</th>\n",
       "      <th>product</th>\n",
       "    </tr>\n",
       "    <tr>\n",
       "      <th>id</th>\n",
       "      <th></th>\n",
       "      <th></th>\n",
       "      <th></th>\n",
       "      <th></th>\n",
       "    </tr>\n",
       "  </thead>\n",
       "  <tbody>\n",
       "    <tr>\n",
       "      <th>kAEny</th>\n",
       "      <td>-4.341771</td>\n",
       "      <td>-4.536024</td>\n",
       "      <td>4.005632</td>\n",
       "      <td>110.992147</td>\n",
       "    </tr>\n",
       "    <tr>\n",
       "      <th>7LQc0</th>\n",
       "      <td>2.390416</td>\n",
       "      <td>-10.812846</td>\n",
       "      <td>2.009577</td>\n",
       "      <td>53.906522</td>\n",
       "    </tr>\n",
       "    <tr>\n",
       "      <th>Giq0D</th>\n",
       "      <td>-7.349398</td>\n",
       "      <td>0.276799</td>\n",
       "      <td>1.001946</td>\n",
       "      <td>30.132364</td>\n",
       "    </tr>\n",
       "  </tbody>\n",
       "</table>\n",
       "</div>"
      ],
      "text/plain": [
       "             f0         f1        f2     product\n",
       "id                                              \n",
       "kAEny -4.341771  -4.536024  4.005632  110.992147\n",
       "7LQc0  2.390416 -10.812846  2.009577   53.906522\n",
       "Giq0D -7.349398   0.276799  1.001946   30.132364"
      ]
     },
     "execution_count": 6,
     "metadata": {},
     "output_type": "execute_result"
    }
   ],
   "source": [
    "geo_data1.sample(3)"
   ]
  },
  {
   "cell_type": "code",
   "execution_count": 7,
   "metadata": {},
   "outputs": [
    {
     "name": "stdout",
     "output_type": "stream",
     "text": [
      "<class 'pandas.core.frame.DataFrame'>\n",
      "Index: 100000 entries, kBEdx to relB0\n",
      "Data columns (total 4 columns):\n",
      " #   Column   Non-Null Count   Dtype  \n",
      "---  ------   --------------   -----  \n",
      " 0   f0       100000 non-null  float64\n",
      " 1   f1       100000 non-null  float64\n",
      " 2   f2       100000 non-null  float64\n",
      " 3   product  100000 non-null  float64\n",
      "dtypes: float64(4)\n",
      "memory usage: 3.8+ MB\n"
     ]
    }
   ],
   "source": [
    "geo_data1.info()"
   ]
  },
  {
   "cell_type": "code",
   "execution_count": 8,
   "metadata": {},
   "outputs": [
    {
     "data": {
      "text/html": [
       "<div>\n",
       "<style scoped>\n",
       "    .dataframe tbody tr th:only-of-type {\n",
       "        vertical-align: middle;\n",
       "    }\n",
       "\n",
       "    .dataframe tbody tr th {\n",
       "        vertical-align: top;\n",
       "    }\n",
       "\n",
       "    .dataframe thead th {\n",
       "        text-align: right;\n",
       "    }\n",
       "</style>\n",
       "<table border=\"1\" class=\"dataframe\">\n",
       "  <thead>\n",
       "    <tr style=\"text-align: right;\">\n",
       "      <th></th>\n",
       "      <th>f0</th>\n",
       "      <th>f1</th>\n",
       "      <th>f2</th>\n",
       "      <th>product</th>\n",
       "    </tr>\n",
       "    <tr>\n",
       "      <th>id</th>\n",
       "      <th></th>\n",
       "      <th></th>\n",
       "      <th></th>\n",
       "      <th></th>\n",
       "    </tr>\n",
       "  </thead>\n",
       "  <tbody>\n",
       "    <tr>\n",
       "      <th>eYFSu</th>\n",
       "      <td>-0.209147</td>\n",
       "      <td>-0.932120</td>\n",
       "      <td>1.788196</td>\n",
       "      <td>36.537653</td>\n",
       "    </tr>\n",
       "    <tr>\n",
       "      <th>J1fc0</th>\n",
       "      <td>-0.647266</td>\n",
       "      <td>1.455445</td>\n",
       "      <td>-0.800666</td>\n",
       "      <td>65.410047</td>\n",
       "    </tr>\n",
       "    <tr>\n",
       "      <th>flAww</th>\n",
       "      <td>1.203650</td>\n",
       "      <td>-0.317457</td>\n",
       "      <td>7.409175</td>\n",
       "      <td>118.019639</td>\n",
       "    </tr>\n",
       "  </tbody>\n",
       "</table>\n",
       "</div>"
      ],
      "text/plain": [
       "             f0        f1        f2     product\n",
       "id                                             \n",
       "eYFSu -0.209147 -0.932120  1.788196   36.537653\n",
       "J1fc0 -0.647266  1.455445 -0.800666   65.410047\n",
       "flAww  1.203650 -0.317457  7.409175  118.019639"
      ]
     },
     "execution_count": 8,
     "metadata": {},
     "output_type": "execute_result"
    }
   ],
   "source": [
    "geo_data2.sample(3)"
   ]
  },
  {
   "cell_type": "code",
   "execution_count": 9,
   "metadata": {},
   "outputs": [
    {
     "name": "stdout",
     "output_type": "stream",
     "text": [
      "<class 'pandas.core.frame.DataFrame'>\n",
      "Index: 100000 entries, fwXo0 to V9kWn\n",
      "Data columns (total 4 columns):\n",
      " #   Column   Non-Null Count   Dtype  \n",
      "---  ------   --------------   -----  \n",
      " 0   f0       100000 non-null  float64\n",
      " 1   f1       100000 non-null  float64\n",
      " 2   f2       100000 non-null  float64\n",
      " 3   product  100000 non-null  float64\n",
      "dtypes: float64(4)\n",
      "memory usage: 3.8+ MB\n"
     ]
    }
   ],
   "source": [
    "geo_data2.info()"
   ]
  },
  {
   "cell_type": "code",
   "execution_count": 10,
   "metadata": {},
   "outputs": [],
   "source": [
    "geo_data = geo_data.sort_index()\n",
    "geo_data1 = geo_data1.sort_index()\n",
    "geo_data2 = geo_data2.sort_index()"
   ]
  },
  {
   "cell_type": "markdown",
   "metadata": {},
   "source": [
    "<b>По результатам загрузки</b> видим, что полученные данные соответствуют их описанию."
   ]
  },
  {
   "cell_type": "code",
   "execution_count": 11,
   "metadata": {},
   "outputs": [],
   "source": [
    "# ydata_profiling.ProfileReport(geo_data)"
   ]
  },
  {
   "cell_type": "markdown",
   "metadata": {},
   "source": [
    "<b>В первом регионе:</b>\n",
    "- пропущенных значений нет,\n",
    "- необычных значений признаков нет,\n",
    "- f0 в диапазоне от -1.4 до 2.3,\n",
    "- f1 в диапазоне от -0.8 до 1.3,\n",
    "- f2 в диапазоне от -12 до 16,\n",
    "- product от 0 до 185,\n",
    "- интересный график корреляции между f0 и f1 - две зеркальные дуги,\n",
    "- похожа на линейную зависимость между product и f2, \n",
    "- предварительно на матрице корреляции большая зависимость между f0 и f1, product и f2"
   ]
  },
  {
   "cell_type": "code",
   "execution_count": 12,
   "metadata": {},
   "outputs": [],
   "source": [
    "# ydata_profiling.ProfileReport(geo_data1)"
   ]
  },
  {
   "cell_type": "markdown",
   "metadata": {},
   "source": [
    "<b>Во втором регионе:</b>\n",
    "- нет пропусков,\n",
    "- тоже похожа на линейную зависимость между product и f2 (почти 1 на матрице),\n",
    "- значительная зависимость между f0 и f1"
   ]
  },
  {
   "cell_type": "code",
   "execution_count": 13,
   "metadata": {},
   "outputs": [],
   "source": [
    "# ydata_profiling.ProfileReport(geo_data2)"
   ]
  },
  {
   "cell_type": "markdown",
   "metadata": {},
   "source": [
    "<b>В третьем регионе:</b>\n",
    "- нет пропусков,\n",
    "- также высокая зависимость между f2 и product"
   ]
  },
  {
   "cell_type": "code",
   "execution_count": 14,
   "metadata": {},
   "outputs": [
    {
     "name": "stdout",
     "output_type": "stream",
     "text": [
      "<class 'pandas.core.frame.DataFrame'>\n",
      "Index: 100000 entries, 006OJ to zzzLH\n",
      "Data columns (total 4 columns):\n",
      " #   Column   Non-Null Count   Dtype  \n",
      "---  ------   --------------   -----  \n",
      " 0   f0       100000 non-null  float64\n",
      " 1   f1       100000 non-null  float64\n",
      " 2   f2       100000 non-null  float64\n",
      " 3   product  100000 non-null  float64\n",
      "dtypes: float64(4)\n",
      "memory usage: 3.8+ MB\n"
     ]
    }
   ],
   "source": [
    "# удалим дубликаты:\n",
    "geo_data.drop_duplicates(inplace=True)\n",
    "geo_data.info()"
   ]
  },
  {
   "cell_type": "code",
   "execution_count": 15,
   "metadata": {},
   "outputs": [
    {
     "data": {
      "text/plain": [
       "Index(['74z30', 'A5aEY', 'AGS9W', 'HZww2', 'QcMuo', 'Tdehs', 'TtcGQ', 'bsk9y',\n",
       "       'bxg6G', 'fiKDv'],\n",
       "      dtype='object', name='id')"
      ]
     },
     "execution_count": 15,
     "metadata": {},
     "output_type": "execute_result"
    }
   ],
   "source": [
    "# Найдем дублирующиеся индексы\n",
    "duplicate_indexes = geo_data.index[geo_data.index.duplicated()]\n",
    "duplicate_indexes"
   ]
  },
  {
   "cell_type": "code",
   "execution_count": 16,
   "metadata": {},
   "outputs": [
    {
     "data": {
      "text/plain": [
       "Index([], dtype='object', name='id')"
      ]
     },
     "execution_count": 16,
     "metadata": {},
     "output_type": "execute_result"
    }
   ],
   "source": [
    "# Добавляем порядковый номер к дублирующимся индексам\n",
    "for index in duplicate_indexes:\n",
    "    count = 1\n",
    "    for i in range(len(geo_data)):\n",
    "        if geo_data.index[i] == index:\n",
    "            geo_data.index.values[i] = index + str(count)\n",
    "            count += 1\n",
    "\n",
    "geo_data.index[geo_data.index.duplicated()]"
   ]
  },
  {
   "cell_type": "code",
   "execution_count": 17,
   "metadata": {},
   "outputs": [
    {
     "name": "stdout",
     "output_type": "stream",
     "text": [
      "<class 'pandas.core.frame.DataFrame'>\n",
      "Index: 100000 entries, 0022J to zzzvI\n",
      "Data columns (total 4 columns):\n",
      " #   Column   Non-Null Count   Dtype  \n",
      "---  ------   --------------   -----  \n",
      " 0   f0       100000 non-null  float64\n",
      " 1   f1       100000 non-null  float64\n",
      " 2   f2       100000 non-null  float64\n",
      " 3   product  100000 non-null  float64\n",
      "dtypes: float64(4)\n",
      "memory usage: 3.8+ MB\n"
     ]
    }
   ],
   "source": [
    "geo_data1.drop_duplicates(inplace=True)\n",
    "geo_data1.info()"
   ]
  },
  {
   "cell_type": "code",
   "execution_count": 18,
   "metadata": {},
   "outputs": [
    {
     "data": {
      "text/plain": [
       "Index(['5ltQ6', 'LHZR0', 'bfPNe', 'wt4Uk'], dtype='object', name='id')"
      ]
     },
     "execution_count": 18,
     "metadata": {},
     "output_type": "execute_result"
    }
   ],
   "source": [
    "duplicate_indexes1 = geo_data1.index[geo_data1.index.duplicated()]\n",
    "duplicate_indexes1"
   ]
  },
  {
   "cell_type": "code",
   "execution_count": 19,
   "metadata": {},
   "outputs": [
    {
     "data": {
      "text/plain": [
       "Index([], dtype='object', name='id')"
      ]
     },
     "execution_count": 19,
     "metadata": {},
     "output_type": "execute_result"
    }
   ],
   "source": [
    "for index in duplicate_indexes1:\n",
    "    count = 1\n",
    "    for i in range(len(geo_data1)):\n",
    "        if geo_data1.index[i] == index:\n",
    "            geo_data1.index.values[i] = index + str(count)\n",
    "            count += 1\n",
    "\n",
    "geo_data1.index[geo_data1.index.duplicated()]"
   ]
  },
  {
   "cell_type": "code",
   "execution_count": 20,
   "metadata": {},
   "outputs": [
    {
     "name": "stdout",
     "output_type": "stream",
     "text": [
      "<class 'pandas.core.frame.DataFrame'>\n",
      "Index: 100000 entries, 009Gl to zzz9h\n",
      "Data columns (total 4 columns):\n",
      " #   Column   Non-Null Count   Dtype  \n",
      "---  ------   --------------   -----  \n",
      " 0   f0       100000 non-null  float64\n",
      " 1   f1       100000 non-null  float64\n",
      " 2   f2       100000 non-null  float64\n",
      " 3   product  100000 non-null  float64\n",
      "dtypes: float64(4)\n",
      "memory usage: 3.8+ MB\n"
     ]
    }
   ],
   "source": [
    "geo_data2.drop_duplicates(inplace=True)\n",
    "geo_data2.info()"
   ]
  },
  {
   "cell_type": "code",
   "execution_count": 21,
   "metadata": {},
   "outputs": [
    {
     "data": {
      "text/plain": [
       "Index(['KUPhW', 'VF7Jo', 'Vcm5J', 'xCHr8'], dtype='object', name='id')"
      ]
     },
     "execution_count": 21,
     "metadata": {},
     "output_type": "execute_result"
    }
   ],
   "source": [
    "duplicate_indexes2 = geo_data2.index[geo_data2.index.duplicated()]\n",
    "duplicate_indexes2"
   ]
  },
  {
   "cell_type": "code",
   "execution_count": 22,
   "metadata": {},
   "outputs": [
    {
     "data": {
      "text/plain": [
       "Index([], dtype='object', name='id')"
      ]
     },
     "execution_count": 22,
     "metadata": {},
     "output_type": "execute_result"
    }
   ],
   "source": [
    "# Добавляем порядковый номер к дублирующимся индексам\n",
    "for index in duplicate_indexes2:\n",
    "    count = 1\n",
    "    for i in range(len(geo_data2)):\n",
    "        if geo_data2.index[i] == index:\n",
    "            geo_data2.index.values[i] = index + str(count)\n",
    "            count += 1\n",
    "\n",
    "geo_data2.index[geo_data2.index.duplicated()]"
   ]
  },
  {
   "cell_type": "markdown",
   "metadata": {},
   "source": [
    "<b>По результатам анализа и обработки данных:</b>\n",
    "- проверили дубликаты и пропуски,\n",
    "- проанализировали распределение признаков и корреляции между входными признаками для будущих моделей."
   ]
  },
  {
   "cell_type": "markdown",
   "metadata": {},
   "source": [
    "<div class=\"alert alert-block alert-success\">\n",
    "<b>Успех:</b> Данные загружены и осмотрены корректно. Радует, что данные были визуализированы!\n",
    "</div>"
   ]
  },
  {
   "cell_type": "markdown",
   "metadata": {},
   "source": [
    "## Обучение и проверка модели"
   ]
  },
  {
   "cell_type": "markdown",
   "metadata": {},
   "source": [
    "Обучим модель для каждого региона:\n",
    "- данные разобьем на обучающую и валидационную выборки в соотношении 75:25.\n",
    "- обучите модель линейной регрессии и сделаем предсказания на валидационной выборке.\n",
    "- сохраним предсказания и правильные ответы на валидационной выборке.\n",
    "- напечатаем на экране средний запас предсказанного сырья и RMSE модели."
   ]
  },
  {
   "cell_type": "code",
   "execution_count": 23,
   "metadata": {},
   "outputs": [],
   "source": [
    "dataframes = [geo_data, geo_data1, geo_data2]\n",
    "target = 'product'\n",
    "num_columns = ['f0', 'f1', 'f2']\n",
    "\n",
    "# пайплайны для обработки данных\n",
    "missing_values_pipe = Pipeline([\n",
    "    ('simpleImputer_missing', SimpleImputer(strategy='most_frequent'))\n",
    "])\n",
    "\n",
    "ohe_pipe = Pipeline([\n",
    "    ('missing_values', missing_values_pipe),\n",
    "    ('ohe', OneHotEncoder(drop='first', handle_unknown='ignore'))\n",
    "])\n",
    "\n",
    "\n",
    "data_preprocessor = ColumnTransformer([\n",
    "    ('num', Pipeline([('missing_values', missing_values_pipe), ('scaler', StandardScaler())]), num_columns)\n",
    "], remainder='passthrough')\n",
    "\n",
    "# пайплайн для модели\n",
    "pipe_final = Pipeline([\n",
    "    ('preprocessor', data_preprocessor),\n",
    "    ('model', LinearRegression())\n",
    "])\n",
    "\n",
    "param_grid_lr = {\n",
    "    'model__fit_intercept': [True, False],\n",
    "    'model__normalize': [True, False],\n",
    "    'model__copy_X': [True, False],\n",
    "    'model__positive': [True, False]\n",
    "}"
   ]
  },
  {
   "cell_type": "code",
   "execution_count": 24,
   "metadata": {},
   "outputs": [
    {
     "name": "stdout",
     "output_type": "stream",
     "text": [
      "* Регион 1 *\n",
      "Средний запас предсказанного сырья: 92.34\n",
      "RMSE: 37.75\n",
      "--------------------------------------------------\n",
      "* Регион 2 *\n",
      "Средний запас предсказанного сырья: 68.70\n",
      "RMSE: 0.89\n",
      "--------------------------------------------------\n",
      "* Регион 3 *\n",
      "Средний запас предсказанного сырья: 95.01\n",
      "RMSE: 40.08\n",
      "--------------------------------------------------\n"
     ]
    }
   ],
   "source": [
    "# Создаем список для хранения моделей и датафреймов с предсказаниями\n",
    "models_list = []\n",
    "dataframes_with_predictions = []\n",
    "\n",
    "# Цикл для обучения и проверки модели для каждого датафрейма\n",
    "for i, df in enumerate(dataframes):\n",
    "    print(f\"* Регион {i+1} *\")\n",
    "    \n",
    "    # Разделите данные на обучающую и валидационную выборки\n",
    "    X = df.drop(target, axis=1)\n",
    "    y = df[target]\n",
    "    X_train, X_valid, y_train, y_valid = train_test_split(X, y, test_size=0.25, random_state=42)\n",
    "    \n",
    "    # Обучение модели\n",
    "    model = LinearRegression()\n",
    "    model.fit(X_train, y_train)\n",
    "    \n",
    "    # Сохранение модели\n",
    "    models_list.append(model)\n",
    "    \n",
    "    # Предсказания на валидационной выборке\n",
    "    y_pred = model.predict(X_valid)\n",
    "    \n",
    "    # Сохранение предсказаний и правильных ответов в отдельный датафрейм\n",
    "    region_predictions = pd.DataFrame({\n",
    "        'true_value': y_valid,\n",
    "        'predicted_value': y_pred\n",
    "    })\n",
    "    \n",
    "    # Добавление датафрейма с предсказаниями и правильными ответами в список\n",
    "    dataframes_with_predictions.append(region_predictions)\n",
    "    \n",
    "    # Вывод на экран среднего запаса предсказанного сырья и RMSE модели\n",
    "    print(f\"Средний запас предсказанного сырья: {y_pred.mean():.2f}\")\n",
    "    print(f\"RMSE: {mean_squared_error(y_valid, y_pred, squared=False):.2f}\")    \n",
    "    print(\"-\" * 50)"
   ]
  },
  {
   "cell_type": "code",
   "execution_count": 25,
   "metadata": {},
   "outputs": [
    {
     "data": {
      "text/plain": [
       "[       true_value  predicted_value\n",
       " id                                \n",
       " kz06D   70.787822        89.912467\n",
       " nmARb   78.120803        78.870332\n",
       " CFf4y   91.914529        79.366452\n",
       " lbPfa   50.874167        90.235009\n",
       " viqqq   29.274970        58.324255\n",
       " ...           ...              ...\n",
       " D7FRV   57.225917        78.004614\n",
       " L1nLN   99.970187       110.653576\n",
       " oTy7k   32.224135        57.860580\n",
       " ekvm5  139.008774        88.476621\n",
       " 7B93G   59.209991        59.688020\n",
       " \n",
       " [25000 rows x 2 columns],\n",
       "        true_value  predicted_value\n",
       " id                                \n",
       " ksHYQ    3.179103         4.102905\n",
       " ngLE2  134.766305       136.002882\n",
       " CIj94   53.906522        53.526653\n",
       " lVc5R   57.085625        56.213575\n",
       " vfVtG    3.179103         2.498790\n",
       " ...           ...              ...\n",
       " DAgbN   30.132364        28.071428\n",
       " Ky4ay   57.085625        55.484537\n",
       " oQwFz   30.132364        29.101843\n",
       " eeopb   30.132364        29.928177\n",
       " 7FsJv    3.179103         2.673879\n",
       " \n",
       " [25000 rows x 2 columns],\n",
       "        true_value  predicted_value\n",
       " id                                \n",
       " kvoJ2  185.360737        83.551644\n",
       " nh6w7   49.425217        91.398152\n",
       " CDLub   61.529167        92.783284\n",
       " lWDr6   86.655388        97.219335\n",
       " veJ3P   89.684475        99.005446\n",
       " ...           ...              ...\n",
       " D5JwJ  142.842638        83.197012\n",
       " L2k95   78.124766        94.040535\n",
       " oQojH   55.220339       123.223004\n",
       " ehfnB   78.035196        62.758963\n",
       " 78GOx   64.396843        68.649510\n",
       " \n",
       " [25000 rows x 2 columns]]"
      ]
     },
     "execution_count": 25,
     "metadata": {},
     "output_type": "execute_result"
    }
   ],
   "source": [
    "dataframes_with_predictions"
   ]
  },
  {
   "cell_type": "markdown",
   "metadata": {},
   "source": [
    "<b>Построили модель и по результатам: </b>\n",
    "\n",
    "- Регион 1\n",
    "    - Средний запас предсказанного сырья: 92.34\n",
    "    - RMSE: 37.75\n",
    "- Регион 2\n",
    "    - Средний запас предсказанного сырья: 68.70\n",
    "    - RMSE: 0.89\n",
    "- Регион 3\n",
    "    - Средний запас предсказанного сырья: 95.01\n",
    "    - RMSE: 40.08\n",
    "\n",
    "Исходя из этих результатов, регион 2 выглядит наиболее перспективным для бурения новой скважины, так как модель для этого региона дает наиболее точные предсказания и показывает самый высокий средний предсказанный запас сырья."
   ]
  },
  {
   "cell_type": "markdown",
   "metadata": {},
   "source": [
    "<div class=\"alert alert-block alert-success\">\n",
    "<b>Успех:</b> Модели обучены корректно. Радует, что ты активно используешь циклы. Это помогает избежать дублирования кода, а значит уменьшает вероятность совершить ошибку/опечатку!\n",
    "</div>"
   ]
  },
  {
   "cell_type": "markdown",
   "metadata": {},
   "source": [
    "## Подготовка к расчёту прибыли"
   ]
  },
  {
   "cell_type": "markdown",
   "metadata": {},
   "source": [
    "- При разведке региона исследуют 500 точек, из которых с помощью машинного обучения выбирают 200 лучших для разработки.\n",
    "- Бюджет на разработку скважин в регионе — 10 млрд рублей.\n",
    "- При нынешних ценах один баррель сырья приносит 450 рублей дохода. \n",
    "- Доход с каждой единицы продукта составляет 450 тыс. рублей, поскольку объём указан в тысячах баррелей.\n",
    "- После оценки рисков нужно оставить лишь те регионы, в которых вероятность убытков меньше 2.5%. Среди них выбирают регион с наибольшей средней прибылью."
   ]
  },
  {
   "cell_type": "code",
   "execution_count": 26,
   "metadata": {},
   "outputs": [],
   "source": [
    "# Все ключевые значения для расчётов сохраним в отдельных переменных.\n",
    "\n",
    "WELLS_IN_REGION = 500  # Количество скважин в регионе для исследования\n",
    "WELLS_ML = 200  # Количество скважин в регионе для исследования после ML предсказаний\n",
    "BUDGET = 10000000  # Бюджет на разработку (в тыс руб)\n",
    "\n",
    "BARREL_PRICE = 450  # Доход с одного барреля (в рублях)\n",
    "PRODUCT_PROFIT = 450  # Доход с каждой единицы продукта (в тыс рублей)"
   ]
  },
  {
   "cell_type": "code",
   "execution_count": 27,
   "metadata": {},
   "outputs": [
    {
     "data": {
      "text/plain": [
       "111.11"
      ]
     },
     "execution_count": 27,
     "metadata": {},
     "output_type": "execute_result"
    }
   ],
   "source": [
    "# Рассчитываем достаточный объём сырья для безубыточной разработки новой скважины\n",
    "\n",
    "breakeven_reserve_well = BUDGET / PRODUCT_PROFIT / WELLS_ML\n",
    "round(breakeven_reserve_well, 2)"
   ]
  },
  {
   "cell_type": "markdown",
   "metadata": {},
   "source": [
    "<b> По результатам получили что: </b>\n",
    "- 44,44 тыс баррелей - объем сырья, необходимый для безубыточной разработки, \n",
    "- 92 тыс баррелей - средний объем сырья в регионе 1, \n",
    "- 68 тыс баррелей - средний объем сырья в регионе 2, \n",
    "- 95 тыс баррелей - средний объем сырья в регионе 3. "
   ]
  },
  {
   "cell_type": "markdown",
   "metadata": {},
   "source": [
    "<div class=\"alert alert-block alert-info\">\n",
    "\n",
    "<b>Совет: </b> В названиях константных переменных лучше использовать только БОЛЬШИЕ буквы. Это соглашение между программистами: https://pythonworld.ru/osnovy/pep-8-rukovodstvo-po-napisaniyu-koda-na-python.html#id29 .\n",
    "</div>\n",
    "\n",
    "<div class=\"alert alert-block alert-danger\">\n",
    "<b>Ошибка:</b> Точка безубыточности найдена некорректно, так как разрабатывается 200 скважин, а не 500.\n",
    "</div>"
   ]
  },
  {
   "cell_type": "markdown",
   "metadata": {},
   "source": [
    "<div class=\"alert alert-block alert-warning\">\n",
    "<b>Изменения:</b> Обновила названия констант и расчет точки безубыточности\n",
    "</div>"
   ]
  },
  {
   "cell_type": "markdown",
   "metadata": {},
   "source": [
    "<div class=\"alert alert-block alert-danger\">\n",
    "<b>Ошибка (ревью 2):</b> Я не вижу изменений.\n",
    "</div>"
   ]
  },
  {
   "cell_type": "markdown",
   "metadata": {},
   "source": [
    "<div class=\"alert alert-block alert-warning\">\n",
    "<b>Изменения2:</b> Обновила формулу\n",
    "</div>"
   ]
  },
  {
   "cell_type": "markdown",
   "metadata": {},
   "source": [
    "## Расчёт прибыли и рисков "
   ]
  },
  {
   "cell_type": "markdown",
   "metadata": {},
   "source": [
    "Функция для расчёта прибыли по выбранным скважинам и предсказаниям модели:\n",
    "- Выберем скважины с максимальными значениями предсказаний. \n",
    "- Просуммируем целевое значение объёма сырья, соответствующее этим предсказаниям.\n",
    "- Рассчитаем прибыль для полученного объёма сырья."
   ]
  },
  {
   "cell_type": "code",
   "execution_count": 28,
   "metadata": {},
   "outputs": [],
   "source": [
    "# Функция для выбора 200 лучших скважин и расчета прибыли\n",
    "def calculate_profit(true_values, predicted_values, top_wells=200):\n",
    "    # Создаем DataFrame из фактических и предсказанных значений\n",
    "    df = pd.DataFrame({'true_value': true_values, 'predicted_value': predicted_values})\n",
    "    \n",
    "    # Сортируем DataFrame по предсказанному объему по убыванию\n",
    "    df_sorted = df.sort_values(by='predicted_value', ascending=False)\n",
    "    \n",
    "    # Выбираем лучшие скважины по предсказанному объему\n",
    "    top_df = df_sorted.head(top_wells)\n",
    "    \n",
    "    # Считаем прибыль по фактическому объему выбранных скважин\n",
    "    profit = (top_df['true_value'].sum() * BARREL_PRICE - BUDGET) / 1000000  # делим на 1000000 чтобы получить результат в млрд руб\n",
    "    return profit"
   ]
  },
  {
   "cell_type": "markdown",
   "metadata": {},
   "source": [
    "Посчитаем риски и прибыль для каждого региона:\n",
    "- Применим технику Bootstrap с 1000 выборок, чтобы найти распределение прибыли.\n",
    "- Найдем среднюю прибыль, 95%-й доверительный интервал и риск убытков. Убыток — это отрицательная прибыль."
   ]
  },
  {
   "cell_type": "code",
   "execution_count": 29,
   "metadata": {},
   "outputs": [],
   "source": [
    "# Функция для bootstrap\n",
    "def bootstrap_analysis(true_values, predicted_values, n=500, iterations=1000):\n",
    "    state = np.random.RandomState(12345)\n",
    "    profits = []\n",
    "\n",
    "    for _ in range(iterations):\n",
    "        # Выбираем случайную выборку из 500 скважин\n",
    "        random_indices = state.choice(len(true_values), size=n, replace=True)\n",
    "        \n",
    "        # Выбираем фактические и предсказанные значения для выбранных скважин\n",
    "        sampled_true_values = true_values.iloc[random_indices]\n",
    "        sampled_predicted_values = predicted_values.iloc[random_indices]\n",
    "        \n",
    "        # Рассчитываем прибыль для этой выборки\n",
    "        profit_value = calculate_profit(sampled_true_values, sampled_predicted_values)\n",
    "        profits.append(profit_value)\n",
    "\n",
    "    profits = pd.Series(profits)\n",
    "\n",
    "    # Вычисляем среднюю прибыль\n",
    "    mean_profit = profits.mean()\n",
    "    \n",
    "    # Вычисляем 95% доверительный интервал\n",
    "    lower = profits.quantile(0.025)\n",
    "    upper = profits.quantile(0.975)\n",
    "    \n",
    "    # Вычисляем риск убытка\n",
    "    loss_probability = (profits < 0).mean()\n",
    "\n",
    "    print('Средняя прибыль в регионе равна: %.2f' % (mean_profit), 'млн. руб.')\n",
    "    print('95% доверительный интервал лежит в диапазоне: {:.2f}'.format(lower),\n",
    "          '- {:.2f}'.format(upper))\n",
    "    print('Вероятность убытка равна: {:.2%}'.format(loss_probability))"
   ]
  },
  {
   "cell_type": "code",
   "execution_count": 30,
   "metadata": {},
   "outputs": [
    {
     "name": "stdout",
     "output_type": "stream",
     "text": [
      "* Регион 1 *\n",
      "Средняя прибыль в регионе равна: 0.46 млн. руб.\n",
      "95% доверительный интервал лежит в диапазоне: -0.05 - 0.92\n",
      "Вероятность убытка равна: 3.70%\n",
      "--------------------------------------------------\n",
      "* Регион 2 *\n",
      "Средняя прибыль в регионе равна: 0.45 млн. руб.\n",
      "95% доверительный интервал лежит в диапазоне: 0.05 - 0.84\n",
      "Вероятность убытка равна: 1.50%\n",
      "--------------------------------------------------\n",
      "* Регион 3 *\n",
      "Средняя прибыль в регионе равна: 0.38 млн. руб.\n",
      "95% доверительный интервал лежит в диапазоне: -0.14 - 0.88\n",
      "Вероятность убытка равна: 7.20%\n",
      "--------------------------------------------------\n"
     ]
    }
   ],
   "source": [
    "# Проводим bootstrap для каждого региона\n",
    "for i, df in enumerate(dataframes_with_predictions):\n",
    "    print(f\"* Регион {i+1} *\")\n",
    "    true_values = df['true_value']\n",
    "    predicted_values = df['predicted_value']\n",
    "    bootstrap_analysis(true_values, predicted_values)\n",
    "    print(\"-\" * 50)"
   ]
  },
  {
   "cell_type": "markdown",
   "metadata": {},
   "source": [
    "<div class=\"alert alert-block alert-danger\">\n",
    "<b>Ошибка (ревью 2):</b> На каждой итерации бутстрапа нужно выбирать случайные 500 скважин из 25000, а не из 500.\n",
    "</div>"
   ]
  },
  {
   "cell_type": "markdown",
   "metadata": {},
   "source": [
    "<div class=\"alert alert-block alert-warning\">\n",
    "<b>Изменения2:</b> Обновила расчет\n",
    "</div>"
   ]
  },
  {
   "cell_type": "markdown",
   "metadata": {},
   "source": [
    "<div class=\"alert alert-block alert-success\">\n",
    "<b>Успех:</b> Отлично, что для подсчета доверительного интервала использовался именно метод квантилей!\n",
    "</div>\n",
    "\n",
    "\n",
    "<div class=\"alert alert-block alert-info\">\n",
    "\n",
    "<b>Совет: </b> Риск можно было найти чуть проще: `(values < 0).mean()`, если объект типа pandas Series или numpy array.\n",
    "</div>\n",
    "    \n",
    "<div class=\"alert alert-block alert-danger\">\n",
    "<b>Ошибка:</b> Этот шаг нужно будет переработать.\n",
    "    \n",
    "1. В предыдущих шагах было получено 25000 настоящих и предсказанных значений для каждого региона.\n",
    "2. Здесь нужно определить функцию, которая на вход будет принимать 500 настоящих и 500 предсказанных значений для каждого региона. Для выбора 200 лучших скважин нужно использовать предсказанные значения. А вот для подсчета прибыли должны использоваться настоящие значения соответствующих ячеек.\n",
    "3. В следующем шаге нужно семплить 500 случайных скважин и передавать их в функцию для подсчета прибыли.\n",
    "4. В результате у тебя получится 1000 значений прибыли для каждого региона. По нему нужно посчитать 3 статистики:\n",
    "    * Среднюю прибыль\n",
    "    * Интервал\n",
    "    * Риск убытков\n",
    "</div>"
   ]
  },
  {
   "cell_type": "markdown",
   "metadata": {},
   "source": [
    "<div class=\"alert alert-block alert-warning\">\n",
    "<b>Изменения:</b> Обновила расчет прибыли, bootstrap и расчет риска. И обновила вывод, тк лучший регион поменялся.\n",
    "</div>"
   ]
  },
  {
   "cell_type": "markdown",
   "metadata": {},
   "source": [
    "<b> По результатам анализа: </b>\n",
    "Наилучшим выбором для разработки скважин является регион 1. В этом регионе средняя прибыль выше, чем в других регионах, при этом вероятность убытков составляет 0.5%."
   ]
  },
  {
   "cell_type": "markdown",
   "metadata": {},
   "source": [
    "## Общий вывод\n",
    "\n",
    "В данной задаче мы провели анализ трёх регионов для определения наиболее перспективного места для бурения новой скважины с целью максимизации прибыли. \n",
    "\n",
    "1. Мы построили модели для предсказания объёма запасов нефти в новых скважинах в каждом из трёх регионов.\n",
    "2. Оценили качество моделей по среднему запасу предсказанного сырья и RMSE.\n",
    "3. Провели анализ возможной прибыли и рисков с использованием техники Bootstrap для каждого региона.\n",
    "4. На основе полученных результатов, рекомендуем разрабатывать скважины в регионе 1, так как в этом регионе средняя прибыль выше, чем в других регионах и риск убытков ниже.\n",
    "\n",
    "Таким образом, выбор региона для разработки новых скважин основан на анализе данных, построении моделей прогнозирования и оценке рисков. Рекомендация в пользу региона 1 обоснована его потенциально высокой прибылью."
   ]
  },
  {
   "cell_type": "markdown",
   "metadata": {},
   "source": [
    "## Чек-лист готовности проекта"
   ]
  },
  {
   "cell_type": "markdown",
   "metadata": {},
   "source": [
    "Поставьте 'x' в выполненных пунктах. Далее нажмите Shift+Enter."
   ]
  },
  {
   "cell_type": "markdown",
   "metadata": {},
   "source": [
    "- [x]  Jupyter Notebook открыт\n",
    "- [x]  Весь код выполняется без ошибок\n",
    "- [x]  Ячейки с кодом расположены в порядке исполнения\n",
    "- [x]  Выполнен шаг 1: данные подготовлены\n",
    "- [x]  Выполнен шаг 2: модели обучены и проверены\n",
    "    - [x]  Данные корректно разбиты на обучающую и валидационную выборки\n",
    "    - [x]  Модели обучены, предсказания сделаны\n",
    "    - [x]  Предсказания и правильные ответы на валидационной выборке сохранены\n",
    "    - [x]  На экране напечатаны результаты\n",
    "    - [x]  Сделаны выводы\n",
    "- [x]  Выполнен шаг 3: проведена подготовка к расчёту прибыли\n",
    "    - [x]  Для всех ключевых значений созданы константы Python\n",
    "    - [x]  Посчитано минимальное среднее количество продукта в месторождениях региона, достаточное для разработки\n",
    "    - [x]  По предыдущему пункту сделаны выводы\n",
    "    - [x]  Написана функция расчёта прибыли\n",
    "- [x]  Выполнен шаг 4: посчитаны риски и прибыль\n",
    "    - [x]  Проведена процедура *Bootstrap*\n",
    "    - [x]  Все параметры бутстрепа соответствуют условию\n",
    "    - [x]  Найдены все нужные величины\n",
    "    - [x]  Предложен регион для разработки месторождения\n",
    "    - [x]  Выбор региона обоснован"
   ]
  },
  {
   "cell_type": "code",
   "execution_count": null,
   "metadata": {},
   "outputs": [],
   "source": []
  }
 ],
 "metadata": {
  "ExecuteTimeLog": [
   {
    "duration": 26898,
    "start_time": "2024-06-27T05:54:42.169Z"
   },
   {
    "duration": 7270,
    "start_time": "2024-06-27T05:55:09.069Z"
   },
   {
    "duration": 4144,
    "start_time": "2024-06-27T05:55:47.027Z"
   },
   {
    "duration": 2914,
    "start_time": "2024-06-27T05:55:53.899Z"
   },
   {
    "duration": 3100,
    "start_time": "2024-06-27T05:56:12.968Z"
   },
   {
    "duration": 1572,
    "start_time": "2024-06-27T05:56:56.189Z"
   },
   {
    "duration": 13,
    "start_time": "2024-06-27T05:57:03.909Z"
   },
   {
    "duration": 11,
    "start_time": "2024-06-27T05:57:40.396Z"
   },
   {
    "duration": 9,
    "start_time": "2024-06-27T05:57:41.234Z"
   },
   {
    "duration": 9,
    "start_time": "2024-06-27T05:57:42.023Z"
   },
   {
    "duration": 10,
    "start_time": "2024-06-27T05:57:42.679Z"
   },
   {
    "duration": 11,
    "start_time": "2024-06-27T05:57:43.377Z"
   },
   {
    "duration": 227,
    "start_time": "2024-06-27T05:57:44.006Z"
   },
   {
    "duration": 6970,
    "start_time": "2024-06-27T05:58:00.385Z"
   },
   {
    "duration": 6705,
    "start_time": "2024-06-27T05:58:17.504Z"
   },
   {
    "duration": 6328,
    "start_time": "2024-06-27T05:58:33.844Z"
   },
   {
    "duration": 6683,
    "start_time": "2024-06-27T05:58:46.527Z"
   },
   {
    "duration": 830,
    "start_time": "2024-06-27T10:59:48.436Z"
   },
   {
    "duration": 28911,
    "start_time": "2024-06-27T10:59:56.819Z"
   },
   {
    "duration": 8271,
    "start_time": "2024-06-27T11:00:25.733Z"
   },
   {
    "duration": 2879,
    "start_time": "2024-06-27T11:00:53.512Z"
   },
   {
    "duration": 3050,
    "start_time": "2024-06-27T11:01:04.850Z"
   },
   {
    "duration": 8729,
    "start_time": "2024-06-27T11:01:22.424Z"
   },
   {
    "duration": 2047,
    "start_time": "2024-06-27T11:01:44.804Z"
   },
   {
    "duration": 5600,
    "start_time": "2024-06-27T11:02:04.180Z"
   },
   {
    "duration": 29,
    "start_time": "2024-06-27T11:02:11.570Z"
   },
   {
    "duration": 11145,
    "start_time": "2024-06-27T11:02:46.493Z"
   },
   {
    "duration": 29,
    "start_time": "2024-06-27T11:02:59.796Z"
   },
   {
    "duration": 21,
    "start_time": "2024-06-27T11:03:46.135Z"
   },
   {
    "duration": 5797,
    "start_time": "2024-06-27T11:04:32.462Z"
   },
   {
    "duration": 26,
    "start_time": "2024-06-27T11:04:40.828Z"
   },
   {
    "duration": 13950,
    "start_time": "2024-06-27T11:05:19.243Z"
   },
   {
    "duration": 1315,
    "start_time": "2024-06-27T11:06:15.263Z"
   },
   {
    "duration": 2061,
    "start_time": "2024-06-27T11:06:22.392Z"
   },
   {
    "duration": 5419,
    "start_time": "2024-06-27T11:06:41.686Z"
   },
   {
    "duration": 11555,
    "start_time": "2024-06-27T11:06:52.359Z"
   },
   {
    "duration": 5529,
    "start_time": "2024-06-27T11:07:26.655Z"
   },
   {
    "duration": 11215,
    "start_time": "2024-06-27T11:07:48.643Z"
   },
   {
    "duration": 3434,
    "start_time": "2024-06-27T11:08:04.747Z"
   },
   {
    "duration": 882,
    "start_time": "2024-06-27T11:08:09.941Z"
   },
   {
    "duration": 2782,
    "start_time": "2024-06-27T11:09:00.716Z"
   },
   {
    "duration": 1761,
    "start_time": "2024-06-27T11:09:07.733Z"
   },
   {
    "duration": 6728,
    "start_time": "2024-06-27T11:09:42.134Z"
   },
   {
    "duration": 26,
    "start_time": "2024-06-27T11:09:53.809Z"
   },
   {
    "duration": 2990,
    "start_time": "2024-06-27T11:10:13.969Z"
   },
   {
    "duration": 1781,
    "start_time": "2024-06-27T11:10:35.731Z"
   },
   {
    "duration": 15,
    "start_time": "2024-06-27T11:10:39.074Z"
   },
   {
    "duration": 11,
    "start_time": "2024-06-27T11:10:39.889Z"
   },
   {
    "duration": 11,
    "start_time": "2024-06-27T11:10:40.505Z"
   },
   {
    "duration": 9,
    "start_time": "2024-06-27T11:10:41.212Z"
   },
   {
    "duration": 10,
    "start_time": "2024-06-27T11:10:41.788Z"
   },
   {
    "duration": 10,
    "start_time": "2024-06-27T11:10:42.513Z"
   },
   {
    "duration": 305,
    "start_time": "2024-06-27T11:10:43.803Z"
   },
   {
    "duration": 1333,
    "start_time": "2024-06-27T11:11:01.752Z"
   },
   {
    "duration": 67,
    "start_time": "2024-06-27T11:11:13.645Z"
   },
   {
    "duration": 7,
    "start_time": "2024-06-27T11:11:27.391Z"
   },
   {
    "duration": 55,
    "start_time": "2024-06-27T11:11:51.178Z"
   },
   {
    "duration": 35,
    "start_time": "2024-06-27T11:14:39.969Z"
   },
   {
    "duration": 25,
    "start_time": "2024-06-27T11:14:47.485Z"
   },
   {
    "duration": 87,
    "start_time": "2024-06-27T11:15:30.009Z"
   },
   {
    "duration": 25,
    "start_time": "2024-06-27T11:15:55.383Z"
   },
   {
    "duration": 55,
    "start_time": "2024-06-27T11:17:10.270Z"
   },
   {
    "duration": 52,
    "start_time": "2024-06-27T11:17:21.810Z"
   },
   {
    "duration": 55,
    "start_time": "2024-06-27T11:17:29.119Z"
   },
   {
    "duration": 768,
    "start_time": "2024-07-02T05:44:16.712Z"
   },
   {
    "duration": 28783,
    "start_time": "2024-07-02T05:44:22.302Z"
   },
   {
    "duration": 1020,
    "start_time": "2024-07-02T05:45:00.671Z"
   },
   {
    "duration": 2040,
    "start_time": "2024-07-02T05:45:36.965Z"
   },
   {
    "duration": 86148,
    "start_time": "2024-07-02T05:45:49.935Z"
   },
   {
    "duration": 2642,
    "start_time": "2024-07-02T05:47:20.538Z"
   },
   {
    "duration": 21,
    "start_time": "2024-07-02T05:47:24.808Z"
   },
   {
    "duration": 2630,
    "start_time": "2024-07-02T05:47:43.678Z"
   },
   {
    "duration": 2213,
    "start_time": "2024-07-02T05:47:58.448Z"
   },
   {
    "duration": 3079,
    "start_time": "2024-07-02T05:48:58.831Z"
   },
   {
    "duration": 2056,
    "start_time": "2024-07-02T05:49:16.633Z"
   },
   {
    "duration": 3226,
    "start_time": "2024-07-02T05:49:39.810Z"
   },
   {
    "duration": 28,
    "start_time": "2024-07-02T05:49:46.719Z"
   },
   {
    "duration": 3175,
    "start_time": "2024-07-02T05:50:22.162Z"
   },
   {
    "duration": 39,
    "start_time": "2024-07-02T05:50:28.985Z"
   },
   {
    "duration": 2161,
    "start_time": "2024-07-02T05:50:42.070Z"
   },
   {
    "duration": 7789,
    "start_time": "2024-07-02T05:51:23.383Z"
   },
   {
    "duration": 32,
    "start_time": "2024-07-02T05:51:33.285Z"
   },
   {
    "duration": 2480,
    "start_time": "2024-07-02T05:51:47.962Z"
   },
   {
    "duration": 600,
    "start_time": "2024-07-02T05:52:03.237Z"
   },
   {
    "duration": 13,
    "start_time": "2024-07-02T05:52:05.679Z"
   },
   {
    "duration": 9,
    "start_time": "2024-07-02T05:52:06.275Z"
   },
   {
    "duration": 13,
    "start_time": "2024-07-02T05:52:06.916Z"
   },
   {
    "duration": 7,
    "start_time": "2024-07-02T05:52:07.449Z"
   },
   {
    "duration": 9,
    "start_time": "2024-07-02T05:52:07.970Z"
   },
   {
    "duration": 7,
    "start_time": "2024-07-02T05:52:08.792Z"
   },
   {
    "duration": 231,
    "start_time": "2024-07-02T05:52:09.056Z"
   },
   {
    "duration": 6003,
    "start_time": "2024-07-02T05:52:10.938Z"
   },
   {
    "duration": 61,
    "start_time": "2024-07-02T05:52:16.942Z"
   },
   {
    "duration": 38,
    "start_time": "2024-07-02T05:52:17.004Z"
   },
   {
    "duration": 45,
    "start_time": "2024-07-02T05:52:17.044Z"
   },
   {
    "duration": 17,
    "start_time": "2024-07-02T05:54:34.705Z"
   },
   {
    "duration": 15,
    "start_time": "2024-07-02T05:54:41.296Z"
   },
   {
    "duration": 20,
    "start_time": "2024-07-02T05:54:58.100Z"
   },
   {
    "duration": 19,
    "start_time": "2024-07-02T05:55:11.795Z"
   },
   {
    "duration": 186,
    "start_time": "2024-07-02T05:56:22.211Z"
   },
   {
    "duration": 16,
    "start_time": "2024-07-02T05:57:21.650Z"
   },
   {
    "duration": 16,
    "start_time": "2024-07-02T05:57:32.111Z"
   },
   {
    "duration": 690,
    "start_time": "2024-07-02T05:59:13.855Z"
   },
   {
    "duration": 297,
    "start_time": "2024-07-02T05:59:44.443Z"
   },
   {
    "duration": 300,
    "start_time": "2024-07-02T06:00:10.833Z"
   },
   {
    "duration": 374,
    "start_time": "2024-07-02T06:00:21.112Z"
   },
   {
    "duration": 31747,
    "start_time": "2024-07-03T17:51:56.320Z"
   },
   {
    "duration": 2888,
    "start_time": "2024-07-03T17:52:31.645Z"
   },
   {
    "duration": 633,
    "start_time": "2024-07-03T17:52:43.578Z"
   },
   {
    "duration": 14,
    "start_time": "2024-07-03T17:52:45.711Z"
   },
   {
    "duration": 10,
    "start_time": "2024-07-03T17:52:52.180Z"
   },
   {
    "duration": 10,
    "start_time": "2024-07-03T17:52:53.040Z"
   },
   {
    "duration": 10,
    "start_time": "2024-07-03T17:52:53.635Z"
   },
   {
    "duration": 9,
    "start_time": "2024-07-03T17:52:54.236Z"
   },
   {
    "duration": 10,
    "start_time": "2024-07-03T17:52:54.796Z"
   },
   {
    "duration": 239,
    "start_time": "2024-07-03T17:52:55.344Z"
   },
   {
    "duration": 6722,
    "start_time": "2024-07-03T17:52:56.865Z"
   },
   {
    "duration": 6803,
    "start_time": "2024-07-03T17:53:03.589Z"
   },
   {
    "duration": 7082,
    "start_time": "2024-07-03T17:53:10.394Z"
   },
   {
    "duration": 82,
    "start_time": "2024-07-03T17:53:17.479Z"
   },
   {
    "duration": 63,
    "start_time": "2024-07-03T17:53:17.563Z"
   },
   {
    "duration": 844,
    "start_time": "2024-07-03T17:53:17.628Z"
   },
   {
    "duration": 46,
    "start_time": "2024-07-03T17:53:18.474Z"
   },
   {
    "duration": 21,
    "start_time": "2024-07-03T17:53:18.522Z"
   },
   {
    "duration": 351,
    "start_time": "2024-07-03T17:53:18.545Z"
   },
   {
    "duration": 54,
    "start_time": "2024-07-03T17:53:18.898Z"
   },
   {
    "duration": 20,
    "start_time": "2024-07-03T17:53:18.953Z"
   },
   {
    "duration": 355,
    "start_time": "2024-07-03T17:53:18.975Z"
   },
   {
    "duration": 3,
    "start_time": "2024-07-03T17:55:04.664Z"
   },
   {
    "duration": 229,
    "start_time": "2024-07-03T17:55:05.671Z"
   },
   {
    "duration": 1025,
    "start_time": "2024-07-03T17:57:39.926Z"
   },
   {
    "duration": 88803,
    "start_time": "2024-07-03T17:58:53.457Z"
   },
   {
    "duration": 3,
    "start_time": "2024-07-03T18:06:29.108Z"
   },
   {
    "duration": 3,
    "start_time": "2024-07-03T18:06:39.096Z"
   },
   {
    "duration": 4,
    "start_time": "2024-07-03T18:07:12.558Z"
   },
   {
    "duration": 4,
    "start_time": "2024-07-03T18:11:00.959Z"
   },
   {
    "duration": 179,
    "start_time": "2024-07-03T18:11:06.236Z"
   },
   {
    "duration": 39,
    "start_time": "2024-07-03T18:11:07.597Z"
   },
   {
    "duration": 95,
    "start_time": "2024-07-03T18:11:08.721Z"
   },
   {
    "duration": 2,
    "start_time": "2024-07-03T18:13:28.878Z"
   },
   {
    "duration": 3,
    "start_time": "2024-07-03T18:13:29.527Z"
   },
   {
    "duration": 3,
    "start_time": "2024-07-03T18:16:29.653Z"
   },
   {
    "duration": 15,
    "start_time": "2024-07-03T18:16:30.714Z"
   },
   {
    "duration": 14,
    "start_time": "2024-07-03T18:16:50.914Z"
   },
   {
    "duration": 5,
    "start_time": "2024-07-03T18:17:02.509Z"
   },
   {
    "duration": 14,
    "start_time": "2024-07-03T18:17:06.036Z"
   },
   {
    "duration": 62,
    "start_time": "2024-07-03T18:19:06.693Z"
   },
   {
    "duration": 72,
    "start_time": "2024-07-03T18:19:22.257Z"
   },
   {
    "duration": 4,
    "start_time": "2024-07-03T18:19:43.017Z"
   },
   {
    "duration": 89,
    "start_time": "2024-07-03T18:19:45.724Z"
   },
   {
    "duration": 64,
    "start_time": "2024-07-03T18:19:46.649Z"
   },
   {
    "duration": 49,
    "start_time": "2024-07-03T18:19:47.865Z"
   },
   {
    "duration": 3,
    "start_time": "2024-07-03T18:19:51.566Z"
   },
   {
    "duration": 3,
    "start_time": "2024-07-03T18:19:52.143Z"
   },
   {
    "duration": 3,
    "start_time": "2024-07-03T18:19:54.004Z"
   },
   {
    "duration": 15,
    "start_time": "2024-07-03T18:19:54.729Z"
   },
   {
    "duration": 20,
    "start_time": "2024-07-03T18:21:32.882Z"
   },
   {
    "duration": 3,
    "start_time": "2024-07-03T18:21:56.684Z"
   },
   {
    "duration": 23,
    "start_time": "2024-07-03T18:21:58.058Z"
   },
   {
    "duration": 24,
    "start_time": "2024-07-03T18:21:59.012Z"
   },
   {
    "duration": 26,
    "start_time": "2024-07-03T18:21:59.860Z"
   },
   {
    "duration": 16,
    "start_time": "2024-07-03T18:28:54.032Z"
   },
   {
    "duration": 31,
    "start_time": "2024-07-03T18:29:05.784Z"
   },
   {
    "duration": 3500,
    "start_time": "2024-07-03T18:32:23.436Z"
   },
   {
    "duration": 5,
    "start_time": "2024-07-03T18:33:33.511Z"
   },
   {
    "duration": 30,
    "start_time": "2024-07-03T18:33:40.994Z"
   },
   {
    "duration": 3431,
    "start_time": "2024-07-03T18:34:43.103Z"
   },
   {
    "duration": 5,
    "start_time": "2024-07-03T18:35:07.930Z"
   },
   {
    "duration": 48493,
    "start_time": "2024-07-03T18:35:10.753Z"
   },
   {
    "duration": 14,
    "start_time": "2024-07-03T18:36:26.411Z"
   },
   {
    "duration": 5,
    "start_time": "2024-07-03T18:37:16.217Z"
   },
   {
    "duration": 48468,
    "start_time": "2024-07-03T18:37:39.679Z"
   },
   {
    "duration": 2673,
    "start_time": "2024-07-03T18:55:20.205Z"
   },
   {
    "duration": 397,
    "start_time": "2024-07-03T18:55:26.283Z"
   },
   {
    "duration": 18,
    "start_time": "2024-07-03T18:55:27.170Z"
   },
   {
    "duration": 10,
    "start_time": "2024-07-03T18:55:27.694Z"
   },
   {
    "duration": 9,
    "start_time": "2024-07-03T18:55:28.136Z"
   },
   {
    "duration": 12,
    "start_time": "2024-07-03T18:55:28.934Z"
   },
   {
    "duration": 9,
    "start_time": "2024-07-03T18:55:29.160Z"
   },
   {
    "duration": 9,
    "start_time": "2024-07-03T18:55:29.726Z"
   },
   {
    "duration": 241,
    "start_time": "2024-07-03T18:55:30.296Z"
   },
   {
    "duration": 47,
    "start_time": "2024-07-03T18:55:34.225Z"
   },
   {
    "duration": 22,
    "start_time": "2024-07-03T18:55:34.753Z"
   },
   {
    "duration": 841,
    "start_time": "2024-07-03T18:55:35.172Z"
   },
   {
    "duration": 40,
    "start_time": "2024-07-03T18:55:36.015Z"
   },
   {
    "duration": 21,
    "start_time": "2024-07-03T18:55:36.742Z"
   },
   {
    "duration": 342,
    "start_time": "2024-07-03T18:55:37.486Z"
   },
   {
    "duration": 47,
    "start_time": "2024-07-03T18:55:38.442Z"
   },
   {
    "duration": 21,
    "start_time": "2024-07-03T18:55:38.913Z"
   },
   {
    "duration": 323,
    "start_time": "2024-07-03T18:55:39.928Z"
   },
   {
    "duration": 3,
    "start_time": "2024-07-03T18:55:42.898Z"
   },
   {
    "duration": 6,
    "start_time": "2024-07-03T18:55:43.945Z"
   },
   {
    "duration": 99,
    "start_time": "2024-07-03T18:56:34.413Z"
   },
   {
    "duration": 0,
    "start_time": "2024-07-03T18:56:34.514Z"
   },
   {
    "duration": 0,
    "start_time": "2024-07-03T18:56:34.515Z"
   },
   {
    "duration": 0,
    "start_time": "2024-07-03T18:56:34.516Z"
   },
   {
    "duration": 0,
    "start_time": "2024-07-03T18:56:34.517Z"
   },
   {
    "duration": 48506,
    "start_time": "2024-07-03T18:57:40.234Z"
   },
   {
    "duration": 2,
    "start_time": "2024-07-03T18:59:06.235Z"
   },
   {
    "duration": 3,
    "start_time": "2024-07-03T18:59:07.015Z"
   },
   {
    "duration": 3,
    "start_time": "2024-07-03T18:59:09.083Z"
   },
   {
    "duration": 212,
    "start_time": "2024-07-03T18:59:09.784Z"
   },
   {
    "duration": 16119,
    "start_time": "2024-07-03T19:01:54.196Z"
   },
   {
    "duration": 2909,
    "start_time": "2024-07-03T19:02:51.365Z"
   },
   {
    "duration": 4,
    "start_time": "2024-07-03T19:04:17.908Z"
   },
   {
    "duration": 48,
    "start_time": "2024-07-03T19:04:22.622Z"
   },
   {
    "duration": 44,
    "start_time": "2024-07-03T19:05:10.886Z"
   },
   {
    "duration": 5,
    "start_time": "2024-07-03T19:05:25.236Z"
   },
   {
    "duration": 5,
    "start_time": "2024-07-03T19:05:34.083Z"
   },
   {
    "duration": 16175,
    "start_time": "2024-07-03T19:05:35.542Z"
   },
   {
    "duration": 48545,
    "start_time": "2024-07-03T19:06:07.068Z"
   },
   {
    "duration": 98,
    "start_time": "2024-07-03T19:06:55.615Z"
   },
   {
    "duration": 8588,
    "start_time": "2024-07-03T19:12:59.565Z"
   },
   {
    "duration": 54,
    "start_time": "2024-07-03T19:13:47.582Z"
   },
   {
    "duration": 45,
    "start_time": "2024-07-03T19:18:55.128Z"
   },
   {
    "duration": 988,
    "start_time": "2024-07-03T19:20:04.630Z"
   },
   {
    "duration": 15,
    "start_time": "2024-07-03T19:20:55.019Z"
   },
   {
    "duration": 44,
    "start_time": "2024-07-03T19:21:14.990Z"
   },
   {
    "duration": 5,
    "start_time": "2024-07-03T19:21:46.682Z"
   },
   {
    "duration": 371,
    "start_time": "2024-07-03T19:21:49.154Z"
   },
   {
    "duration": 3,
    "start_time": "2024-07-03T19:22:05.481Z"
   },
   {
    "duration": 3,
    "start_time": "2024-07-03T19:22:06.366Z"
   },
   {
    "duration": 3,
    "start_time": "2024-07-03T19:23:16.138Z"
   },
   {
    "duration": 11,
    "start_time": "2024-07-03T19:23:16.997Z"
   },
   {
    "duration": 7,
    "start_time": "2024-07-03T19:25:20.315Z"
   },
   {
    "duration": 5,
    "start_time": "2024-07-03T19:25:59.053Z"
   },
   {
    "duration": 429,
    "start_time": "2024-07-03T19:28:07.394Z"
   },
   {
    "duration": 71,
    "start_time": "2024-07-03T19:28:43.064Z"
   },
   {
    "duration": 16,
    "start_time": "2024-07-03T19:28:49.807Z"
   },
   {
    "duration": 2,
    "start_time": "2024-07-03T19:29:01.724Z"
   },
   {
    "duration": 2,
    "start_time": "2024-07-03T19:29:04.570Z"
   },
   {
    "duration": 19,
    "start_time": "2024-07-03T19:29:05.817Z"
   },
   {
    "duration": 5,
    "start_time": "2024-07-03T19:29:28.589Z"
   },
   {
    "duration": 3,
    "start_time": "2024-07-03T19:29:39.054Z"
   },
   {
    "duration": 3,
    "start_time": "2024-07-03T19:30:23.334Z"
   },
   {
    "duration": 6,
    "start_time": "2024-07-03T19:31:40.057Z"
   },
   {
    "duration": 11,
    "start_time": "2024-07-03T19:33:12.127Z"
   },
   {
    "duration": 3,
    "start_time": "2024-07-03T19:34:02.518Z"
   },
   {
    "duration": 6,
    "start_time": "2024-07-03T19:34:03.819Z"
   },
   {
    "duration": 4,
    "start_time": "2024-07-03T19:34:29.906Z"
   },
   {
    "duration": 3,
    "start_time": "2024-07-03T19:34:51.225Z"
   },
   {
    "duration": 6,
    "start_time": "2024-07-03T19:35:01.576Z"
   },
   {
    "duration": 4,
    "start_time": "2024-07-03T19:35:10.584Z"
   },
   {
    "duration": 5,
    "start_time": "2024-07-03T19:35:18.324Z"
   },
   {
    "duration": 8,
    "start_time": "2024-07-03T19:35:30.076Z"
   },
   {
    "duration": 4,
    "start_time": "2024-07-03T19:36:01.592Z"
   },
   {
    "duration": 5,
    "start_time": "2024-07-03T19:38:03.617Z"
   },
   {
    "duration": 11,
    "start_time": "2024-07-03T19:38:13.965Z"
   },
   {
    "duration": 4,
    "start_time": "2024-07-03T19:42:16.959Z"
   },
   {
    "duration": 2926,
    "start_time": "2024-07-03T19:42:51.617Z"
   },
   {
    "duration": 2631,
    "start_time": "2024-07-03T19:42:54.545Z"
   },
   {
    "duration": 406,
    "start_time": "2024-07-03T19:42:57.178Z"
   },
   {
    "duration": 15,
    "start_time": "2024-07-03T19:42:57.585Z"
   },
   {
    "duration": 17,
    "start_time": "2024-07-03T19:42:57.602Z"
   },
   {
    "duration": 9,
    "start_time": "2024-07-03T19:42:57.620Z"
   },
   {
    "duration": 16,
    "start_time": "2024-07-03T19:42:57.631Z"
   },
   {
    "duration": 12,
    "start_time": "2024-07-03T19:42:57.648Z"
   },
   {
    "duration": 8,
    "start_time": "2024-07-03T19:42:57.662Z"
   },
   {
    "duration": 255,
    "start_time": "2024-07-03T19:42:57.672Z"
   },
   {
    "duration": 7162,
    "start_time": "2024-07-03T19:42:57.929Z"
   },
   {
    "duration": 7027,
    "start_time": "2024-07-03T19:43:05.092Z"
   },
   {
    "duration": 6820,
    "start_time": "2024-07-03T19:43:12.121Z"
   },
   {
    "duration": 82,
    "start_time": "2024-07-03T19:43:18.943Z"
   },
   {
    "duration": 21,
    "start_time": "2024-07-03T19:43:19.026Z"
   },
   {
    "duration": 959,
    "start_time": "2024-07-03T19:43:19.049Z"
   },
   {
    "duration": 44,
    "start_time": "2024-07-03T19:43:20.012Z"
   },
   {
    "duration": 19,
    "start_time": "2024-07-03T19:43:20.058Z"
   },
   {
    "duration": 385,
    "start_time": "2024-07-03T19:43:20.079Z"
   },
   {
    "duration": 53,
    "start_time": "2024-07-03T19:43:20.465Z"
   },
   {
    "duration": 20,
    "start_time": "2024-07-03T19:43:20.520Z"
   },
   {
    "duration": 403,
    "start_time": "2024-07-03T19:43:20.542Z"
   },
   {
    "duration": 218,
    "start_time": "2024-07-03T19:43:20.947Z"
   },
   {
    "duration": 0,
    "start_time": "2024-07-03T19:43:21.166Z"
   },
   {
    "duration": 0,
    "start_time": "2024-07-03T19:43:21.167Z"
   },
   {
    "duration": 0,
    "start_time": "2024-07-03T19:43:21.168Z"
   },
   {
    "duration": 4,
    "start_time": "2024-07-03T19:44:01.748Z"
   },
   {
    "duration": 470,
    "start_time": "2024-07-03T19:44:10.148Z"
   },
   {
    "duration": 12,
    "start_time": "2024-07-03T19:44:13.324Z"
   },
   {
    "duration": 38677,
    "start_time": "2024-07-04T05:31:52.689Z"
   },
   {
    "duration": 3317,
    "start_time": "2024-07-04T05:32:31.368Z"
   },
   {
    "duration": 743,
    "start_time": "2024-07-04T05:32:34.687Z"
   },
   {
    "duration": 18,
    "start_time": "2024-07-04T05:32:35.432Z"
   },
   {
    "duration": 14,
    "start_time": "2024-07-04T05:32:35.452Z"
   },
   {
    "duration": 11,
    "start_time": "2024-07-04T05:32:35.467Z"
   },
   {
    "duration": 12,
    "start_time": "2024-07-04T05:32:35.480Z"
   },
   {
    "duration": 20,
    "start_time": "2024-07-04T05:32:35.494Z"
   },
   {
    "duration": 34,
    "start_time": "2024-07-04T05:32:35.515Z"
   },
   {
    "duration": 329,
    "start_time": "2024-07-04T05:32:35.551Z"
   },
   {
    "duration": 8016,
    "start_time": "2024-07-04T05:32:35.881Z"
   },
   {
    "duration": 7984,
    "start_time": "2024-07-04T05:32:43.899Z"
   },
   {
    "duration": 7844,
    "start_time": "2024-07-04T05:32:51.885Z"
   },
   {
    "duration": 78,
    "start_time": "2024-07-04T05:32:59.731Z"
   },
   {
    "duration": 57,
    "start_time": "2024-07-04T05:32:59.811Z"
   },
   {
    "duration": 907,
    "start_time": "2024-07-04T05:32:59.870Z"
   },
   {
    "duration": 49,
    "start_time": "2024-07-04T05:33:00.779Z"
   },
   {
    "duration": 48,
    "start_time": "2024-07-04T05:33:00.830Z"
   },
   {
    "duration": 379,
    "start_time": "2024-07-04T05:33:00.879Z"
   },
   {
    "duration": 59,
    "start_time": "2024-07-04T05:33:01.260Z"
   },
   {
    "duration": 45,
    "start_time": "2024-07-04T05:33:01.321Z"
   },
   {
    "duration": 445,
    "start_time": "2024-07-04T05:33:01.368Z"
   },
   {
    "duration": 6,
    "start_time": "2024-07-04T05:33:01.815Z"
   },
   {
    "duration": 545,
    "start_time": "2024-07-04T05:33:01.822Z"
   },
   {
    "duration": 97,
    "start_time": "2024-07-04T05:33:02.375Z"
   },
   {
    "duration": 14,
    "start_time": "2024-07-04T05:33:02.474Z"
   },
   {
    "duration": 3,
    "start_time": "2024-07-04T05:41:34.656Z"
   },
   {
    "duration": 3,
    "start_time": "2024-07-04T05:42:16.594Z"
   },
   {
    "duration": 3,
    "start_time": "2024-07-04T05:42:26.410Z"
   },
   {
    "duration": 5,
    "start_time": "2024-07-04T05:42:37.813Z"
   },
   {
    "duration": 4,
    "start_time": "2024-07-04T05:42:44.657Z"
   },
   {
    "duration": 4,
    "start_time": "2024-07-04T05:42:58.397Z"
   },
   {
    "duration": 5,
    "start_time": "2024-07-04T05:43:07.090Z"
   },
   {
    "duration": 4,
    "start_time": "2024-07-04T05:43:13.826Z"
   },
   {
    "duration": 6,
    "start_time": "2024-07-04T05:43:18.547Z"
   },
   {
    "duration": 212,
    "start_time": "2024-07-04T05:43:27.376Z"
   },
   {
    "duration": 7,
    "start_time": "2024-07-04T05:43:38.120Z"
   },
   {
    "duration": 15,
    "start_time": "2024-07-04T06:00:12.140Z"
   },
   {
    "duration": 3,
    "start_time": "2024-07-04T06:00:15.304Z"
   },
   {
    "duration": 4,
    "start_time": "2024-07-04T06:00:16.621Z"
   },
   {
    "duration": 3,
    "start_time": "2024-07-04T06:01:30.596Z"
   },
   {
    "duration": 5,
    "start_time": "2024-07-04T06:01:35.694Z"
   },
   {
    "duration": 3,
    "start_time": "2024-07-04T06:01:58.783Z"
   },
   {
    "duration": 73,
    "start_time": "2024-07-04T06:02:23.204Z"
   },
   {
    "duration": 68,
    "start_time": "2024-07-04T06:02:32.749Z"
   },
   {
    "duration": 5,
    "start_time": "2024-07-04T06:02:54.229Z"
   },
   {
    "duration": 4,
    "start_time": "2024-07-04T06:03:06.448Z"
   },
   {
    "duration": 4,
    "start_time": "2024-07-04T06:03:17.084Z"
   },
   {
    "duration": 5,
    "start_time": "2024-07-04T06:06:32.927Z"
   },
   {
    "duration": 4,
    "start_time": "2024-07-04T06:09:02.216Z"
   },
   {
    "duration": 35127,
    "start_time": "2024-07-04T18:50:33.730Z"
   },
   {
    "duration": 3292,
    "start_time": "2024-07-04T18:51:08.860Z"
   },
   {
    "duration": 713,
    "start_time": "2024-07-04T18:51:12.154Z"
   },
   {
    "duration": 17,
    "start_time": "2024-07-04T18:51:12.869Z"
   },
   {
    "duration": 10,
    "start_time": "2024-07-04T18:51:12.889Z"
   },
   {
    "duration": 11,
    "start_time": "2024-07-04T18:51:12.901Z"
   },
   {
    "duration": 19,
    "start_time": "2024-07-04T18:51:12.914Z"
   },
   {
    "duration": 27,
    "start_time": "2024-07-04T18:51:12.935Z"
   },
   {
    "duration": 103,
    "start_time": "2024-07-04T18:51:12.964Z"
   },
   {
    "duration": 312,
    "start_time": "2024-07-04T18:51:13.069Z"
   },
   {
    "duration": 7633,
    "start_time": "2024-07-04T18:51:13.383Z"
   },
   {
    "duration": 7656,
    "start_time": "2024-07-04T18:51:21.018Z"
   },
   {
    "duration": 7827,
    "start_time": "2024-07-04T18:51:28.676Z"
   },
   {
    "duration": 85,
    "start_time": "2024-07-04T18:51:36.505Z"
   },
   {
    "duration": 30,
    "start_time": "2024-07-04T18:51:36.591Z"
   },
   {
    "duration": 847,
    "start_time": "2024-07-04T18:51:36.622Z"
   },
   {
    "duration": 50,
    "start_time": "2024-07-04T18:51:37.471Z"
   },
   {
    "duration": 50,
    "start_time": "2024-07-04T18:51:37.523Z"
   },
   {
    "duration": 382,
    "start_time": "2024-07-04T18:51:37.575Z"
   },
   {
    "duration": 59,
    "start_time": "2024-07-04T18:51:37.960Z"
   },
   {
    "duration": 43,
    "start_time": "2024-07-04T18:51:38.020Z"
   },
   {
    "duration": 435,
    "start_time": "2024-07-04T18:51:38.065Z"
   },
   {
    "duration": 5,
    "start_time": "2024-07-04T18:51:38.502Z"
   },
   {
    "duration": 560,
    "start_time": "2024-07-04T18:51:38.510Z"
   },
   {
    "duration": 104,
    "start_time": "2024-07-04T18:51:39.071Z"
   },
   {
    "duration": 12,
    "start_time": "2024-07-04T18:51:39.176Z"
   },
   {
    "duration": 7,
    "start_time": "2024-07-04T18:51:39.190Z"
   },
   {
    "duration": 6,
    "start_time": "2024-07-04T18:51:39.199Z"
   },
   {
    "duration": 11,
    "start_time": "2024-07-04T18:57:26.819Z"
   },
   {
    "duration": 5,
    "start_time": "2024-07-04T18:57:31.952Z"
   },
   {
    "duration": 4,
    "start_time": "2024-07-04T18:57:49.995Z"
   },
   {
    "duration": 5,
    "start_time": "2024-07-04T18:58:04.106Z"
   },
   {
    "duration": 4,
    "start_time": "2024-07-04T18:58:05.373Z"
   },
   {
    "duration": 4,
    "start_time": "2024-07-04T18:58:09.883Z"
   },
   {
    "duration": 4,
    "start_time": "2024-07-04T18:58:22.648Z"
   },
   {
    "duration": 227,
    "start_time": "2024-07-04T18:58:38.831Z"
   },
   {
    "duration": 22,
    "start_time": "2024-07-04T18:59:31.027Z"
   },
   {
    "duration": 23,
    "start_time": "2024-07-04T19:01:28.297Z"
   },
   {
    "duration": 3,
    "start_time": "2024-07-04T19:01:30.617Z"
   },
   {
    "duration": 3,
    "start_time": "2024-07-04T19:01:33.124Z"
   },
   {
    "duration": 12,
    "start_time": "2024-07-04T19:01:34.852Z"
   },
   {
    "duration": 14,
    "start_time": "2024-07-04T19:02:13.388Z"
   },
   {
    "duration": 4,
    "start_time": "2024-07-04T19:05:53.376Z"
   },
   {
    "duration": 17,
    "start_time": "2024-07-04T19:06:10.111Z"
   },
   {
    "duration": 8,
    "start_time": "2024-07-04T19:06:16.236Z"
   },
   {
    "duration": 110,
    "start_time": "2024-07-04T19:06:24.710Z"
   },
   {
    "duration": 4,
    "start_time": "2024-07-04T19:06:31.344Z"
   },
   {
    "duration": 14,
    "start_time": "2024-07-04T19:06:40.709Z"
   },
   {
    "duration": 16,
    "start_time": "2024-07-04T19:06:54.450Z"
   },
   {
    "duration": 1548,
    "start_time": "2024-07-04T19:07:09.533Z"
   },
   {
    "duration": 4,
    "start_time": "2024-07-04T19:07:29.795Z"
   },
   {
    "duration": 4,
    "start_time": "2024-07-04T19:07:35.493Z"
   },
   {
    "duration": 3,
    "start_time": "2024-07-04T19:07:43.193Z"
   },
   {
    "duration": 3,
    "start_time": "2024-07-04T19:07:52.253Z"
   },
   {
    "duration": 23,
    "start_time": "2024-07-04T19:08:00.901Z"
   },
   {
    "duration": 2,
    "start_time": "2024-07-04T19:08:29.822Z"
   },
   {
    "duration": 4,
    "start_time": "2024-07-04T19:08:41.608Z"
   },
   {
    "duration": 18,
    "start_time": "2024-07-04T19:10:23.003Z"
   },
   {
    "duration": 2206,
    "start_time": "2024-07-04T19:12:21.684Z"
   },
   {
    "duration": 13,
    "start_time": "2024-07-04T19:12:52.127Z"
   },
   {
    "duration": 2130,
    "start_time": "2024-07-04T19:13:25.157Z"
   },
   {
    "duration": 18,
    "start_time": "2024-07-04T19:17:13.727Z"
   },
   {
    "duration": 12,
    "start_time": "2024-07-04T19:17:20.439Z"
   },
   {
    "duration": 5,
    "start_time": "2024-07-04T19:17:37.760Z"
   },
   {
    "duration": 4,
    "start_time": "2024-07-04T19:17:38.809Z"
   },
   {
    "duration": 4,
    "start_time": "2024-07-04T19:18:07.271Z"
   },
   {
    "duration": 5,
    "start_time": "2024-07-04T19:19:33.391Z"
   },
   {
    "duration": 4,
    "start_time": "2024-07-04T19:30:59.471Z"
   },
   {
    "duration": 4,
    "start_time": "2024-07-04T19:31:16.622Z"
   },
   {
    "duration": 5,
    "start_time": "2024-07-04T19:31:24.273Z"
   },
   {
    "duration": 23,
    "start_time": "2024-07-04T19:37:07.945Z"
   },
   {
    "duration": 5,
    "start_time": "2024-07-04T19:41:20.599Z"
   },
   {
    "duration": 757,
    "start_time": "2024-07-04T19:41:40.416Z"
   },
   {
    "duration": 2028,
    "start_time": "2024-07-04T19:43:37.585Z"
   },
   {
    "duration": 2641,
    "start_time": "2024-07-04T19:57:18.104Z"
   },
   {
    "duration": 2908,
    "start_time": "2024-07-04T19:57:20.747Z"
   },
   {
    "duration": 492,
    "start_time": "2024-07-04T19:57:23.660Z"
   },
   {
    "duration": 20,
    "start_time": "2024-07-04T19:57:24.154Z"
   },
   {
    "duration": 12,
    "start_time": "2024-07-04T19:57:24.176Z"
   },
   {
    "duration": 15,
    "start_time": "2024-07-04T19:57:24.190Z"
   },
   {
    "duration": 14,
    "start_time": "2024-07-04T19:57:24.207Z"
   },
   {
    "duration": 66,
    "start_time": "2024-07-04T19:57:24.222Z"
   },
   {
    "duration": 21,
    "start_time": "2024-07-04T19:57:24.289Z"
   },
   {
    "duration": 280,
    "start_time": "2024-07-04T19:57:24.312Z"
   },
   {
    "duration": 7706,
    "start_time": "2024-07-04T19:57:24.593Z"
   },
   {
    "duration": 7368,
    "start_time": "2024-07-04T19:57:32.301Z"
   },
   {
    "duration": 7577,
    "start_time": "2024-07-04T19:57:39.671Z"
   },
   {
    "duration": 53,
    "start_time": "2024-07-04T19:57:47.262Z"
   },
   {
    "duration": 60,
    "start_time": "2024-07-04T19:57:47.316Z"
   },
   {
    "duration": 903,
    "start_time": "2024-07-04T19:57:47.378Z"
   },
   {
    "duration": 54,
    "start_time": "2024-07-04T19:57:48.283Z"
   },
   {
    "duration": 41,
    "start_time": "2024-07-04T19:57:48.339Z"
   },
   {
    "duration": 364,
    "start_time": "2024-07-04T19:57:48.382Z"
   },
   {
    "duration": 59,
    "start_time": "2024-07-04T19:57:48.747Z"
   },
   {
    "duration": 29,
    "start_time": "2024-07-04T19:57:48.807Z"
   },
   {
    "duration": 349,
    "start_time": "2024-07-04T19:57:48.838Z"
   },
   {
    "duration": 6,
    "start_time": "2024-07-04T19:57:49.188Z"
   },
   {
    "duration": 588,
    "start_time": "2024-07-04T19:57:49.196Z"
   },
   {
    "duration": 176,
    "start_time": "2024-07-04T19:57:49.787Z"
   },
   {
    "duration": 3,
    "start_time": "2024-07-04T19:57:49.966Z"
   },
   {
    "duration": 7,
    "start_time": "2024-07-04T19:57:49.970Z"
   },
   {
    "duration": 19,
    "start_time": "2024-07-04T19:57:49.978Z"
   },
   {
    "duration": 5,
    "start_time": "2024-07-04T19:57:49.998Z"
   },
   {
    "duration": 38,
    "start_time": "2024-07-04T19:57:50.005Z"
   },
   {
    "duration": 16,
    "start_time": "2024-07-04T19:57:50.045Z"
   },
   {
    "duration": 2070,
    "start_time": "2024-07-04T19:57:50.063Z"
   },
   {
    "duration": 865,
    "start_time": "2024-07-04T19:57:59.396Z"
   },
   {
    "duration": 7,
    "start_time": "2024-07-05T06:47:11.343Z"
   },
   {
    "duration": 3,
    "start_time": "2024-07-05T06:47:13.618Z"
   },
   {
    "duration": 2,
    "start_time": "2024-07-05T06:47:15.630Z"
   },
   {
    "duration": 41734,
    "start_time": "2024-07-07T19:54:21.687Z"
   },
   {
    "duration": 3924,
    "start_time": "2024-07-07T19:55:03.424Z"
   },
   {
    "duration": 1681,
    "start_time": "2024-07-07T19:55:07.350Z"
   },
   {
    "duration": 18,
    "start_time": "2024-07-07T19:55:09.032Z"
   },
   {
    "duration": 12,
    "start_time": "2024-07-07T19:55:09.053Z"
   },
   {
    "duration": 11,
    "start_time": "2024-07-07T19:55:09.067Z"
   },
   {
    "duration": 16,
    "start_time": "2024-07-07T19:55:09.080Z"
   },
   {
    "duration": 11,
    "start_time": "2024-07-07T19:55:09.098Z"
   },
   {
    "duration": 11,
    "start_time": "2024-07-07T19:55:09.111Z"
   },
   {
    "duration": 346,
    "start_time": "2024-07-07T19:55:09.124Z"
   },
   {
    "duration": 3,
    "start_time": "2024-07-07T19:55:09.472Z"
   },
   {
    "duration": 16,
    "start_time": "2024-07-07T19:55:09.477Z"
   },
   {
    "duration": 5,
    "start_time": "2024-07-07T19:55:09.496Z"
   },
   {
    "duration": 59,
    "start_time": "2024-07-07T19:55:09.505Z"
   },
   {
    "duration": 44,
    "start_time": "2024-07-07T19:55:09.566Z"
   },
   {
    "duration": 907,
    "start_time": "2024-07-07T19:55:09.611Z"
   },
   {
    "duration": 50,
    "start_time": "2024-07-07T19:55:10.520Z"
   },
   {
    "duration": 46,
    "start_time": "2024-07-07T19:55:10.572Z"
   },
   {
    "duration": 348,
    "start_time": "2024-07-07T19:55:10.619Z"
   },
   {
    "duration": 60,
    "start_time": "2024-07-07T19:55:10.969Z"
   },
   {
    "duration": 38,
    "start_time": "2024-07-07T19:55:11.031Z"
   },
   {
    "duration": 405,
    "start_time": "2024-07-07T19:55:11.071Z"
   },
   {
    "duration": 14,
    "start_time": "2024-07-07T19:55:11.478Z"
   },
   {
    "duration": 498,
    "start_time": "2024-07-07T19:55:11.494Z"
   },
   {
    "duration": 104,
    "start_time": "2024-07-07T19:55:11.994Z"
   },
   {
    "duration": 5,
    "start_time": "2024-07-07T19:55:12.100Z"
   },
   {
    "duration": 12,
    "start_time": "2024-07-07T19:55:12.107Z"
   },
   {
    "duration": 27,
    "start_time": "2024-07-07T19:55:12.121Z"
   },
   {
    "duration": 4,
    "start_time": "2024-07-07T19:55:12.150Z"
   },
   {
    "duration": 230,
    "start_time": "2024-07-07T19:55:12.156Z"
   },
   {
    "duration": 0,
    "start_time": "2024-07-07T19:55:12.388Z"
   },
   {
    "duration": 0,
    "start_time": "2024-07-07T19:55:12.392Z"
   },
   {
    "duration": 19,
    "start_time": "2024-07-07T19:57:24.967Z"
   },
   {
    "duration": 6,
    "start_time": "2024-07-07T19:57:30.589Z"
   },
   {
    "duration": 20,
    "start_time": "2024-07-07T19:58:03.450Z"
   },
   {
    "duration": 6,
    "start_time": "2024-07-07T19:58:23.731Z"
   },
   {
    "duration": 2260,
    "start_time": "2024-07-07T19:58:33.195Z"
   },
   {
    "duration": 24,
    "start_time": "2024-07-07T20:00:34.882Z"
   },
   {
    "duration": 6,
    "start_time": "2024-07-07T20:00:55.690Z"
   },
   {
    "duration": 4,
    "start_time": "2024-07-07T20:01:26.943Z"
   },
   {
    "duration": 17,
    "start_time": "2024-07-07T20:01:42.535Z"
   },
   {
    "duration": 4,
    "start_time": "2024-07-07T20:01:49.120Z"
   },
   {
    "duration": 16,
    "start_time": "2024-07-07T20:01:50.445Z"
   },
   {
    "duration": 5,
    "start_time": "2024-07-07T20:02:22.147Z"
   },
   {
    "duration": 3,
    "start_time": "2024-07-07T20:04:20.345Z"
   },
   {
    "duration": 2845,
    "start_time": "2024-07-07T20:04:36.427Z"
   },
   {
    "duration": 18,
    "start_time": "2024-07-07T20:07:46.425Z"
   },
   {
    "duration": 20,
    "start_time": "2024-07-07T20:08:04.892Z"
   },
   {
    "duration": 21,
    "start_time": "2024-07-07T20:08:15.669Z"
   },
   {
    "duration": 4,
    "start_time": "2024-07-07T20:08:17.633Z"
   },
   {
    "duration": 3739,
    "start_time": "2024-07-07T20:10:51.273Z"
   },
   {
    "duration": 4,
    "start_time": "2024-07-07T20:12:01.642Z"
   },
   {
    "duration": 3594,
    "start_time": "2024-07-07T20:14:18.376Z"
   },
   {
    "duration": 3797,
    "start_time": "2024-07-07T20:14:30.568Z"
   },
   {
    "duration": 20,
    "start_time": "2024-07-07T20:18:41.493Z"
   },
   {
    "duration": 4,
    "start_time": "2024-07-07T20:18:43.033Z"
   },
   {
    "duration": 18,
    "start_time": "2024-07-07T20:18:44.454Z"
   },
   {
    "duration": 2125,
    "start_time": "2024-07-07T20:18:46.658Z"
   },
   {
    "duration": 3732,
    "start_time": "2024-07-07T20:22:14.161Z"
   },
   {
    "duration": 4,
    "start_time": "2024-07-07T20:24:59.852Z"
   },
   {
    "duration": 25,
    "start_time": "2024-07-07T20:25:11.196Z"
   },
   {
    "duration": 3590,
    "start_time": "2024-07-07T20:25:56.405Z"
   },
   {
    "duration": 3526,
    "start_time": "2024-07-07T20:26:47.687Z"
   },
   {
    "duration": 4,
    "start_time": "2024-07-07T20:29:56.589Z"
   },
   {
    "duration": 7,
    "start_time": "2024-07-07T20:29:58.249Z"
   },
   {
    "duration": 3625,
    "start_time": "2024-07-07T20:30:01.312Z"
   },
   {
    "duration": 12,
    "start_time": "2024-07-07T20:31:38.384Z"
   },
   {
    "duration": 5,
    "start_time": "2024-07-07T20:33:24.392Z"
   },
   {
    "duration": 3654,
    "start_time": "2024-07-07T20:33:53.930Z"
   },
   {
    "duration": 4,
    "start_time": "2024-07-07T20:35:00.664Z"
   },
   {
    "duration": 6,
    "start_time": "2024-07-07T20:35:02.756Z"
   },
   {
    "duration": 3621,
    "start_time": "2024-07-07T20:35:05.901Z"
   },
   {
    "duration": 2742,
    "start_time": "2024-07-07T20:37:03.369Z"
   },
   {
    "duration": 3273,
    "start_time": "2024-07-07T20:37:06.113Z"
   },
   {
    "duration": 541,
    "start_time": "2024-07-07T20:37:09.388Z"
   },
   {
    "duration": 17,
    "start_time": "2024-07-07T20:37:09.931Z"
   },
   {
    "duration": 12,
    "start_time": "2024-07-07T20:37:09.951Z"
   },
   {
    "duration": 27,
    "start_time": "2024-07-07T20:37:09.965Z"
   },
   {
    "duration": 17,
    "start_time": "2024-07-07T20:37:09.995Z"
   },
   {
    "duration": 11,
    "start_time": "2024-07-07T20:37:10.014Z"
   },
   {
    "duration": 12,
    "start_time": "2024-07-07T20:37:10.026Z"
   },
   {
    "duration": 433,
    "start_time": "2024-07-07T20:37:10.040Z"
   },
   {
    "duration": 2,
    "start_time": "2024-07-07T20:37:10.475Z"
   },
   {
    "duration": 19,
    "start_time": "2024-07-07T20:37:10.480Z"
   },
   {
    "duration": 15,
    "start_time": "2024-07-07T20:37:10.502Z"
   },
   {
    "duration": 85,
    "start_time": "2024-07-07T20:37:10.521Z"
   },
   {
    "duration": 34,
    "start_time": "2024-07-07T20:37:10.608Z"
   },
   {
    "duration": 996,
    "start_time": "2024-07-07T20:37:10.643Z"
   },
   {
    "duration": 58,
    "start_time": "2024-07-07T20:37:11.640Z"
   },
   {
    "duration": 34,
    "start_time": "2024-07-07T20:37:11.701Z"
   },
   {
    "duration": 420,
    "start_time": "2024-07-07T20:37:11.736Z"
   },
   {
    "duration": 65,
    "start_time": "2024-07-07T20:37:12.158Z"
   },
   {
    "duration": 33,
    "start_time": "2024-07-07T20:37:12.225Z"
   },
   {
    "duration": 402,
    "start_time": "2024-07-07T20:37:12.260Z"
   },
   {
    "duration": 6,
    "start_time": "2024-07-07T20:37:12.664Z"
   },
   {
    "duration": 541,
    "start_time": "2024-07-07T20:37:12.672Z"
   },
   {
    "duration": 95,
    "start_time": "2024-07-07T20:37:13.215Z"
   },
   {
    "duration": 4,
    "start_time": "2024-07-07T20:37:13.312Z"
   },
   {
    "duration": 6,
    "start_time": "2024-07-07T20:37:13.317Z"
   },
   {
    "duration": 5,
    "start_time": "2024-07-07T20:37:13.325Z"
   },
   {
    "duration": 7,
    "start_time": "2024-07-07T20:37:13.331Z"
   },
   {
    "duration": 283,
    "start_time": "2024-07-07T20:37:13.340Z"
   },
   {
    "duration": 4042,
    "start_time": "2024-07-07T20:37:56.854Z"
   },
   {
    "duration": 2845,
    "start_time": "2024-07-07T20:40:50.796Z"
   },
   {
    "duration": 3084,
    "start_time": "2024-07-07T20:40:53.643Z"
   },
   {
    "duration": 502,
    "start_time": "2024-07-07T20:40:56.728Z"
   },
   {
    "duration": 30,
    "start_time": "2024-07-07T20:40:57.232Z"
   },
   {
    "duration": 11,
    "start_time": "2024-07-07T20:40:57.264Z"
   },
   {
    "duration": 35,
    "start_time": "2024-07-07T20:40:57.277Z"
   },
   {
    "duration": 11,
    "start_time": "2024-07-07T20:40:57.313Z"
   },
   {
    "duration": 11,
    "start_time": "2024-07-07T20:40:57.325Z"
   },
   {
    "duration": 12,
    "start_time": "2024-07-07T20:40:57.337Z"
   },
   {
    "duration": 362,
    "start_time": "2024-07-07T20:40:57.351Z"
   },
   {
    "duration": 3,
    "start_time": "2024-07-07T20:40:57.714Z"
   },
   {
    "duration": 4,
    "start_time": "2024-07-07T20:40:57.718Z"
   },
   {
    "duration": 7,
    "start_time": "2024-07-07T20:40:57.724Z"
   },
   {
    "duration": 72,
    "start_time": "2024-07-07T20:40:57.733Z"
   },
   {
    "duration": 30,
    "start_time": "2024-07-07T20:40:57.807Z"
   },
   {
    "duration": 996,
    "start_time": "2024-07-07T20:40:57.839Z"
   },
   {
    "duration": 54,
    "start_time": "2024-07-07T20:40:58.837Z"
   },
   {
    "duration": 56,
    "start_time": "2024-07-07T20:40:58.894Z"
   },
   {
    "duration": 405,
    "start_time": "2024-07-07T20:40:58.952Z"
   },
   {
    "duration": 61,
    "start_time": "2024-07-07T20:40:59.359Z"
   },
   {
    "duration": 31,
    "start_time": "2024-07-07T20:40:59.422Z"
   },
   {
    "duration": 432,
    "start_time": "2024-07-07T20:40:59.455Z"
   },
   {
    "duration": 8,
    "start_time": "2024-07-07T20:40:59.888Z"
   },
   {
    "duration": 494,
    "start_time": "2024-07-07T20:40:59.900Z"
   },
   {
    "duration": 96,
    "start_time": "2024-07-07T20:41:00.397Z"
   },
   {
    "duration": 6,
    "start_time": "2024-07-07T20:41:00.497Z"
   },
   {
    "duration": 60,
    "start_time": "2024-07-07T20:41:00.506Z"
   },
   {
    "duration": 15,
    "start_time": "2024-07-07T20:41:00.569Z"
   },
   {
    "duration": 146,
    "start_time": "2024-07-07T20:41:00.587Z"
   },
   {
    "duration": 4105,
    "start_time": "2024-07-07T20:41:00.735Z"
   },
   {
    "duration": 34184,
    "start_time": "2024-07-08T06:11:55.760Z"
   },
   {
    "duration": 9641,
    "start_time": "2024-07-08T06:12:29.946Z"
   },
   {
    "duration": 1594,
    "start_time": "2024-07-08T06:12:39.588Z"
   },
   {
    "duration": 15,
    "start_time": "2024-07-08T06:12:41.183Z"
   },
   {
    "duration": 10,
    "start_time": "2024-07-08T06:12:41.199Z"
   },
   {
    "duration": 32,
    "start_time": "2024-07-08T06:12:41.210Z"
   },
   {
    "duration": 31,
    "start_time": "2024-07-08T06:12:41.243Z"
   },
   {
    "duration": 19,
    "start_time": "2024-07-08T06:12:41.276Z"
   },
   {
    "duration": 20,
    "start_time": "2024-07-08T06:12:41.297Z"
   },
   {
    "duration": 265,
    "start_time": "2024-07-08T06:12:41.318Z"
   },
   {
    "duration": 2,
    "start_time": "2024-07-08T06:12:41.585Z"
   },
   {
    "duration": 28,
    "start_time": "2024-07-08T06:12:41.588Z"
   },
   {
    "duration": 35,
    "start_time": "2024-07-08T06:12:41.617Z"
   },
   {
    "duration": 75,
    "start_time": "2024-07-08T06:12:41.655Z"
   },
   {
    "duration": 21,
    "start_time": "2024-07-08T06:12:41.732Z"
   },
   {
    "duration": 819,
    "start_time": "2024-07-08T06:12:41.754Z"
   },
   {
    "duration": 47,
    "start_time": "2024-07-08T06:12:42.575Z"
   },
   {
    "duration": 20,
    "start_time": "2024-07-08T06:12:42.624Z"
   },
   {
    "duration": 339,
    "start_time": "2024-07-08T06:12:42.646Z"
   },
   {
    "duration": 57,
    "start_time": "2024-07-08T06:12:42.987Z"
   },
   {
    "duration": 26,
    "start_time": "2024-07-08T06:12:43.045Z"
   },
   {
    "duration": 345,
    "start_time": "2024-07-08T06:12:43.073Z"
   },
   {
    "duration": 5,
    "start_time": "2024-07-08T06:12:43.419Z"
   },
   {
    "duration": 391,
    "start_time": "2024-07-08T06:12:43.426Z"
   },
   {
    "duration": 91,
    "start_time": "2024-07-08T06:12:43.819Z"
   },
   {
    "duration": 3,
    "start_time": "2024-07-08T06:12:43.912Z"
   },
   {
    "duration": 94,
    "start_time": "2024-07-08T06:12:43.917Z"
   },
   {
    "duration": 16,
    "start_time": "2024-07-08T06:12:44.012Z"
   },
   {
    "duration": 14,
    "start_time": "2024-07-08T06:12:44.029Z"
   },
   {
    "duration": 2675,
    "start_time": "2024-07-08T06:12:44.044Z"
   },
   {
    "duration": 33929,
    "start_time": "2024-07-08T06:53:07.383Z"
   },
   {
    "duration": 2893,
    "start_time": "2024-07-08T06:53:41.314Z"
   },
   {
    "duration": 1606,
    "start_time": "2024-07-08T06:53:44.209Z"
   },
   {
    "duration": 14,
    "start_time": "2024-07-08T06:53:45.817Z"
   },
   {
    "duration": 10,
    "start_time": "2024-07-08T06:53:45.833Z"
   },
   {
    "duration": 24,
    "start_time": "2024-07-08T06:53:45.845Z"
   },
   {
    "duration": 9,
    "start_time": "2024-07-08T06:53:45.870Z"
   },
   {
    "duration": 11,
    "start_time": "2024-07-08T06:53:45.881Z"
   },
   {
    "duration": 21,
    "start_time": "2024-07-08T06:53:45.894Z"
   },
   {
    "duration": 303,
    "start_time": "2024-07-08T06:53:45.918Z"
   },
   {
    "duration": 1,
    "start_time": "2024-07-08T06:53:46.223Z"
   },
   {
    "duration": 17,
    "start_time": "2024-07-08T06:53:46.226Z"
   },
   {
    "duration": 7,
    "start_time": "2024-07-08T06:53:46.245Z"
   },
   {
    "duration": 50,
    "start_time": "2024-07-08T06:53:46.253Z"
   },
   {
    "duration": 22,
    "start_time": "2024-07-08T06:53:46.304Z"
   },
   {
    "duration": 879,
    "start_time": "2024-07-08T06:53:46.327Z"
   },
   {
    "duration": 42,
    "start_time": "2024-07-08T06:53:47.208Z"
   },
   {
    "duration": 20,
    "start_time": "2024-07-08T06:53:47.252Z"
   },
   {
    "duration": 381,
    "start_time": "2024-07-08T06:53:47.273Z"
   },
   {
    "duration": 56,
    "start_time": "2024-07-08T06:53:47.656Z"
   },
   {
    "duration": 21,
    "start_time": "2024-07-08T06:53:47.713Z"
   },
   {
    "duration": 345,
    "start_time": "2024-07-08T06:53:47.736Z"
   },
   {
    "duration": 9,
    "start_time": "2024-07-08T06:53:48.083Z"
   },
   {
    "duration": 407,
    "start_time": "2024-07-08T06:53:48.094Z"
   },
   {
    "duration": 90,
    "start_time": "2024-07-08T06:53:48.506Z"
   },
   {
    "duration": 93,
    "start_time": "2024-07-08T06:53:48.598Z"
   },
   {
    "duration": 82,
    "start_time": "2024-07-08T06:53:48.692Z"
   },
   {
    "duration": 11,
    "start_time": "2024-07-08T06:53:48.777Z"
   },
   {
    "duration": 13,
    "start_time": "2024-07-08T06:53:48.790Z"
   },
   {
    "duration": 3046,
    "start_time": "2024-07-08T06:53:48.805Z"
   }
  ],
  "kernelspec": {
   "display_name": "Python 3 (ipykernel)",
   "language": "python",
   "name": "python3"
  },
  "language_info": {
   "codemirror_mode": {
    "name": "ipython",
    "version": 3
   },
   "file_extension": ".py",
   "mimetype": "text/x-python",
   "name": "python",
   "nbconvert_exporter": "python",
   "pygments_lexer": "ipython3",
   "version": "3.9.5"
  },
  "toc": {
   "base_numbering": 1,
   "nav_menu": {},
   "number_sections": true,
   "sideBar": true,
   "skip_h1_title": true,
   "title_cell": "Table of Contents",
   "title_sidebar": "Contents",
   "toc_cell": false,
   "toc_position": {},
   "toc_section_display": true,
   "toc_window_display": false
  }
 },
 "nbformat": 4,
 "nbformat_minor": 2
}
